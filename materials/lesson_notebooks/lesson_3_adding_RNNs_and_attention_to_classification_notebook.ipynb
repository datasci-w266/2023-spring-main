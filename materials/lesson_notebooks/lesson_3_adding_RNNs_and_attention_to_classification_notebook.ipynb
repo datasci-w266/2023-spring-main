{
  "cells": [
    {
      "cell_type": "markdown",
      "metadata": {
        "id": "d3FHyR2vMlnM"
      },
      "source": [
        "# lesson_3_DAN_CNN_RNN_Word2Vec_Embeddings_Classifier_plus_Attention\n",
        "\n",
        "**Description:** Text classification on the IMDB movie dataset using i) Deep Averaging Networks, and ii) Convolutions Neural Nets (CNN) and pre-trained Word2Vec word embeddings.<br>\n",
        "\n",
        "Section 1 deals with setup and prerequisites, can does not deserve a lot of discussion. \n",
        "Data acquisition and preparation are handled in section 2, and section 3 looks at DANs and CNNs and now RNNs.\n",
        "\n",
        "\n",
        "<a id = 'returnToTop'></a>\n",
        "\n",
        "## Notebook Contents\n",
        "  * 1. [Setup](#setup) \n",
        "  * 2. [Creation of the Dataset](#creationOfDataset)  \n",
        "  * 3. [Modeling](#modeling)\n",
        "    * 3.1 [Averaging Network](#averagingNetwork)\n",
        "    * 3.2 [Deep Averaging Network (DAN)](#modelDAN)\n",
        "    * 3.3 [Convolutional Neural Net (CNN)](#modelCNN)\n",
        "    * 3.4 [Recurrent Neural Net (RNN)](#modelRNN)\n",
        "       * 3.4.2 [Class Exercise](#classExercise)\n",
        "  * 4. [What about Attention](#modelAttention)\n",
        "  * 5. [Answers](#answers)\n",
        "  \n",
        "  \n",
        "  [![Open In Colab](https://colab.research.google.com/assets/colab-badge.svg)](https://colab.research.google.com/github/datasci-w266/2023-spring-main/blob/master/materials/lesson_notebooks/lesson_3_adding_RNNs_and_attention_to_classification_notebook.ipynb)"
      ]
    },
    {
      "cell_type": "markdown",
      "metadata": {
        "id": "FEK-bUc2MlnO"
      },
      "source": [
        "[Return to Top](#returnToTop)  \n",
        "<a id = 'setup'></a>\n",
        "## 1. Setup\n",
        "\n",
        "This notebook requires the tensorflow dataset and other prerequisites that you must download and then store locally. \n",
        "\n",
        "More importantly, if you want to run this notebook on your GCP instance (rather than on Colab) you will need to install a gcc compiler.  The best way of doing that is to run the following command in a terminal for your instance:\n",
        "\n",
        "``sudo apt install build-essential``\n",
        "\n",
        "This will install the gcc package in addition to some other libraries that you might need to compile and build C and C++ based software.\n",
        "\n",
        "Again on your GCP instance only you also need to explicitly install graphviz in order to print some plots.  \n",
        "\n",
        "``sudo apt-get install graphviz``"
      ]
    },
    {
      "cell_type": "code",
      "execution_count": 1,
      "metadata": {
        "colab": {
          "base_uri": "https://localhost:8080/"
        },
        "id": "N4gdz81fMlnP",
        "outputId": "ae156ec2-7925-4a14-c32b-c03a9dee6143"
      },
      "outputs": [
        {
          "output_type": "stream",
          "name": "stdout",
          "text": [
            "\u001b[2K     \u001b[90m━━━━━━━━━━━━━━━━━━━━━━━━━━━━━━━━━━━━━━━━\u001b[0m \u001b[32m24.2/24.2 MB\u001b[0m \u001b[31m17.5 MB/s\u001b[0m eta \u001b[36m0:00:00\u001b[0m\n",
            "\u001b[?25h"
          ]
        }
      ],
      "source": [
        "!pip install gensim==3.8.3 --quiet"
      ]
    },
    {
      "cell_type": "code",
      "execution_count": 2,
      "metadata": {
        "id": "dOSnMqiYMlnP"
      },
      "outputs": [],
      "source": [
        "!pip install tensorflow-datasets --quiet"
      ]
    },
    {
      "cell_type": "code",
      "execution_count": 3,
      "metadata": {
        "colab": {
          "base_uri": "https://localhost:8080/"
        },
        "id": "pu8MIPByMlnP",
        "outputId": "5fa8a415-e556-4fe7-8182-5f1aea746560"
      },
      "outputs": [
        {
          "output_type": "stream",
          "name": "stdout",
          "text": [
            "\u001b[2K     \u001b[90m━━━━━━━━━━━━━━━━━━━━━━━━━━━━━━━━━━━━━━━━\u001b[0m \u001b[32m5.8/5.8 MB\u001b[0m \u001b[31m32.5 MB/s\u001b[0m eta \u001b[36m0:00:00\u001b[0m\n",
            "\u001b[2K     \u001b[90m━━━━━━━━━━━━━━━━━━━━━━━━━━━━━━━━━━━━━━━\u001b[0m \u001b[32m588.3/588.3 MB\u001b[0m \u001b[31m2.6 MB/s\u001b[0m eta \u001b[36m0:00:00\u001b[0m\n",
            "\u001b[2K     \u001b[90m━━━━━━━━━━━━━━━━━━━━━━━━━━━━━━━━━━━━━━━━\u001b[0m \u001b[32m1.7/1.7 MB\u001b[0m \u001b[31m74.2 MB/s\u001b[0m eta \u001b[36m0:00:00\u001b[0m\n",
            "\u001b[2K     \u001b[90m━━━━━━━━━━━━━━━━━━━━━━━━━━━━━━━━━━━━━━\u001b[0m \u001b[32m439.2/439.2 KB\u001b[0m \u001b[31m42.5 MB/s\u001b[0m eta \u001b[36m0:00:00\u001b[0m\n",
            "\u001b[2K     \u001b[90m━━━━━━━━━━━━━━━━━━━━━━━━━━━━━━━━━━━━━━━━\u001b[0m \u001b[32m6.0/6.0 MB\u001b[0m \u001b[31m82.5 MB/s\u001b[0m eta \u001b[36m0:00:00\u001b[0m\n",
            "\u001b[?25h"
          ]
        }
      ],
      "source": [
        "!pip install -U tensorflow-text --quiet"
      ]
    },
    {
      "cell_type": "markdown",
      "metadata": {
        "id": "L-4vXVxKMlnQ"
      },
      "source": [
        "pydot is also required, along with **graphviz**."
      ]
    },
    {
      "cell_type": "code",
      "execution_count": 4,
      "metadata": {
        "id": "SbN0SnpZMlnQ"
      },
      "outputs": [],
      "source": [
        "!pip install pydot --quiet"
      ]
    },
    {
      "cell_type": "markdown",
      "metadata": {
        "id": "c3fGCI9BMlnQ"
      },
      "source": [
        "Ready to do the imports."
      ]
    },
    {
      "cell_type": "code",
      "execution_count": 5,
      "metadata": {
        "id": "ju4oXKFYMlnQ"
      },
      "outputs": [],
      "source": [
        "import numpy as np\n",
        "import tensorflow as tf\n",
        "from tensorflow import keras\n",
        "\n",
        "from tensorflow.keras.layers import Embedding, Input, Dense, Lambda\n",
        "from tensorflow.keras.models import Model\n",
        "import tensorflow.keras.backend as K\n",
        "import tensorflow_datasets as tfds\n",
        "import tensorflow_text as tf_text\n",
        "\n",
        "import sklearn as sk\n",
        "import os\n",
        "import nltk\n",
        "from nltk.corpus import reuters\n",
        "from nltk.data import find\n",
        "\n",
        "import matplotlib.pyplot as plt\n",
        "\n",
        "import re\n",
        "\n",
        "#This continues to work with gensim 3.8.3.  It doesn't yet work with 4.x.  \n",
        "#Make sure your pip install command specifies gensim==3.8.3\n",
        "import gensim\n",
        "\n",
        "import numpy as np"
      ]
    },
    {
      "cell_type": "markdown",
      "metadata": {
        "id": "FuoGw0MdMlnR"
      },
      "source": [
        "Below is a helper function to plot histories."
      ]
    },
    {
      "cell_type": "code",
      "execution_count": 6,
      "metadata": {
        "id": "qvJ4iSOfNKmE"
      },
      "outputs": [],
      "source": [
        "# 4-window plot of loss and accuracy for two models, for comparison\n",
        "\n",
        "def make_plot(axs,\n",
        "              model_history1, \n",
        "              model_history2, \n",
        "              model_1_name='model 1',\n",
        "              model_2_name='model 2',\n",
        "              ):\n",
        "    box = dict(facecolor='yellow', pad=5, alpha=0.2)\n",
        "\n",
        "    for i, metric in enumerate(['loss', 'accuracy']):\n",
        "        y_lim_lower1 = np.min(model_history1.history[metric])\n",
        "        y_lim_lower2 = np.min(model_history2.history[metric])\n",
        "        y_lim_lower = min(y_lim_lower1, y_lim_lower2) * 0.9\n",
        "\n",
        "        y_lim_upper1 = np.max(model_history1.history[metric])\n",
        "        y_lim_upper2 = np.max(model_history2.history[metric])\n",
        "        y_lim_upper = max(y_lim_upper1, y_lim_upper2) * 1.1\n",
        "\n",
        "        for j, model_history in enumerate([model_history1, model_history2]):\n",
        "            model_name = [model_1_name, model_2_name][j]\n",
        "            ax1 = axs[i, j]\n",
        "            ax1.plot(model_history.history[metric])\n",
        "            ax1.plot(model_history.history['val_%s' % metric])\n",
        "            ax1.set_title('%s - %s' % (metric, model_name))\n",
        "            ax1.set_ylabel(metric, bbox=box)\n",
        "            ax1.set_ylim(y_lim_lower, y_lim_upper)"
      ]
    },
    {
      "cell_type": "markdown",
      "metadata": {
        "id": "OXGeoMS-MlnS"
      },
      "source": [
        "Next, we get the word2vec model from nltk."
      ]
    },
    {
      "cell_type": "code",
      "execution_count": 7,
      "metadata": {
        "colab": {
          "base_uri": "https://localhost:8080/"
        },
        "id": "h5wOh6KbMlnS",
        "outputId": "d1ebc681-818e-4a0f-a0e2-f120a635443e"
      },
      "outputs": [
        {
          "output_type": "stream",
          "name": "stderr",
          "text": [
            "[nltk_data] Downloading package word2vec_sample to /root/nltk_data...\n",
            "[nltk_data]   Unzipping models/word2vec_sample.zip.\n"
          ]
        },
        {
          "output_type": "execute_result",
          "data": {
            "text/plain": [
              "True"
            ]
          },
          "metadata": {},
          "execution_count": 7
        }
      ],
      "source": [
        "nltk.download('word2vec_sample')"
      ]
    },
    {
      "cell_type": "code",
      "execution_count": 8,
      "metadata": {
        "id": "9VySoBJYMlnS"
      },
      "outputs": [],
      "source": [
        "word2vec_sample = str(find('models/word2vec_sample/pruned.word2vec.txt'))"
      ]
    },
    {
      "cell_type": "code",
      "execution_count": 9,
      "metadata": {
        "id": "ZvvhhTYgMlnS"
      },
      "outputs": [],
      "source": [
        "model = gensim.models.KeyedVectors.load_word2vec_format(word2vec_sample, binary=False)"
      ]
    },
    {
      "cell_type": "markdown",
      "metadata": {
        "id": "uvcUmdy3MlnS"
      },
      "source": [
        "How many words are in the vocabulary?"
      ]
    },
    {
      "cell_type": "code",
      "execution_count": 10,
      "metadata": {
        "colab": {
          "base_uri": "https://localhost:8080/"
        },
        "id": "Vao1xmYvMlnS",
        "outputId": "185cc055-c82d-4d0f-9ab2-8b41acc74057"
      },
      "outputs": [
        {
          "output_type": "execute_result",
          "data": {
            "text/plain": [
              "43981"
            ]
          },
          "metadata": {},
          "execution_count": 10
        }
      ],
      "source": [
        "len(model.vocab)"
      ]
    },
    {
      "cell_type": "markdown",
      "metadata": {
        "id": "PcSVLgxZMlnT"
      },
      "source": [
        "How do the word vectors look like? As expected:"
      ]
    },
    {
      "cell_type": "code",
      "execution_count": 11,
      "metadata": {
        "colab": {
          "base_uri": "https://localhost:8080/"
        },
        "id": "8XIi_ZhUMlnT",
        "outputId": "1669c211-02b2-41e5-c90c-3d60fbf2b65d"
      },
      "outputs": [
        {
          "output_type": "execute_result",
          "data": {
            "text/plain": [
              "array([ 3.06035e-02,  8.86877e-02, -1.21269e-02,  7.61965e-02,\n",
              "        5.66269e-02, -4.24702e-02,  4.10129e-02, -4.97567e-02,\n",
              "       -3.64328e-03,  6.32889e-02, -1.42608e-02, -7.91111e-02,\n",
              "        1.74877e-02, -3.83064e-02,  9.26433e-03,  2.95626e-02,\n",
              "        7.70293e-02,  9.49334e-02, -4.28866e-02, -2.95626e-02,\n",
              "        4.45244e-05,  6.82854e-02,  1.73836e-02,  3.14363e-02,\n",
              "        6.53708e-02,  2.89380e-02, -4.39275e-02,  1.78000e-02,\n",
              "        1.82164e-02, -4.70503e-02, -2.85216e-02,  1.79041e-02,\n",
              "        1.06592e-01,  9.07696e-02,  6.78690e-02,  6.16755e-03,\n",
              "       -2.08187e-02,  5.95936e-03,  1.51586e-03,  8.95205e-02,\n",
              "        6.49544e-02, -3.12281e-02,  9.24351e-02, -2.45661e-02,\n",
              "       -1.21269e-02, -1.53538e-03,  6.49544e-02, -1.12421e-02,\n",
              "        9.10819e-03, -6.45380e-02,  4.43439e-02,  1.35738e-01,\n",
              "       -7.91111e-02,  1.57181e-02, -4.72585e-02, -1.35322e-02,\n",
              "       -4.33029e-02, -5.16304e-02,  1.37404e-01, -3.12281e-02,\n",
              "       -6.49544e-02,  1.14087e-01, -6.41217e-02, -5.24632e-02,\n",
              "        4.60094e-02,  2.85216e-02, -9.10819e-03, -4.28866e-02,\n",
              "       -8.74386e-02,  5.01731e-02,  2.62316e-02,  2.89380e-02,\n",
              "        4.55930e-02, -3.28936e-02, -6.49544e-02, -1.80863e-03,\n",
              "       -6.20398e-02,  1.08257e-01,  2.05064e-02,  4.14293e-02,\n",
              "       -3.56521e-03,  4.80912e-02,  2.27965e-02,  7.65088e-03,\n",
              "       -2.40456e-02, -1.40735e-01, -4.16374e-02,  6.07907e-02,\n",
              "       -5.87088e-02,  9.42047e-03,  4.26784e-02, -2.43579e-02,\n",
              "       -6.66199e-02, -2.71945e-03, -3.99719e-02, -1.99860e-02,\n",
              "        3.66409e-02,  1.30742e-01, -4.74667e-02, -8.28585e-02,\n",
              "       -8.86877e-02,  3.45591e-02, -1.79041e-02, -3.53918e-02,\n",
              "       -4.43439e-02,  1.24912e-01,  1.02012e-02, -1.64468e-02,\n",
              "        1.51977e-02, -4.47602e-02, -2.78971e-02,  1.19083e-01,\n",
              "       -4.95486e-02, -6.21959e-03,  1.64052e-01, -3.33099e-02,\n",
              "       -1.24912e-02, -5.78760e-02, -2.30047e-02, -2.34211e-02,\n",
              "       -3.45591e-02, -1.22830e-02,  3.56000e-02,  1.16585e-01,\n",
              "       -2.64398e-02, -2.04023e-02, -4.65819e-03, -4.85076e-02,\n",
              "       -4.68421e-02,  8.61895e-02, -5.49614e-02, -2.85216e-02,\n",
              "       -1.14087e-01,  4.10129e-02,  4.43439e-02, -7.24491e-02,\n",
              "        2.37333e-02,  6.57872e-02,  3.43509e-02,  9.36842e-02,\n",
              "       -9.70152e-02,  4.70503e-02, -3.46111e-03, -2.40456e-02,\n",
              "       -3.85146e-02, -3.31018e-02, -1.54059e-02,  1.54059e-02,\n",
              "        6.74526e-02, -6.66199e-02,  9.65989e-02,  1.21581e-01,\n",
              "       -2.35252e-02,  1.50728e-01, -5.14222e-02,  4.51766e-02,\n",
              "        1.32719e-02, -8.16094e-02, -9.86807e-02, -4.76749e-02,\n",
              "        1.01491e-03,  3.20608e-02, -5.49094e-03,  4.28866e-02,\n",
              "        1.89867e-01, -1.18250e-01,  2.85216e-02, -3.45591e-02,\n",
              "        2.72725e-02,  7.91111e-03, -4.74667e-02,  4.16374e-02,\n",
              "        8.78550e-02, -5.57942e-02,  1.02012e-02,  4.72585e-02,\n",
              "        3.43509e-02, -6.49544e-02,  2.06886e-03,  7.85907e-03,\n",
              "       -3.91392e-02, -1.02844e-01,  3.58082e-02, -4.28866e-02,\n",
              "       -6.57872e-02,  1.17626e-02, -6.99509e-02, -4.33029e-02,\n",
              "       -2.58933e-03,  5.69262e-04, -1.08257e-01,  1.34073e-01,\n",
              "        5.62105e-02, -5.62105e-02,  9.26433e-03, -6.66199e-02,\n",
              "       -6.24562e-02, -2.18597e-02, -5.14222e-02, -9.20187e-02,\n",
              "        1.32199e-02,  5.57942e-02,  4.14293e-02,  2.42018e-03,\n",
              "        9.42047e-03,  5.41287e-02, -5.30877e-03,  2.62316e-02,\n",
              "       -9.52456e-03,  1.06592e-01, -3.06035e-02,  6.74526e-02,\n",
              "       -3.10199e-02,  8.43158e-03,  3.77339e-03, -3.87228e-02,\n",
              "        1.54891e-01, -3.85146e-02,  1.03053e-02, -5.95936e-03,\n",
              "       -2.17556e-02,  1.02532e-02,  2.51126e-03, -4.35111e-02,\n",
              "       -3.77339e-03,  1.30117e-02, -3.33099e-02, -5.45450e-02,\n",
              "        1.64468e-02,  1.22310e-02, -9.74316e-02, -5.33480e-03,\n",
              "        6.57872e-02,  3.89310e-02,  4.49684e-02, -2.74807e-02,\n",
              "       -5.49614e-02, -4.35111e-02, -9.21228e-03, -1.40526e-02,\n",
              "        3.18526e-02,  1.61345e-02,  3.16445e-02, -5.28275e-03,\n",
              "       -1.99860e-02,  2.08187e-03,  4.41357e-02, -3.70573e-02,\n",
              "       -9.65989e-02, -1.08257e-01,  1.53018e-02,  1.89867e-01,\n",
              "        2.37333e-02,  6.78690e-02,  1.15752e-01, -4.62176e-02,\n",
              "        2.66480e-02, -2.38374e-02, -1.06592e-01, -6.62035e-02,\n",
              "       -2.91462e-02, -5.95415e-02, -6.78690e-02, -7.65088e-03,\n",
              "        9.05614e-03,  3.14363e-02,  5.57942e-02, -3.43509e-02,\n",
              "        1.27515e-02,  6.63597e-03, -7.07836e-02,  6.41217e-02,\n",
              "       -2.88860e-03,  4.31988e-03,  4.89240e-02, -6.32889e-02,\n",
              "       -1.95696e-02, -5.95415e-02, -7.41146e-02, -1.82164e-02,\n",
              "       -2.47743e-02,  2.22760e-02, -4.74667e-02,  3.60164e-02,\n",
              "       -1.08778e-02,  5.99579e-02, -7.74456e-02,  7.33860e-03,\n",
              "       -5.87088e-02, -6.29766e-03, -4.89240e-03,  2.74807e-02,\n",
              "       -1.23247e-01, -2.05064e-02, -8.49404e-02, -3.03953e-02,\n",
              "        2.74807e-02, -7.16164e-02, -8.90000e-03, -6.07907e-02],\n",
              "      dtype=float32)"
            ]
          },
          "metadata": {},
          "execution_count": 11
        }
      ],
      "source": [
        "model['great']"
      ]
    },
    {
      "cell_type": "markdown",
      "metadata": {
        "id": "a--OJlw_MlnT"
      },
      "source": [
        "We can now build the embedding matrix and a vocabulary dictionary:"
      ]
    },
    {
      "cell_type": "code",
      "execution_count": 12,
      "metadata": {
        "id": "DvrOdsOcMlnT"
      },
      "outputs": [],
      "source": [
        "EMBEDDING_DIM = len(model['university'])      # we know... it's 300\n",
        "\n",
        "# initialize embedding matrix and word-to-id map:\n",
        "embedding_matrix = np.zeros((len(model.vocab.keys()) + 1, EMBEDDING_DIM))       \n",
        "vocab_dict = {}\n",
        "\n",
        "# build the embedding matrix and the word-to-id map:\n",
        "for i, word in enumerate(model.vocab.keys()):\n",
        "    embedding_vector = model[word]\n",
        "\n",
        "    if embedding_vector is not None:\n",
        "        # words not found in embedding index will be all-zeros.\n",
        "        embedding_matrix[i] = embedding_vector\n",
        "        vocab_dict[word] = i\n",
        "\n",
        "# we can use the last index at the end of the vocab for unknown tokens\n",
        "vocab_dict['[UNK]'] = len(vocab_dict)"
      ]
    },
    {
      "cell_type": "code",
      "execution_count": 13,
      "metadata": {
        "colab": {
          "base_uri": "https://localhost:8080/"
        },
        "id": "19YExA5rMlnT",
        "outputId": "1f9ab8ce-8003-4369-e302-467235dee2ba"
      },
      "outputs": [
        {
          "output_type": "execute_result",
          "data": {
            "text/plain": [
              "(43982, 300)"
            ]
          },
          "metadata": {},
          "execution_count": 13
        }
      ],
      "source": [
        "embedding_matrix.shape"
      ]
    },
    {
      "cell_type": "code",
      "execution_count": 14,
      "metadata": {
        "colab": {
          "base_uri": "https://localhost:8080/"
        },
        "id": "lJ9M8iJfUQyZ",
        "outputId": "a37293fb-2d18-4fd3-d33e-b9f0383451ef"
      },
      "outputs": [
        {
          "output_type": "execute_result",
          "data": {
            "text/plain": [
              "array([[ 0.0891758 ,  0.121832  , -0.0671959 ,  0.0477279 , -0.013659  ],\n",
              "       [ 0.0526281 ,  0.013157  , -0.010104  ,  0.0540819 ,  0.0386715 ],\n",
              "       [ 0.0786419 ,  0.0373911 , -0.0131472 ,  0.0347375 ,  0.0288273 ],\n",
              "       [-0.00157585, -0.0564239 ,  0.00320281,  0.0422498 ,  0.15264399],\n",
              "       [ 0.0356899 , -0.00367283, -0.065534  ,  0.0213832 ,  0.00788408]])"
            ]
          },
          "metadata": {},
          "execution_count": 14
        }
      ],
      "source": [
        "embedding_matrix[:5, :5]"
      ]
    },
    {
      "cell_type": "markdown",
      "metadata": {
        "id": "7Sc3vGORMlnT"
      },
      "source": [
        "[Return to Top](#returnToTop)  \n",
        "<a id = 'creationOfDataset'></a>\n",
        "## 2. Creation of the Dataset\n",
        "\n",
        "### 2.1 Data Acquisition\n",
        "\n",
        "We will use the IMDB dataset delivered as part of the tensorflow-datasets library, and split into training and test sets. For expedience, we will limit ourselves in terms of train and test examples."
      ]
    },
    {
      "cell_type": "code",
      "execution_count": 15,
      "metadata": {
        "colab": {
          "base_uri": "https://localhost:8080/",
          "height": 136,
          "referenced_widgets": [
            "f1454709584449a5a8c27d28abc6fb44",
            "b033319304b146bc8af9af090469bb89",
            "68e269841710461eafbfec58cee33dee",
            "2992f574549b478380341d41f7f7f737",
            "f1056570d1a745f68873a3bafc99bf4e",
            "1671a476784c49f694e6cc95d7227e63",
            "d852a918b5c74db0b53e723c0b02ceb8",
            "b8576b22ea894a03ad7a6d9163767c70",
            "9b5ed10d4b7b4c3d9c0e541cd5a69f10",
            "2fc8fb8dc2d444d1808d44776828e928",
            "d69c8331cc064d36af8917117ec4084c",
            "08679a82937848d0999841e09a6b23e2",
            "b1f21c29914043158f99470ee20d15e7",
            "bc93665abf614475af095d14714d67d7",
            "3f6c3e118222437881f1497eed6d2529",
            "18c1dbb8c07e4cb7bf3fe0cba6e4c7a9",
            "10933eb0299b485c844d96355dfe5251",
            "9e74992675ab480090163df5078b3cc2",
            "34a2b6ca0ab14ab5b3d9f287c800d3cd",
            "ca6bf49b79ea48489432a3b1b0af54d3",
            "48e693224fb6405985ab74deb4ef935a",
            "1f195c2f25674565bb91eddf8c36274e",
            "a6c18d5a161249a89c9406ae0a95932f",
            "071f08ad2a614f359be7362a3cdb6aec",
            "3dce1969d0124eeeb712344e3377bafb",
            "d10a5d3d8c0e4b779ca9f3587d5d0a0f",
            "15c9733384554cc59f013e2166fa235c",
            "88d1ad07817f426ab425970984b4913b",
            "6db0086082574f6fa42785c17f4836d6",
            "890bd10abe3146758c022f1b650e53a9",
            "4d451c33e3744602a09b2046043bc10f",
            "83f62b3aa8e14d1693d9be4b4d2a093f",
            "2d67dbbab1124a2da422e16746a71067",
            "eb1ef357ed3f42e3b34ec8459e9e2506",
            "84f4ceced31040b6aa7190b655bb8742",
            "f4055a653f584efab8d882f362b3875a",
            "8fc648fd511d457f9826df7db06bd77e",
            "b103e5b3057b467884c126771f3c0d33",
            "06755089e5de4f4a9cb14c438dd1e964",
            "cbea7c52559c45ff8acebc9bc52cf4fc",
            "7ad544ef568849d280bde3a2e1ceeadf",
            "56ecc249105a4a7d8c63632d59b56783",
            "4aa1fb2131d948bc982ed32acbd07a5a",
            "a8b7f7ecd7094adebc3a528281643468",
            "8421f05641fc446b980ad796cd95380a",
            "4e3386b16a5a41a7bb0c055af9a1e67f",
            "f5f48e1b0480464c9763e7fae9a31a1d",
            "02d3270b384d4d97952dfa4daa1e7908",
            "cd6d1b5cf1864a5097c26a63505be32d",
            "132540e247f74e86981bb546727b83f2",
            "ab8694f5baa14f99a8c515b5d564eb0b",
            "097939c8d5d6472fb9b52fa8205ed413",
            "5dae1dc8cac54e0498d384e62667ed35",
            "18952b06e6a5444d9ebaec438c9f5620",
            "78cf349dd7e046769708ea5e6bb102e2",
            "f34bbfd7a89e47c08a387c5c97f4a17f",
            "667a8424bcfd4e26a20895e034185bb2",
            "a39b3afb87cd44d8b60ae189cd086040",
            "07422cc982d1427ea508a094ed5a1e00",
            "6530293cddea444cb4ea64877fde6cc4",
            "85fa9400a6054d25af997eb9f792f6c7",
            "d60cbc8b941843639694a5eb0a3031b6",
            "3cab0f6c04904d2ba1e4ab714be8bbec",
            "46c01a468cec484280bb98531a9c159b",
            "74fe11703fae4e6bacf03762f62b4f30",
            "83ea0e9fde1748bb87562b8319b05290",
            "6411b2d1545a42d3a9b4c6ef193d8321",
            "4405cb239d5a4290972ad5eeba9da598",
            "2414d0416e8348b48627f8844232a002",
            "7da8a33decd0494bb81039eb79f02b3e",
            "38c1fde42adc4ecbb367571e40daafad",
            "e64ebbc7f3d74539b7498ba9873c4f13",
            "66921b93ca224ab2b871b7e233deeff7",
            "5719d54924d44af49db91ad19317b487",
            "779b4e8239004d0e991749aee240b53d",
            "be262f78f4b94cebbb14ecc7b0186934",
            "6b51a61df0a1431ca34d312285f90fdb",
            "9ba49c3cc56d40238af969cff7de2a2e",
            "e5dcb5673d5d445e8e4744856504d15b",
            "93fc391007dc40a28352e18813580ea3",
            "5210a6d570c442f8a20a78465cdf0279",
            "73bab04cb1464b61a4c7556701ad21b9",
            "f746f073afdb4f26981bc79e5194d1af",
            "3f3f2f392ceb41e9b42404fe57df4071",
            "ff56e91a1b1c4c59b8d4bb18d81e137f",
            "9fb49576bd0a468a99b7f0c55811ace2",
            "6129b41ae30348aeb4c9095e481e7013",
            "a21adfed8c504788812efbdfc55422d4",
            "2b41da4926f24eaabfab46f64ca0b59c",
            "7209c923a8dc4ec38dab2a1368d4a28b",
            "013354ce4ba849ee80b033059c729aa5",
            "de386b91c018428989b801c47cd86062",
            "ac4f04bb92e74b3a9f6e0349e4bb2840",
            "8efcde5cf94049f5a116b085b68a48df",
            "42a6819cc9024c229d73e5e422437fe9",
            "5b612b89cc874992aa62dc7d4d779bd6",
            "4f9049cab9d44324a96798548fe34028",
            "dc68239151fb4d4393f4d0f56630999c",
            "dfdf9b73335d4a0a9d524ce1da5ab70f"
          ]
        },
        "id": "_a5rAWnuMlnT",
        "outputId": "977a8def-7990-4046-f616-e8299af8b23a"
      },
      "outputs": [
        {
          "output_type": "stream",
          "name": "stdout",
          "text": [
            "Downloading and preparing dataset 80.23 MiB (download: 80.23 MiB, generated: Unknown size, total: 80.23 MiB) to /root/tensorflow_datasets/imdb_reviews/plain_text/1.0.0...\n"
          ]
        },
        {
          "output_type": "display_data",
          "data": {
            "text/plain": [
              "Dl Completed...: 0 url [00:00, ? url/s]"
            ],
            "application/vnd.jupyter.widget-view+json": {
              "version_major": 2,
              "version_minor": 0,
              "model_id": "f1454709584449a5a8c27d28abc6fb44"
            }
          },
          "metadata": {}
        },
        {
          "output_type": "display_data",
          "data": {
            "text/plain": [
              "Dl Size...: 0 MiB [00:00, ? MiB/s]"
            ],
            "application/vnd.jupyter.widget-view+json": {
              "version_major": 2,
              "version_minor": 0,
              "model_id": "08679a82937848d0999841e09a6b23e2"
            }
          },
          "metadata": {}
        },
        {
          "output_type": "display_data",
          "data": {
            "text/plain": [
              "Generating splits...:   0%|          | 0/3 [00:00<?, ? splits/s]"
            ],
            "application/vnd.jupyter.widget-view+json": {
              "version_major": 2,
              "version_minor": 0,
              "model_id": "a6c18d5a161249a89c9406ae0a95932f"
            }
          },
          "metadata": {}
        },
        {
          "output_type": "display_data",
          "data": {
            "text/plain": [
              "Generating train examples...:   0%|          | 0/25000 [00:00<?, ? examples/s]"
            ],
            "application/vnd.jupyter.widget-view+json": {
              "version_major": 2,
              "version_minor": 0,
              "model_id": "eb1ef357ed3f42e3b34ec8459e9e2506"
            }
          },
          "metadata": {}
        },
        {
          "output_type": "display_data",
          "data": {
            "text/plain": [
              "Shuffling /root/tensorflow_datasets/imdb_reviews/plain_text/1.0.0.incompleteIF16JC/imdb_reviews-train.tfrecord…"
            ],
            "application/vnd.jupyter.widget-view+json": {
              "version_major": 2,
              "version_minor": 0,
              "model_id": "8421f05641fc446b980ad796cd95380a"
            }
          },
          "metadata": {}
        },
        {
          "output_type": "display_data",
          "data": {
            "text/plain": [
              "Generating test examples...:   0%|          | 0/25000 [00:00<?, ? examples/s]"
            ],
            "application/vnd.jupyter.widget-view+json": {
              "version_major": 2,
              "version_minor": 0,
              "model_id": "f34bbfd7a89e47c08a387c5c97f4a17f"
            }
          },
          "metadata": {}
        },
        {
          "output_type": "display_data",
          "data": {
            "text/plain": [
              "Shuffling /root/tensorflow_datasets/imdb_reviews/plain_text/1.0.0.incompleteIF16JC/imdb_reviews-test.tfrecord*…"
            ],
            "application/vnd.jupyter.widget-view+json": {
              "version_major": 2,
              "version_minor": 0,
              "model_id": "6411b2d1545a42d3a9b4c6ef193d8321"
            }
          },
          "metadata": {}
        },
        {
          "output_type": "display_data",
          "data": {
            "text/plain": [
              "Generating unsupervised examples...:   0%|          | 0/50000 [00:00<?, ? examples/s]"
            ],
            "application/vnd.jupyter.widget-view+json": {
              "version_major": 2,
              "version_minor": 0,
              "model_id": "9ba49c3cc56d40238af969cff7de2a2e"
            }
          },
          "metadata": {}
        },
        {
          "output_type": "display_data",
          "data": {
            "text/plain": [
              "Shuffling /root/tensorflow_datasets/imdb_reviews/plain_text/1.0.0.incompleteIF16JC/imdb_reviews-unsupervised.t…"
            ],
            "application/vnd.jupyter.widget-view+json": {
              "version_major": 2,
              "version_minor": 0,
              "model_id": "2b41da4926f24eaabfab46f64ca0b59c"
            }
          },
          "metadata": {}
        },
        {
          "output_type": "stream",
          "name": "stdout",
          "text": [
            "Dataset imdb_reviews downloaded and prepared to /root/tensorflow_datasets/imdb_reviews/plain_text/1.0.0. Subsequent calls will reuse this data.\n"
          ]
        }
      ],
      "source": [
        "train_data, test_data = tfds.load(\n",
        "    name=\"imdb_reviews\", \n",
        "    split=('train[:80%]', 'test[80%:]'),\n",
        "    as_supervised=True)"
      ]
    },
    {
      "cell_type": "code",
      "execution_count": 16,
      "metadata": {
        "id": "2rwgO27KMlnT"
      },
      "outputs": [],
      "source": [
        "train_examples, train_labels = next(iter(train_data.batch(20000)))\n",
        "test_examples, test_labels = next(iter(test_data.batch(5000)))"
      ]
    },
    {
      "cell_type": "code",
      "execution_count": 17,
      "metadata": {
        "colab": {
          "base_uri": "https://localhost:8080/"
        },
        "id": "U8Rz5vdRMlnT",
        "outputId": "f649dcd7-875f-4f93-e63e-48bd8555fcab"
      },
      "outputs": [
        {
          "output_type": "execute_result",
          "data": {
            "text/plain": [
              "<tf.Tensor: shape=(4,), dtype=string, numpy=\n",
              "array([b\"This was an absolutely terrible movie. Don't be lured in by Christopher Walken or Michael Ironside. Both are great actors, but this must simply be their worst role in history. Even their great acting could not redeem this movie's ridiculous storyline. This movie is an early nineties US propaganda piece. The most pathetic scenes were those when the Columbian rebels were making their cases for revolutions. Maria Conchita Alonso appeared phony, and her pseudo-love affair with Walken was nothing but a pathetic emotional plug in a movie that was devoid of any real meaning. I am disappointed that there are movies like this, ruining actor's like Christopher Walken's good name. I could barely sit through it.\",\n",
              "       b'I have been known to fall asleep during films, but this is usually due to a combination of things including, really tired, being warm and comfortable on the sette and having just eaten a lot. However on this occasion I fell asleep because the film was rubbish. The plot development was constant. Constantly slow and boring. Things seemed to happen, but with no explanation of what was causing them or why. I admit, I may have missed part of the film, but i watched the majority of it and everything just seemed to happen of its own accord without any real concern for anything else. I cant recommend this film at all.',\n",
              "       b'Mann photographs the Alberta Rocky Mountains in a superb fashion, and Jimmy Stewart and Walter Brennan give enjoyable performances as they always seem to do. <br /><br />But come on Hollywood - a Mountie telling the people of Dawson City, Yukon to elect themselves a marshal (yes a marshal!) and to enforce the law themselves, then gunfighters battling it out on the streets for control of the town? <br /><br />Nothing even remotely resembling that happened on the Canadian side of the border during the Klondike gold rush. Mr. Mann and company appear to have mistaken Dawson City for Deadwood, the Canadian North for the American Wild West.<br /><br />Canadian viewers be prepared for a Reefer Madness type of enjoyable howl with this ludicrous plot, or, to shake your head in disgust.',\n",
              "       b'This is the kind of film for a snowy Sunday afternoon when the rest of the world can go ahead with its own business as you descend into a big arm-chair and mellow for a couple of hours. Wonderful performances from Cher and Nicolas Cage (as always) gently row the plot along. There are no rapids to cross, no dangerous waters, just a warm and witty paddle through New York life at its best. A family film in every sense and one that deserves the praise it received.'],\n",
              "      dtype=object)>"
            ]
          },
          "metadata": {},
          "execution_count": 17
        }
      ],
      "source": [
        "train_examples[:4]"
      ]
    },
    {
      "cell_type": "code",
      "execution_count": 18,
      "metadata": {
        "colab": {
          "base_uri": "https://localhost:8080/"
        },
        "id": "d9sE7RYoMlnT",
        "outputId": "22c9c1f9-1654-435f-990c-fba36fb2a510"
      },
      "outputs": [
        {
          "output_type": "execute_result",
          "data": {
            "text/plain": [
              "<tf.Tensor: shape=(4,), dtype=int64, numpy=array([0, 0, 0, 1])>"
            ]
          },
          "metadata": {},
          "execution_count": 18
        }
      ],
      "source": [
        "train_labels[:4]"
      ]
    },
    {
      "cell_type": "markdown",
      "metadata": {
        "id": "pkasJbOpMlnU"
      },
      "source": [
        "Next, we tokenize the data:"
      ]
    },
    {
      "cell_type": "code",
      "execution_count": 19,
      "metadata": {
        "id": "AsJVAaCXMlnU"
      },
      "outputs": [],
      "source": [
        "tokenizer = tf_text.WhitespaceTokenizer()\n",
        "train_tokens = tokenizer.tokenize(train_examples)\n",
        "test_tokens = tokenizer.tokenize(test_examples)"
      ]
    },
    {
      "cell_type": "markdown",
      "metadata": {
        "id": "_8fiq7WVMlnU"
      },
      "source": [
        "Does this look right?"
      ]
    },
    {
      "cell_type": "code",
      "execution_count": 20,
      "metadata": {
        "colab": {
          "base_uri": "https://localhost:8080/"
        },
        "id": "XfWbd8UPMlnU",
        "outputId": "92d0bd73-5e18-44bf-8c0e-85a5a0e260e7"
      },
      "outputs": [
        {
          "output_type": "execute_result",
          "data": {
            "text/plain": [
              "<tf.Tensor: shape=(116,), dtype=string, numpy=\n",
              "array([b'This', b'was', b'an', b'absolutely', b'terrible', b'movie.',\n",
              "       b\"Don't\", b'be', b'lured', b'in', b'by', b'Christopher', b'Walken',\n",
              "       b'or', b'Michael', b'Ironside.', b'Both', b'are', b'great',\n",
              "       b'actors,', b'but', b'this', b'must', b'simply', b'be', b'their',\n",
              "       b'worst', b'role', b'in', b'history.', b'Even', b'their', b'great',\n",
              "       b'acting', b'could', b'not', b'redeem', b'this', b\"movie's\",\n",
              "       b'ridiculous', b'storyline.', b'This', b'movie', b'is', b'an',\n",
              "       b'early', b'nineties', b'US', b'propaganda', b'piece.', b'The',\n",
              "       b'most', b'pathetic', b'scenes', b'were', b'those', b'when',\n",
              "       b'the', b'Columbian', b'rebels', b'were', b'making', b'their',\n",
              "       b'cases', b'for', b'revolutions.', b'Maria', b'Conchita',\n",
              "       b'Alonso', b'appeared', b'phony,', b'and', b'her', b'pseudo-love',\n",
              "       b'affair', b'with', b'Walken', b'was', b'nothing', b'but', b'a',\n",
              "       b'pathetic', b'emotional', b'plug', b'in', b'a', b'movie', b'that',\n",
              "       b'was', b'devoid', b'of', b'any', b'real', b'meaning.', b'I',\n",
              "       b'am', b'disappointed', b'that', b'there', b'are', b'movies',\n",
              "       b'like', b'this,', b'ruining', b\"actor's\", b'like', b'Christopher',\n",
              "       b\"Walken's\", b'good', b'name.', b'I', b'could', b'barely', b'sit',\n",
              "       b'through', b'it.'], dtype=object)>"
            ]
          },
          "metadata": {},
          "execution_count": 20
        }
      ],
      "source": [
        "train_tokens[0]"
      ]
    },
    {
      "cell_type": "markdown",
      "metadata": {
        "id": "9qvhRJ2HMlnU"
      },
      "source": [
        "Yup... looks right. Of course we will need to take care of the encoding later."
      ]
    },
    {
      "cell_type": "markdown",
      "metadata": {
        "id": "bY4nDQaoMlnU"
      },
      "source": [
        "### 2.2 Data Preparation\n",
        "\n",
        "For the models we will use, we need to define a maximum sequence length (max number of tokens per movie review that we'll feed into our model). We'll cut off any tokens longer than that, and we'll pad shorter movie reviews with zeros at the end."
      ]
    },
    {
      "cell_type": "code",
      "execution_count": 21,
      "metadata": {
        "id": "CmHtHIw-MlnU"
      },
      "outputs": [],
      "source": [
        "MAX_SEQUENCE_LENGTH = 128"
      ]
    },
    {
      "cell_type": "markdown",
      "metadata": {
        "id": "bPJ6awp2MlnU"
      },
      "source": [
        "Next, we define a simple function that converts the tokens of each movie review into their word2vec vocabulary index values.   "
      ]
    },
    {
      "cell_type": "code",
      "execution_count": 22,
      "metadata": {
        "id": "O2wWKarvMlnU"
      },
      "outputs": [],
      "source": [
        "def docs_to_vocab_ids(tokenized_texts_list):\n",
        "    \"\"\"\n",
        "    converting a list of strings to a list of lists of word ids\n",
        "    \"\"\"\n",
        "    texts_vocab_ids = []\n",
        "    for i, token_list in enumerate(tokenized_texts_list):\n",
        "\n",
        "        # Get the vocab id for each token in this doc ([UNK] if not in vocab)\n",
        "        vocab_ids = []\n",
        "        for token in list(token_list.numpy()):\n",
        "            decoded = token.decode('utf-8', errors='ignore')\n",
        "            if decoded in vocab_dict:\n",
        "                vocab_ids.append(vocab_dict[decoded])\n",
        "            else:\n",
        "                vocab_ids.append(vocab_dict['[UNK]'])\n",
        "            \n",
        "        # Truncate text to max length, add padding up to max length\n",
        "        vocab_ids = vocab_ids[:MAX_SEQUENCE_LENGTH]\n",
        "        n_padding = (MAX_SEQUENCE_LENGTH - len(vocab_ids))\n",
        "        # For simplicity in this model, we'll just pad with uknown tokens\n",
        "        vocab_ids += [vocab_dict['[UNK]']] * n_padding\n",
        "\n",
        "        # Add this example to the list of converted docs\n",
        "        texts_vocab_ids.append(vocab_ids)\n",
        "            \n",
        "        if i % 5000 == 0:\n",
        "            print('Examples processed: ', i)\n",
        "        \n",
        "    print('Total examples: ', i)\n",
        "\n",
        "    return np.array(texts_vocab_ids)"
      ]
    },
    {
      "cell_type": "markdown",
      "metadata": {
        "id": "Tpt4_70BMlnU"
      },
      "source": [
        "Now we can create training and test data that can be fed into the models of interest."
      ]
    },
    {
      "cell_type": "code",
      "execution_count": 23,
      "metadata": {
        "colab": {
          "base_uri": "https://localhost:8080/"
        },
        "id": "J9m_pOqVMlnU",
        "outputId": "3b10b705-6aa8-48ec-81d1-308b542759e2"
      },
      "outputs": [
        {
          "output_type": "stream",
          "name": "stdout",
          "text": [
            "Examples processed:  0\n",
            "Examples processed:  5000\n",
            "Examples processed:  10000\n",
            "Examples processed:  15000\n",
            "Total examples:  19999\n",
            "Examples processed:  0\n",
            "Total examples:  4999\n"
          ]
        }
      ],
      "source": [
        "train_input = docs_to_vocab_ids(train_tokens)\n",
        "test_input = docs_to_vocab_ids(test_tokens)\n",
        "\n",
        "train_labels = np.array(train_labels)\n",
        "test_labels = np.array(test_labels)"
      ]
    },
    {
      "cell_type": "markdown",
      "metadata": {
        "id": "2ycaqQNyMlnU"
      },
      "source": [
        "Let's convince ourselves that the data looks correct.  We expect the train data to be an array of integer ids and the labels to be an array of zeroes and ones (since we are learning a binary classifier)."
      ]
    },
    {
      "cell_type": "code",
      "execution_count": 24,
      "metadata": {
        "colab": {
          "base_uri": "https://localhost:8080/"
        },
        "id": "NOY1newUMlnU",
        "outputId": "50d875fb-78a3-48b0-802f-34352d7be639"
      },
      "outputs": [
        {
          "output_type": "execute_result",
          "data": {
            "text/plain": [
              "array([[21531, 25272, 12291,  7427, 37254, 43981,  6891, 12917, 38232,\n",
              "        16915, 12929, 16182, 43981, 20526, 23487, 43981, 23807, 42958,\n",
              "        35058, 43981, 19123, 35029, 41270, 29275, 12917, 32597, 20659,\n",
              "          638, 16915, 43981,   174, 32597, 35058, 39971,  2326,  3636,\n",
              "        22434, 35029, 43981, 33922, 43981, 21531, 34710, 16908, 12291,\n",
              "        36880, 28137,  5376, 28038, 43981, 15402, 29155, 18063, 24951,\n",
              "        17433, 17595,  8856, 14193, 43981, 43248, 17433,  6290, 32597,\n",
              "         9001, 11511, 43981, 21807, 39168, 43981, 16856, 43981, 43981,\n",
              "        23245, 43981,  8889,  1331, 43981, 25272, 31976, 19123, 43981,\n",
              "        18063, 36309, 24099, 16915, 43981, 34710, 36633, 25272, 20413,\n",
              "        43981, 33458, 14926, 43981, 12139, 12289, 39617, 36633,  9483,\n",
              "        42958,  5589,  8092, 43981, 34516, 43981,  8092, 16182, 43981,\n",
              "        39933, 43981, 12139,  2326, 32781, 32467,  7046, 43981, 43981,\n",
              "        43981, 43981, 43981, 43981, 43981, 43981, 43981, 43981, 43981,\n",
              "        43981, 43981],\n",
              "       [12139,  7841, 19666, 31757, 43981, 17853, 25745, 15445, 43981,\n",
              "        19123, 35029, 16908, 21113, 21068, 43981, 43981,  5668, 43981,\n",
              "        33456, 43981, 34554, 43981,  1200, 27498, 43981, 18802, 20514,\n",
              "        14193, 43981, 43981, 23955, 14042, 15400, 43981, 43981, 32334,\n",
              "        20514, 35029,  7870, 12139, 17108, 25745, 43830, 14193, 28743,\n",
              "        25272, 43981, 15402, 17006,   222, 25272, 43981, 43981, 33994,\n",
              "        43981, 43981, 42659, 12375, 43981, 43981, 19123,  1331, 19870,\n",
              "         7816, 43981, 31696, 25272, 23801, 13877, 20526, 43981, 12139,\n",
              "        43981, 12139, 37939,  7841, 24998, 29109, 43981, 14193, 43981,\n",
              "        19123, 16266,  8017, 14193, 43099, 43981, 16909, 43981, 30811,\n",
              "        14042, 12375, 43981, 25574, 43981, 34511, 21851, 14087,  9370,\n",
              "        33458, 14926, 14799, 11511, 12936, 43981, 12139,  5935, 16531,\n",
              "        35029, 28743, 40418, 43981, 43981, 43981, 43981, 43981, 43981,\n",
              "        43981, 43981, 43981, 43981, 43981, 43981, 43981, 43981, 43981,\n",
              "        43981, 43981]])"
            ]
          },
          "metadata": {},
          "execution_count": 24
        }
      ],
      "source": [
        "train_input[:2]"
      ]
    },
    {
      "cell_type": "code",
      "execution_count": 25,
      "metadata": {
        "colab": {
          "base_uri": "https://localhost:8080/"
        },
        "id": "WcfkqFlvMlnU",
        "outputId": "98975ac4-6473-45c6-95c0-7ea2841b5de7"
      },
      "outputs": [
        {
          "output_type": "execute_result",
          "data": {
            "text/plain": [
              "array([0, 0, 0, 1])"
            ]
          },
          "metadata": {},
          "execution_count": 25
        }
      ],
      "source": [
        "train_labels[:4]"
      ]
    },
    {
      "cell_type": "markdown",
      "metadata": {
        "id": "ePxwJP48MlnU"
      },
      "source": [
        "[Return to Top](#returnToTop)  \n",
        "<a id = 'modeling'></a>\n",
        "## 3. Modeling\n",
        "\n",
        "<a id = 'averagingNetwork'></a>\n",
        "### 3.1 Averaging Network (AN) Model\n",
        "\n",
        "Let us start by defining the embedding layer, then we'll average the embeddings and pass them into our classification layer."
      ]
    },
    {
      "cell_type": "code",
      "execution_count": 26,
      "metadata": {
        "id": "3pqP3_6VeTQ-"
      },
      "outputs": [],
      "source": [
        "an_input_layer = tf.keras.layers.Input(shape=(MAX_SEQUENCE_LENGTH,), dtype='int64')"
      ]
    },
    {
      "cell_type": "code",
      "execution_count": 27,
      "metadata": {
        "id": "kuhtMfRzMlnV"
      },
      "outputs": [],
      "source": [
        "an_embedding_layer = Embedding(embedding_matrix.shape[0],\n",
        "                               embedding_matrix.shape[1],\n",
        "                               embeddings_initializer=tf.keras.initializers.Constant(embedding_matrix),\n",
        "                               input_length=MAX_SEQUENCE_LENGTH,\n",
        "                               trainable=False)"
      ]
    },
    {
      "cell_type": "code",
      "execution_count": 28,
      "metadata": {
        "id": "IJP0bf8lMlnV"
      },
      "outputs": [],
      "source": [
        "an_embeddings = an_embedding_layer(an_input_layer)"
      ]
    },
    {
      "cell_type": "markdown",
      "metadata": {
        "id": "bDqzRIhpO9dq"
      },
      "source": [
        "Now lets define a layer that will take the embeddings for each of the words in an input sentence and create one averaged embedding to represent the sentence. "
      ]
    },
    {
      "cell_type": "code",
      "execution_count": 29,
      "metadata": {
        "id": "9x-hGIfJMlnV"
      },
      "outputs": [],
      "source": [
        "an_avg_embeddings = tf.keras.layers.Lambda(lambda x: K.mean(x, axis=1), name='averaging')(an_embeddings)"
      ]
    },
    {
      "cell_type": "markdown",
      "metadata": {
        "id": "MCCkkDpaO9dr"
      },
      "source": [
        "Finally lets define our output layer."
      ]
    },
    {
      "cell_type": "code",
      "execution_count": 30,
      "metadata": {
        "id": "JnHSyTJoMlnV"
      },
      "outputs": [],
      "source": [
        "an_classification = tf.keras.layers.Dense(1, \n",
        "                                          activation='sigmoid', \n",
        "                                          name='an_classification')(an_avg_embeddings)"
      ]
    },
    {
      "cell_type": "code",
      "execution_count": 31,
      "metadata": {
        "id": "xnCtk8N6MlnV"
      },
      "outputs": [],
      "source": [
        "an_model = tf.keras.models.Model(inputs=an_input_layer, outputs=[an_classification])"
      ]
    },
    {
      "cell_type": "code",
      "execution_count": 32,
      "metadata": {
        "id": "Hait_XiLMlnV"
      },
      "outputs": [],
      "source": [
        "an_model.compile(loss='binary_crossentropy',\n",
        "                 optimizer=tf.keras.optimizers.Adam(learning_rate=0.001,\n",
        "                                                    beta_1=0.9,\n",
        "                                                    beta_2=0.999,\n",
        "                                                    epsilon=1e-07,\n",
        "                                                    amsgrad=False,\n",
        "                                                    name='Adam'),\n",
        "                 metrics='accuracy')"
      ]
    },
    {
      "cell_type": "code",
      "execution_count": 33,
      "metadata": {
        "colab": {
          "base_uri": "https://localhost:8080/"
        },
        "id": "5a3lU-rCMlnV",
        "outputId": "7ec86aab-ab9b-4c5a-b437-1b5cdb471460"
      },
      "outputs": [
        {
          "output_type": "stream",
          "name": "stdout",
          "text": [
            "Model: \"model\"\n",
            "_________________________________________________________________\n",
            " Layer (type)                Output Shape              Param #   \n",
            "=================================================================\n",
            " input_1 (InputLayer)        [(None, 128)]             0         \n",
            "                                                                 \n",
            " embedding (Embedding)       (None, 128, 300)          13194600  \n",
            "                                                                 \n",
            " averaging (Lambda)          (None, 300)               0         \n",
            "                                                                 \n",
            " an_classification (Dense)   (None, 1)                 301       \n",
            "                                                                 \n",
            "=================================================================\n",
            "Total params: 13,194,901\n",
            "Trainable params: 301\n",
            "Non-trainable params: 13,194,600\n",
            "_________________________________________________________________\n"
          ]
        }
      ],
      "source": [
        "an_model.summary()"
      ]
    },
    {
      "cell_type": "code",
      "execution_count": 34,
      "metadata": {
        "colab": {
          "base_uri": "https://localhost:8080/",
          "height": 397
        },
        "id": "lhyGPsK0MlnV",
        "outputId": "77d47aba-6a63-4db8-fe7a-8c3d8387b8a0"
      },
      "outputs": [
        {
          "output_type": "execute_result",
          "data": {
            "image/png": "[encoded data removed]",
            "text/plain": [
              "<IPython.core.display.Image object>"
            ]
          },
          "metadata": {},
          "execution_count": 34
        }
      ],
      "source": [
        "keras.utils.plot_model(an_model, show_shapes=True, dpi=90)"
      ]
    },
    {
      "cell_type": "markdown",
      "metadata": {
        "id": "s3mrVye_MlnV"
      },
      "source": [
        "Let's look at the predictions and labels before training. Do those make sense?"
      ]
    },
    {
      "cell_type": "code",
      "execution_count": 35,
      "metadata": {
        "colab": {
          "base_uri": "https://localhost:8080/"
        },
        "id": "GwRb8foUMlnV",
        "outputId": "16acd6f5-a4cb-410e-938e-7753e6801c13"
      },
      "outputs": [
        {
          "output_type": "stream",
          "name": "stdout",
          "text": [
            "1/1 [==============================] - 2s 2s/step\n",
            "predictions:\n",
            " [[0.5031217 ]\n",
            " [0.5037202 ]\n",
            " [0.50288963]\n",
            " [0.50063026]\n",
            " [0.5023606 ]]\n",
            "\n",
            "\n",
            "labels:\n",
            " [0 0 0 1 1]\n"
          ]
        }
      ],
      "source": [
        "print('predictions:\\n', an_model.predict(train_input[:5]))\n",
        "print('\\n\\nlabels:\\n', train_labels[:5])"
      ]
    },
    {
      "cell_type": "code",
      "execution_count": 36,
      "metadata": {
        "colab": {
          "base_uri": "https://localhost:8080/"
        },
        "id": "VLdk2sCdMlnV",
        "outputId": "26d3d8bc-746d-4c53-91dd-5577c4e38b63"
      },
      "outputs": [
        {
          "output_type": "stream",
          "name": "stdout",
          "text": [
            "Epoch 1/20\n",
            "625/625 [==============================] - 4s 4ms/step - loss: 0.6877 - accuracy: 0.6024 - val_loss: 0.6839 - val_accuracy: 0.6018\n",
            "Epoch 2/20\n",
            "625/625 [==============================] - 2s 4ms/step - loss: 0.6778 - accuracy: 0.6496 - val_loss: 0.6755 - val_accuracy: 0.6496\n",
            "Epoch 3/20\n",
            "625/625 [==============================] - 2s 3ms/step - loss: 0.6690 - accuracy: 0.6630 - val_loss: 0.6683 - val_accuracy: 0.6560\n",
            "Epoch 4/20\n",
            "625/625 [==============================] - 2s 3ms/step - loss: 0.6613 - accuracy: 0.6698 - val_loss: 0.6615 - val_accuracy: 0.6638\n",
            "Epoch 5/20\n",
            "625/625 [==============================] - 2s 3ms/step - loss: 0.6544 - accuracy: 0.6744 - val_loss: 0.6556 - val_accuracy: 0.6646\n",
            "Epoch 6/20\n",
            "625/625 [==============================] - 2s 3ms/step - loss: 0.6478 - accuracy: 0.6793 - val_loss: 0.6501 - val_accuracy: 0.6668\n",
            "Epoch 7/20\n",
            "625/625 [==============================] - 2s 3ms/step - loss: 0.6421 - accuracy: 0.6837 - val_loss: 0.6449 - val_accuracy: 0.6730\n",
            "Epoch 8/20\n",
            "625/625 [==============================] - 2s 3ms/step - loss: 0.6366 - accuracy: 0.6867 - val_loss: 0.6403 - val_accuracy: 0.6770\n",
            "Epoch 9/20\n",
            "625/625 [==============================] - 2s 3ms/step - loss: 0.6314 - accuracy: 0.6921 - val_loss: 0.6354 - val_accuracy: 0.6764\n",
            "Epoch 10/20\n",
            "625/625 [==============================] - 2s 3ms/step - loss: 0.6267 - accuracy: 0.6953 - val_loss: 0.6311 - val_accuracy: 0.6798\n",
            "Epoch 11/20\n",
            "625/625 [==============================] - 2s 3ms/step - loss: 0.6220 - accuracy: 0.6999 - val_loss: 0.6274 - val_accuracy: 0.6878\n",
            "Epoch 12/20\n",
            "625/625 [==============================] - 2s 3ms/step - loss: 0.6176 - accuracy: 0.7024 - val_loss: 0.6231 - val_accuracy: 0.6896\n",
            "Epoch 13/20\n",
            "625/625 [==============================] - 2s 3ms/step - loss: 0.6135 - accuracy: 0.7068 - val_loss: 0.6195 - val_accuracy: 0.6936\n",
            "Epoch 14/20\n",
            "625/625 [==============================] - 2s 3ms/step - loss: 0.6095 - accuracy: 0.7107 - val_loss: 0.6159 - val_accuracy: 0.6970\n",
            "Epoch 15/20\n",
            "625/625 [==============================] - 2s 3ms/step - loss: 0.6056 - accuracy: 0.7132 - val_loss: 0.6122 - val_accuracy: 0.7010\n",
            "Epoch 16/20\n",
            "625/625 [==============================] - 2s 3ms/step - loss: 0.6020 - accuracy: 0.7171 - val_loss: 0.6087 - val_accuracy: 0.7002\n",
            "Epoch 17/20\n",
            "625/625 [==============================] - 2s 3ms/step - loss: 0.5986 - accuracy: 0.7182 - val_loss: 0.6055 - val_accuracy: 0.7066\n",
            "Epoch 18/20\n",
            "625/625 [==============================] - 2s 3ms/step - loss: 0.5951 - accuracy: 0.7215 - val_loss: 0.6024 - val_accuracy: 0.7068\n",
            "Epoch 19/20\n",
            "625/625 [==============================] - 2s 3ms/step - loss: 0.5919 - accuracy: 0.7236 - val_loss: 0.5996 - val_accuracy: 0.7112\n",
            "Epoch 20/20\n",
            "625/625 [==============================] - 2s 3ms/step - loss: 0.5889 - accuracy: 0.7245 - val_loss: 0.5968 - val_accuracy: 0.7144\n"
          ]
        }
      ],
      "source": [
        "an_history = an_model.fit(train_input,\n",
        "                          train_labels,\n",
        "                          validation_data=(test_input, test_labels),\n",
        "                          batch_size=32,\n",
        "                          epochs=20\n",
        "                          )"
      ]
    },
    {
      "cell_type": "markdown",
      "metadata": {
        "id": "oUdddsevMlnV"
      },
      "source": [
        "Let's revisit the predictions. How is this?"
      ]
    },
    {
      "cell_type": "code",
      "execution_count": 37,
      "metadata": {
        "colab": {
          "base_uri": "https://localhost:8080/"
        },
        "id": "Dazj7jEfMlnV",
        "outputId": "5dc18bb8-1a5e-4e7f-f4be-be1364eb37dd"
      },
      "outputs": [
        {
          "output_type": "stream",
          "name": "stdout",
          "text": [
            "1/1 [==============================] - 0s 18ms/step\n",
            "predictions:\n",
            " [[0.32229075]\n",
            " [0.3075391 ]\n",
            " [0.59277904]\n",
            " [0.62743133]\n",
            " [0.52473813]]\n",
            "\n",
            "\n",
            "labels:\n",
            " [0 0 0 1 1]\n"
          ]
        }
      ],
      "source": [
        "print('predictions:\\n', an_model.predict(train_input[:5]))\n",
        "print('\\n\\nlabels:\\n', train_labels[:5])"
      ]
    },
    {
      "cell_type": "markdown",
      "metadata": {
        "id": "6yDQcGMlMlnV"
      },
      "source": [
        "That learned somewhat, can we do better?\n",
        "\n",
        "[Return to Top](#returnToTop)  \n",
        "<a id = 'modelDAN'></a>\n",
        "### 3.2. Deep Averaging Network (DAN)\n",
        "\n",
        "Now let's add some hidden layers after the averaging layer, to give our model more depth. The first and last layers are the same as above.\n",
        "\n",
        "We'll also put our model creation code into a function, with variables for the things we can change (in this case, the hidden layers). Then we can try different values later."
      ]
    },
    {
      "cell_type": "code",
      "execution_count": 38,
      "metadata": {
        "id": "ygOwHEqLMlnV"
      },
      "outputs": [],
      "source": [
        "def build_dan_model(hidden_layer_dims, dropout_rate, embeddings_trainable=False):\n",
        "    dan_input_layer = tf.keras.layers.Input(shape=(MAX_SEQUENCE_LENGTH,), dtype='int64')\n",
        "    dan_embedding_layer = Embedding(embedding_matrix.shape[0],\n",
        "                                    embedding_matrix.shape[1],\n",
        "                                    embeddings_initializer=tf.keras.initializers.Constant(embedding_matrix),\n",
        "                                    input_length=MAX_SEQUENCE_LENGTH,\n",
        "                                    trainable=embeddings_trainable)\n",
        "    dan_embeddings = dan_embedding_layer(dan_input_layer)\n",
        "    dan_avg_embeddings = tf.keras.layers.Lambda(lambda x: K.mean(x, axis=1),\n",
        "                                                name='averaging')(dan_embeddings)\n",
        "    last_hidden_output = dan_avg_embeddings\n",
        "\n",
        "    for i, h_dim in enumerate(hidden_layer_dims):\n",
        "        last_hidden_output = tf.keras.layers.Dense(h_dim, activation='relu',\n",
        "                                                   name='dan_hidden_%d' % i)(last_hidden_output)\n",
        "        last_hidden_output = tf.keras.layers.Dropout(dropout_rate)(last_hidden_output)\n",
        "    \n",
        "    dan_classification = tf.keras.layers.Dense(1,\n",
        "                                               activation='sigmoid',\n",
        "                                               name='dan_classification')(last_hidden_output)\n",
        "    \n",
        "    dan_model = tf.keras.models.Model(inputs=dan_input_layer, outputs=[dan_classification])\n",
        "    dan_model.compile(loss='binary_crossentropy',\n",
        "                      optimizer=tf.keras.optimizers.Adam(learning_rate=0.001,\n",
        "                                                         beta_1=0.9,\n",
        "                                                         beta_2=0.999,\n",
        "                                                         epsilon=1e-07,\n",
        "                                                         amsgrad=False,\n",
        "                                                         name='Adam'),\n",
        "                      metrics='accuracy')\n",
        "    return dan_model"
      ]
    },
    {
      "cell_type": "code",
      "execution_count": 39,
      "metadata": {
        "colab": {
          "base_uri": "https://localhost:8080/",
          "height": 812
        },
        "id": "QRXwMFi3MlnV",
        "outputId": "574c6beb-966d-4f22-9873-630f98137836"
      },
      "outputs": [
        {
          "output_type": "execute_result",
          "data": {
            "image/png": "[encoded data removed]",
            "text/plain": [
              "<IPython.core.display.Image object>"
            ]
          },
          "metadata": {},
          "execution_count": 39
        }
      ],
      "source": [
        "# Now call our function to create a DAN model, and show the model diagram\n",
        "\n",
        "hidden_layer_sizes = [100, 50]\n",
        "dropout_rate = 0.5\n",
        "\n",
        "dan_model = build_dan_model(hidden_layer_sizes, dropout_rate)\n",
        "keras.utils.plot_model(dan_model, show_shapes=True, dpi=90)"
      ]
    },
    {
      "cell_type": "code",
      "execution_count": 40,
      "metadata": {
        "colab": {
          "base_uri": "https://localhost:8080/"
        },
        "id": "ONqclasBMlnW",
        "outputId": "2466481c-453d-41c8-ee4c-75fec6d24c5e"
      },
      "outputs": [
        {
          "output_type": "stream",
          "name": "stdout",
          "text": [
            "Epoch 1/20\n",
            "625/625 [==============================] - 4s 3ms/step - loss: 0.6398 - accuracy: 0.6341 - val_loss: 0.5491 - val_accuracy: 0.7366\n",
            "Epoch 2/20\n",
            "625/625 [==============================] - 2s 3ms/step - loss: 0.5307 - accuracy: 0.7442 - val_loss: 0.5060 - val_accuracy: 0.7534\n",
            "Epoch 3/20\n",
            "625/625 [==============================] - 2s 3ms/step - loss: 0.5099 - accuracy: 0.7573 - val_loss: 0.5075 - val_accuracy: 0.7492\n",
            "Epoch 4/20\n",
            "625/625 [==============================] - 2s 3ms/step - loss: 0.4970 - accuracy: 0.7620 - val_loss: 0.5272 - val_accuracy: 0.7308\n",
            "Epoch 5/20\n",
            "625/625 [==============================] - 2s 3ms/step - loss: 0.4926 - accuracy: 0.7677 - val_loss: 0.4770 - val_accuracy: 0.7688\n",
            "Epoch 6/20\n",
            "625/625 [==============================] - 2s 3ms/step - loss: 0.4860 - accuracy: 0.7706 - val_loss: 0.4939 - val_accuracy: 0.7550\n",
            "Epoch 7/20\n",
            "625/625 [==============================] - 2s 3ms/step - loss: 0.4790 - accuracy: 0.7732 - val_loss: 0.4746 - val_accuracy: 0.7718\n",
            "Epoch 8/20\n",
            "625/625 [==============================] - 2s 3ms/step - loss: 0.4748 - accuracy: 0.7743 - val_loss: 0.4746 - val_accuracy: 0.7694\n",
            "Epoch 9/20\n",
            "625/625 [==============================] - 2s 3ms/step - loss: 0.4732 - accuracy: 0.7742 - val_loss: 0.4687 - val_accuracy: 0.7716\n",
            "Epoch 10/20\n",
            "625/625 [==============================] - 2s 3ms/step - loss: 0.4690 - accuracy: 0.7786 - val_loss: 0.4637 - val_accuracy: 0.7760\n",
            "Epoch 11/20\n",
            "625/625 [==============================] - 2s 4ms/step - loss: 0.4691 - accuracy: 0.7747 - val_loss: 0.4643 - val_accuracy: 0.7788\n",
            "Epoch 12/20\n",
            "625/625 [==============================] - 2s 3ms/step - loss: 0.4659 - accuracy: 0.7790 - val_loss: 0.4614 - val_accuracy: 0.7784\n",
            "Epoch 13/20\n",
            "625/625 [==============================] - 2s 3ms/step - loss: 0.4659 - accuracy: 0.7786 - val_loss: 0.4628 - val_accuracy: 0.7786\n",
            "Epoch 14/20\n",
            "625/625 [==============================] - 2s 3ms/step - loss: 0.4630 - accuracy: 0.7818 - val_loss: 0.4645 - val_accuracy: 0.7768\n",
            "Epoch 15/20\n",
            "625/625 [==============================] - 2s 3ms/step - loss: 0.4617 - accuracy: 0.7806 - val_loss: 0.4643 - val_accuracy: 0.7778\n",
            "Epoch 16/20\n",
            "625/625 [==============================] - 2s 3ms/step - loss: 0.4598 - accuracy: 0.7832 - val_loss: 0.4617 - val_accuracy: 0.7756\n",
            "Epoch 17/20\n",
            "625/625 [==============================] - 2s 3ms/step - loss: 0.4562 - accuracy: 0.7888 - val_loss: 0.4584 - val_accuracy: 0.7828\n",
            "Epoch 18/20\n",
            "625/625 [==============================] - 2s 3ms/step - loss: 0.4572 - accuracy: 0.7833 - val_loss: 0.4589 - val_accuracy: 0.7802\n",
            "Epoch 19/20\n",
            "625/625 [==============================] - 2s 3ms/step - loss: 0.4588 - accuracy: 0.7853 - val_loss: 0.4586 - val_accuracy: 0.7780\n",
            "Epoch 20/20\n",
            "625/625 [==============================] - 2s 3ms/step - loss: 0.4538 - accuracy: 0.7904 - val_loss: 0.4593 - val_accuracy: 0.7806\n"
          ]
        }
      ],
      "source": [
        "dan_history = dan_model.fit(train_input,\n",
        "                            train_labels,\n",
        "                            validation_data=(test_input, test_labels),\n",
        "                            batch_size=32,\n",
        "                            epochs=20\n",
        "                            )"
      ]
    },
    {
      "cell_type": "markdown",
      "metadata": {
        "id": "CPHHM-Q8MlnW"
      },
      "source": [
        "Below is a sample plot for two different models:"
      ]
    },
    {
      "cell_type": "code",
      "execution_count": 41,
      "metadata": {
        "colab": {
          "base_uri": "https://localhost:8080/",
          "height": 635
        },
        "id": "o_yH7ySqWyjz",
        "outputId": "000b9632-40d1-4406-c9e6-4f776bccdbaa"
      },
      "outputs": [
        {
          "output_type": "display_data",
          "data": {
            "text/plain": [
              "<Figure size 1332x756 with 4 Axes>"
            ],
            "image/png": "[encoded data removed]"
          },
          "metadata": {
            "needs_background": "light"
          }
        }
      ],
      "source": [
        "fig, axs = plt.subplots(2, 2)\n",
        "fig.subplots_adjust(left=0.2, wspace=0.6)\n",
        "make_plot(axs,\n",
        "          an_history,\n",
        "          dan_history,\n",
        "          model_1_name='an',\n",
        "          model_2_name='dan')\n",
        "\n",
        "fig.align_ylabels(axs[:, 1])\n",
        "fig.set_size_inches(18.5, 10.5)\n",
        "plt.show()"
      ]
    },
    {
      "cell_type": "markdown",
      "metadata": {
        "id": "28MFkARVMlnW"
      },
      "source": [
        "Of course, the avergaing network is not done training."
      ]
    },
    {
      "cell_type": "markdown",
      "metadata": {
        "id": "Cw9-emMXMlnW"
      },
      "source": [
        "[Return to Top](#returnToTop)  \n",
        "<a id = 'modelCNN'></a>\n",
        "### 3.3 CNN Model\n",
        "\n",
        "Next let's build a CNN model. We'll also wrap the model building code in a function that takes some hyperparameters, so that we can adjust things like number of filters and filter sizes later."
      ]
    },
    {
      "cell_type": "code",
      "execution_count": 42,
      "metadata": {
        "id": "NhTOlX25MlnW"
      },
      "outputs": [],
      "source": [
        "def build_cnn_model(num_filters, kernel_sizes, dense_layer_dims, dropout_rate, embeddings_trainable=False):\n",
        "    cnn_input_layer = tf.keras.layers.Input(shape=(MAX_SEQUENCE_LENGTH,), dtype='int64')\n",
        "    cnn_embedding_layer = Embedding(embedding_matrix.shape[0],\n",
        "                                    embedding_matrix.shape[1],\n",
        "                                    embeddings_initializer=tf.keras.initializers.Constant(embedding_matrix),\n",
        "                                    input_length=MAX_SEQUENCE_LENGTH,\n",
        "                                    trainable=embeddings_trainable)\n",
        "    cnn_embeddings = cnn_embedding_layer(cnn_input_layer)\n",
        "\n",
        "    conv_layers_for_all_kernel_sizes = []\n",
        "    for kernel_size, filters in zip(kernel_sizes, num_filters):\n",
        "        conv_layer = keras.layers.Conv1D(filters=filters, kernel_size=kernel_size, activation='relu')(cnn_embeddings)\n",
        "        conv_layer = keras.layers.GlobalMaxPooling1D()(conv_layer)\n",
        "        conv_layers_for_all_kernel_sizes.append(conv_layer)\n",
        "    \n",
        "    conv_output = keras.layers.concatenate(conv_layers_for_all_kernel_sizes, axis=1)\n",
        "    last_hidden_output = keras.layers.Dropout(rate=dropout_rate)(conv_output)\n",
        "\n",
        "    for dense_layer_dim in dense_layer_dims:\n",
        "        last_hidden_output = keras.layers.Dense(dense_layer_dim, activation='relu')(last_hidden_output)\n",
        "    \n",
        "    cnn_prediction = keras.layers.Dense(1, activation='sigmoid')(last_hidden_output)\n",
        "\n",
        "    cnn_model = keras.Model(inputs=cnn_input_layer, outputs=cnn_prediction)\n",
        "    cnn_model.compile(optimizer='adam',\n",
        "                      loss='binary_crossentropy',  # From information theory notebooks.\n",
        "                      metrics=['accuracy'])\n",
        "    return cnn_model"
      ]
    },
    {
      "cell_type": "code",
      "execution_count": 43,
      "metadata": {
        "id": "Jkx80zazMlnW"
      },
      "outputs": [],
      "source": [
        "# Now specify model hyperparameters and call the function to create a CNN model\n",
        "\n",
        "num_filters = [100, 100, 50, 25]\n",
        "kernel_sizes = [3, 4, 5, 10]\n",
        "dense_layer_dims = [100, 50]\n",
        "dropout_rate = 0.5\n",
        "\n",
        "cnn_model = build_cnn_model(num_filters, kernel_sizes, dense_layer_dims, dropout_rate)"
      ]
    },
    {
      "cell_type": "code",
      "execution_count": 44,
      "metadata": {
        "colab": {
          "base_uri": "https://localhost:8080/"
        },
        "id": "7G0cH1a2MlnW",
        "outputId": "bb9da67e-1307-4ad2-baa1-50998edae7c1"
      },
      "outputs": [
        {
          "output_type": "stream",
          "name": "stdout",
          "text": [
            "Model: \"model_2\"\n",
            "__________________________________________________________________________________________________\n",
            " Layer (type)                   Output Shape         Param #     Connected to                     \n",
            "==================================================================================================\n",
            " input_3 (InputLayer)           [(None, 128)]        0           []                               \n",
            "                                                                                                  \n",
            " embedding_2 (Embedding)        (None, 128, 300)     13194600    ['input_3[0][0]']                \n",
            "                                                                                                  \n",
            " conv1d (Conv1D)                (None, 126, 100)     90100       ['embedding_2[0][0]']            \n",
            "                                                                                                  \n",
            " conv1d_1 (Conv1D)              (None, 125, 100)     120100      ['embedding_2[0][0]']            \n",
            "                                                                                                  \n",
            " conv1d_2 (Conv1D)              (None, 124, 50)      75050       ['embedding_2[0][0]']            \n",
            "                                                                                                  \n",
            " conv1d_3 (Conv1D)              (None, 119, 25)      75025       ['embedding_2[0][0]']            \n",
            "                                                                                                  \n",
            " global_max_pooling1d (GlobalMa  (None, 100)         0           ['conv1d[0][0]']                 \n",
            " xPooling1D)                                                                                      \n",
            "                                                                                                  \n",
            " global_max_pooling1d_1 (Global  (None, 100)         0           ['conv1d_1[0][0]']               \n",
            " MaxPooling1D)                                                                                    \n",
            "                                                                                                  \n",
            " global_max_pooling1d_2 (Global  (None, 50)          0           ['conv1d_2[0][0]']               \n",
            " MaxPooling1D)                                                                                    \n",
            "                                                                                                  \n",
            " global_max_pooling1d_3 (Global  (None, 25)          0           ['conv1d_3[0][0]']               \n",
            " MaxPooling1D)                                                                                    \n",
            "                                                                                                  \n",
            " concatenate (Concatenate)      (None, 275)          0           ['global_max_pooling1d[0][0]',   \n",
            "                                                                  'global_max_pooling1d_1[0][0]', \n",
            "                                                                  'global_max_pooling1d_2[0][0]', \n",
            "                                                                  'global_max_pooling1d_3[0][0]'] \n",
            "                                                                                                  \n",
            " dropout_2 (Dropout)            (None, 275)          0           ['concatenate[0][0]']            \n",
            "                                                                                                  \n",
            " dense (Dense)                  (None, 100)          27600       ['dropout_2[0][0]']              \n",
            "                                                                                                  \n",
            " dense_1 (Dense)                (None, 50)           5050        ['dense[0][0]']                  \n",
            "                                                                                                  \n",
            " dense_2 (Dense)                (None, 1)            51          ['dense_1[0][0]']                \n",
            "                                                                                                  \n",
            "==================================================================================================\n",
            "Total params: 13,587,576\n",
            "Trainable params: 392,976\n",
            "Non-trainable params: 13,194,600\n",
            "__________________________________________________________________________________________________\n"
          ]
        }
      ],
      "source": [
        "cnn_model.summary()"
      ]
    },
    {
      "cell_type": "markdown",
      "metadata": {
        "id": "1W2eeXE4MlnW"
      },
      "source": [
        "The keras plot utility shows this probably a bit nicer:"
      ]
    },
    {
      "cell_type": "code",
      "execution_count": 45,
      "metadata": {
        "colab": {
          "base_uri": "https://localhost:8080/",
          "height": 643
        },
        "id": "rLxkEjKbMlnW",
        "outputId": "7e92b741-2f28-4f0f-a795-81f3cf90779d"
      },
      "outputs": [
        {
          "output_type": "execute_result",
          "data": {
            "image/png": "[encoded data removed]",
            "text/plain": [
              "<IPython.core.display.Image object>"
            ]
          },
          "metadata": {},
          "execution_count": 45
        }
      ],
      "source": [
        "keras.utils.plot_model(cnn_model, show_shapes=True, dpi=90)"
      ]
    },
    {
      "cell_type": "code",
      "execution_count": 46,
      "metadata": {
        "colab": {
          "base_uri": "https://localhost:8080/"
        },
        "id": "kA4LlSm5MlnW",
        "outputId": "b60fa078-d91a-4fa6-a36e-dc69f9e145eb"
      },
      "outputs": [
        {
          "output_type": "stream",
          "name": "stdout",
          "text": [
            "Epoch 1/5\n",
            "625/625 [==============================] - 14s 8ms/step - loss: 0.5423 - accuracy: 0.7109 - val_loss: 0.4485 - val_accuracy: 0.7872\n",
            "Epoch 2/5\n",
            "625/625 [==============================] - 4s 7ms/step - loss: 0.4208 - accuracy: 0.8059 - val_loss: 0.4084 - val_accuracy: 0.8140\n",
            "Epoch 3/5\n",
            "625/625 [==============================] - 4s 7ms/step - loss: 0.3716 - accuracy: 0.8347 - val_loss: 0.4078 - val_accuracy: 0.8124\n",
            "Epoch 4/5\n",
            "625/625 [==============================] - 4s 6ms/step - loss: 0.3202 - accuracy: 0.8626 - val_loss: 0.4010 - val_accuracy: 0.8202\n",
            "Epoch 5/5\n",
            "625/625 [==============================] - 4s 7ms/step - loss: 0.2768 - accuracy: 0.8841 - val_loss: 0.4081 - val_accuracy: 0.8186\n"
          ]
        }
      ],
      "source": [
        "cnn_history = cnn_model.fit(train_input,\n",
        "                            train_labels,\n",
        "                            validation_data=(test_input, test_labels),\n",
        "                            batch_size=32,\n",
        "                            epochs=5\n",
        "                            )"
      ]
    },
    {
      "cell_type": "markdown",
      "metadata": {
        "id": "qnUPF0OYMlnX"
      },
      "source": [
        "Below is a comparison of a CNN model with a DAN model: "
      ]
    },
    {
      "cell_type": "code",
      "execution_count": 47,
      "metadata": {
        "colab": {
          "base_uri": "https://localhost:8080/",
          "height": 635
        },
        "id": "YUfJc4VJX-Gp",
        "outputId": "1f96918e-066e-4b7e-b705-0ee00f4f6d25"
      },
      "outputs": [
        {
          "output_type": "display_data",
          "data": {
            "text/plain": [
              "<Figure size 1332x756 with 4 Axes>"
            ],
            "image/png": "[encoded data removed]"
          },
          "metadata": {
            "needs_background": "light"
          }
        }
      ],
      "source": [
        "fig, axs = plt.subplots(2, 2)\n",
        "fig.subplots_adjust(left=0.2, wspace=0.6)\n",
        "make_plot(axs, \n",
        "          dan_history, \n",
        "          cnn_history, \n",
        "          model_1_name='dan',\n",
        "          model_2_name='cnn')\n",
        "\n",
        "fig.align_ylabels(axs[:, 1])\n",
        "fig.set_size_inches(18.5, 10.5)\n",
        "plt.show()"
      ]
    },
    {
      "cell_type": "code",
      "execution_count": null,
      "metadata": {
        "id": "363oxPcGMlnX"
      },
      "outputs": [],
      "source": []
    },
    {
      "cell_type": "markdown",
      "metadata": {
        "id": "zdB7U2GqqhNq"
      },
      "source": [
        "[Return to Top](#returnToTop)  \n",
        "<a id = 'modelRNN'></a>\n",
        "### 3.4 Recurrent Neural Network (RNN)\n",
        "\n",
        "We now will now look at RNNs. We will first use a simple example to look at the structure of the model, and then use it also for classification of the same dataset that we used above.\n",
        "\n",
        "#### 3.4.1. Basic Tests \n",
        "\n",
        "Here is a very simple LSTM model with Keras.  For more details on much more complex uses of RNNs, see [this Keras guide](https://keras.io/guides/working_with_rnns/)."
      ]
    },
    {
      "cell_type": "code",
      "execution_count": 48,
      "metadata": {
        "id": "oR4ymqo_qhNr"
      },
      "outputs": [],
      "source": [
        "def build_basic_rnn_model(max_length, \n",
        "                          rnn_dim,\n",
        "                          return_sequences,\n",
        "                          return_state):\n",
        "    \"\"\"\n",
        "    max_length:         maximum input length\n",
        "    rnn_dim:            dimension of the rnn \n",
        "    return_sequences:   should the entire sequence of output vectors for each time step be returned?  \n",
        "    return_state:       should the final cell states get returned?\n",
        "    \"\"\"\n",
        "    \n",
        "    # inputs - comprised of - for each example in mini-batch:\n",
        "    #             - (<max_length>) x_t, each of dim <rnn_dim>, \n",
        "    #.            - the initial 2 x 3d state (h and c) \n",
        "    \n",
        "    in_x = tf.keras.layers.Input(shape=(max_length, rnn_dim), name=\"in_id\")\n",
        "    in_state_h = tf.keras.layers.Input(shape=(rnn_dim,), name=\"in_state_h\")\n",
        "    in_state_c = tf.keras.layers.Input(shape=(rnn_dim,), name=\"in_state_c\")\n",
        "    \n",
        "    # define a very simple lstm layer, acting on the input\n",
        "    \n",
        "    lstm_output = tf.keras.layers.LSTM(rnn_dim, return_sequences=return_sequences, return_state=return_state)\\\n",
        "            (in_x, initial_state=[in_state_h, in_state_c])\n",
        "\n",
        "    model = tf.keras.models.Model(inputs=[in_x, in_state_h, in_state_c], outputs=lstm_output)\n",
        "    \n",
        "    return model"
      ]
    },
    {
      "cell_type": "code",
      "execution_count": 49,
      "metadata": {
        "id": "8GINiLQSqhNr"
      },
      "outputs": [],
      "source": [
        "basic_rnn_model = build_basic_rnn_model(max_length=4, \n",
        "                                        rnn_dim=3,\n",
        "                                        return_sequences=True,\n",
        "                                        return_state=True)"
      ]
    },
    {
      "cell_type": "code",
      "execution_count": 50,
      "metadata": {
        "colab": {
          "base_uri": "https://localhost:8080/"
        },
        "id": "-UKbwMReqhNr",
        "outputId": "176b6bea-a669-4d88-9958-3099120c187e"
      },
      "outputs": [
        {
          "output_type": "stream",
          "name": "stdout",
          "text": [
            "Model: \"model_3\"\n",
            "__________________________________________________________________________________________________\n",
            " Layer (type)                   Output Shape         Param #     Connected to                     \n",
            "==================================================================================================\n",
            " in_id (InputLayer)             [(None, 4, 3)]       0           []                               \n",
            "                                                                                                  \n",
            " in_state_h (InputLayer)        [(None, 3)]          0           []                               \n",
            "                                                                                                  \n",
            " in_state_c (InputLayer)        [(None, 3)]          0           []                               \n",
            "                                                                                                  \n",
            " lstm (LSTM)                    [(None, 4, 3),       84          ['in_id[0][0]',                  \n",
            "                                 (None, 3),                       'in_state_h[0][0]',             \n",
            "                                 (None, 3)]                       'in_state_c[0][0]']             \n",
            "                                                                                                  \n",
            "==================================================================================================\n",
            "Total params: 84\n",
            "Trainable params: 84\n",
            "Non-trainable params: 0\n",
            "__________________________________________________________________________________________________\n"
          ]
        }
      ],
      "source": [
        "basic_rnn_model.summary()"
      ]
    },
    {
      "cell_type": "markdown",
      "metadata": {
        "id": "afhZCH9wqhNr"
      },
      "source": [
        "**Questions:**\n",
        "\n",
        "- do the output shapes look correct?\n",
        "- is '84' the correct number of parameters? \n",
        "- how do we calculate that number?\n",
        "\n"
      ]
    },
    {
      "cell_type": "markdown",
      "source": [
        "Recurrent neural nets have multiple inputs and outputs.  We can put these recurrent networks together in interesting sequences.  Here are four different such configurations:\n",
        "\n",
        "![Screen Shot 2022-09-04 at 10.51.26 PM.jpg](data:image/jpeg;base64,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)\n",
        "\n",
        "[Return to Top](#returnToTop)  \n",
        "<a id = 'classExercise'></a>\n",
        "\n",
        "#### 3.4.2 Class Exercise\n",
        "For each of the four sequence types, what kinds of NLP tasks can be modeled?\n",
        "\n",
        "The **Sequence Annotation Model** takes an input at each time step and produces an output at each timestep. What kind of language processing task(s) can be modeled with this approach?\n",
        "\n",
        "The **Sequence to Vector Model** takes an input at each timestep but only produces a final vector representing what was seen in the entire input sequence. What kind of language processing task(s) can be modeled with this approach?\n",
        "\n",
        "The **Vector to Sequence Model** takes one input and then uses that to generate a sequence of outputs. What kind of language processing task(s) can be modeled with this approach?\n",
        "\n",
        "The **Sequence to Sequence Model** (also known as an encoder-decoder model) reads in one sequence, produces a final vector representation of that first sequence, and uses that to generate a new sequence.  What kind of language processing task(s) can be modeled with this approach?\n",
        "\n",
        "We can architect these sequences by modifying two arguments *return_sequences* and *return_state*. What would change if return_sequences is false, and what about return_state?"
      ],
      "metadata": {
        "id": "RK4rs6FK3zFu"
      }
    },
    {
      "cell_type": "code",
      "execution_count": 51,
      "metadata": {
        "id": "8sUDUeTaqhNr"
      },
      "outputs": [],
      "source": [
        "basic_rnn_model_no_return_sequence = build_basic_rnn_model(max_length=4, \n",
        "                                                           rnn_dim=3,\n",
        "                                                           return_sequences=False,\n",
        "                                                           return_state=True)"
      ]
    },
    {
      "cell_type": "code",
      "execution_count": 52,
      "metadata": {
        "colab": {
          "base_uri": "https://localhost:8080/"
        },
        "id": "lGLhQdHcqhNr",
        "outputId": "3888d672-4ff0-4be3-ae94-3008fa736cea"
      },
      "outputs": [
        {
          "output_type": "stream",
          "name": "stdout",
          "text": [
            "Model: \"model_4\"\n",
            "__________________________________________________________________________________________________\n",
            " Layer (type)                   Output Shape         Param #     Connected to                     \n",
            "==================================================================================================\n",
            " in_id (InputLayer)             [(None, 4, 3)]       0           []                               \n",
            "                                                                                                  \n",
            " in_state_h (InputLayer)        [(None, 3)]          0           []                               \n",
            "                                                                                                  \n",
            " in_state_c (InputLayer)        [(None, 3)]          0           []                               \n",
            "                                                                                                  \n",
            " lstm_1 (LSTM)                  [(None, 3),          84          ['in_id[0][0]',                  \n",
            "                                 (None, 3),                       'in_state_h[0][0]',             \n",
            "                                 (None, 3)]                       'in_state_c[0][0]']             \n",
            "                                                                                                  \n",
            "==================================================================================================\n",
            "Total params: 84\n",
            "Trainable params: 84\n",
            "Non-trainable params: 0\n",
            "__________________________________________________________________________________________________\n"
          ]
        }
      ],
      "source": [
        "basic_rnn_model_no_return_sequence.summary()"
      ]
    },
    {
      "cell_type": "code",
      "execution_count": 53,
      "metadata": {
        "id": "qIQnv2UmqhNr"
      },
      "outputs": [],
      "source": [
        "basic_rnn_model_no_return_state = build_basic_rnn_model(max_length=4, \n",
        "                                                        rnn_dim=3,\n",
        "                                                        return_sequences=True,\n",
        "                                                        return_state=False)"
      ]
    },
    {
      "cell_type": "code",
      "execution_count": 54,
      "metadata": {
        "colab": {
          "base_uri": "https://localhost:8080/"
        },
        "id": "TaXjz694qhNr",
        "outputId": "cb1c2f5c-a729-4f3f-e6fd-1ca72b009d50"
      },
      "outputs": [
        {
          "output_type": "stream",
          "name": "stdout",
          "text": [
            "Model: \"model_5\"\n",
            "__________________________________________________________________________________________________\n",
            " Layer (type)                   Output Shape         Param #     Connected to                     \n",
            "==================================================================================================\n",
            " in_id (InputLayer)             [(None, 4, 3)]       0           []                               \n",
            "                                                                                                  \n",
            " in_state_h (InputLayer)        [(None, 3)]          0           []                               \n",
            "                                                                                                  \n",
            " in_state_c (InputLayer)        [(None, 3)]          0           []                               \n",
            "                                                                                                  \n",
            " lstm_2 (LSTM)                  (None, 4, 3)         84          ['in_id[0][0]',                  \n",
            "                                                                  'in_state_h[0][0]',             \n",
            "                                                                  'in_state_c[0][0]']             \n",
            "                                                                                                  \n",
            "==================================================================================================\n",
            "Total params: 84\n",
            "Trainable params: 84\n",
            "Non-trainable params: 0\n",
            "__________________________________________________________________________________________________\n"
          ]
        }
      ],
      "source": [
        "basic_rnn_model_no_return_state.summary()"
      ]
    },
    {
      "cell_type": "code",
      "execution_count": 55,
      "metadata": {
        "id": "kT-BjIu2qhNr"
      },
      "outputs": [],
      "source": [
        "basic_rnn_model_no_return_state_no_sequences = build_basic_rnn_model(max_length=4, \n",
        "                                                                     rnn_dim=3,\n",
        "                                                                     return_sequences=False,\n",
        "                                                                     return_state=False)"
      ]
    },
    {
      "cell_type": "code",
      "execution_count": 56,
      "metadata": {
        "colab": {
          "base_uri": "https://localhost:8080/"
        },
        "id": "nRdFaam6qhNr",
        "outputId": "d30708f2-7be8-4afa-ed58-de2ab2b30139"
      },
      "outputs": [
        {
          "output_type": "stream",
          "name": "stdout",
          "text": [
            "Model: \"model_6\"\n",
            "__________________________________________________________________________________________________\n",
            " Layer (type)                   Output Shape         Param #     Connected to                     \n",
            "==================================================================================================\n",
            " in_id (InputLayer)             [(None, 4, 3)]       0           []                               \n",
            "                                                                                                  \n",
            " in_state_h (InputLayer)        [(None, 3)]          0           []                               \n",
            "                                                                                                  \n",
            " in_state_c (InputLayer)        [(None, 3)]          0           []                               \n",
            "                                                                                                  \n",
            " lstm_3 (LSTM)                  (None, 3)            84          ['in_id[0][0]',                  \n",
            "                                                                  'in_state_h[0][0]',             \n",
            "                                                                  'in_state_c[0][0]']             \n",
            "                                                                                                  \n",
            "==================================================================================================\n",
            "Total params: 84\n",
            "Trainable params: 84\n",
            "Non-trainable params: 0\n",
            "__________________________________________________________________________________________________\n"
          ]
        }
      ],
      "source": [
        "basic_rnn_model_no_return_state_no_sequences.summary()"
      ]
    },
    {
      "cell_type": "markdown",
      "metadata": {
        "id": "NbXV1fogqhNr"
      },
      "source": [
        "Does this look right? It does...\n",
        "\n",
        "What about the output using toy inputs?"
      ]
    },
    {
      "cell_type": "code",
      "execution_count": 57,
      "metadata": {
        "colab": {
          "base_uri": "https://localhost:8080/"
        },
        "id": "04QLbDgCqhNr",
        "outputId": "2c2a8146-5cb6-4107-fa60-331225217fe2"
      },
      "outputs": [
        {
          "output_type": "stream",
          "name": "stdout",
          "text": [
            "1/1 [==============================] - 1s 889ms/step\n",
            "output_vector [[[ 3.8852951e-01  3.4398994e-01  8.5726595e-01]\n",
            "  [ 5.9228330e-03  7.3408419e-01  9.6548265e-01]\n",
            "  [ 2.9224073e-05  1.5964963e-01  6.2040353e-01]\n",
            "  [ 2.3234533e-08 -6.6732103e-01 -3.4825209e-01]]]\n",
            "out_state_h  [[ 2.3234533e-08 -6.6732103e-01 -3.4825209e-01]]\n",
            "out_state_c  [[ 1.0554151e-06 -8.0669779e-01 -3.6345506e-01]]\n"
          ]
        }
      ],
      "source": [
        "lstm_input = np.array([[[1.1,2,3], [4,5,6], [7,8,9], [10,11,12]]])\n",
        "initial_h = np.array([[1.,4,3]]*1)\n",
        "initial_c = np.array([[1,2,6]]*1)\n",
        "\n",
        "out, state_h, state_c = basic_rnn_model.predict([lstm_input, initial_h, initial_c],\n",
        "                                                batch_size=4)\n",
        "\n",
        "print('output_vector', out)\n",
        "print('out_state_h ', state_h)\n",
        "print('out_state_c ', state_c)"
      ]
    },
    {
      "cell_type": "markdown",
      "metadata": {
        "id": "Nh3AtBJKqhNr"
      },
      "source": [
        "Looks correct.\n",
        "\n",
        "#### 3.4.2. RNN for IMBD Classification\n",
        "\n",
        "Now let's build the full RNN model we'll use for our sentiment classification problem. From the LSTM layer, we'll only use the output from the last timestep (after processing all tokens). In this task, we don't have labels for every token, just for the text as a whole."
      ]
    },
    {
      "cell_type": "code",
      "execution_count": 58,
      "metadata": {
        "id": "rm7xrpp4yZ9S"
      },
      "outputs": [],
      "source": [
        "def build_rnn_model(rnn_dim, dense_layer_dims, dropout_rate, embeddings_trainable=False):\n",
        "    rnn_input_layer = tf.keras.layers.Input(shape=(MAX_SEQUENCE_LENGTH,), dtype='int64')\n",
        "    rnn_embedding_layer = Embedding(embedding_matrix.shape[0],\n",
        "                                    embedding_matrix.shape[1],\n",
        "                                    embeddings_initializer=tf.keras.initializers.Constant(embedding_matrix),\n",
        "                                    input_length=MAX_SEQUENCE_LENGTH,\n",
        "                                    trainable=embeddings_trainable)\n",
        "    rnn_embeddings = rnn_embedding_layer(rnn_input_layer)\n",
        "\n",
        "    # only return the last output from the RNN calculation \n",
        "    rnn_output = tf.keras.layers.LSTM(rnn_dim, return_sequences=False, return_state=False, name='LSTM')\\\n",
        "        (rnn_embeddings)\n",
        "    last_hidden_output = rnn_output\n",
        "    \n",
        "    for dense_layer_dim in dense_layer_dims:\n",
        "        last_hidden_output = keras.layers.Dense(dense_layer_dim, activation='relu')(last_hidden_output)\n",
        "        last_hidden_output = keras.layers.Dropout(rate=dropout_rate)(last_hidden_output)\n",
        "    \n",
        "    rnn_prediction = keras.layers.Dense(1, activation='sigmoid')(last_hidden_output)\n",
        "\n",
        "    rnn_model = keras.Model(inputs=rnn_input_layer, outputs=rnn_prediction)\n",
        "    rnn_model.compile(optimizer='adam',\n",
        "                      loss='binary_crossentropy',  # From information theory notebooks.\n",
        "                      metrics=['accuracy'])\n",
        "    return rnn_model"
      ]
    },
    {
      "cell_type": "code",
      "execution_count": 59,
      "metadata": {
        "colab": {
          "base_uri": "https://localhost:8080/",
          "height": 605
        },
        "id": "kxeemV7UqhNr",
        "outputId": "66872cad-a6c9-4db5-c88c-eccd557f662a"
      },
      "outputs": [
        {
          "output_type": "execute_result",
          "data": {
            "image/png": "[encoded data removed]",
            "text/plain": [
              "<IPython.core.display.Image object>"
            ]
          },
          "metadata": {},
          "execution_count": 59
        }
      ],
      "source": [
        "rnn_dim = 100\n",
        "dense_layer_dims = [100]\n",
        "dropout_rate = 0.5\n",
        "\n",
        "rnn_model = build_rnn_model(rnn_dim,\n",
        "                            dense_layer_dims,\n",
        "                            dropout_rate,\n",
        "                            embeddings_trainable=False)\n",
        "keras.utils.plot_model(rnn_model, show_shapes=True, dpi=90)"
      ]
    },
    {
      "cell_type": "code",
      "execution_count": 60,
      "metadata": {
        "colab": {
          "base_uri": "https://localhost:8080/"
        },
        "id": "y1S4TVdcqhNs",
        "outputId": "675da252-3511-4ba8-d3e0-58f4fff0ad71"
      },
      "outputs": [
        {
          "output_type": "stream",
          "name": "stdout",
          "text": [
            "Epoch 1/5\n",
            "625/625 [==============================] - 9s 10ms/step - loss: 0.6420 - accuracy: 0.6299 - val_loss: 0.5977 - val_accuracy: 0.7276\n",
            "Epoch 2/5\n",
            "625/625 [==============================] - 6s 9ms/step - loss: 0.5865 - accuracy: 0.7120 - val_loss: 0.5429 - val_accuracy: 0.7470\n",
            "Epoch 3/5\n",
            "625/625 [==============================] - 6s 9ms/step - loss: 0.5193 - accuracy: 0.7579 - val_loss: 0.5239 - val_accuracy: 0.7656\n",
            "Epoch 4/5\n",
            "625/625 [==============================] - 6s 9ms/step - loss: 0.4902 - accuracy: 0.7704 - val_loss: 0.4743 - val_accuracy: 0.7846\n",
            "Epoch 5/5\n",
            "625/625 [==============================] - 6s 9ms/step - loss: 0.4564 - accuracy: 0.7928 - val_loss: 0.4953 - val_accuracy: 0.7748\n"
          ]
        }
      ],
      "source": [
        "rnn_history = rnn_model.fit(train_input,\n",
        "                            train_labels,\n",
        "                            validation_data=(test_input, test_labels),\n",
        "                            batch_size=32,\n",
        "                            epochs=5\n",
        "                            )"
      ]
    },
    {
      "cell_type": "markdown",
      "metadata": {
        "id": "67Kkk7a7qhNs"
      },
      "source": [
        "Let's compare this to the CNN results:"
      ]
    },
    {
      "cell_type": "code",
      "execution_count": 61,
      "metadata": {
        "colab": {
          "base_uri": "https://localhost:8080/",
          "height": 635
        },
        "id": "ppMT-mLVqhNs",
        "outputId": "c55c48dd-629a-40cb-b67a-b03ecf0bbdae"
      },
      "outputs": [
        {
          "output_type": "display_data",
          "data": {
            "text/plain": [
              "<Figure size 1332x756 with 4 Axes>"
            ],
            "image/png": "[encoded data removed]"
          },
          "metadata": {
            "needs_background": "light"
          }
        }
      ],
      "source": [
        "fig, axs = plt.subplots(2, 2)\n",
        "fig.subplots_adjust(left=0.2, wspace=0.6)\n",
        "make_plot(axs, \n",
        "          cnn_history, \n",
        "          rnn_history, \n",
        "          model_1_name='cnn',\n",
        "          model_2_name='rnn')\n",
        "\n",
        "fig.align_ylabels(axs[:, 1])\n",
        "fig.set_size_inches(18.5, 10.5)\n",
        "plt.show()"
      ]
    },
    {
      "cell_type": "markdown",
      "metadata": {
        "id": "kB2tuerdqhNs"
      },
      "source": [
        "[Return to Top](#returnToTop)  \n",
        "<a id = 'modelAttention'></a>\n",
        "\n",
        "## 4. What about Attention?\n",
        "\n",
        "Let us do a manual calculation with a simple set of queries and keys. (We'll use the keys as values as well, which is often done.)"
      ]
    },
    {
      "cell_type": "code",
      "execution_count": 62,
      "metadata": {
        "id": "hLjCGYnFqhNs"
      },
      "outputs": [],
      "source": [
        "test_query = np.array([[1., 2]])\n",
        "\n",
        "test_keys_values = np.array([[-1., 1], [5, -2.]])"
      ]
    },
    {
      "cell_type": "markdown",
      "metadata": {
        "id": "QOXM0_flqhNs"
      },
      "source": [
        "What do we get with a manual calculation?"
      ]
    },
    {
      "cell_type": "markdown",
      "metadata": {
        "id": "Zi6qdqESqhNs"
      },
      "source": [
        "[back to slides](https://docs.google.com/presentation/d/1QL96CoLle8cgbrUB3uWuZ9hpKQ-MavOsKss1HGon2zE/edit#slide=id.p44)"
      ]
    },
    {
      "cell_type": "markdown",
      "metadata": {
        "id": "eP6iVsM_qhNs"
      },
      "source": [
        "Let's compare that to the result of the Keras attention calculation: "
      ]
    },
    {
      "cell_type": "code",
      "execution_count": 63,
      "metadata": {
        "colab": {
          "base_uri": "https://localhost:8080/"
        },
        "id": "kJXzPxL7qhNs",
        "outputId": "19340a10-25d0-49a3-ce73-b8ab67477c25"
      },
      "outputs": [
        {
          "output_type": "execute_result",
          "data": {
            "text/plain": [
              "(<tf.Tensor: shape=(1, 2), dtype=float32, numpy=array([[ 2. , -0.5]], dtype=float32)>,\n",
              " <tf.Tensor: shape=(1, 2), dtype=float32, numpy=array([[0.5, 0.5]], dtype=float32)>)"
            ]
          },
          "metadata": {},
          "execution_count": 63
        }
      ],
      "source": [
        "tf.keras.layers.Attention()([test_query, test_keys_values], return_attention_scores=True)"
      ]
    },
    {
      "cell_type": "markdown",
      "metadata": {
        "id": "Esqk5lxDqhNs"
      },
      "source": [
        "Does that look right?"
      ]
    },
    {
      "cell_type": "markdown",
      "source": [
        "[Return to Top](#returnToTop)  \n",
        "<a id = 'answers'></a>\n",
        "## 5. Answers\n",
        "\n",
        "**Question 3.4.2**:\n",
        "\n",
        "The **Sequence Annotation Model** can model tasks like part of speech tagging or named entity tagging where a label must be assigned to each token.\n",
        "\n",
        "The **Sequence to Vector Model** can model tasks like sentence  classification or can be used to generate a vector representing the text input that is then used by another model like an image generator.\n",
        "\n",
        "The **Vector to Sequence Model** can model a task like image captioning where we pass a vector representation of an image into the model and it then generates a sequence of words in the caption.\n",
        "\n",
        "The **Sequence to Sequence Model** (also known as an encoder-decoder model) can model a task like machine translation or summarization where you have an input text and we want to generate the appropriate corresponding output text.\n"
      ],
      "metadata": {
        "id": "yNWiF5uld9c3"
      }
    }
  ],
  "metadata": {
    "accelerator": "GPU",
    "colab": {
      "provenance": []
    },
    "gpuClass": "standard",
    "kernelspec": {
      "display_name": "Python 3",
      "language": "python",
      "name": "python3"
    },
    "language_info": {
      "codemirror_mode": {
        "name": "ipython",
        "version": 3
      },
      "file_extension": ".py",
      "mimetype": "text/x-python",
      "name": "python",
      "nbconvert_exporter": "python",
      "pygments_lexer": "ipython3",
      "version": "3.8.5"
    },
    "widgets": {
      "application/vnd.jupyter.widget-state+json": {
        "f1454709584449a5a8c27d28abc6fb44": {
          "model_module": "@jupyter-widgets/controls",
          "model_name": "HBoxModel",
          "model_module_version": "1.5.0",
          "state": {
            "_dom_classes": [],
            "_model_module": "@jupyter-widgets/controls",
            "_model_module_version": "1.5.0",
            "_model_name": "HBoxModel",
            "_view_count": null,
            "_view_module": "@jupyter-widgets/controls",
            "_view_module_version": "1.5.0",
            "_view_name": "HBoxView",
            "box_style": "",
            "children": [
              "IPY_MODEL_b033319304b146bc8af9af090469bb89",
              "IPY_MODEL_68e269841710461eafbfec58cee33dee",
              "IPY_MODEL_2992f574549b478380341d41f7f7f737"
            ],
            "layout": "IPY_MODEL_f1056570d1a745f68873a3bafc99bf4e"
          }
        },
        "b033319304b146bc8af9af090469bb89": {
          "model_module": "@jupyter-widgets/controls",
          "model_name": "HTMLModel",
          "model_module_version": "1.5.0",
          "state": {
            "_dom_classes": [],
            "_model_module": "@jupyter-widgets/controls",
            "_model_module_version": "1.5.0",
            "_model_name": "HTMLModel",
            "_view_count": null,
            "_view_module": "@jupyter-widgets/controls",
            "_view_module_version": "1.5.0",
            "_view_name": "HTMLView",
            "description": "",
            "description_tooltip": null,
            "layout": "IPY_MODEL_1671a476784c49f694e6cc95d7227e63",
            "placeholder": "​",
            "style": "IPY_MODEL_d852a918b5c74db0b53e723c0b02ceb8",
            "value": "Dl Completed...: 100%"
          }
        },
        "68e269841710461eafbfec58cee33dee": {
          "model_module": "@jupyter-widgets/controls",
          "model_name": "FloatProgressModel",
          "model_module_version": "1.5.0",
          "state": {
            "_dom_classes": [],
            "_model_module": "@jupyter-widgets/controls",
            "_model_module_version": "1.5.0",
            "_model_name": "FloatProgressModel",
            "_view_count": null,
            "_view_module": "@jupyter-widgets/controls",
            "_view_module_version": "1.5.0",
            "_view_name": "ProgressView",
            "bar_style": "success",
            "description": "",
            "description_tooltip": null,
            "layout": "IPY_MODEL_b8576b22ea894a03ad7a6d9163767c70",
            "max": 1,
            "min": 0,
            "orientation": "horizontal",
            "style": "IPY_MODEL_9b5ed10d4b7b4c3d9c0e541cd5a69f10",
            "value": 1
          }
        },
        "2992f574549b478380341d41f7f7f737": {
          "model_module": "@jupyter-widgets/controls",
          "model_name": "HTMLModel",
          "model_module_version": "1.5.0",
          "state": {
            "_dom_classes": [],
            "_model_module": "@jupyter-widgets/controls",
            "_model_module_version": "1.5.0",
            "_model_name": "HTMLModel",
            "_view_count": null,
            "_view_module": "@jupyter-widgets/controls",
            "_view_module_version": "1.5.0",
            "_view_name": "HTMLView",
            "description": "",
            "description_tooltip": null,
            "layout": "IPY_MODEL_2fc8fb8dc2d444d1808d44776828e928",
            "placeholder": "​",
            "style": "IPY_MODEL_d69c8331cc064d36af8917117ec4084c",
            "value": " 1/1 [00:01&lt;00:00,  1.43s/ url]"
          }
        },
        "f1056570d1a745f68873a3bafc99bf4e": {
          "model_module": "@jupyter-widgets/base",
          "model_name": "LayoutModel",
          "model_module_version": "1.2.0",
          "state": {
            "_model_module": "@jupyter-widgets/base",
            "_model_module_version": "1.2.0",
            "_model_name": "LayoutModel",
            "_view_count": null,
            "_view_module": "@jupyter-widgets/base",
            "_view_module_version": "1.2.0",
            "_view_name": "LayoutView",
            "align_content": null,
            "align_items": null,
            "align_self": null,
            "border": null,
            "bottom": null,
            "display": null,
            "flex": null,
            "flex_flow": null,
            "grid_area": null,
            "grid_auto_columns": null,
            "grid_auto_flow": null,
            "grid_auto_rows": null,
            "grid_column": null,
            "grid_gap": null,
            "grid_row": null,
            "grid_template_areas": null,
            "grid_template_columns": null,
            "grid_template_rows": null,
            "height": null,
            "justify_content": null,
            "justify_items": null,
            "left": null,
            "margin": null,
            "max_height": null,
            "max_width": null,
            "min_height": null,
            "min_width": null,
            "object_fit": null,
            "object_position": null,
            "order": null,
            "overflow": null,
            "overflow_x": null,
            "overflow_y": null,
            "padding": null,
            "right": null,
            "top": null,
            "visibility": null,
            "width": null
          }
        },
        "1671a476784c49f694e6cc95d7227e63": {
          "model_module": "@jupyter-widgets/base",
          "model_name": "LayoutModel",
          "model_module_version": "1.2.0",
          "state": {
            "_model_module": "@jupyter-widgets/base",
            "_model_module_version": "1.2.0",
            "_model_name": "LayoutModel",
            "_view_count": null,
            "_view_module": "@jupyter-widgets/base",
            "_view_module_version": "1.2.0",
            "_view_name": "LayoutView",
            "align_content": null,
            "align_items": null,
            "align_self": null,
            "border": null,
            "bottom": null,
            "display": null,
            "flex": null,
            "flex_flow": null,
            "grid_area": null,
            "grid_auto_columns": null,
            "grid_auto_flow": null,
            "grid_auto_rows": null,
            "grid_column": null,
            "grid_gap": null,
            "grid_row": null,
            "grid_template_areas": null,
            "grid_template_columns": null,
            "grid_template_rows": null,
            "height": null,
            "justify_content": null,
            "justify_items": null,
            "left": null,
            "margin": null,
            "max_height": null,
            "max_width": null,
            "min_height": null,
            "min_width": null,
            "object_fit": null,
            "object_position": null,
            "order": null,
            "overflow": null,
            "overflow_x": null,
            "overflow_y": null,
            "padding": null,
            "right": null,
            "top": null,
            "visibility": null,
            "width": null
          }
        },
        "d852a918b5c74db0b53e723c0b02ceb8": {
          "model_module": "@jupyter-widgets/controls",
          "model_name": "DescriptionStyleModel",
          "model_module_version": "1.5.0",
          "state": {
            "_model_module": "@jupyter-widgets/controls",
            "_model_module_version": "1.5.0",
            "_model_name": "DescriptionStyleModel",
            "_view_count": null,
            "_view_module": "@jupyter-widgets/base",
            "_view_module_version": "1.2.0",
            "_view_name": "StyleView",
            "description_width": ""
          }
        },
        "b8576b22ea894a03ad7a6d9163767c70": {
          "model_module": "@jupyter-widgets/base",
          "model_name": "LayoutModel",
          "model_module_version": "1.2.0",
          "state": {
            "_model_module": "@jupyter-widgets/base",
            "_model_module_version": "1.2.0",
            "_model_name": "LayoutModel",
            "_view_count": null,
            "_view_module": "@jupyter-widgets/base",
            "_view_module_version": "1.2.0",
            "_view_name": "LayoutView",
            "align_content": null,
            "align_items": null,
            "align_self": null,
            "border": null,
            "bottom": null,
            "display": null,
            "flex": null,
            "flex_flow": null,
            "grid_area": null,
            "grid_auto_columns": null,
            "grid_auto_flow": null,
            "grid_auto_rows": null,
            "grid_column": null,
            "grid_gap": null,
            "grid_row": null,
            "grid_template_areas": null,
            "grid_template_columns": null,
            "grid_template_rows": null,
            "height": null,
            "justify_content": null,
            "justify_items": null,
            "left": null,
            "margin": null,
            "max_height": null,
            "max_width": null,
            "min_height": null,
            "min_width": null,
            "object_fit": null,
            "object_position": null,
            "order": null,
            "overflow": null,
            "overflow_x": null,
            "overflow_y": null,
            "padding": null,
            "right": null,
            "top": null,
            "visibility": null,
            "width": "20px"
          }
        },
        "9b5ed10d4b7b4c3d9c0e541cd5a69f10": {
          "model_module": "@jupyter-widgets/controls",
          "model_name": "ProgressStyleModel",
          "model_module_version": "1.5.0",
          "state": {
            "_model_module": "@jupyter-widgets/controls",
            "_model_module_version": "1.5.0",
            "_model_name": "ProgressStyleModel",
            "_view_count": null,
            "_view_module": "@jupyter-widgets/base",
            "_view_module_version": "1.2.0",
            "_view_name": "StyleView",
            "bar_color": null,
            "description_width": ""
          }
        },
        "2fc8fb8dc2d444d1808d44776828e928": {
          "model_module": "@jupyter-widgets/base",
          "model_name": "LayoutModel",
          "model_module_version": "1.2.0",
          "state": {
            "_model_module": "@jupyter-widgets/base",
            "_model_module_version": "1.2.0",
            "_model_name": "LayoutModel",
            "_view_count": null,
            "_view_module": "@jupyter-widgets/base",
            "_view_module_version": "1.2.0",
            "_view_name": "LayoutView",
            "align_content": null,
            "align_items": null,
            "align_self": null,
            "border": null,
            "bottom": null,
            "display": null,
            "flex": null,
            "flex_flow": null,
            "grid_area": null,
            "grid_auto_columns": null,
            "grid_auto_flow": null,
            "grid_auto_rows": null,
            "grid_column": null,
            "grid_gap": null,
            "grid_row": null,
            "grid_template_areas": null,
            "grid_template_columns": null,
            "grid_template_rows": null,
            "height": null,
            "justify_content": null,
            "justify_items": null,
            "left": null,
            "margin": null,
            "max_height": null,
            "max_width": null,
            "min_height": null,
            "min_width": null,
            "object_fit": null,
            "object_position": null,
            "order": null,
            "overflow": null,
            "overflow_x": null,
            "overflow_y": null,
            "padding": null,
            "right": null,
            "top": null,
            "visibility": null,
            "width": null
          }
        },
        "d69c8331cc064d36af8917117ec4084c": {
          "model_module": "@jupyter-widgets/controls",
          "model_name": "DescriptionStyleModel",
          "model_module_version": "1.5.0",
          "state": {
            "_model_module": "@jupyter-widgets/controls",
            "_model_module_version": "1.5.0",
            "_model_name": "DescriptionStyleModel",
            "_view_count": null,
            "_view_module": "@jupyter-widgets/base",
            "_view_module_version": "1.2.0",
            "_view_name": "StyleView",
            "description_width": ""
          }
        },
        "08679a82937848d0999841e09a6b23e2": {
          "model_module": "@jupyter-widgets/controls",
          "model_name": "HBoxModel",
          "model_module_version": "1.5.0",
          "state": {
            "_dom_classes": [],
            "_model_module": "@jupyter-widgets/controls",
            "_model_module_version": "1.5.0",
            "_model_name": "HBoxModel",
            "_view_count": null,
            "_view_module": "@jupyter-widgets/controls",
            "_view_module_version": "1.5.0",
            "_view_name": "HBoxView",
            "box_style": "",
            "children": [
              "IPY_MODEL_b1f21c29914043158f99470ee20d15e7",
              "IPY_MODEL_bc93665abf614475af095d14714d67d7",
              "IPY_MODEL_3f6c3e118222437881f1497eed6d2529"
            ],
            "layout": "IPY_MODEL_18c1dbb8c07e4cb7bf3fe0cba6e4c7a9"
          }
        },
        "b1f21c29914043158f99470ee20d15e7": {
          "model_module": "@jupyter-widgets/controls",
          "model_name": "HTMLModel",
          "model_module_version": "1.5.0",
          "state": {
            "_dom_classes": [],
            "_model_module": "@jupyter-widgets/controls",
            "_model_module_version": "1.5.0",
            "_model_name": "HTMLModel",
            "_view_count": null,
            "_view_module": "@jupyter-widgets/controls",
            "_view_module_version": "1.5.0",
            "_view_name": "HTMLView",
            "description": "",
            "description_tooltip": null,
            "layout": "IPY_MODEL_10933eb0299b485c844d96355dfe5251",
            "placeholder": "​",
            "style": "IPY_MODEL_9e74992675ab480090163df5078b3cc2",
            "value": "Dl Size...: 100%"
          }
        },
        "bc93665abf614475af095d14714d67d7": {
          "model_module": "@jupyter-widgets/controls",
          "model_name": "FloatProgressModel",
          "model_module_version": "1.5.0",
          "state": {
            "_dom_classes": [],
            "_model_module": "@jupyter-widgets/controls",
            "_model_module_version": "1.5.0",
            "_model_name": "FloatProgressModel",
            "_view_count": null,
            "_view_module": "@jupyter-widgets/controls",
            "_view_module_version": "1.5.0",
            "_view_name": "ProgressView",
            "bar_style": "success",
            "description": "",
            "description_tooltip": null,
            "layout": "IPY_MODEL_34a2b6ca0ab14ab5b3d9f287c800d3cd",
            "max": 1,
            "min": 0,
            "orientation": "horizontal",
            "style": "IPY_MODEL_ca6bf49b79ea48489432a3b1b0af54d3",
            "value": 1
          }
        },
        "3f6c3e118222437881f1497eed6d2529": {
          "model_module": "@jupyter-widgets/controls",
          "model_name": "HTMLModel",
          "model_module_version": "1.5.0",
          "state": {
            "_dom_classes": [],
            "_model_module": "@jupyter-widgets/controls",
            "_model_module_version": "1.5.0",
            "_model_name": "HTMLModel",
            "_view_count": null,
            "_view_module": "@jupyter-widgets/controls",
            "_view_module_version": "1.5.0",
            "_view_name": "HTMLView",
            "description": "",
            "description_tooltip": null,
            "layout": "IPY_MODEL_48e693224fb6405985ab74deb4ef935a",
            "placeholder": "​",
            "style": "IPY_MODEL_1f195c2f25674565bb91eddf8c36274e",
            "value": " 80/80 [00:01&lt;00:00, 75.81 MiB/s]"
          }
        },
        "18c1dbb8c07e4cb7bf3fe0cba6e4c7a9": {
          "model_module": "@jupyter-widgets/base",
          "model_name": "LayoutModel",
          "model_module_version": "1.2.0",
          "state": {
            "_model_module": "@jupyter-widgets/base",
            "_model_module_version": "1.2.0",
            "_model_name": "LayoutModel",
            "_view_count": null,
            "_view_module": "@jupyter-widgets/base",
            "_view_module_version": "1.2.0",
            "_view_name": "LayoutView",
            "align_content": null,
            "align_items": null,
            "align_self": null,
            "border": null,
            "bottom": null,
            "display": null,
            "flex": null,
            "flex_flow": null,
            "grid_area": null,
            "grid_auto_columns": null,
            "grid_auto_flow": null,
            "grid_auto_rows": null,
            "grid_column": null,
            "grid_gap": null,
            "grid_row": null,
            "grid_template_areas": null,
            "grid_template_columns": null,
            "grid_template_rows": null,
            "height": null,
            "justify_content": null,
            "justify_items": null,
            "left": null,
            "margin": null,
            "max_height": null,
            "max_width": null,
            "min_height": null,
            "min_width": null,
            "object_fit": null,
            "object_position": null,
            "order": null,
            "overflow": null,
            "overflow_x": null,
            "overflow_y": null,
            "padding": null,
            "right": null,
            "top": null,
            "visibility": null,
            "width": null
          }
        },
        "10933eb0299b485c844d96355dfe5251": {
          "model_module": "@jupyter-widgets/base",
          "model_name": "LayoutModel",
          "model_module_version": "1.2.0",
          "state": {
            "_model_module": "@jupyter-widgets/base",
            "_model_module_version": "1.2.0",
            "_model_name": "LayoutModel",
            "_view_count": null,
            "_view_module": "@jupyter-widgets/base",
            "_view_module_version": "1.2.0",
            "_view_name": "LayoutView",
            "align_content": null,
            "align_items": null,
            "align_self": null,
            "border": null,
            "bottom": null,
            "display": null,
            "flex": null,
            "flex_flow": null,
            "grid_area": null,
            "grid_auto_columns": null,
            "grid_auto_flow": null,
            "grid_auto_rows": null,
            "grid_column": null,
            "grid_gap": null,
            "grid_row": null,
            "grid_template_areas": null,
            "grid_template_columns": null,
            "grid_template_rows": null,
            "height": null,
            "justify_content": null,
            "justify_items": null,
            "left": null,
            "margin": null,
            "max_height": null,
            "max_width": null,
            "min_height": null,
            "min_width": null,
            "object_fit": null,
            "object_position": null,
            "order": null,
            "overflow": null,
            "overflow_x": null,
            "overflow_y": null,
            "padding": null,
            "right": null,
            "top": null,
            "visibility": null,
            "width": null
          }
        },
        "9e74992675ab480090163df5078b3cc2": {
          "model_module": "@jupyter-widgets/controls",
          "model_name": "DescriptionStyleModel",
          "model_module_version": "1.5.0",
          "state": {
            "_model_module": "@jupyter-widgets/controls",
            "_model_module_version": "1.5.0",
            "_model_name": "DescriptionStyleModel",
            "_view_count": null,
            "_view_module": "@jupyter-widgets/base",
            "_view_module_version": "1.2.0",
            "_view_name": "StyleView",
            "description_width": ""
          }
        },
        "34a2b6ca0ab14ab5b3d9f287c800d3cd": {
          "model_module": "@jupyter-widgets/base",
          "model_name": "LayoutModel",
          "model_module_version": "1.2.0",
          "state": {
            "_model_module": "@jupyter-widgets/base",
            "_model_module_version": "1.2.0",
            "_model_name": "LayoutModel",
            "_view_count": null,
            "_view_module": "@jupyter-widgets/base",
            "_view_module_version": "1.2.0",
            "_view_name": "LayoutView",
            "align_content": null,
            "align_items": null,
            "align_self": null,
            "border": null,
            "bottom": null,
            "display": null,
            "flex": null,
            "flex_flow": null,
            "grid_area": null,
            "grid_auto_columns": null,
            "grid_auto_flow": null,
            "grid_auto_rows": null,
            "grid_column": null,
            "grid_gap": null,
            "grid_row": null,
            "grid_template_areas": null,
            "grid_template_columns": null,
            "grid_template_rows": null,
            "height": null,
            "justify_content": null,
            "justify_items": null,
            "left": null,
            "margin": null,
            "max_height": null,
            "max_width": null,
            "min_height": null,
            "min_width": null,
            "object_fit": null,
            "object_position": null,
            "order": null,
            "overflow": null,
            "overflow_x": null,
            "overflow_y": null,
            "padding": null,
            "right": null,
            "top": null,
            "visibility": null,
            "width": "20px"
          }
        },
        "ca6bf49b79ea48489432a3b1b0af54d3": {
          "model_module": "@jupyter-widgets/controls",
          "model_name": "ProgressStyleModel",
          "model_module_version": "1.5.0",
          "state": {
            "_model_module": "@jupyter-widgets/controls",
            "_model_module_version": "1.5.0",
            "_model_name": "ProgressStyleModel",
            "_view_count": null,
            "_view_module": "@jupyter-widgets/base",
            "_view_module_version": "1.2.0",
            "_view_name": "StyleView",
            "bar_color": null,
            "description_width": ""
          }
        },
        "48e693224fb6405985ab74deb4ef935a": {
          "model_module": "@jupyter-widgets/base",
          "model_name": "LayoutModel",
          "model_module_version": "1.2.0",
          "state": {
            "_model_module": "@jupyter-widgets/base",
            "_model_module_version": "1.2.0",
            "_model_name": "LayoutModel",
            "_view_count": null,
            "_view_module": "@jupyter-widgets/base",
            "_view_module_version": "1.2.0",
            "_view_name": "LayoutView",
            "align_content": null,
            "align_items": null,
            "align_self": null,
            "border": null,
            "bottom": null,
            "display": null,
            "flex": null,
            "flex_flow": null,
            "grid_area": null,
            "grid_auto_columns": null,
            "grid_auto_flow": null,
            "grid_auto_rows": null,
            "grid_column": null,
            "grid_gap": null,
            "grid_row": null,
            "grid_template_areas": null,
            "grid_template_columns": null,
            "grid_template_rows": null,
            "height": null,
            "justify_content": null,
            "justify_items": null,
            "left": null,
            "margin": null,
            "max_height": null,
            "max_width": null,
            "min_height": null,
            "min_width": null,
            "object_fit": null,
            "object_position": null,
            "order": null,
            "overflow": null,
            "overflow_x": null,
            "overflow_y": null,
            "padding": null,
            "right": null,
            "top": null,
            "visibility": null,
            "width": null
          }
        },
        "1f195c2f25674565bb91eddf8c36274e": {
          "model_module": "@jupyter-widgets/controls",
          "model_name": "DescriptionStyleModel",
          "model_module_version": "1.5.0",
          "state": {
            "_model_module": "@jupyter-widgets/controls",
            "_model_module_version": "1.5.0",
            "_model_name": "DescriptionStyleModel",
            "_view_count": null,
            "_view_module": "@jupyter-widgets/base",
            "_view_module_version": "1.2.0",
            "_view_name": "StyleView",
            "description_width": ""
          }
        },
        "a6c18d5a161249a89c9406ae0a95932f": {
          "model_module": "@jupyter-widgets/controls",
          "model_name": "HBoxModel",
          "model_module_version": "1.5.0",
          "state": {
            "_dom_classes": [],
            "_model_module": "@jupyter-widgets/controls",
            "_model_module_version": "1.5.0",
            "_model_name": "HBoxModel",
            "_view_count": null,
            "_view_module": "@jupyter-widgets/controls",
            "_view_module_version": "1.5.0",
            "_view_name": "HBoxView",
            "box_style": "",
            "children": [
              "IPY_MODEL_071f08ad2a614f359be7362a3cdb6aec",
              "IPY_MODEL_3dce1969d0124eeeb712344e3377bafb",
              "IPY_MODEL_d10a5d3d8c0e4b779ca9f3587d5d0a0f"
            ],
            "layout": "IPY_MODEL_15c9733384554cc59f013e2166fa235c"
          }
        },
        "071f08ad2a614f359be7362a3cdb6aec": {
          "model_module": "@jupyter-widgets/controls",
          "model_name": "HTMLModel",
          "model_module_version": "1.5.0",
          "state": {
            "_dom_classes": [],
            "_model_module": "@jupyter-widgets/controls",
            "_model_module_version": "1.5.0",
            "_model_name": "HTMLModel",
            "_view_count": null,
            "_view_module": "@jupyter-widgets/controls",
            "_view_module_version": "1.5.0",
            "_view_name": "HTMLView",
            "description": "",
            "description_tooltip": null,
            "layout": "IPY_MODEL_88d1ad07817f426ab425970984b4913b",
            "placeholder": "​",
            "style": "IPY_MODEL_6db0086082574f6fa42785c17f4836d6",
            "value": "Generating splits...: 100%"
          }
        },
        "3dce1969d0124eeeb712344e3377bafb": {
          "model_module": "@jupyter-widgets/controls",
          "model_name": "FloatProgressModel",
          "model_module_version": "1.5.0",
          "state": {
            "_dom_classes": [],
            "_model_module": "@jupyter-widgets/controls",
            "_model_module_version": "1.5.0",
            "_model_name": "FloatProgressModel",
            "_view_count": null,
            "_view_module": "@jupyter-widgets/controls",
            "_view_module_version": "1.5.0",
            "_view_name": "ProgressView",
            "bar_style": "",
            "description": "",
            "description_tooltip": null,
            "layout": "IPY_MODEL_890bd10abe3146758c022f1b650e53a9",
            "max": 3,
            "min": 0,
            "orientation": "horizontal",
            "style": "IPY_MODEL_4d451c33e3744602a09b2046043bc10f",
            "value": 3
          }
        },
        "d10a5d3d8c0e4b779ca9f3587d5d0a0f": {
          "model_module": "@jupyter-widgets/controls",
          "model_name": "HTMLModel",
          "model_module_version": "1.5.0",
          "state": {
            "_dom_classes": [],
            "_model_module": "@jupyter-widgets/controls",
            "_model_module_version": "1.5.0",
            "_model_name": "HTMLModel",
            "_view_count": null,
            "_view_module": "@jupyter-widgets/controls",
            "_view_module_version": "1.5.0",
            "_view_name": "HTMLView",
            "description": "",
            "description_tooltip": null,
            "layout": "IPY_MODEL_83f62b3aa8e14d1693d9be4b4d2a093f",
            "placeholder": "​",
            "style": "IPY_MODEL_2d67dbbab1124a2da422e16746a71067",
            "value": " 3/3 [00:32&lt;00:00, 11.27s/ splits]"
          }
        },
        "15c9733384554cc59f013e2166fa235c": {
          "model_module": "@jupyter-widgets/base",
          "model_name": "LayoutModel",
          "model_module_version": "1.2.0",
          "state": {
            "_model_module": "@jupyter-widgets/base",
            "_model_module_version": "1.2.0",
            "_model_name": "LayoutModel",
            "_view_count": null,
            "_view_module": "@jupyter-widgets/base",
            "_view_module_version": "1.2.0",
            "_view_name": "LayoutView",
            "align_content": null,
            "align_items": null,
            "align_self": null,
            "border": null,
            "bottom": null,
            "display": null,
            "flex": null,
            "flex_flow": null,
            "grid_area": null,
            "grid_auto_columns": null,
            "grid_auto_flow": null,
            "grid_auto_rows": null,
            "grid_column": null,
            "grid_gap": null,
            "grid_row": null,
            "grid_template_areas": null,
            "grid_template_columns": null,
            "grid_template_rows": null,
            "height": null,
            "justify_content": null,
            "justify_items": null,
            "left": null,
            "margin": null,
            "max_height": null,
            "max_width": null,
            "min_height": null,
            "min_width": null,
            "object_fit": null,
            "object_position": null,
            "order": null,
            "overflow": null,
            "overflow_x": null,
            "overflow_y": null,
            "padding": null,
            "right": null,
            "top": null,
            "visibility": "hidden",
            "width": null
          }
        },
        "88d1ad07817f426ab425970984b4913b": {
          "model_module": "@jupyter-widgets/base",
          "model_name": "LayoutModel",
          "model_module_version": "1.2.0",
          "state": {
            "_model_module": "@jupyter-widgets/base",
            "_model_module_version": "1.2.0",
            "_model_name": "LayoutModel",
            "_view_count": null,
            "_view_module": "@jupyter-widgets/base",
            "_view_module_version": "1.2.0",
            "_view_name": "LayoutView",
            "align_content": null,
            "align_items": null,
            "align_self": null,
            "border": null,
            "bottom": null,
            "display": null,
            "flex": null,
            "flex_flow": null,
            "grid_area": null,
            "grid_auto_columns": null,
            "grid_auto_flow": null,
            "grid_auto_rows": null,
            "grid_column": null,
            "grid_gap": null,
            "grid_row": null,
            "grid_template_areas": null,
            "grid_template_columns": null,
            "grid_template_rows": null,
            "height": null,
            "justify_content": null,
            "justify_items": null,
            "left": null,
            "margin": null,
            "max_height": null,
            "max_width": null,
            "min_height": null,
            "min_width": null,
            "object_fit": null,
            "object_position": null,
            "order": null,
            "overflow": null,
            "overflow_x": null,
            "overflow_y": null,
            "padding": null,
            "right": null,
            "top": null,
            "visibility": null,
            "width": null
          }
        },
        "6db0086082574f6fa42785c17f4836d6": {
          "model_module": "@jupyter-widgets/controls",
          "model_name": "DescriptionStyleModel",
          "model_module_version": "1.5.0",
          "state": {
            "_model_module": "@jupyter-widgets/controls",
            "_model_module_version": "1.5.0",
            "_model_name": "DescriptionStyleModel",
            "_view_count": null,
            "_view_module": "@jupyter-widgets/base",
            "_view_module_version": "1.2.0",
            "_view_name": "StyleView",
            "description_width": ""
          }
        },
        "890bd10abe3146758c022f1b650e53a9": {
          "model_module": "@jupyter-widgets/base",
          "model_name": "LayoutModel",
          "model_module_version": "1.2.0",
          "state": {
            "_model_module": "@jupyter-widgets/base",
            "_model_module_version": "1.2.0",
            "_model_name": "LayoutModel",
            "_view_count": null,
            "_view_module": "@jupyter-widgets/base",
            "_view_module_version": "1.2.0",
            "_view_name": "LayoutView",
            "align_content": null,
            "align_items": null,
            "align_self": null,
            "border": null,
            "bottom": null,
            "display": null,
            "flex": null,
            "flex_flow": null,
            "grid_area": null,
            "grid_auto_columns": null,
            "grid_auto_flow": null,
            "grid_auto_rows": null,
            "grid_column": null,
            "grid_gap": null,
            "grid_row": null,
            "grid_template_areas": null,
            "grid_template_columns": null,
            "grid_template_rows": null,
            "height": null,
            "justify_content": null,
            "justify_items": null,
            "left": null,
            "margin": null,
            "max_height": null,
            "max_width": null,
            "min_height": null,
            "min_width": null,
            "object_fit": null,
            "object_position": null,
            "order": null,
            "overflow": null,
            "overflow_x": null,
            "overflow_y": null,
            "padding": null,
            "right": null,
            "top": null,
            "visibility": null,
            "width": null
          }
        },
        "4d451c33e3744602a09b2046043bc10f": {
          "model_module": "@jupyter-widgets/controls",
          "model_name": "ProgressStyleModel",
          "model_module_version": "1.5.0",
          "state": {
            "_model_module": "@jupyter-widgets/controls",
            "_model_module_version": "1.5.0",
            "_model_name": "ProgressStyleModel",
            "_view_count": null,
            "_view_module": "@jupyter-widgets/base",
            "_view_module_version": "1.2.0",
            "_view_name": "StyleView",
            "bar_color": null,
            "description_width": ""
          }
        },
        "83f62b3aa8e14d1693d9be4b4d2a093f": {
          "model_module": "@jupyter-widgets/base",
          "model_name": "LayoutModel",
          "model_module_version": "1.2.0",
          "state": {
            "_model_module": "@jupyter-widgets/base",
            "_model_module_version": "1.2.0",
            "_model_name": "LayoutModel",
            "_view_count": null,
            "_view_module": "@jupyter-widgets/base",
            "_view_module_version": "1.2.0",
            "_view_name": "LayoutView",
            "align_content": null,
            "align_items": null,
            "align_self": null,
            "border": null,
            "bottom": null,
            "display": null,
            "flex": null,
            "flex_flow": null,
            "grid_area": null,
            "grid_auto_columns": null,
            "grid_auto_flow": null,
            "grid_auto_rows": null,
            "grid_column": null,
            "grid_gap": null,
            "grid_row": null,
            "grid_template_areas": null,
            "grid_template_columns": null,
            "grid_template_rows": null,
            "height": null,
            "justify_content": null,
            "justify_items": null,
            "left": null,
            "margin": null,
            "max_height": null,
            "max_width": null,
            "min_height": null,
            "min_width": null,
            "object_fit": null,
            "object_position": null,
            "order": null,
            "overflow": null,
            "overflow_x": null,
            "overflow_y": null,
            "padding": null,
            "right": null,
            "top": null,
            "visibility": null,
            "width": null
          }
        },
        "2d67dbbab1124a2da422e16746a71067": {
          "model_module": "@jupyter-widgets/controls",
          "model_name": "DescriptionStyleModel",
          "model_module_version": "1.5.0",
          "state": {
            "_model_module": "@jupyter-widgets/controls",
            "_model_module_version": "1.5.0",
            "_model_name": "DescriptionStyleModel",
            "_view_count": null,
            "_view_module": "@jupyter-widgets/base",
            "_view_module_version": "1.2.0",
            "_view_name": "StyleView",
            "description_width": ""
          }
        },
        "eb1ef357ed3f42e3b34ec8459e9e2506": {
          "model_module": "@jupyter-widgets/controls",
          "model_name": "HBoxModel",
          "model_module_version": "1.5.0",
          "state": {
            "_dom_classes": [],
            "_model_module": "@jupyter-widgets/controls",
            "_model_module_version": "1.5.0",
            "_model_name": "HBoxModel",
            "_view_count": null,
            "_view_module": "@jupyter-widgets/controls",
            "_view_module_version": "1.5.0",
            "_view_name": "HBoxView",
            "box_style": "",
            "children": [
              "IPY_MODEL_84f4ceced31040b6aa7190b655bb8742",
              "IPY_MODEL_f4055a653f584efab8d882f362b3875a",
              "IPY_MODEL_8fc648fd511d457f9826df7db06bd77e"
            ],
            "layout": "IPY_MODEL_b103e5b3057b467884c126771f3c0d33"
          }
        },
        "84f4ceced31040b6aa7190b655bb8742": {
          "model_module": "@jupyter-widgets/controls",
          "model_name": "HTMLModel",
          "model_module_version": "1.5.0",
          "state": {
            "_dom_classes": [],
            "_model_module": "@jupyter-widgets/controls",
            "_model_module_version": "1.5.0",
            "_model_name": "HTMLModel",
            "_view_count": null,
            "_view_module": "@jupyter-widgets/controls",
            "_view_module_version": "1.5.0",
            "_view_name": "HTMLView",
            "description": "",
            "description_tooltip": null,
            "layout": "IPY_MODEL_06755089e5de4f4a9cb14c438dd1e964",
            "placeholder": "​",
            "style": "IPY_MODEL_cbea7c52559c45ff8acebc9bc52cf4fc",
            "value": "Generating train examples...:  99%"
          }
        },
        "f4055a653f584efab8d882f362b3875a": {
          "model_module": "@jupyter-widgets/controls",
          "model_name": "FloatProgressModel",
          "model_module_version": "1.5.0",
          "state": {
            "_dom_classes": [],
            "_model_module": "@jupyter-widgets/controls",
            "_model_module_version": "1.5.0",
            "_model_name": "FloatProgressModel",
            "_view_count": null,
            "_view_module": "@jupyter-widgets/controls",
            "_view_module_version": "1.5.0",
            "_view_name": "ProgressView",
            "bar_style": "",
            "description": "",
            "description_tooltip": null,
            "layout": "IPY_MODEL_7ad544ef568849d280bde3a2e1ceeadf",
            "max": 25000,
            "min": 0,
            "orientation": "horizontal",
            "style": "IPY_MODEL_56ecc249105a4a7d8c63632d59b56783",
            "value": 25000
          }
        },
        "8fc648fd511d457f9826df7db06bd77e": {
          "model_module": "@jupyter-widgets/controls",
          "model_name": "HTMLModel",
          "model_module_version": "1.5.0",
          "state": {
            "_dom_classes": [],
            "_model_module": "@jupyter-widgets/controls",
            "_model_module_version": "1.5.0",
            "_model_name": "HTMLModel",
            "_view_count": null,
            "_view_module": "@jupyter-widgets/controls",
            "_view_module_version": "1.5.0",
            "_view_name": "HTMLView",
            "description": "",
            "description_tooltip": null,
            "layout": "IPY_MODEL_4aa1fb2131d948bc982ed32acbd07a5a",
            "placeholder": "​",
            "style": "IPY_MODEL_a8b7f7ecd7094adebc3a528281643468",
            "value": " 24862/25000 [00:06&lt;00:00, 5452.44 examples/s]"
          }
        },
        "b103e5b3057b467884c126771f3c0d33": {
          "model_module": "@jupyter-widgets/base",
          "model_name": "LayoutModel",
          "model_module_version": "1.2.0",
          "state": {
            "_model_module": "@jupyter-widgets/base",
            "_model_module_version": "1.2.0",
            "_model_name": "LayoutModel",
            "_view_count": null,
            "_view_module": "@jupyter-widgets/base",
            "_view_module_version": "1.2.0",
            "_view_name": "LayoutView",
            "align_content": null,
            "align_items": null,
            "align_self": null,
            "border": null,
            "bottom": null,
            "display": null,
            "flex": null,
            "flex_flow": null,
            "grid_area": null,
            "grid_auto_columns": null,
            "grid_auto_flow": null,
            "grid_auto_rows": null,
            "grid_column": null,
            "grid_gap": null,
            "grid_row": null,
            "grid_template_areas": null,
            "grid_template_columns": null,
            "grid_template_rows": null,
            "height": null,
            "justify_content": null,
            "justify_items": null,
            "left": null,
            "margin": null,
            "max_height": null,
            "max_width": null,
            "min_height": null,
            "min_width": null,
            "object_fit": null,
            "object_position": null,
            "order": null,
            "overflow": null,
            "overflow_x": null,
            "overflow_y": null,
            "padding": null,
            "right": null,
            "top": null,
            "visibility": "hidden",
            "width": null
          }
        },
        "06755089e5de4f4a9cb14c438dd1e964": {
          "model_module": "@jupyter-widgets/base",
          "model_name": "LayoutModel",
          "model_module_version": "1.2.0",
          "state": {
            "_model_module": "@jupyter-widgets/base",
            "_model_module_version": "1.2.0",
            "_model_name": "LayoutModel",
            "_view_count": null,
            "_view_module": "@jupyter-widgets/base",
            "_view_module_version": "1.2.0",
            "_view_name": "LayoutView",
            "align_content": null,
            "align_items": null,
            "align_self": null,
            "border": null,
            "bottom": null,
            "display": null,
            "flex": null,
            "flex_flow": null,
            "grid_area": null,
            "grid_auto_columns": null,
            "grid_auto_flow": null,
            "grid_auto_rows": null,
            "grid_column": null,
            "grid_gap": null,
            "grid_row": null,
            "grid_template_areas": null,
            "grid_template_columns": null,
            "grid_template_rows": null,
            "height": null,
            "justify_content": null,
            "justify_items": null,
            "left": null,
            "margin": null,
            "max_height": null,
            "max_width": null,
            "min_height": null,
            "min_width": null,
            "object_fit": null,
            "object_position": null,
            "order": null,
            "overflow": null,
            "overflow_x": null,
            "overflow_y": null,
            "padding": null,
            "right": null,
            "top": null,
            "visibility": null,
            "width": null
          }
        },
        "cbea7c52559c45ff8acebc9bc52cf4fc": {
          "model_module": "@jupyter-widgets/controls",
          "model_name": "DescriptionStyleModel",
          "model_module_version": "1.5.0",
          "state": {
            "_model_module": "@jupyter-widgets/controls",
            "_model_module_version": "1.5.0",
            "_model_name": "DescriptionStyleModel",
            "_view_count": null,
            "_view_module": "@jupyter-widgets/base",
            "_view_module_version": "1.2.0",
            "_view_name": "StyleView",
            "description_width": ""
          }
        },
        "7ad544ef568849d280bde3a2e1ceeadf": {
          "model_module": "@jupyter-widgets/base",
          "model_name": "LayoutModel",
          "model_module_version": "1.2.0",
          "state": {
            "_model_module": "@jupyter-widgets/base",
            "_model_module_version": "1.2.0",
            "_model_name": "LayoutModel",
            "_view_count": null,
            "_view_module": "@jupyter-widgets/base",
            "_view_module_version": "1.2.0",
            "_view_name": "LayoutView",
            "align_content": null,
            "align_items": null,
            "align_self": null,
            "border": null,
            "bottom": null,
            "display": null,
            "flex": null,
            "flex_flow": null,
            "grid_area": null,
            "grid_auto_columns": null,
            "grid_auto_flow": null,
            "grid_auto_rows": null,
            "grid_column": null,
            "grid_gap": null,
            "grid_row": null,
            "grid_template_areas": null,
            "grid_template_columns": null,
            "grid_template_rows": null,
            "height": null,
            "justify_content": null,
            "justify_items": null,
            "left": null,
            "margin": null,
            "max_height": null,
            "max_width": null,
            "min_height": null,
            "min_width": null,
            "object_fit": null,
            "object_position": null,
            "order": null,
            "overflow": null,
            "overflow_x": null,
            "overflow_y": null,
            "padding": null,
            "right": null,
            "top": null,
            "visibility": null,
            "width": null
          }
        },
        "56ecc249105a4a7d8c63632d59b56783": {
          "model_module": "@jupyter-widgets/controls",
          "model_name": "ProgressStyleModel",
          "model_module_version": "1.5.0",
          "state": {
            "_model_module": "@jupyter-widgets/controls",
            "_model_module_version": "1.5.0",
            "_model_name": "ProgressStyleModel",
            "_view_count": null,
            "_view_module": "@jupyter-widgets/base",
            "_view_module_version": "1.2.0",
            "_view_name": "StyleView",
            "bar_color": null,
            "description_width": ""
          }
        },
        "4aa1fb2131d948bc982ed32acbd07a5a": {
          "model_module": "@jupyter-widgets/base",
          "model_name": "LayoutModel",
          "model_module_version": "1.2.0",
          "state": {
            "_model_module": "@jupyter-widgets/base",
            "_model_module_version": "1.2.0",
            "_model_name": "LayoutModel",
            "_view_count": null,
            "_view_module": "@jupyter-widgets/base",
            "_view_module_version": "1.2.0",
            "_view_name": "LayoutView",
            "align_content": null,
            "align_items": null,
            "align_self": null,
            "border": null,
            "bottom": null,
            "display": null,
            "flex": null,
            "flex_flow": null,
            "grid_area": null,
            "grid_auto_columns": null,
            "grid_auto_flow": null,
            "grid_auto_rows": null,
            "grid_column": null,
            "grid_gap": null,
            "grid_row": null,
            "grid_template_areas": null,
            "grid_template_columns": null,
            "grid_template_rows": null,
            "height": null,
            "justify_content": null,
            "justify_items": null,
            "left": null,
            "margin": null,
            "max_height": null,
            "max_width": null,
            "min_height": null,
            "min_width": null,
            "object_fit": null,
            "object_position": null,
            "order": null,
            "overflow": null,
            "overflow_x": null,
            "overflow_y": null,
            "padding": null,
            "right": null,
            "top": null,
            "visibility": null,
            "width": null
          }
        },
        "a8b7f7ecd7094adebc3a528281643468": {
          "model_module": "@jupyter-widgets/controls",
          "model_name": "DescriptionStyleModel",
          "model_module_version": "1.5.0",
          "state": {
            "_model_module": "@jupyter-widgets/controls",
            "_model_module_version": "1.5.0",
            "_model_name": "DescriptionStyleModel",
            "_view_count": null,
            "_view_module": "@jupyter-widgets/base",
            "_view_module_version": "1.2.0",
            "_view_name": "StyleView",
            "description_width": ""
          }
        },
        "8421f05641fc446b980ad796cd95380a": {
          "model_module": "@jupyter-widgets/controls",
          "model_name": "HBoxModel",
          "model_module_version": "1.5.0",
          "state": {
            "_dom_classes": [],
            "_model_module": "@jupyter-widgets/controls",
            "_model_module_version": "1.5.0",
            "_model_name": "HBoxModel",
            "_view_count": null,
            "_view_module": "@jupyter-widgets/controls",
            "_view_module_version": "1.5.0",
            "_view_name": "HBoxView",
            "box_style": "",
            "children": [
              "IPY_MODEL_4e3386b16a5a41a7bb0c055af9a1e67f",
              "IPY_MODEL_f5f48e1b0480464c9763e7fae9a31a1d",
              "IPY_MODEL_02d3270b384d4d97952dfa4daa1e7908"
            ],
            "layout": "IPY_MODEL_cd6d1b5cf1864a5097c26a63505be32d"
          }
        },
        "4e3386b16a5a41a7bb0c055af9a1e67f": {
          "model_module": "@jupyter-widgets/controls",
          "model_name": "HTMLModel",
          "model_module_version": "1.5.0",
          "state": {
            "_dom_classes": [],
            "_model_module": "@jupyter-widgets/controls",
            "_model_module_version": "1.5.0",
            "_model_name": "HTMLModel",
            "_view_count": null,
            "_view_module": "@jupyter-widgets/controls",
            "_view_module_version": "1.5.0",
            "_view_name": "HTMLView",
            "description": "",
            "description_tooltip": null,
            "layout": "IPY_MODEL_132540e247f74e86981bb546727b83f2",
            "placeholder": "​",
            "style": "IPY_MODEL_ab8694f5baa14f99a8c515b5d564eb0b",
            "value": "Shuffling /root/tensorflow_datasets/imdb_reviews/plain_text/1.0.0.incompleteIF16JC/imdb_reviews-train.tfrecord*...:  48%"
          }
        },
        "f5f48e1b0480464c9763e7fae9a31a1d": {
          "model_module": "@jupyter-widgets/controls",
          "model_name": "FloatProgressModel",
          "model_module_version": "1.5.0",
          "state": {
            "_dom_classes": [],
            "_model_module": "@jupyter-widgets/controls",
            "_model_module_version": "1.5.0",
            "_model_name": "FloatProgressModel",
            "_view_count": null,
            "_view_module": "@jupyter-widgets/controls",
            "_view_module_version": "1.5.0",
            "_view_name": "ProgressView",
            "bar_style": "",
            "description": "",
            "description_tooltip": null,
            "layout": "IPY_MODEL_097939c8d5d6472fb9b52fa8205ed413",
            "max": 25000,
            "min": 0,
            "orientation": "horizontal",
            "style": "IPY_MODEL_5dae1dc8cac54e0498d384e62667ed35",
            "value": 25000
          }
        },
        "02d3270b384d4d97952dfa4daa1e7908": {
          "model_module": "@jupyter-widgets/controls",
          "model_name": "HTMLModel",
          "model_module_version": "1.5.0",
          "state": {
            "_dom_classes": [],
            "_model_module": "@jupyter-widgets/controls",
            "_model_module_version": "1.5.0",
            "_model_name": "HTMLModel",
            "_view_count": null,
            "_view_module": "@jupyter-widgets/controls",
            "_view_module_version": "1.5.0",
            "_view_name": "HTMLView",
            "description": "",
            "description_tooltip": null,
            "layout": "IPY_MODEL_18952b06e6a5444d9ebaec438c9f5620",
            "placeholder": "​",
            "style": "IPY_MODEL_78cf349dd7e046769708ea5e6bb102e2",
            "value": " 12097/25000 [00:00&lt;00:00, 120954.83 examples/s]"
          }
        },
        "cd6d1b5cf1864a5097c26a63505be32d": {
          "model_module": "@jupyter-widgets/base",
          "model_name": "LayoutModel",
          "model_module_version": "1.2.0",
          "state": {
            "_model_module": "@jupyter-widgets/base",
            "_model_module_version": "1.2.0",
            "_model_name": "LayoutModel",
            "_view_count": null,
            "_view_module": "@jupyter-widgets/base",
            "_view_module_version": "1.2.0",
            "_view_name": "LayoutView",
            "align_content": null,
            "align_items": null,
            "align_self": null,
            "border": null,
            "bottom": null,
            "display": null,
            "flex": null,
            "flex_flow": null,
            "grid_area": null,
            "grid_auto_columns": null,
            "grid_auto_flow": null,
            "grid_auto_rows": null,
            "grid_column": null,
            "grid_gap": null,
            "grid_row": null,
            "grid_template_areas": null,
            "grid_template_columns": null,
            "grid_template_rows": null,
            "height": null,
            "justify_content": null,
            "justify_items": null,
            "left": null,
            "margin": null,
            "max_height": null,
            "max_width": null,
            "min_height": null,
            "min_width": null,
            "object_fit": null,
            "object_position": null,
            "order": null,
            "overflow": null,
            "overflow_x": null,
            "overflow_y": null,
            "padding": null,
            "right": null,
            "top": null,
            "visibility": "hidden",
            "width": null
          }
        },
        "132540e247f74e86981bb546727b83f2": {
          "model_module": "@jupyter-widgets/base",
          "model_name": "LayoutModel",
          "model_module_version": "1.2.0",
          "state": {
            "_model_module": "@jupyter-widgets/base",
            "_model_module_version": "1.2.0",
            "_model_name": "LayoutModel",
            "_view_count": null,
            "_view_module": "@jupyter-widgets/base",
            "_view_module_version": "1.2.0",
            "_view_name": "LayoutView",
            "align_content": null,
            "align_items": null,
            "align_self": null,
            "border": null,
            "bottom": null,
            "display": null,
            "flex": null,
            "flex_flow": null,
            "grid_area": null,
            "grid_auto_columns": null,
            "grid_auto_flow": null,
            "grid_auto_rows": null,
            "grid_column": null,
            "grid_gap": null,
            "grid_row": null,
            "grid_template_areas": null,
            "grid_template_columns": null,
            "grid_template_rows": null,
            "height": null,
            "justify_content": null,
            "justify_items": null,
            "left": null,
            "margin": null,
            "max_height": null,
            "max_width": null,
            "min_height": null,
            "min_width": null,
            "object_fit": null,
            "object_position": null,
            "order": null,
            "overflow": null,
            "overflow_x": null,
            "overflow_y": null,
            "padding": null,
            "right": null,
            "top": null,
            "visibility": null,
            "width": null
          }
        },
        "ab8694f5baa14f99a8c515b5d564eb0b": {
          "model_module": "@jupyter-widgets/controls",
          "model_name": "DescriptionStyleModel",
          "model_module_version": "1.5.0",
          "state": {
            "_model_module": "@jupyter-widgets/controls",
            "_model_module_version": "1.5.0",
            "_model_name": "DescriptionStyleModel",
            "_view_count": null,
            "_view_module": "@jupyter-widgets/base",
            "_view_module_version": "1.2.0",
            "_view_name": "StyleView",
            "description_width": ""
          }
        },
        "097939c8d5d6472fb9b52fa8205ed413": {
          "model_module": "@jupyter-widgets/base",
          "model_name": "LayoutModel",
          "model_module_version": "1.2.0",
          "state": {
            "_model_module": "@jupyter-widgets/base",
            "_model_module_version": "1.2.0",
            "_model_name": "LayoutModel",
            "_view_count": null,
            "_view_module": "@jupyter-widgets/base",
            "_view_module_version": "1.2.0",
            "_view_name": "LayoutView",
            "align_content": null,
            "align_items": null,
            "align_self": null,
            "border": null,
            "bottom": null,
            "display": null,
            "flex": null,
            "flex_flow": null,
            "grid_area": null,
            "grid_auto_columns": null,
            "grid_auto_flow": null,
            "grid_auto_rows": null,
            "grid_column": null,
            "grid_gap": null,
            "grid_row": null,
            "grid_template_areas": null,
            "grid_template_columns": null,
            "grid_template_rows": null,
            "height": null,
            "justify_content": null,
            "justify_items": null,
            "left": null,
            "margin": null,
            "max_height": null,
            "max_width": null,
            "min_height": null,
            "min_width": null,
            "object_fit": null,
            "object_position": null,
            "order": null,
            "overflow": null,
            "overflow_x": null,
            "overflow_y": null,
            "padding": null,
            "right": null,
            "top": null,
            "visibility": null,
            "width": null
          }
        },
        "5dae1dc8cac54e0498d384e62667ed35": {
          "model_module": "@jupyter-widgets/controls",
          "model_name": "ProgressStyleModel",
          "model_module_version": "1.5.0",
          "state": {
            "_model_module": "@jupyter-widgets/controls",
            "_model_module_version": "1.5.0",
            "_model_name": "ProgressStyleModel",
            "_view_count": null,
            "_view_module": "@jupyter-widgets/base",
            "_view_module_version": "1.2.0",
            "_view_name": "StyleView",
            "bar_color": null,
            "description_width": ""
          }
        },
        "18952b06e6a5444d9ebaec438c9f5620": {
          "model_module": "@jupyter-widgets/base",
          "model_name": "LayoutModel",
          "model_module_version": "1.2.0",
          "state": {
            "_model_module": "@jupyter-widgets/base",
            "_model_module_version": "1.2.0",
            "_model_name": "LayoutModel",
            "_view_count": null,
            "_view_module": "@jupyter-widgets/base",
            "_view_module_version": "1.2.0",
            "_view_name": "LayoutView",
            "align_content": null,
            "align_items": null,
            "align_self": null,
            "border": null,
            "bottom": null,
            "display": null,
            "flex": null,
            "flex_flow": null,
            "grid_area": null,
            "grid_auto_columns": null,
            "grid_auto_flow": null,
            "grid_auto_rows": null,
            "grid_column": null,
            "grid_gap": null,
            "grid_row": null,
            "grid_template_areas": null,
            "grid_template_columns": null,
            "grid_template_rows": null,
            "height": null,
            "justify_content": null,
            "justify_items": null,
            "left": null,
            "margin": null,
            "max_height": null,
            "max_width": null,
            "min_height": null,
            "min_width": null,
            "object_fit": null,
            "object_position": null,
            "order": null,
            "overflow": null,
            "overflow_x": null,
            "overflow_y": null,
            "padding": null,
            "right": null,
            "top": null,
            "visibility": null,
            "width": null
          }
        },
        "78cf349dd7e046769708ea5e6bb102e2": {
          "model_module": "@jupyter-widgets/controls",
          "model_name": "DescriptionStyleModel",
          "model_module_version": "1.5.0",
          "state": {
            "_model_module": "@jupyter-widgets/controls",
            "_model_module_version": "1.5.0",
            "_model_name": "DescriptionStyleModel",
            "_view_count": null,
            "_view_module": "@jupyter-widgets/base",
            "_view_module_version": "1.2.0",
            "_view_name": "StyleView",
            "description_width": ""
          }
        },
        "f34bbfd7a89e47c08a387c5c97f4a17f": {
          "model_module": "@jupyter-widgets/controls",
          "model_name": "HBoxModel",
          "model_module_version": "1.5.0",
          "state": {
            "_dom_classes": [],
            "_model_module": "@jupyter-widgets/controls",
            "_model_module_version": "1.5.0",
            "_model_name": "HBoxModel",
            "_view_count": null,
            "_view_module": "@jupyter-widgets/controls",
            "_view_module_version": "1.5.0",
            "_view_name": "HBoxView",
            "box_style": "",
            "children": [
              "IPY_MODEL_667a8424bcfd4e26a20895e034185bb2",
              "IPY_MODEL_a39b3afb87cd44d8b60ae189cd086040",
              "IPY_MODEL_07422cc982d1427ea508a094ed5a1e00"
            ],
            "layout": "IPY_MODEL_6530293cddea444cb4ea64877fde6cc4"
          }
        },
        "667a8424bcfd4e26a20895e034185bb2": {
          "model_module": "@jupyter-widgets/controls",
          "model_name": "HTMLModel",
          "model_module_version": "1.5.0",
          "state": {
            "_dom_classes": [],
            "_model_module": "@jupyter-widgets/controls",
            "_model_module_version": "1.5.0",
            "_model_name": "HTMLModel",
            "_view_count": null,
            "_view_module": "@jupyter-widgets/controls",
            "_view_module_version": "1.5.0",
            "_view_name": "HTMLView",
            "description": "",
            "description_tooltip": null,
            "layout": "IPY_MODEL_85fa9400a6054d25af997eb9f792f6c7",
            "placeholder": "​",
            "style": "IPY_MODEL_d60cbc8b941843639694a5eb0a3031b6",
            "value": "Generating test examples...:  98%"
          }
        },
        "a39b3afb87cd44d8b60ae189cd086040": {
          "model_module": "@jupyter-widgets/controls",
          "model_name": "FloatProgressModel",
          "model_module_version": "1.5.0",
          "state": {
            "_dom_classes": [],
            "_model_module": "@jupyter-widgets/controls",
            "_model_module_version": "1.5.0",
            "_model_name": "FloatProgressModel",
            "_view_count": null,
            "_view_module": "@jupyter-widgets/controls",
            "_view_module_version": "1.5.0",
            "_view_name": "ProgressView",
            "bar_style": "",
            "description": "",
            "description_tooltip": null,
            "layout": "IPY_MODEL_3cab0f6c04904d2ba1e4ab714be8bbec",
            "max": 25000,
            "min": 0,
            "orientation": "horizontal",
            "style": "IPY_MODEL_46c01a468cec484280bb98531a9c159b",
            "value": 25000
          }
        },
        "07422cc982d1427ea508a094ed5a1e00": {
          "model_module": "@jupyter-widgets/controls",
          "model_name": "HTMLModel",
          "model_module_version": "1.5.0",
          "state": {
            "_dom_classes": [],
            "_model_module": "@jupyter-widgets/controls",
            "_model_module_version": "1.5.0",
            "_model_name": "HTMLModel",
            "_view_count": null,
            "_view_module": "@jupyter-widgets/controls",
            "_view_module_version": "1.5.0",
            "_view_name": "HTMLView",
            "description": "",
            "description_tooltip": null,
            "layout": "IPY_MODEL_74fe11703fae4e6bacf03762f62b4f30",
            "placeholder": "​",
            "style": "IPY_MODEL_83ea0e9fde1748bb87562b8319b05290",
            "value": " 24621/25000 [00:05&lt;00:00, 5673.69 examples/s]"
          }
        },
        "6530293cddea444cb4ea64877fde6cc4": {
          "model_module": "@jupyter-widgets/base",
          "model_name": "LayoutModel",
          "model_module_version": "1.2.0",
          "state": {
            "_model_module": "@jupyter-widgets/base",
            "_model_module_version": "1.2.0",
            "_model_name": "LayoutModel",
            "_view_count": null,
            "_view_module": "@jupyter-widgets/base",
            "_view_module_version": "1.2.0",
            "_view_name": "LayoutView",
            "align_content": null,
            "align_items": null,
            "align_self": null,
            "border": null,
            "bottom": null,
            "display": null,
            "flex": null,
            "flex_flow": null,
            "grid_area": null,
            "grid_auto_columns": null,
            "grid_auto_flow": null,
            "grid_auto_rows": null,
            "grid_column": null,
            "grid_gap": null,
            "grid_row": null,
            "grid_template_areas": null,
            "grid_template_columns": null,
            "grid_template_rows": null,
            "height": null,
            "justify_content": null,
            "justify_items": null,
            "left": null,
            "margin": null,
            "max_height": null,
            "max_width": null,
            "min_height": null,
            "min_width": null,
            "object_fit": null,
            "object_position": null,
            "order": null,
            "overflow": null,
            "overflow_x": null,
            "overflow_y": null,
            "padding": null,
            "right": null,
            "top": null,
            "visibility": "hidden",
            "width": null
          }
        },
        "85fa9400a6054d25af997eb9f792f6c7": {
          "model_module": "@jupyter-widgets/base",
          "model_name": "LayoutModel",
          "model_module_version": "1.2.0",
          "state": {
            "_model_module": "@jupyter-widgets/base",
            "_model_module_version": "1.2.0",
            "_model_name": "LayoutModel",
            "_view_count": null,
            "_view_module": "@jupyter-widgets/base",
            "_view_module_version": "1.2.0",
            "_view_name": "LayoutView",
            "align_content": null,
            "align_items": null,
            "align_self": null,
            "border": null,
            "bottom": null,
            "display": null,
            "flex": null,
            "flex_flow": null,
            "grid_area": null,
            "grid_auto_columns": null,
            "grid_auto_flow": null,
            "grid_auto_rows": null,
            "grid_column": null,
            "grid_gap": null,
            "grid_row": null,
            "grid_template_areas": null,
            "grid_template_columns": null,
            "grid_template_rows": null,
            "height": null,
            "justify_content": null,
            "justify_items": null,
            "left": null,
            "margin": null,
            "max_height": null,
            "max_width": null,
            "min_height": null,
            "min_width": null,
            "object_fit": null,
            "object_position": null,
            "order": null,
            "overflow": null,
            "overflow_x": null,
            "overflow_y": null,
            "padding": null,
            "right": null,
            "top": null,
            "visibility": null,
            "width": null
          }
        },
        "d60cbc8b941843639694a5eb0a3031b6": {
          "model_module": "@jupyter-widgets/controls",
          "model_name": "DescriptionStyleModel",
          "model_module_version": "1.5.0",
          "state": {
            "_model_module": "@jupyter-widgets/controls",
            "_model_module_version": "1.5.0",
            "_model_name": "DescriptionStyleModel",
            "_view_count": null,
            "_view_module": "@jupyter-widgets/base",
            "_view_module_version": "1.2.0",
            "_view_name": "StyleView",
            "description_width": ""
          }
        },
        "3cab0f6c04904d2ba1e4ab714be8bbec": {
          "model_module": "@jupyter-widgets/base",
          "model_name": "LayoutModel",
          "model_module_version": "1.2.0",
          "state": {
            "_model_module": "@jupyter-widgets/base",
            "_model_module_version": "1.2.0",
            "_model_name": "LayoutModel",
            "_view_count": null,
            "_view_module": "@jupyter-widgets/base",
            "_view_module_version": "1.2.0",
            "_view_name": "LayoutView",
            "align_content": null,
            "align_items": null,
            "align_self": null,
            "border": null,
            "bottom": null,
            "display": null,
            "flex": null,
            "flex_flow": null,
            "grid_area": null,
            "grid_auto_columns": null,
            "grid_auto_flow": null,
            "grid_auto_rows": null,
            "grid_column": null,
            "grid_gap": null,
            "grid_row": null,
            "grid_template_areas": null,
            "grid_template_columns": null,
            "grid_template_rows": null,
            "height": null,
            "justify_content": null,
            "justify_items": null,
            "left": null,
            "margin": null,
            "max_height": null,
            "max_width": null,
            "min_height": null,
            "min_width": null,
            "object_fit": null,
            "object_position": null,
            "order": null,
            "overflow": null,
            "overflow_x": null,
            "overflow_y": null,
            "padding": null,
            "right": null,
            "top": null,
            "visibility": null,
            "width": null
          }
        },
        "46c01a468cec484280bb98531a9c159b": {
          "model_module": "@jupyter-widgets/controls",
          "model_name": "ProgressStyleModel",
          "model_module_version": "1.5.0",
          "state": {
            "_model_module": "@jupyter-widgets/controls",
            "_model_module_version": "1.5.0",
            "_model_name": "ProgressStyleModel",
            "_view_count": null,
            "_view_module": "@jupyter-widgets/base",
            "_view_module_version": "1.2.0",
            "_view_name": "StyleView",
            "bar_color": null,
            "description_width": ""
          }
        },
        "74fe11703fae4e6bacf03762f62b4f30": {
          "model_module": "@jupyter-widgets/base",
          "model_name": "LayoutModel",
          "model_module_version": "1.2.0",
          "state": {
            "_model_module": "@jupyter-widgets/base",
            "_model_module_version": "1.2.0",
            "_model_name": "LayoutModel",
            "_view_count": null,
            "_view_module": "@jupyter-widgets/base",
            "_view_module_version": "1.2.0",
            "_view_name": "LayoutView",
            "align_content": null,
            "align_items": null,
            "align_self": null,
            "border": null,
            "bottom": null,
            "display": null,
            "flex": null,
            "flex_flow": null,
            "grid_area": null,
            "grid_auto_columns": null,
            "grid_auto_flow": null,
            "grid_auto_rows": null,
            "grid_column": null,
            "grid_gap": null,
            "grid_row": null,
            "grid_template_areas": null,
            "grid_template_columns": null,
            "grid_template_rows": null,
            "height": null,
            "justify_content": null,
            "justify_items": null,
            "left": null,
            "margin": null,
            "max_height": null,
            "max_width": null,
            "min_height": null,
            "min_width": null,
            "object_fit": null,
            "object_position": null,
            "order": null,
            "overflow": null,
            "overflow_x": null,
            "overflow_y": null,
            "padding": null,
            "right": null,
            "top": null,
            "visibility": null,
            "width": null
          }
        },
        "83ea0e9fde1748bb87562b8319b05290": {
          "model_module": "@jupyter-widgets/controls",
          "model_name": "DescriptionStyleModel",
          "model_module_version": "1.5.0",
          "state": {
            "_model_module": "@jupyter-widgets/controls",
            "_model_module_version": "1.5.0",
            "_model_name": "DescriptionStyleModel",
            "_view_count": null,
            "_view_module": "@jupyter-widgets/base",
            "_view_module_version": "1.2.0",
            "_view_name": "StyleView",
            "description_width": ""
          }
        },
        "6411b2d1545a42d3a9b4c6ef193d8321": {
          "model_module": "@jupyter-widgets/controls",
          "model_name": "HBoxModel",
          "model_module_version": "1.5.0",
          "state": {
            "_dom_classes": [],
            "_model_module": "@jupyter-widgets/controls",
            "_model_module_version": "1.5.0",
            "_model_name": "HBoxModel",
            "_view_count": null,
            "_view_module": "@jupyter-widgets/controls",
            "_view_module_version": "1.5.0",
            "_view_name": "HBoxView",
            "box_style": "",
            "children": [
              "IPY_MODEL_4405cb239d5a4290972ad5eeba9da598",
              "IPY_MODEL_2414d0416e8348b48627f8844232a002",
              "IPY_MODEL_7da8a33decd0494bb81039eb79f02b3e"
            ],
            "layout": "IPY_MODEL_38c1fde42adc4ecbb367571e40daafad"
          }
        },
        "4405cb239d5a4290972ad5eeba9da598": {
          "model_module": "@jupyter-widgets/controls",
          "model_name": "HTMLModel",
          "model_module_version": "1.5.0",
          "state": {
            "_dom_classes": [],
            "_model_module": "@jupyter-widgets/controls",
            "_model_module_version": "1.5.0",
            "_model_name": "HTMLModel",
            "_view_count": null,
            "_view_module": "@jupyter-widgets/controls",
            "_view_module_version": "1.5.0",
            "_view_name": "HTMLView",
            "description": "",
            "description_tooltip": null,
            "layout": "IPY_MODEL_e64ebbc7f3d74539b7498ba9873c4f13",
            "placeholder": "​",
            "style": "IPY_MODEL_66921b93ca224ab2b871b7e233deeff7",
            "value": "Shuffling /root/tensorflow_datasets/imdb_reviews/plain_text/1.0.0.incompleteIF16JC/imdb_reviews-test.tfrecord*...:  56%"
          }
        },
        "2414d0416e8348b48627f8844232a002": {
          "model_module": "@jupyter-widgets/controls",
          "model_name": "FloatProgressModel",
          "model_module_version": "1.5.0",
          "state": {
            "_dom_classes": [],
            "_model_module": "@jupyter-widgets/controls",
            "_model_module_version": "1.5.0",
            "_model_name": "FloatProgressModel",
            "_view_count": null,
            "_view_module": "@jupyter-widgets/controls",
            "_view_module_version": "1.5.0",
            "_view_name": "ProgressView",
            "bar_style": "",
            "description": "",
            "description_tooltip": null,
            "layout": "IPY_MODEL_5719d54924d44af49db91ad19317b487",
            "max": 25000,
            "min": 0,
            "orientation": "horizontal",
            "style": "IPY_MODEL_779b4e8239004d0e991749aee240b53d",
            "value": 25000
          }
        },
        "7da8a33decd0494bb81039eb79f02b3e": {
          "model_module": "@jupyter-widgets/controls",
          "model_name": "HTMLModel",
          "model_module_version": "1.5.0",
          "state": {
            "_dom_classes": [],
            "_model_module": "@jupyter-widgets/controls",
            "_model_module_version": "1.5.0",
            "_model_name": "HTMLModel",
            "_view_count": null,
            "_view_module": "@jupyter-widgets/controls",
            "_view_module_version": "1.5.0",
            "_view_name": "HTMLView",
            "description": "",
            "description_tooltip": null,
            "layout": "IPY_MODEL_be262f78f4b94cebbb14ecc7b0186934",
            "placeholder": "​",
            "style": "IPY_MODEL_6b51a61df0a1431ca34d312285f90fdb",
            "value": " 14026/25000 [00:00&lt;00:00, 140242.41 examples/s]"
          }
        },
        "38c1fde42adc4ecbb367571e40daafad": {
          "model_module": "@jupyter-widgets/base",
          "model_name": "LayoutModel",
          "model_module_version": "1.2.0",
          "state": {
            "_model_module": "@jupyter-widgets/base",
            "_model_module_version": "1.2.0",
            "_model_name": "LayoutModel",
            "_view_count": null,
            "_view_module": "@jupyter-widgets/base",
            "_view_module_version": "1.2.0",
            "_view_name": "LayoutView",
            "align_content": null,
            "align_items": null,
            "align_self": null,
            "border": null,
            "bottom": null,
            "display": null,
            "flex": null,
            "flex_flow": null,
            "grid_area": null,
            "grid_auto_columns": null,
            "grid_auto_flow": null,
            "grid_auto_rows": null,
            "grid_column": null,
            "grid_gap": null,
            "grid_row": null,
            "grid_template_areas": null,
            "grid_template_columns": null,
            "grid_template_rows": null,
            "height": null,
            "justify_content": null,
            "justify_items": null,
            "left": null,
            "margin": null,
            "max_height": null,
            "max_width": null,
            "min_height": null,
            "min_width": null,
            "object_fit": null,
            "object_position": null,
            "order": null,
            "overflow": null,
            "overflow_x": null,
            "overflow_y": null,
            "padding": null,
            "right": null,
            "top": null,
            "visibility": "hidden",
            "width": null
          }
        },
        "e64ebbc7f3d74539b7498ba9873c4f13": {
          "model_module": "@jupyter-widgets/base",
          "model_name": "LayoutModel",
          "model_module_version": "1.2.0",
          "state": {
            "_model_module": "@jupyter-widgets/base",
            "_model_module_version": "1.2.0",
            "_model_name": "LayoutModel",
            "_view_count": null,
            "_view_module": "@jupyter-widgets/base",
            "_view_module_version": "1.2.0",
            "_view_name": "LayoutView",
            "align_content": null,
            "align_items": null,
            "align_self": null,
            "border": null,
            "bottom": null,
            "display": null,
            "flex": null,
            "flex_flow": null,
            "grid_area": null,
            "grid_auto_columns": null,
            "grid_auto_flow": null,
            "grid_auto_rows": null,
            "grid_column": null,
            "grid_gap": null,
            "grid_row": null,
            "grid_template_areas": null,
            "grid_template_columns": null,
            "grid_template_rows": null,
            "height": null,
            "justify_content": null,
            "justify_items": null,
            "left": null,
            "margin": null,
            "max_height": null,
            "max_width": null,
            "min_height": null,
            "min_width": null,
            "object_fit": null,
            "object_position": null,
            "order": null,
            "overflow": null,
            "overflow_x": null,
            "overflow_y": null,
            "padding": null,
            "right": null,
            "top": null,
            "visibility": null,
            "width": null
          }
        },
        "66921b93ca224ab2b871b7e233deeff7": {
          "model_module": "@jupyter-widgets/controls",
          "model_name": "DescriptionStyleModel",
          "model_module_version": "1.5.0",
          "state": {
            "_model_module": "@jupyter-widgets/controls",
            "_model_module_version": "1.5.0",
            "_model_name": "DescriptionStyleModel",
            "_view_count": null,
            "_view_module": "@jupyter-widgets/base",
            "_view_module_version": "1.2.0",
            "_view_name": "StyleView",
            "description_width": ""
          }
        },
        "5719d54924d44af49db91ad19317b487": {
          "model_module": "@jupyter-widgets/base",
          "model_name": "LayoutModel",
          "model_module_version": "1.2.0",
          "state": {
            "_model_module": "@jupyter-widgets/base",
            "_model_module_version": "1.2.0",
            "_model_name": "LayoutModel",
            "_view_count": null,
            "_view_module": "@jupyter-widgets/base",
            "_view_module_version": "1.2.0",
            "_view_name": "LayoutView",
            "align_content": null,
            "align_items": null,
            "align_self": null,
            "border": null,
            "bottom": null,
            "display": null,
            "flex": null,
            "flex_flow": null,
            "grid_area": null,
            "grid_auto_columns": null,
            "grid_auto_flow": null,
            "grid_auto_rows": null,
            "grid_column": null,
            "grid_gap": null,
            "grid_row": null,
            "grid_template_areas": null,
            "grid_template_columns": null,
            "grid_template_rows": null,
            "height": null,
            "justify_content": null,
            "justify_items": null,
            "left": null,
            "margin": null,
            "max_height": null,
            "max_width": null,
            "min_height": null,
            "min_width": null,
            "object_fit": null,
            "object_position": null,
            "order": null,
            "overflow": null,
            "overflow_x": null,
            "overflow_y": null,
            "padding": null,
            "right": null,
            "top": null,
            "visibility": null,
            "width": null
          }
        },
        "779b4e8239004d0e991749aee240b53d": {
          "model_module": "@jupyter-widgets/controls",
          "model_name": "ProgressStyleModel",
          "model_module_version": "1.5.0",
          "state": {
            "_model_module": "@jupyter-widgets/controls",
            "_model_module_version": "1.5.0",
            "_model_name": "ProgressStyleModel",
            "_view_count": null,
            "_view_module": "@jupyter-widgets/base",
            "_view_module_version": "1.2.0",
            "_view_name": "StyleView",
            "bar_color": null,
            "description_width": ""
          }
        },
        "be262f78f4b94cebbb14ecc7b0186934": {
          "model_module": "@jupyter-widgets/base",
          "model_name": "LayoutModel",
          "model_module_version": "1.2.0",
          "state": {
            "_model_module": "@jupyter-widgets/base",
            "_model_module_version": "1.2.0",
            "_model_name": "LayoutModel",
            "_view_count": null,
            "_view_module": "@jupyter-widgets/base",
            "_view_module_version": "1.2.0",
            "_view_name": "LayoutView",
            "align_content": null,
            "align_items": null,
            "align_self": null,
            "border": null,
            "bottom": null,
            "display": null,
            "flex": null,
            "flex_flow": null,
            "grid_area": null,
            "grid_auto_columns": null,
            "grid_auto_flow": null,
            "grid_auto_rows": null,
            "grid_column": null,
            "grid_gap": null,
            "grid_row": null,
            "grid_template_areas": null,
            "grid_template_columns": null,
            "grid_template_rows": null,
            "height": null,
            "justify_content": null,
            "justify_items": null,
            "left": null,
            "margin": null,
            "max_height": null,
            "max_width": null,
            "min_height": null,
            "min_width": null,
            "object_fit": null,
            "object_position": null,
            "order": null,
            "overflow": null,
            "overflow_x": null,
            "overflow_y": null,
            "padding": null,
            "right": null,
            "top": null,
            "visibility": null,
            "width": null
          }
        },
        "6b51a61df0a1431ca34d312285f90fdb": {
          "model_module": "@jupyter-widgets/controls",
          "model_name": "DescriptionStyleModel",
          "model_module_version": "1.5.0",
          "state": {
            "_model_module": "@jupyter-widgets/controls",
            "_model_module_version": "1.5.0",
            "_model_name": "DescriptionStyleModel",
            "_view_count": null,
            "_view_module": "@jupyter-widgets/base",
            "_view_module_version": "1.2.0",
            "_view_name": "StyleView",
            "description_width": ""
          }
        },
        "9ba49c3cc56d40238af969cff7de2a2e": {
          "model_module": "@jupyter-widgets/controls",
          "model_name": "HBoxModel",
          "model_module_version": "1.5.0",
          "state": {
            "_dom_classes": [],
            "_model_module": "@jupyter-widgets/controls",
            "_model_module_version": "1.5.0",
            "_model_name": "HBoxModel",
            "_view_count": null,
            "_view_module": "@jupyter-widgets/controls",
            "_view_module_version": "1.5.0",
            "_view_name": "HBoxView",
            "box_style": "",
            "children": [
              "IPY_MODEL_e5dcb5673d5d445e8e4744856504d15b",
              "IPY_MODEL_93fc391007dc40a28352e18813580ea3",
              "IPY_MODEL_5210a6d570c442f8a20a78465cdf0279"
            ],
            "layout": "IPY_MODEL_73bab04cb1464b61a4c7556701ad21b9"
          }
        },
        "e5dcb5673d5d445e8e4744856504d15b": {
          "model_module": "@jupyter-widgets/controls",
          "model_name": "HTMLModel",
          "model_module_version": "1.5.0",
          "state": {
            "_dom_classes": [],
            "_model_module": "@jupyter-widgets/controls",
            "_model_module_version": "1.5.0",
            "_model_name": "HTMLModel",
            "_view_count": null,
            "_view_module": "@jupyter-widgets/controls",
            "_view_module_version": "1.5.0",
            "_view_name": "HTMLView",
            "description": "",
            "description_tooltip": null,
            "layout": "IPY_MODEL_f746f073afdb4f26981bc79e5194d1af",
            "placeholder": "​",
            "style": "IPY_MODEL_3f3f2f392ceb41e9b42404fe57df4071",
            "value": "Generating unsupervised examples...: 100%"
          }
        },
        "93fc391007dc40a28352e18813580ea3": {
          "model_module": "@jupyter-widgets/controls",
          "model_name": "FloatProgressModel",
          "model_module_version": "1.5.0",
          "state": {
            "_dom_classes": [],
            "_model_module": "@jupyter-widgets/controls",
            "_model_module_version": "1.5.0",
            "_model_name": "FloatProgressModel",
            "_view_count": null,
            "_view_module": "@jupyter-widgets/controls",
            "_view_module_version": "1.5.0",
            "_view_name": "ProgressView",
            "bar_style": "",
            "description": "",
            "description_tooltip": null,
            "layout": "IPY_MODEL_ff56e91a1b1c4c59b8d4bb18d81e137f",
            "max": 50000,
            "min": 0,
            "orientation": "horizontal",
            "style": "IPY_MODEL_9fb49576bd0a468a99b7f0c55811ace2",
            "value": 50000
          }
        },
        "5210a6d570c442f8a20a78465cdf0279": {
          "model_module": "@jupyter-widgets/controls",
          "model_name": "HTMLModel",
          "model_module_version": "1.5.0",
          "state": {
            "_dom_classes": [],
            "_model_module": "@jupyter-widgets/controls",
            "_model_module_version": "1.5.0",
            "_model_name": "HTMLModel",
            "_view_count": null,
            "_view_module": "@jupyter-widgets/controls",
            "_view_module_version": "1.5.0",
            "_view_name": "HTMLView",
            "description": "",
            "description_tooltip": null,
            "layout": "IPY_MODEL_6129b41ae30348aeb4c9095e481e7013",
            "placeholder": "​",
            "style": "IPY_MODEL_a21adfed8c504788812efbdfc55422d4",
            "value": " 49761/50000 [00:12&lt;00:00, 5660.42 examples/s]"
          }
        },
        "73bab04cb1464b61a4c7556701ad21b9": {
          "model_module": "@jupyter-widgets/base",
          "model_name": "LayoutModel",
          "model_module_version": "1.2.0",
          "state": {
            "_model_module": "@jupyter-widgets/base",
            "_model_module_version": "1.2.0",
            "_model_name": "LayoutModel",
            "_view_count": null,
            "_view_module": "@jupyter-widgets/base",
            "_view_module_version": "1.2.0",
            "_view_name": "LayoutView",
            "align_content": null,
            "align_items": null,
            "align_self": null,
            "border": null,
            "bottom": null,
            "display": null,
            "flex": null,
            "flex_flow": null,
            "grid_area": null,
            "grid_auto_columns": null,
            "grid_auto_flow": null,
            "grid_auto_rows": null,
            "grid_column": null,
            "grid_gap": null,
            "grid_row": null,
            "grid_template_areas": null,
            "grid_template_columns": null,
            "grid_template_rows": null,
            "height": null,
            "justify_content": null,
            "justify_items": null,
            "left": null,
            "margin": null,
            "max_height": null,
            "max_width": null,
            "min_height": null,
            "min_width": null,
            "object_fit": null,
            "object_position": null,
            "order": null,
            "overflow": null,
            "overflow_x": null,
            "overflow_y": null,
            "padding": null,
            "right": null,
            "top": null,
            "visibility": "hidden",
            "width": null
          }
        },
        "f746f073afdb4f26981bc79e5194d1af": {
          "model_module": "@jupyter-widgets/base",
          "model_name": "LayoutModel",
          "model_module_version": "1.2.0",
          "state": {
            "_model_module": "@jupyter-widgets/base",
            "_model_module_version": "1.2.0",
            "_model_name": "LayoutModel",
            "_view_count": null,
            "_view_module": "@jupyter-widgets/base",
            "_view_module_version": "1.2.0",
            "_view_name": "LayoutView",
            "align_content": null,
            "align_items": null,
            "align_self": null,
            "border": null,
            "bottom": null,
            "display": null,
            "flex": null,
            "flex_flow": null,
            "grid_area": null,
            "grid_auto_columns": null,
            "grid_auto_flow": null,
            "grid_auto_rows": null,
            "grid_column": null,
            "grid_gap": null,
            "grid_row": null,
            "grid_template_areas": null,
            "grid_template_columns": null,
            "grid_template_rows": null,
            "height": null,
            "justify_content": null,
            "justify_items": null,
            "left": null,
            "margin": null,
            "max_height": null,
            "max_width": null,
            "min_height": null,
            "min_width": null,
            "object_fit": null,
            "object_position": null,
            "order": null,
            "overflow": null,
            "overflow_x": null,
            "overflow_y": null,
            "padding": null,
            "right": null,
            "top": null,
            "visibility": null,
            "width": null
          }
        },
        "3f3f2f392ceb41e9b42404fe57df4071": {
          "model_module": "@jupyter-widgets/controls",
          "model_name": "DescriptionStyleModel",
          "model_module_version": "1.5.0",
          "state": {
            "_model_module": "@jupyter-widgets/controls",
            "_model_module_version": "1.5.0",
            "_model_name": "DescriptionStyleModel",
            "_view_count": null,
            "_view_module": "@jupyter-widgets/base",
            "_view_module_version": "1.2.0",
            "_view_name": "StyleView",
            "description_width": ""
          }
        },
        "ff56e91a1b1c4c59b8d4bb18d81e137f": {
          "model_module": "@jupyter-widgets/base",
          "model_name": "LayoutModel",
          "model_module_version": "1.2.0",
          "state": {
            "_model_module": "@jupyter-widgets/base",
            "_model_module_version": "1.2.0",
            "_model_name": "LayoutModel",
            "_view_count": null,
            "_view_module": "@jupyter-widgets/base",
            "_view_module_version": "1.2.0",
            "_view_name": "LayoutView",
            "align_content": null,
            "align_items": null,
            "align_self": null,
            "border": null,
            "bottom": null,
            "display": null,
            "flex": null,
            "flex_flow": null,
            "grid_area": null,
            "grid_auto_columns": null,
            "grid_auto_flow": null,
            "grid_auto_rows": null,
            "grid_column": null,
            "grid_gap": null,
            "grid_row": null,
            "grid_template_areas": null,
            "grid_template_columns": null,
            "grid_template_rows": null,
            "height": null,
            "justify_content": null,
            "justify_items": null,
            "left": null,
            "margin": null,
            "max_height": null,
            "max_width": null,
            "min_height": null,
            "min_width": null,
            "object_fit": null,
            "object_position": null,
            "order": null,
            "overflow": null,
            "overflow_x": null,
            "overflow_y": null,
            "padding": null,
            "right": null,
            "top": null,
            "visibility": null,
            "width": null
          }
        },
        "9fb49576bd0a468a99b7f0c55811ace2": {
          "model_module": "@jupyter-widgets/controls",
          "model_name": "ProgressStyleModel",
          "model_module_version": "1.5.0",
          "state": {
            "_model_module": "@jupyter-widgets/controls",
            "_model_module_version": "1.5.0",
            "_model_name": "ProgressStyleModel",
            "_view_count": null,
            "_view_module": "@jupyter-widgets/base",
            "_view_module_version": "1.2.0",
            "_view_name": "StyleView",
            "bar_color": null,
            "description_width": ""
          }
        },
        "6129b41ae30348aeb4c9095e481e7013": {
          "model_module": "@jupyter-widgets/base",
          "model_name": "LayoutModel",
          "model_module_version": "1.2.0",
          "state": {
            "_model_module": "@jupyter-widgets/base",
            "_model_module_version": "1.2.0",
            "_model_name": "LayoutModel",
            "_view_count": null,
            "_view_module": "@jupyter-widgets/base",
            "_view_module_version": "1.2.0",
            "_view_name": "LayoutView",
            "align_content": null,
            "align_items": null,
            "align_self": null,
            "border": null,
            "bottom": null,
            "display": null,
            "flex": null,
            "flex_flow": null,
            "grid_area": null,
            "grid_auto_columns": null,
            "grid_auto_flow": null,
            "grid_auto_rows": null,
            "grid_column": null,
            "grid_gap": null,
            "grid_row": null,
            "grid_template_areas": null,
            "grid_template_columns": null,
            "grid_template_rows": null,
            "height": null,
            "justify_content": null,
            "justify_items": null,
            "left": null,
            "margin": null,
            "max_height": null,
            "max_width": null,
            "min_height": null,
            "min_width": null,
            "object_fit": null,
            "object_position": null,
            "order": null,
            "overflow": null,
            "overflow_x": null,
            "overflow_y": null,
            "padding": null,
            "right": null,
            "top": null,
            "visibility": null,
            "width": null
          }
        },
        "a21adfed8c504788812efbdfc55422d4": {
          "model_module": "@jupyter-widgets/controls",
          "model_name": "DescriptionStyleModel",
          "model_module_version": "1.5.0",
          "state": {
            "_model_module": "@jupyter-widgets/controls",
            "_model_module_version": "1.5.0",
            "_model_name": "DescriptionStyleModel",
            "_view_count": null,
            "_view_module": "@jupyter-widgets/base",
            "_view_module_version": "1.2.0",
            "_view_name": "StyleView",
            "description_width": ""
          }
        },
        "2b41da4926f24eaabfab46f64ca0b59c": {
          "model_module": "@jupyter-widgets/controls",
          "model_name": "HBoxModel",
          "model_module_version": "1.5.0",
          "state": {
            "_dom_classes": [],
            "_model_module": "@jupyter-widgets/controls",
            "_model_module_version": "1.5.0",
            "_model_name": "HBoxModel",
            "_view_count": null,
            "_view_module": "@jupyter-widgets/controls",
            "_view_module_version": "1.5.0",
            "_view_name": "HBoxView",
            "box_style": "",
            "children": [
              "IPY_MODEL_7209c923a8dc4ec38dab2a1368d4a28b",
              "IPY_MODEL_013354ce4ba849ee80b033059c729aa5",
              "IPY_MODEL_de386b91c018428989b801c47cd86062"
            ],
            "layout": "IPY_MODEL_ac4f04bb92e74b3a9f6e0349e4bb2840"
          }
        },
        "7209c923a8dc4ec38dab2a1368d4a28b": {
          "model_module": "@jupyter-widgets/controls",
          "model_name": "HTMLModel",
          "model_module_version": "1.5.0",
          "state": {
            "_dom_classes": [],
            "_model_module": "@jupyter-widgets/controls",
            "_model_module_version": "1.5.0",
            "_model_name": "HTMLModel",
            "_view_count": null,
            "_view_module": "@jupyter-widgets/controls",
            "_view_module_version": "1.5.0",
            "_view_name": "HTMLView",
            "description": "",
            "description_tooltip": null,
            "layout": "IPY_MODEL_8efcde5cf94049f5a116b085b68a48df",
            "placeholder": "​",
            "style": "IPY_MODEL_42a6819cc9024c229d73e5e422437fe9",
            "value": "Shuffling /root/tensorflow_datasets/imdb_reviews/plain_text/1.0.0.incompleteIF16JC/imdb_reviews-unsupervised.tfrecord*...:  63%"
          }
        },
        "013354ce4ba849ee80b033059c729aa5": {
          "model_module": "@jupyter-widgets/controls",
          "model_name": "FloatProgressModel",
          "model_module_version": "1.5.0",
          "state": {
            "_dom_classes": [],
            "_model_module": "@jupyter-widgets/controls",
            "_model_module_version": "1.5.0",
            "_model_name": "FloatProgressModel",
            "_view_count": null,
            "_view_module": "@jupyter-widgets/controls",
            "_view_module_version": "1.5.0",
            "_view_name": "ProgressView",
            "bar_style": "",
            "description": "",
            "description_tooltip": null,
            "layout": "IPY_MODEL_5b612b89cc874992aa62dc7d4d779bd6",
            "max": 50000,
            "min": 0,
            "orientation": "horizontal",
            "style": "IPY_MODEL_4f9049cab9d44324a96798548fe34028",
            "value": 50000
          }
        },
        "de386b91c018428989b801c47cd86062": {
          "model_module": "@jupyter-widgets/controls",
          "model_name": "HTMLModel",
          "model_module_version": "1.5.0",
          "state": {
            "_dom_classes": [],
            "_model_module": "@jupyter-widgets/controls",
            "_model_module_version": "1.5.0",
            "_model_name": "HTMLModel",
            "_view_count": null,
            "_view_module": "@jupyter-widgets/controls",
            "_view_module_version": "1.5.0",
            "_view_name": "HTMLView",
            "description": "",
            "description_tooltip": null,
            "layout": "IPY_MODEL_dc68239151fb4d4393f4d0f56630999c",
            "placeholder": "​",
            "style": "IPY_MODEL_dfdf9b73335d4a0a9d524ce1da5ab70f",
            "value": " 31463/50000 [00:00&lt;00:00, 175534.32 examples/s]"
          }
        },
        "ac4f04bb92e74b3a9f6e0349e4bb2840": {
          "model_module": "@jupyter-widgets/base",
          "model_name": "LayoutModel",
          "model_module_version": "1.2.0",
          "state": {
            "_model_module": "@jupyter-widgets/base",
            "_model_module_version": "1.2.0",
            "_model_name": "LayoutModel",
            "_view_count": null,
            "_view_module": "@jupyter-widgets/base",
            "_view_module_version": "1.2.0",
            "_view_name": "LayoutView",
            "align_content": null,
            "align_items": null,
            "align_self": null,
            "border": null,
            "bottom": null,
            "display": null,
            "flex": null,
            "flex_flow": null,
            "grid_area": null,
            "grid_auto_columns": null,
            "grid_auto_flow": null,
            "grid_auto_rows": null,
            "grid_column": null,
            "grid_gap": null,
            "grid_row": null,
            "grid_template_areas": null,
            "grid_template_columns": null,
            "grid_template_rows": null,
            "height": null,
            "justify_content": null,
            "justify_items": null,
            "left": null,
            "margin": null,
            "max_height": null,
            "max_width": null,
            "min_height": null,
            "min_width": null,
            "object_fit": null,
            "object_position": null,
            "order": null,
            "overflow": null,
            "overflow_x": null,
            "overflow_y": null,
            "padding": null,
            "right": null,
            "top": null,
            "visibility": "hidden",
            "width": null
          }
        },
        "8efcde5cf94049f5a116b085b68a48df": {
          "model_module": "@jupyter-widgets/base",
          "model_name": "LayoutModel",
          "model_module_version": "1.2.0",
          "state": {
            "_model_module": "@jupyter-widgets/base",
            "_model_module_version": "1.2.0",
            "_model_name": "LayoutModel",
            "_view_count": null,
            "_view_module": "@jupyter-widgets/base",
            "_view_module_version": "1.2.0",
            "_view_name": "LayoutView",
            "align_content": null,
            "align_items": null,
            "align_self": null,
            "border": null,
            "bottom": null,
            "display": null,
            "flex": null,
            "flex_flow": null,
            "grid_area": null,
            "grid_auto_columns": null,
            "grid_auto_flow": null,
            "grid_auto_rows": null,
            "grid_column": null,
            "grid_gap": null,
            "grid_row": null,
            "grid_template_areas": null,
            "grid_template_columns": null,
            "grid_template_rows": null,
            "height": null,
            "justify_content": null,
            "justify_items": null,
            "left": null,
            "margin": null,
            "max_height": null,
            "max_width": null,
            "min_height": null,
            "min_width": null,
            "object_fit": null,
            "object_position": null,
            "order": null,
            "overflow": null,
            "overflow_x": null,
            "overflow_y": null,
            "padding": null,
            "right": null,
            "top": null,
            "visibility": null,
            "width": null
          }
        },
        "42a6819cc9024c229d73e5e422437fe9": {
          "model_module": "@jupyter-widgets/controls",
          "model_name": "DescriptionStyleModel",
          "model_module_version": "1.5.0",
          "state": {
            "_model_module": "@jupyter-widgets/controls",
            "_model_module_version": "1.5.0",
            "_model_name": "DescriptionStyleModel",
            "_view_count": null,
            "_view_module": "@jupyter-widgets/base",
            "_view_module_version": "1.2.0",
            "_view_name": "StyleView",
            "description_width": ""
          }
        },
        "5b612b89cc874992aa62dc7d4d779bd6": {
          "model_module": "@jupyter-widgets/base",
          "model_name": "LayoutModel",
          "model_module_version": "1.2.0",
          "state": {
            "_model_module": "@jupyter-widgets/base",
            "_model_module_version": "1.2.0",
            "_model_name": "LayoutModel",
            "_view_count": null,
            "_view_module": "@jupyter-widgets/base",
            "_view_module_version": "1.2.0",
            "_view_name": "LayoutView",
            "align_content": null,
            "align_items": null,
            "align_self": null,
            "border": null,
            "bottom": null,
            "display": null,
            "flex": null,
            "flex_flow": null,
            "grid_area": null,
            "grid_auto_columns": null,
            "grid_auto_flow": null,
            "grid_auto_rows": null,
            "grid_column": null,
            "grid_gap": null,
            "grid_row": null,
            "grid_template_areas": null,
            "grid_template_columns": null,
            "grid_template_rows": null,
            "height": null,
            "justify_content": null,
            "justify_items": null,
            "left": null,
            "margin": null,
            "max_height": null,
            "max_width": null,
            "min_height": null,
            "min_width": null,
            "object_fit": null,
            "object_position": null,
            "order": null,
            "overflow": null,
            "overflow_x": null,
            "overflow_y": null,
            "padding": null,
            "right": null,
            "top": null,
            "visibility": null,
            "width": null
          }
        },
        "4f9049cab9d44324a96798548fe34028": {
          "model_module": "@jupyter-widgets/controls",
          "model_name": "ProgressStyleModel",
          "model_module_version": "1.5.0",
          "state": {
            "_model_module": "@jupyter-widgets/controls",
            "_model_module_version": "1.5.0",
            "_model_name": "ProgressStyleModel",
            "_view_count": null,
            "_view_module": "@jupyter-widgets/base",
            "_view_module_version": "1.2.0",
            "_view_name": "StyleView",
            "bar_color": null,
            "description_width": ""
          }
        },
        "dc68239151fb4d4393f4d0f56630999c": {
          "model_module": "@jupyter-widgets/base",
          "model_name": "LayoutModel",
          "model_module_version": "1.2.0",
          "state": {
            "_model_module": "@jupyter-widgets/base",
            "_model_module_version": "1.2.0",
            "_model_name": "LayoutModel",
            "_view_count": null,
            "_view_module": "@jupyter-widgets/base",
            "_view_module_version": "1.2.0",
            "_view_name": "LayoutView",
            "align_content": null,
            "align_items": null,
            "align_self": null,
            "border": null,
            "bottom": null,
            "display": null,
            "flex": null,
            "flex_flow": null,
            "grid_area": null,
            "grid_auto_columns": null,
            "grid_auto_flow": null,
            "grid_auto_rows": null,
            "grid_column": null,
            "grid_gap": null,
            "grid_row": null,
            "grid_template_areas": null,
            "grid_template_columns": null,
            "grid_template_rows": null,
            "height": null,
            "justify_content": null,
            "justify_items": null,
            "left": null,
            "margin": null,
            "max_height": null,
            "max_width": null,
            "min_height": null,
            "min_width": null,
            "object_fit": null,
            "object_position": null,
            "order": null,
            "overflow": null,
            "overflow_x": null,
            "overflow_y": null,
            "padding": null,
            "right": null,
            "top": null,
            "visibility": null,
            "width": null
          }
        },
        "dfdf9b73335d4a0a9d524ce1da5ab70f": {
          "model_module": "@jupyter-widgets/controls",
          "model_name": "DescriptionStyleModel",
          "model_module_version": "1.5.0",
          "state": {
            "_model_module": "@jupyter-widgets/controls",
            "_model_module_version": "1.5.0",
            "_model_name": "DescriptionStyleModel",
            "_view_count": null,
            "_view_module": "@jupyter-widgets/base",
            "_view_module_version": "1.2.0",
            "_view_name": "StyleView",
            "description_width": ""
          }
        }
      }
    }
  },
  "nbformat": 4,
  "nbformat_minor": 0
}