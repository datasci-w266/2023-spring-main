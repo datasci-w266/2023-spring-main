{
  "cells": [
    {
      "cell_type": "markdown",
      "metadata": {
        "id": "1CJVpUxEKnCn"
      },
      "source": [
        "# Lesson Notebook 5: Text Generation\n",
        "\n",
        "In this notebook we will look at 3 different examples:\n",
        "\n",
        "1. Building a Seq2Seq model for machine translation using RNNs with and without Attention\n",
        "\n",
        "2. Playing with T5 for summarization and translation\n",
        "\n",
        "3. Exercise with prompts and language generation using the OPT model\n",
        "\n",
        "The sequence to sequence architecture is inspired by the Keras Tutorial https://keras.io/examples/nlp/lstm_seq2seq/.\n",
        "\n",
        "\n",
        "<a id = 'returnToTop'></a>\n",
        "\n",
        "## Notebook Contents\n",
        "  * 1. [Setup](#setup)\n",
        "  * 2. [Seq2Seq Model](#encoderDecoder)\n",
        "      * 2.1 [Data Acquisition](#dataAcquisition)\n",
        "      * 2.2 [Seq2Seq without Attention](#s2sNoAttention)\n",
        "      * 2.3 [Seq2Seq with Attention](#s2sAttention)\n",
        "  * 3. [T5](#t5Example)\n",
        "    * 3.1 [Tokenization](#tokenization)\n",
        "    * 3.2 [Model Structure & Output](#modelOutput)\n",
        "  * 4. [Prompt Engineering and Generative Large Language Models](#prompts)\n",
        "    * 4.1 [Cloze Prompts](#clozeExample)\n",
        "    * 4.2 [Prefix Prompts](#prefixExample)\n",
        "    * 4.3 [Class Exercise](#classExercise)\n",
        "  * 5. [Answers](#answers)      \n",
        "\n",
        "\n",
        "\n",
        "\n",
        "  [![Open In Colab](https://colab.research.google.com/assets/colab-badge.svg)](https://colab.research.google.com/github/datasci-w266/2023-spring-main/blob/master/materials/lesson_notebooks/lesson_5_Text_Generation.ipynb)"
      ]
    },
    {
      "cell_type": "markdown",
      "metadata": {
        "id": "1tsSyq1WjYsO"
      },
      "source": [
        "[Return to Top](#returnToTop)  \n",
        "<a id = 'setup'></a>\n",
        "\n",
        "## 1. Setup\n",
        "\n",
        "We first need to do the usual setup. We will also use some nltk and sklearn components in order to tokenize the text.\n",
        "\n",
        "This notebook requires the tensorflow dataset and other prerequisites that you must download and then store locally. This can also be done on Colab."
      ]
    },
    {
      "cell_type": "code",
      "execution_count": 1,
      "metadata": {
        "colab": {
          "base_uri": "https://localhost:8080/"
        },
        "id": "oKdHlKOSKkgM",
        "outputId": "43b6b315-706b-4b6c-befb-828f134ae959"
      },
      "outputs": [
        {
          "output_type": "stream",
          "name": "stdout",
          "text": [
            "\u001b[2K     \u001b[90m━━━━━━━━━━━━━━━━━━━━━━━━━━━━━━━━━━━━━━━━\u001b[0m \u001b[32m6.3/6.3 MB\u001b[0m \u001b[31m67.7 MB/s\u001b[0m eta \u001b[36m0:00:00\u001b[0m\n",
            "\u001b[2K     \u001b[90m━━━━━━━━━━━━━━━━━━━━━━━━━━━━━━━━━━━━━━━━\u001b[0m \u001b[32m7.6/7.6 MB\u001b[0m \u001b[31m77.9 MB/s\u001b[0m eta \u001b[36m0:00:00\u001b[0m\n",
            "\u001b[2K     \u001b[90m━━━━━━━━━━━━━━━━━━━━━━━━━━━━━━━━━━━━━━\u001b[0m \u001b[32m190.3/190.3 KB\u001b[0m \u001b[31m24.5 MB/s\u001b[0m eta \u001b[36m0:00:00\u001b[0m\n",
            "\u001b[2K     \u001b[90m━━━━━━━━━━━━━━━━━━━━━━━━━━━━━━━━━━━━━━━━\u001b[0m \u001b[32m1.3/1.3 MB\u001b[0m \u001b[31m27.2 MB/s\u001b[0m eta \u001b[36m0:00:00\u001b[0m\n",
            "\u001b[?25h"
          ]
        }
      ],
      "source": [
        "#@title Installs\n",
        "\n",
        "!pip install pydot --quiet\n",
        "!pip install transformers --quiet\n",
        "!pip install sentencepiece --quiet\n",
        "!pip install nltk --quiet"
      ]
    },
    {
      "cell_type": "code",
      "execution_count": 2,
      "metadata": {
        "id": "FgTghneFvZqd"
      },
      "outputs": [],
      "source": [
        "#@title Imports\n",
        "\n",
        "import numpy as np\n",
        "\n",
        "import tensorflow as tf\n",
        "from tensorflow import keras\n",
        "\n",
        "import tensorflow_datasets as tfds\n",
        "\n",
        "import sklearn as sk\n",
        "from sklearn.feature_extraction.text import CountVectorizer\n",
        "\n",
        "import os\n",
        "import nltk\n",
        "\n",
        "import matplotlib.pyplot as plt\n",
        "\n",
        "import re\n",
        "import textwrap\n",
        "\n",
        "from transformers import T5Tokenizer, TFT5Model, TFT5ForConditionalGeneration\n",
        "from transformers import GPT2Tokenizer, TFOPTForCausalLM"
      ]
    },
    {
      "cell_type": "code",
      "execution_count": 3,
      "metadata": {
        "colab": {
          "base_uri": "https://localhost:8080/"
        },
        "id": "dhvbHp3Gq7CM",
        "outputId": "aa323bef-1b7f-4f07-b79c-630a78f3670a"
      },
      "outputs": [
        {
          "output_type": "stream",
          "name": "stderr",
          "text": [
            "[nltk_data] Downloading package punkt to /root/nltk_data...\n",
            "[nltk_data]   Unzipping tokenizers/punkt.zip.\n"
          ]
        },
        {
          "output_type": "execute_result",
          "data": {
            "text/plain": [
              "True"
            ]
          },
          "metadata": {},
          "execution_count": 3
        }
      ],
      "source": [
        "nltk.download('punkt')"
      ]
    },
    {
      "cell_type": "markdown",
      "metadata": {
        "id": "SM3-mYDnnxyT"
      },
      "source": [
        "[Return to Top](#returnToTop)  \n",
        "<a id = 'encoderDecoder'></a>\n",
        "\n",
        "\n",
        "## 2. Building a Seq2Seq model for Translation using RNNs with and without Attention\n",
        "\n",
        "### 2.1 Downloading and pre-processing Data\n",
        "\n",
        "\n",
        "Let's get the data. Just like the Keras tutorial, we will use http://www.manythings.org as the source for the parallel corpus, but we will use German.  Machine translation requires sentence pairs for training, that is individual sentences in German and the corresponding sentence in English."
      ]
    },
    {
      "cell_type": "code",
      "execution_count": 4,
      "metadata": {
        "colab": {
          "base_uri": "https://localhost:8080/"
        },
        "id": "EJgys8FQva6V",
        "outputId": "32383845-4192-434c-d0ab-6610cd0289ff"
      },
      "outputs": [
        {
          "output_type": "execute_result",
          "data": {
            "text/plain": [
              "['Archive:  deu-eng.zip',\n",
              " '  inflating: deu.txt                 ',\n",
              " '  inflating: _about.txt              ']"
            ]
          },
          "metadata": {},
          "execution_count": 4
        }
      ],
      "source": [
        "!!curl -O http://www.manythings.org/anki/deu-eng.zip\n",
        "!!unzip deu-eng.zip"
      ]
    },
    {
      "cell_type": "markdown",
      "metadata": {
        "id": "8fGnUBkZQteK"
      },
      "source": [
        "Next, we need to set a few parameters.  Note these numbers are much smaller than we would set in a real world system.  For example, vocabulary sizes of 2000 and 3000 are unrealistic unless we were dealing with a highly specialized domain."
      ]
    },
    {
      "cell_type": "code",
      "execution_count": 5,
      "metadata": {
        "id": "mWyF80SsnP-M"
      },
      "outputs": [],
      "source": [
        "embed_dim = 100  # Embedding dimensions for vectors and LSTMs.\n",
        "num_samples = 10000  # Number of examples to consider.\n",
        "\n",
        "# Path to the data txt file on disk.\n",
        "data_path = \"deu.txt\"\n",
        "\n",
        "# Vocabulary sizes that we'll use:\n",
        "english_vocab_size = 2000\n",
        "german_vocab_size = 3000"
      ]
    },
    {
      "cell_type": "markdown",
      "metadata": {
        "id": "mgRfFYZsRGmn"
      },
      "source": [
        "Next, we need to format the input. In particular we would like to use nltk to help with the tokenization. We will then use sklearn's CountVectorizer to create a vocabulary from the most frequent words in each language.\n",
        "\n",
        "(Before, we used pre-trained word embeddings from Word2Vec that came with a defined vocabulary. This time, we'll start from scratch, and need to extract the vocabulary from the training text.)"
      ]
    },
    {
      "cell_type": "code",
      "execution_count": 6,
      "metadata": {
        "colab": {
          "base_uri": "https://localhost:8080/"
        },
        "id": "jSTzz6VAtlqv",
        "outputId": "8453fe05-f060-4196-98c7-723e8b3995a2"
      },
      "outputs": [
        {
          "output_type": "stream",
          "name": "stdout",
          "text": [
            "Maximum source input length:  6\n",
            "Maximum target output length:  11\n"
          ]
        }
      ],
      "source": [
        "input_texts = []\n",
        "target_texts = []\n",
        "\n",
        "max_input_length = -1\n",
        "max_output_length = -1\n",
        "\n",
        "\n",
        "with open(data_path, \"r\", encoding=\"utf-8\") as f:\n",
        "    lines = f.read().split(\"\\n\")\n",
        "for line in lines[: min(num_samples, len(lines) - 1)]:\n",
        "    input_text, target_text, _ = line.split(\"\\t\")\n",
        "\n",
        "    tokenized_source_text = nltk.word_tokenize(input_text, language='english')\n",
        "    tokenized_target_text = nltk.word_tokenize(target_text, language='german')\n",
        "\n",
        "    if len(tokenized_source_text) > max_input_length:\n",
        "      max_input_length = len(tokenized_source_text)\n",
        "\n",
        "    if len(tokenized_target_text) > max_output_length:\n",
        "      max_output_length = len(tokenized_target_text)\n",
        "\n",
        "\n",
        "    source_text = (' '.join(tokenized_source_text)).lower()\n",
        "    target_text = (' '.join(tokenized_target_text)).lower()\n",
        "\n",
        "    input_texts.append(source_text)\n",
        "    target_texts.append(target_text)\n",
        "\n",
        "vectorizer_english = CountVectorizer(max_features=english_vocab_size)\n",
        "vectorizer_english.fit(input_texts)\n",
        "vocab_english = vectorizer_english.get_feature_names_out()\n",
        "\n",
        "vectorizer_german = CountVectorizer(max_features=german_vocab_size)\n",
        "vectorizer_german.fit(target_texts)\n",
        "vocab_german = vectorizer_german.get_feature_names_out()\n",
        "\n",
        "print('Maximum source input length: ', max_input_length)\n",
        "print('Maximum target output length: ', max_output_length)"
      ]
    },
    {
      "cell_type": "code",
      "execution_count": 7,
      "metadata": {
        "colab": {
          "base_uri": "https://localhost:8080/"
        },
        "id": "MQwEsJh7R8Yd",
        "outputId": "8535fc16-7bc7-4cec-d469-0a9286557a07"
      },
      "outputs": [
        {
          "output_type": "execute_result",
          "data": {
            "text/plain": [
              "['go .', 'hi .']"
            ]
          },
          "metadata": {},
          "execution_count": 7
        }
      ],
      "source": [
        "input_texts[:2]"
      ]
    },
    {
      "cell_type": "code",
      "execution_count": 8,
      "metadata": {
        "colab": {
          "base_uri": "https://localhost:8080/"
        },
        "id": "Uz463u9GR_wO",
        "outputId": "7ea7c317-ee22-43ac-d099-1f149e81b6e9"
      },
      "outputs": [
        {
          "output_type": "execute_result",
          "data": {
            "text/plain": [
              "['geh .', 'hallo !']"
            ]
          },
          "metadata": {},
          "execution_count": 8
        }
      ],
      "source": [
        "target_texts[:2]"
      ]
    },
    {
      "cell_type": "markdown",
      "metadata": {
        "id": "vIAaknDaRasy"
      },
      "source": [
        "Looks simple but correct.\n",
        "\n",
        "So the source and target sequences have max lengths 6 and 11, respectively. As we will add start and end tokens (\\<s> and \\</s>) to our decoder side we will set the respective max lengths to: "
      ]
    },
    {
      "cell_type": "code",
      "execution_count": 9,
      "metadata": {
        "id": "mDdzDfvQ9EO1"
      },
      "outputs": [],
      "source": [
        "max_encoder_seq_length = 6\n",
        "max_decoder_seq_length = 13 #11 + start + end"
      ]
    },
    {
      "cell_type": "markdown",
      "metadata": {
        "id": "HtF9ihIeRuTO"
      },
      "source": [
        "Next, we create the dictionaries translating between integer ids and tokens for both source (English) and target (German)."
      ]
    },
    {
      "cell_type": "code",
      "execution_count": 10,
      "metadata": {
        "id": "f8JiJ9pL3AnU"
      },
      "outputs": [],
      "source": [
        "source_id_vocab_dict = {}\n",
        "source_vocab_id_dict = {}\n",
        "\n",
        "for sid, svocab in enumerate(vocab_english):\n",
        "  source_id_vocab_dict[sid] = svocab\n",
        "  source_vocab_id_dict[svocab] = sid\n",
        "\n",
        "source_id_vocab_dict[english_vocab_size] = \"<unk>\"\n",
        "source_id_vocab_dict[english_vocab_size + 1] = \"<pad>\"\n",
        "\n",
        "source_vocab_id_dict[\"<unk>\"] = english_vocab_size\n",
        "source_vocab_id_dict[\"<pad>\"] = english_vocab_size + 1\n",
        "\n",
        "target_id_vocab_dict = {}\n",
        "target_vocab_id_dict = {}\n",
        "\n",
        "for tid, tvocab in enumerate(vocab_german):\n",
        "  target_id_vocab_dict[tid] = tvocab\n",
        "  target_vocab_id_dict[tvocab] = tid\n",
        "\n",
        "# Add unknown token plus start and end tokens to target language\n",
        "\n",
        "target_id_vocab_dict[german_vocab_size] = \"<unk>\"\n",
        "target_id_vocab_dict[german_vocab_size + 1] = \"<start>\"\n",
        "target_id_vocab_dict[german_vocab_size + 2] = \"<end>\"\n",
        "target_id_vocab_dict[german_vocab_size + 3] = \"<pad>\"\n",
        "\n",
        "target_vocab_id_dict[\"<unk>\"] = german_vocab_size\n",
        "target_vocab_id_dict[\"<start>\"] = german_vocab_size + 1\n",
        "target_vocab_id_dict[\"<end>\"] = german_vocab_size + 2\n",
        "target_vocab_id_dict[\"<pad>\"] = german_vocab_size + 3"
      ]
    },
    {
      "cell_type": "markdown",
      "metadata": {
        "id": "KKY10hN1SLui"
      },
      "source": [
        "Lastly, we need to create the training and test data that will feed into our two models. It is convenient to define a small function for that that also takes care off padding and adding start/end tokens on the decoder side.\n",
        "\n",
        "Notice that we need to create three sequences of vocab ids: inputs to the encoder (starting language), inputs to the decoder (output language, for the preceding tokens in the output sequence) and labels for the decoder (the correct next word to predict at each time step in the output, which is shifted one over from the inputs to the decoder)."
      ]
    },
    {
      "cell_type": "code",
      "execution_count": 11,
      "metadata": {
        "id": "DWf2bb905SW9"
      },
      "outputs": [],
      "source": [
        "def convert_text_to_data(texts, \n",
        "                         vocab_id_dict, \n",
        "                         max_length=20, \n",
        "                         type=None,\n",
        "                         train_test_vector=None,\n",
        "                         samples=100000):\n",
        "  \n",
        "  if type == None:\n",
        "    raise ValueError('\\'type\\' is not defined. Please choose from: input_source, input_target, output_target.')\n",
        "  \n",
        "  train_data = []\n",
        "  test_data = []\n",
        "\n",
        "  for text_num, text in enumerate(texts[:samples]):\n",
        "\n",
        "    sentence_ids = []\n",
        "\n",
        "    for token in text.split():\n",
        "\n",
        "      if token in vocab_id_dict.keys():\n",
        "        sentence_ids.append(vocab_id_dict[token])\n",
        "      else:\n",
        "        sentence_ids.append(vocab_id_dict[\"<unk>\"])\n",
        "    \n",
        "    vocab_size = len(vocab_id_dict.keys())\n",
        "    \n",
        "    # Depending on encoder/decoder and input/output, add start/end tokens.\n",
        "    # Then add padding.\n",
        "    \n",
        "    if type == 'input_source':\n",
        "      ids = (sentence_ids + [vocab_size - 1] * max_length)[:max_length]\n",
        "\n",
        "    elif type == 'input_target':\n",
        "      ids = ([vocab_size -3] + sentence_ids + [vocab_size - 2] + [vocab_size - 1] * max_length)[:max_length]\n",
        "\n",
        "    elif type == 'output_target':\n",
        "      ids = (sentence_ids + [vocab_size - 2] + [vocab_size -1] * max_length)[:max_length]\n",
        "\n",
        "    if train_test_vector is not None and not train_test_vector[text_num]:\n",
        "      test_data.append(ids)\n",
        "    else:\n",
        "      train_data.append(ids)\n",
        "\n",
        "\n",
        "  return np.array(train_data), np.array(test_data)\n",
        "\n",
        "\n",
        "train_test_split_vector = (np.random.uniform(size=10000) > 0.2)\n",
        "\n",
        "train_source_input_data, test_source_input_data = convert_text_to_data(input_texts, \n",
        "                                                                       source_vocab_id_dict,\n",
        "                                                                       type='input_source',\n",
        "                                                                       max_length=max_encoder_seq_length,\n",
        "                                                                       train_test_vector=train_test_split_vector)\n",
        "\n",
        "train_target_input_data, test_target_input_data = convert_text_to_data(target_texts,\n",
        "                                                                       target_vocab_id_dict,\n",
        "                                                                       type='input_target',\n",
        "                                                                       max_length=max_decoder_seq_length,\n",
        "                                                                       train_test_vector=train_test_split_vector)\n",
        "\n",
        "train_target_output_data, test_target_output_data = convert_text_to_data(target_texts,\n",
        "                                                                         target_vocab_id_dict,\n",
        "                                                                         type='output_target',\n",
        "                                                                         max_length=max_decoder_seq_length,\n",
        "                                                                         train_test_vector=train_test_split_vector)\n",
        "\n",
        "\n"
      ]
    },
    {
      "cell_type": "markdown",
      "metadata": {
        "id": "XwsJeSJVWbnI"
      },
      "source": [
        "Let us look at a few examples. They appear coorect."
      ]
    },
    {
      "cell_type": "code",
      "execution_count": 12,
      "metadata": {
        "colab": {
          "base_uri": "https://localhost:8080/"
        },
        "id": "YB5WqPpYV_EQ",
        "outputId": "4c436695-4698-42cf-ba84-dd033f9ffd69"
      },
      "outputs": [
        {
          "output_type": "execute_result",
          "data": {
            "text/plain": [
              "array([[ 749, 2000, 2001, 2001, 2001, 2001],\n",
              "       [ 843, 2000, 2001, 2001, 2001, 2001]])"
            ]
          },
          "metadata": {},
          "execution_count": 12
        }
      ],
      "source": [
        "train_source_input_data[:2]"
      ]
    },
    {
      "cell_type": "code",
      "execution_count": 13,
      "metadata": {
        "colab": {
          "base_uri": "https://localhost:8080/"
        },
        "id": "N103xCPpWBx7",
        "outputId": "38ea3bed-fdd7-4e0d-8136-2a5c94c15f81"
      },
      "outputs": [
        {
          "output_type": "execute_result",
          "data": {
            "text/plain": [
              "array([[3001, 1080, 3000, 3002, 3003, 3003, 3003, 3003, 3003, 3003, 3003,\n",
              "        3003, 3003],\n",
              "       [3001, 1247, 3000, 3002, 3003, 3003, 3003, 3003, 3003, 3003, 3003,\n",
              "        3003, 3003]])"
            ]
          },
          "metadata": {},
          "execution_count": 13
        }
      ],
      "source": [
        "train_target_input_data[:2]"
      ]
    },
    {
      "cell_type": "code",
      "execution_count": 14,
      "metadata": {
        "colab": {
          "base_uri": "https://localhost:8080/"
        },
        "id": "-7Wcc1bFWB5c",
        "outputId": "99b43e67-b4e3-4807-bb9f-c475d6574bdb"
      },
      "outputs": [
        {
          "output_type": "execute_result",
          "data": {
            "text/plain": [
              "array([[1080, 3000, 3002, 3003, 3003, 3003, 3003, 3003, 3003, 3003, 3003,\n",
              "        3003, 3003],\n",
              "       [1247, 3000, 3002, 3003, 3003, 3003, 3003, 3003, 3003, 3003, 3003,\n",
              "        3003, 3003]])"
            ]
          },
          "metadata": {},
          "execution_count": 14
        }
      ],
      "source": [
        "train_target_output_data[:2]"
      ]
    },
    {
      "cell_type": "markdown",
      "metadata": {
        "id": "bMTL8pWhSxjc"
      },
      "source": [
        "[Return to Top](#returnToTop)  \n",
        "<a id = 's2sNoAttention'></a>\n",
        "\n",
        "### 2.2 The Seq2seq model without Attention\n",
        "\n",
        "We need to build both the encoder and the decoder and we'll use LSTMs.  We'll set up the system first without an attention layer between the encoder and decoder."
      ]
    },
    {
      "cell_type": "code",
      "execution_count": 15,
      "metadata": {
        "id": "UK9eP5bC6jCL"
      },
      "outputs": [],
      "source": [
        "def create_translation_model_no_att(encode_vocab_size, decode_vocab_size, embed_dim):\n",
        "\n",
        "    source_input_no_att = tf.keras.layers.Input(shape=(max_encoder_seq_length,),\n",
        "                                                dtype='int64',\n",
        "                                                name='source_input_no_att')\n",
        "    target_input_no_att = tf.keras.layers.Input(shape=(max_decoder_seq_length,),\n",
        "                                                dtype='int64',\n",
        "                                                name='target_input_no_att')\n",
        "\n",
        "    source_embedding_layer_no_att = tf.keras.layers.Embedding(input_dim=encode_vocab_size,\n",
        "                                                              output_dim=embed_dim,\n",
        "                                                              name='source_embedding_layer_no_att')\n",
        "\n",
        "    target_embedding_layer_no_att  = tf.keras.layers.Embedding(input_dim=decode_vocab_size,\n",
        "                                                               output_dim=embed_dim,\n",
        "                                                               name='target_embedding_layer_no_att')\n",
        "\n",
        "    source_embeddings_no_att = source_embedding_layer_no_att(source_input_no_att)\n",
        "    target_embeddings_no_att = target_embedding_layer_no_att(target_input_no_att)\n",
        "\n",
        "    encoder_lstm_layer_no_att = tf.keras.layers.LSTM(embed_dim, return_sequences=True, return_state=True, name='encoder_lstm_layer_no_att')\n",
        "    encoder_out_no_att, encoder_state_h_no_att, encoder_state_c_no_att = encoder_lstm_layer_no_att(source_embeddings_no_att)\n",
        "\n",
        "    decoder_lstm_layer_no_att = tf.keras.layers.LSTM(embed_dim, return_sequences=True, return_state=False, name='decoder_lstm_layer_no_att')\n",
        "    decoder_lstm_out_no_att = decoder_lstm_layer_no_att(target_embeddings_no_att, [encoder_state_h_no_att, encoder_state_c_no_att])\n",
        "\n",
        "    target_classification_no_att = tf.keras.layers.Dense(decode_vocab_size,\n",
        "                                                         activation='softmax',\n",
        "                                                         name='classification_no_att')(decoder_lstm_out_no_att)\n",
        "\n",
        "    translation_model_no_att = tf.keras.models.Model(inputs=[source_input_no_att, target_input_no_att], outputs=[target_classification_no_att])\n",
        "\n",
        "    translation_model_no_att.compile(optimizer=\"Adam\",\n",
        "                                     loss='sparse_categorical_crossentropy',\n",
        "                                     metrics=['accuracy'])\n",
        "    \n",
        "    return translation_model_no_att\n"
      ]
    },
    {
      "cell_type": "markdown",
      "metadata": {
        "id": "61fGG0H0jYsd"
      },
      "source": [
        "Now we can call the function we created to instantiate that model and confirm that it is set up the way we like using model.sumary()."
      ]
    },
    {
      "cell_type": "code",
      "execution_count": 16,
      "metadata": {
        "colab": {
          "base_uri": "https://localhost:8080/"
        },
        "id": "AQafY_4y6jFl",
        "outputId": "b9fa3487-0a67-4f42-d6b9-fed37f283381"
      },
      "outputs": [
        {
          "output_type": "stream",
          "name": "stdout",
          "text": [
            "Model: \"model\"\n",
            "__________________________________________________________________________________________________\n",
            " Layer (type)                   Output Shape         Param #     Connected to                     \n",
            "==================================================================================================\n",
            " source_input_no_att (InputLaye  [(None, 6)]         0           []                               \n",
            " r)                                                                                               \n",
            "                                                                                                  \n",
            " target_input_no_att (InputLaye  [(None, 13)]        0           []                               \n",
            " r)                                                                                               \n",
            "                                                                                                  \n",
            " source_embedding_layer_no_att   (None, 6, 100)      200200      ['source_input_no_att[0][0]']    \n",
            " (Embedding)                                                                                      \n",
            "                                                                                                  \n",
            " target_embedding_layer_no_att   (None, 13, 100)     300400      ['target_input_no_att[0][0]']    \n",
            " (Embedding)                                                                                      \n",
            "                                                                                                  \n",
            " encoder_lstm_layer_no_att (LST  [(None, 6, 100),    80400       ['source_embedding_layer_no_att[0\n",
            " M)                              (None, 100),                    ][0]']                           \n",
            "                                 (None, 100)]                                                     \n",
            "                                                                                                  \n",
            " decoder_lstm_layer_no_att (LST  (None, 13, 100)     80400       ['target_embedding_layer_no_att[0\n",
            " M)                                                              ][0]',                           \n",
            "                                                                  'encoder_lstm_layer_no_att[0][1]\n",
            "                                                                 ',                               \n",
            "                                                                  'encoder_lstm_layer_no_att[0][2]\n",
            "                                                                 ']                               \n",
            "                                                                                                  \n",
            " classification_no_att (Dense)  (None, 13, 3004)     303404      ['decoder_lstm_layer_no_att[0][0]\n",
            "                                                                 ']                               \n",
            "                                                                                                  \n",
            "==================================================================================================\n",
            "Total params: 964,804\n",
            "Trainable params: 964,804\n",
            "Non-trainable params: 0\n",
            "__________________________________________________________________________________________________\n"
          ]
        }
      ],
      "source": [
        "encode_vocab_size = len(source_id_vocab_dict.keys())\n",
        "decode_vocab_size = len(target_id_vocab_dict.keys())\n",
        "\n",
        "translation_model_no_att = create_translation_model_no_att(encode_vocab_size, decode_vocab_size, embed_dim)\n",
        "\n",
        "translation_model_no_att.summary()"
      ]
    },
    {
      "cell_type": "markdown",
      "metadata": {
        "id": "w911c-QMYky3"
      },
      "source": [
        "It never hurts to look at the shapes of the outputs."
      ]
    },
    {
      "cell_type": "code",
      "execution_count": 17,
      "metadata": {
        "colab": {
          "base_uri": "https://localhost:8080/"
        },
        "id": "E-NVTE_pU3-H",
        "outputId": "a4336673-e5be-4f06-80c9-25f1a82021f1"
      },
      "outputs": [
        {
          "output_type": "stream",
          "name": "stdout",
          "text": [
            "252/252 [==============================] - 7s 3ms/step\n"
          ]
        },
        {
          "output_type": "execute_result",
          "data": {
            "text/plain": [
              "(8047, 13, 3004)"
            ]
          },
          "metadata": {},
          "execution_count": 17
        }
      ],
      "source": [
        "translation_model_no_att.predict(x=[train_source_input_data, train_target_input_data]).shape"
      ]
    },
    {
      "cell_type": "markdown",
      "metadata": {
        "id": "g9EgkYYmjYsf"
      },
      "source": [
        "Now that everything checks out, we can train our model."
      ]
    },
    {
      "cell_type": "code",
      "execution_count": 18,
      "metadata": {
        "colab": {
          "base_uri": "https://localhost:8080/"
        },
        "id": "h35KVb-G6jNs",
        "outputId": "f7f01bff-ddeb-4454-827d-1a6bfcfad7c7"
      },
      "outputs": [
        {
          "output_type": "stream",
          "name": "stdout",
          "text": [
            "Epoch 1/40\n",
            "252/252 [==============================] - 6s 12ms/step - loss: 2.5067 - accuracy: 0.6623 - val_loss: 1.6758 - val_accuracy: 0.7487\n",
            "Epoch 2/40\n",
            "252/252 [==============================] - 2s 8ms/step - loss: 1.5505 - accuracy: 0.7653 - val_loss: 1.5117 - val_accuracy: 0.7705\n",
            "Epoch 3/40\n",
            "252/252 [==============================] - 2s 10ms/step - loss: 1.4213 - accuracy: 0.7734 - val_loss: 1.4180 - val_accuracy: 0.7774\n",
            "Epoch 4/40\n",
            "252/252 [==============================] - 3s 11ms/step - loss: 1.3261 - accuracy: 0.7836 - val_loss: 1.3351 - val_accuracy: 0.7892\n",
            "Epoch 5/40\n",
            "252/252 [==============================] - 2s 9ms/step - loss: 1.2404 - accuracy: 0.7955 - val_loss: 1.2776 - val_accuracy: 0.7964\n",
            "Epoch 6/40\n",
            "252/252 [==============================] - 2s 9ms/step - loss: 1.1739 - accuracy: 0.8020 - val_loss: 1.2361 - val_accuracy: 0.8009\n",
            "Epoch 7/40\n",
            "252/252 [==============================] - 2s 9ms/step - loss: 1.1116 - accuracy: 0.8105 - val_loss: 1.1900 - val_accuracy: 0.8096\n",
            "Epoch 8/40\n",
            "252/252 [==============================] - 2s 9ms/step - loss: 1.0519 - accuracy: 0.8190 - val_loss: 1.1512 - val_accuracy: 0.8170\n",
            "Epoch 9/40\n",
            "252/252 [==============================] - 3s 11ms/step - loss: 0.9982 - accuracy: 0.8256 - val_loss: 1.1197 - val_accuracy: 0.8209\n",
            "Epoch 10/40\n",
            "252/252 [==============================] - 3s 10ms/step - loss: 0.9520 - accuracy: 0.8304 - val_loss: 1.0968 - val_accuracy: 0.8252\n",
            "Epoch 11/40\n",
            "252/252 [==============================] - 2s 8ms/step - loss: 0.9112 - accuracy: 0.8350 - val_loss: 1.0773 - val_accuracy: 0.8268\n",
            "Epoch 12/40\n",
            "252/252 [==============================] - 2s 9ms/step - loss: 0.8742 - accuracy: 0.8387 - val_loss: 1.0594 - val_accuracy: 0.8289\n",
            "Epoch 13/40\n",
            "252/252 [==============================] - 2s 9ms/step - loss: 0.8393 - accuracy: 0.8434 - val_loss: 1.0413 - val_accuracy: 0.8320\n",
            "Epoch 14/40\n",
            "252/252 [==============================] - 2s 9ms/step - loss: 0.8054 - accuracy: 0.8473 - val_loss: 1.0259 - val_accuracy: 0.8350\n",
            "Epoch 15/40\n",
            "252/252 [==============================] - 3s 12ms/step - loss: 0.7731 - accuracy: 0.8523 - val_loss: 1.0180 - val_accuracy: 0.8358\n",
            "Epoch 16/40\n",
            "252/252 [==============================] - 2s 9ms/step - loss: 0.7413 - accuracy: 0.8568 - val_loss: 1.0030 - val_accuracy: 0.8388\n",
            "Epoch 17/40\n",
            "252/252 [==============================] - 2s 9ms/step - loss: 0.7113 - accuracy: 0.8605 - val_loss: 0.9928 - val_accuracy: 0.8414\n",
            "Epoch 18/40\n",
            "252/252 [==============================] - 2s 9ms/step - loss: 0.6822 - accuracy: 0.8640 - val_loss: 0.9857 - val_accuracy: 0.8416\n",
            "Epoch 19/40\n",
            "252/252 [==============================] - 3s 12ms/step - loss: 0.6536 - accuracy: 0.8676 - val_loss: 0.9758 - val_accuracy: 0.8440\n",
            "Epoch 20/40\n",
            "252/252 [==============================] - 3s 11ms/step - loss: 0.6264 - accuracy: 0.8714 - val_loss: 0.9682 - val_accuracy: 0.8453\n",
            "Epoch 21/40\n",
            "252/252 [==============================] - 2s 10ms/step - loss: 0.5996 - accuracy: 0.8752 - val_loss: 0.9604 - val_accuracy: 0.8461\n",
            "Epoch 22/40\n",
            "252/252 [==============================] - 2s 9ms/step - loss: 0.5750 - accuracy: 0.8791 - val_loss: 0.9538 - val_accuracy: 0.8490\n",
            "Epoch 23/40\n",
            "252/252 [==============================] - 2s 9ms/step - loss: 0.5499 - accuracy: 0.8829 - val_loss: 0.9487 - val_accuracy: 0.8499\n",
            "Epoch 24/40\n",
            "252/252 [==============================] - 2s 9ms/step - loss: 0.5263 - accuracy: 0.8865 - val_loss: 0.9493 - val_accuracy: 0.8494\n",
            "Epoch 25/40\n",
            "252/252 [==============================] - 2s 9ms/step - loss: 0.5040 - accuracy: 0.8896 - val_loss: 0.9434 - val_accuracy: 0.8517\n",
            "Epoch 26/40\n",
            "252/252 [==============================] - 3s 12ms/step - loss: 0.4817 - accuracy: 0.8938 - val_loss: 0.9418 - val_accuracy: 0.8525\n",
            "Epoch 27/40\n",
            "252/252 [==============================] - 2s 8ms/step - loss: 0.4604 - accuracy: 0.8978 - val_loss: 0.9379 - val_accuracy: 0.8527\n",
            "Epoch 28/40\n",
            "252/252 [==============================] - 2s 8ms/step - loss: 0.4398 - accuracy: 0.9011 - val_loss: 0.9346 - val_accuracy: 0.8536\n",
            "Epoch 29/40\n",
            "252/252 [==============================] - 2s 9ms/step - loss: 0.4209 - accuracy: 0.9045 - val_loss: 0.9354 - val_accuracy: 0.8543\n",
            "Epoch 30/40\n",
            "252/252 [==============================] - 2s 9ms/step - loss: 0.4017 - accuracy: 0.9080 - val_loss: 0.9336 - val_accuracy: 0.8547\n",
            "Epoch 31/40\n",
            "252/252 [==============================] - 3s 10ms/step - loss: 0.3834 - accuracy: 0.9120 - val_loss: 0.9353 - val_accuracy: 0.8564\n",
            "Epoch 32/40\n",
            "252/252 [==============================] - 3s 11ms/step - loss: 0.3670 - accuracy: 0.9151 - val_loss: 0.9326 - val_accuracy: 0.8566\n",
            "Epoch 33/40\n",
            "252/252 [==============================] - 2s 8ms/step - loss: 0.3507 - accuracy: 0.9182 - val_loss: 0.9317 - val_accuracy: 0.8586\n",
            "Epoch 34/40\n",
            "252/252 [==============================] - 2s 9ms/step - loss: 0.3347 - accuracy: 0.9221 - val_loss: 0.9350 - val_accuracy: 0.8578\n",
            "Epoch 35/40\n",
            "252/252 [==============================] - 2s 9ms/step - loss: 0.3196 - accuracy: 0.9250 - val_loss: 0.9353 - val_accuracy: 0.8588\n",
            "Epoch 36/40\n",
            "252/252 [==============================] - 2s 9ms/step - loss: 0.3047 - accuracy: 0.9280 - val_loss: 0.9411 - val_accuracy: 0.8585\n",
            "Epoch 37/40\n",
            "252/252 [==============================] - 3s 11ms/step - loss: 0.2911 - accuracy: 0.9303 - val_loss: 0.9420 - val_accuracy: 0.8584\n",
            "Epoch 38/40\n",
            "252/252 [==============================] - 2s 10ms/step - loss: 0.2787 - accuracy: 0.9339 - val_loss: 0.9419 - val_accuracy: 0.8591\n",
            "Epoch 39/40\n",
            "252/252 [==============================] - 2s 9ms/step - loss: 0.2662 - accuracy: 0.9363 - val_loss: 0.9465 - val_accuracy: 0.8595\n",
            "Epoch 40/40\n",
            "252/252 [==============================] - 2s 8ms/step - loss: 0.2531 - accuracy: 0.9393 - val_loss: 0.9544 - val_accuracy: 0.8586\n"
          ]
        },
        {
          "output_type": "execute_result",
          "data": {
            "text/plain": [
              "<keras.callbacks.History at 0x7f2c002138e0>"
            ]
          },
          "metadata": {},
          "execution_count": 18
        }
      ],
      "source": [
        "translation_model_no_att.fit(x=[train_source_input_data, train_target_input_data],\n",
        "                             y=train_target_output_data,\n",
        "                             validation_data=([test_source_input_data, test_target_input_data],\n",
        "                                              test_target_output_data),\n",
        "                             epochs=40)"
      ]
    },
    {
      "cell_type": "markdown",
      "metadata": {
        "id": "CSmVtP2oXGAc"
      },
      "source": [
        "[Return to Top](#returnToTop)  \n",
        "<a id = 's2sAttention'></a>\n",
        "\n",
        "### 2.3 The Seq2seq model with Attention\n",
        "\n",
        "All we need to do is add an attention layer that ceates a context vector for each decoder position. We can use the attention layer provided by Keras in *tf.keras.layers.Attention()*.  We will then simply concatenate these corresponding context vectors with the output of the LSTM layer in order to predict the translation tokens one by one."
      ]
    },
    {
      "cell_type": "code",
      "execution_count": 19,
      "metadata": {
        "id": "aPu2HDtfGKvK"
      },
      "outputs": [],
      "source": [
        "def create_translation_model_with_att(encode_vocab_size, decode_vocab_size, embed_dim):\n",
        "\n",
        "    source_input_with_att = tf.keras.layers.Input(shape=(max_encoder_seq_length,), \n",
        "                                                  dtype='int64',\n",
        "                                                  name='source_input_with_att')\n",
        "    target_input_with_att = tf.keras.layers.Input(shape=(max_decoder_seq_length,), \n",
        "                                                  dtype='int64',\n",
        "                                                  name='target_input_with_att')\n",
        "\n",
        "    source_embedding_layer_with_att = tf.keras.layers.Embedding(input_dim=encode_vocab_size,\n",
        "                                                                output_dim=embed_dim,\n",
        "                                                                name='source_embedding_layer_with_att')\n",
        "\n",
        "    target_embedding_layer_with_att  = tf.keras.layers.Embedding(input_dim=decode_vocab_size,\n",
        "                                                                 output_dim=embed_dim,\n",
        "                                                                 name='target_embedding_layer_with_att')\n",
        "\n",
        "    source_embeddings_with_att = source_embedding_layer_with_att(source_input_with_att)\n",
        "    target_embeddings_with_att = target_embedding_layer_with_att(target_input_with_att)\n",
        "\n",
        "    encoder_lstm_layer_with_att = tf.keras.layers.LSTM(embed_dim, return_sequences=True, return_state=True, name='encoder_lstm_layer_with_att')\n",
        "    encoder_out_with_att, encoder_state_h_with_att, encoder_state_c_with_att = encoder_lstm_layer_with_att(source_embeddings_with_att)\n",
        "\n",
        "    decoder_lstm_layer_with_att = tf.keras.layers.LSTM(embed_dim, return_sequences=True, return_state=False, name='decoder_lstm_layer_with_att')\n",
        "    decoder_lstm_out_with_att = decoder_lstm_layer_with_att(target_embeddings_with_att, [encoder_state_h_with_att, encoder_state_c_with_att])\n",
        "\n",
        "    attention_context_vectors = tf.keras.layers.Attention(name='attention_layer')([decoder_lstm_out_with_att, encoder_out_with_att])\n",
        "\n",
        "    concat_decode_out_with_att = tf.keras.layers.Concatenate(axis=-1, name='concat_layer_with_att')([decoder_lstm_out_with_att, attention_context_vectors])\n",
        "\n",
        "    target_classification_with_att = tf.keras.layers.Dense(decode_vocab_size,\n",
        "                                                           activation='softmax',\n",
        "                                                           name='classification_with_att')(concat_decode_out_with_att)\n",
        "\n",
        "    translation_model_with_att = tf.keras.models.Model(inputs=[source_input_with_att, target_input_with_att], outputs=[target_classification_with_att])\n",
        "\n",
        "    translation_model_with_att.compile(optimizer=\"Adam\",\n",
        "                                       loss='sparse_categorical_crossentropy',\n",
        "                                       metrics=['accuracy'])\n",
        "\n",
        "    return translation_model_with_att\n"
      ]
    },
    {
      "cell_type": "code",
      "execution_count": 20,
      "metadata": {
        "colab": {
          "base_uri": "https://localhost:8080/"
        },
        "id": "JMMluPO-urkE",
        "outputId": "88fa8959-1a01-4062-8e7a-bde9589d82a8"
      },
      "outputs": [
        {
          "output_type": "stream",
          "name": "stdout",
          "text": [
            "Model: \"model_1\"\n",
            "__________________________________________________________________________________________________\n",
            " Layer (type)                   Output Shape         Param #     Connected to                     \n",
            "==================================================================================================\n",
            " source_input_with_att (InputLa  [(None, 6)]         0           []                               \n",
            " yer)                                                                                             \n",
            "                                                                                                  \n",
            " target_input_with_att (InputLa  [(None, 13)]        0           []                               \n",
            " yer)                                                                                             \n",
            "                                                                                                  \n",
            " source_embedding_layer_with_at  (None, 6, 100)      200200      ['source_input_with_att[0][0]']  \n",
            " t (Embedding)                                                                                    \n",
            "                                                                                                  \n",
            " target_embedding_layer_with_at  (None, 13, 100)     300400      ['target_input_with_att[0][0]']  \n",
            " t (Embedding)                                                                                    \n",
            "                                                                                                  \n",
            " encoder_lstm_layer_with_att (L  [(None, 6, 100),    80400       ['source_embedding_layer_with_att\n",
            " STM)                            (None, 100),                    [0][0]']                         \n",
            "                                 (None, 100)]                                                     \n",
            "                                                                                                  \n",
            " decoder_lstm_layer_with_att (L  (None, 13, 100)     80400       ['target_embedding_layer_with_att\n",
            " STM)                                                            [0][0]',                         \n",
            "                                                                  'encoder_lstm_layer_with_att[0][\n",
            "                                                                 1]',                             \n",
            "                                                                  'encoder_lstm_layer_with_att[0][\n",
            "                                                                 2]']                             \n",
            "                                                                                                  \n",
            " attention_layer (Attention)    (None, 13, 100)      0           ['decoder_lstm_layer_with_att[0][\n",
            "                                                                 0]',                             \n",
            "                                                                  'encoder_lstm_layer_with_att[0][\n",
            "                                                                 0]']                             \n",
            "                                                                                                  \n",
            " concat_layer_with_att (Concate  (None, 13, 200)     0           ['decoder_lstm_layer_with_att[0][\n",
            " nate)                                                           0]',                             \n",
            "                                                                  'attention_layer[0][0]']        \n",
            "                                                                                                  \n",
            " classification_with_att (Dense  (None, 13, 3004)    603804      ['concat_layer_with_att[0][0]']  \n",
            " )                                                                                                \n",
            "                                                                                                  \n",
            "==================================================================================================\n",
            "Total params: 1,265,204\n",
            "Trainable params: 1,265,204\n",
            "Non-trainable params: 0\n",
            "__________________________________________________________________________________________________\n"
          ]
        }
      ],
      "source": [
        "translation_model_with_att = create_translation_model_with_att(encode_vocab_size, decode_vocab_size, embed_dim)\n",
        "\n",
        "translation_model_with_att.summary()"
      ]
    },
    {
      "cell_type": "code",
      "execution_count": 21,
      "metadata": {
        "colab": {
          "base_uri": "https://localhost:8080/"
        },
        "id": "XYjG5lVPNBsU",
        "outputId": "e533f7d8-edd9-404d-aa43-2a6708607d63"
      },
      "outputs": [
        {
          "output_type": "stream",
          "name": "stdout",
          "text": [
            "Epoch 1/40\n",
            "252/252 [==============================] - 6s 12ms/step - loss: 2.3585 - accuracy: 0.6847 - val_loss: 1.6066 - val_accuracy: 0.7643\n",
            "Epoch 2/40\n",
            "252/252 [==============================] - 2s 9ms/step - loss: 1.4787 - accuracy: 0.7705 - val_loss: 1.4426 - val_accuracy: 0.7718\n",
            "Epoch 3/40\n",
            "252/252 [==============================] - 2s 9ms/step - loss: 1.3403 - accuracy: 0.7836 - val_loss: 1.3332 - val_accuracy: 0.7897\n",
            "Epoch 4/40\n",
            "252/252 [==============================] - 3s 10ms/step - loss: 1.2223 - accuracy: 0.7976 - val_loss: 1.2526 - val_accuracy: 0.8029\n",
            "Epoch 5/40\n",
            "252/252 [==============================] - 3s 11ms/step - loss: 1.1307 - accuracy: 0.8074 - val_loss: 1.1943 - val_accuracy: 0.8088\n",
            "Epoch 6/40\n",
            "252/252 [==============================] - 2s 9ms/step - loss: 1.0540 - accuracy: 0.8163 - val_loss: 1.1485 - val_accuracy: 0.8152\n",
            "Epoch 7/40\n",
            "252/252 [==============================] - 2s 9ms/step - loss: 0.9853 - accuracy: 0.8250 - val_loss: 1.1116 - val_accuracy: 0.8220\n",
            "Epoch 8/40\n",
            "252/252 [==============================] - 2s 9ms/step - loss: 0.9224 - accuracy: 0.8328 - val_loss: 1.0739 - val_accuracy: 0.8274\n",
            "Epoch 9/40\n",
            "252/252 [==============================] - 2s 9ms/step - loss: 0.8615 - accuracy: 0.8403 - val_loss: 1.0490 - val_accuracy: 0.8324\n",
            "Epoch 10/40\n",
            "252/252 [==============================] - 3s 12ms/step - loss: 0.8059 - accuracy: 0.8466 - val_loss: 1.0236 - val_accuracy: 0.8364\n",
            "Epoch 11/40\n",
            "252/252 [==============================] - 2s 9ms/step - loss: 0.7536 - accuracy: 0.8524 - val_loss: 1.0024 - val_accuracy: 0.8384\n",
            "Epoch 12/40\n",
            "252/252 [==============================] - 2s 9ms/step - loss: 0.7048 - accuracy: 0.8587 - val_loss: 0.9833 - val_accuracy: 0.8418\n",
            "Epoch 13/40\n",
            "252/252 [==============================] - 2s 9ms/step - loss: 0.6585 - accuracy: 0.8646 - val_loss: 0.9717 - val_accuracy: 0.8449\n",
            "Epoch 14/40\n",
            "252/252 [==============================] - 2s 9ms/step - loss: 0.6173 - accuracy: 0.8703 - val_loss: 0.9646 - val_accuracy: 0.8460\n",
            "Epoch 15/40\n",
            "252/252 [==============================] - 3s 11ms/step - loss: 0.5771 - accuracy: 0.8758 - val_loss: 0.9542 - val_accuracy: 0.8484\n",
            "Epoch 16/40\n",
            "252/252 [==============================] - 3s 11ms/step - loss: 0.5394 - accuracy: 0.8813 - val_loss: 0.9475 - val_accuracy: 0.8497\n",
            "Epoch 17/40\n",
            "252/252 [==============================] - 2s 9ms/step - loss: 0.5033 - accuracy: 0.8871 - val_loss: 0.9354 - val_accuracy: 0.8527\n",
            "Epoch 18/40\n",
            "252/252 [==============================] - 2s 9ms/step - loss: 0.4701 - accuracy: 0.8923 - val_loss: 0.9358 - val_accuracy: 0.8561\n",
            "Epoch 19/40\n",
            "252/252 [==============================] - 2s 9ms/step - loss: 0.4384 - accuracy: 0.8981 - val_loss: 0.9291 - val_accuracy: 0.8571\n",
            "Epoch 20/40\n",
            "252/252 [==============================] - 2s 9ms/step - loss: 0.4090 - accuracy: 0.9044 - val_loss: 0.9284 - val_accuracy: 0.8581\n",
            "Epoch 21/40\n",
            "252/252 [==============================] - 3s 12ms/step - loss: 0.3800 - accuracy: 0.9100 - val_loss: 0.9181 - val_accuracy: 0.8583\n",
            "Epoch 22/40\n",
            "252/252 [==============================] - 2s 9ms/step - loss: 0.3554 - accuracy: 0.9153 - val_loss: 0.9191 - val_accuracy: 0.8601\n",
            "Epoch 23/40\n",
            "252/252 [==============================] - 2s 9ms/step - loss: 0.3308 - accuracy: 0.9203 - val_loss: 0.9200 - val_accuracy: 0.8605\n",
            "Epoch 24/40\n",
            "252/252 [==============================] - 2s 9ms/step - loss: 0.3089 - accuracy: 0.9250 - val_loss: 0.9207 - val_accuracy: 0.8612\n",
            "Epoch 25/40\n",
            "252/252 [==============================] - 2s 9ms/step - loss: 0.2885 - accuracy: 0.9288 - val_loss: 0.9214 - val_accuracy: 0.8637\n",
            "Epoch 26/40\n",
            "252/252 [==============================] - 3s 10ms/step - loss: 0.2693 - accuracy: 0.9335 - val_loss: 0.9188 - val_accuracy: 0.8635\n",
            "Epoch 27/40\n",
            "252/252 [==============================] - 3s 11ms/step - loss: 0.2515 - accuracy: 0.9375 - val_loss: 0.9264 - val_accuracy: 0.8642\n",
            "Epoch 28/40\n",
            "252/252 [==============================] - 2s 9ms/step - loss: 0.2356 - accuracy: 0.9403 - val_loss: 0.9259 - val_accuracy: 0.8653\n",
            "Epoch 29/40\n",
            "252/252 [==============================] - 2s 9ms/step - loss: 0.2208 - accuracy: 0.9443 - val_loss: 0.9278 - val_accuracy: 0.8659\n",
            "Epoch 30/40\n",
            "252/252 [==============================] - 2s 9ms/step - loss: 0.2070 - accuracy: 0.9462 - val_loss: 0.9320 - val_accuracy: 0.8655\n",
            "Epoch 31/40\n",
            "252/252 [==============================] - 2s 9ms/step - loss: 0.1952 - accuracy: 0.9490 - val_loss: 0.9327 - val_accuracy: 0.8656\n",
            "Epoch 32/40\n",
            "252/252 [==============================] - 3s 13ms/step - loss: 0.1840 - accuracy: 0.9509 - val_loss: 0.9396 - val_accuracy: 0.8659\n",
            "Epoch 33/40\n",
            "252/252 [==============================] - 2s 9ms/step - loss: 0.1735 - accuracy: 0.9534 - val_loss: 0.9432 - val_accuracy: 0.8657\n",
            "Epoch 34/40\n",
            "252/252 [==============================] - 2s 9ms/step - loss: 0.1631 - accuracy: 0.9553 - val_loss: 0.9465 - val_accuracy: 0.8676\n",
            "Epoch 35/40\n",
            "252/252 [==============================] - 2s 9ms/step - loss: 0.1551 - accuracy: 0.9573 - val_loss: 0.9566 - val_accuracy: 0.8670\n",
            "Epoch 36/40\n",
            "252/252 [==============================] - 2s 9ms/step - loss: 0.1470 - accuracy: 0.9593 - val_loss: 0.9594 - val_accuracy: 0.8671\n",
            "Epoch 37/40\n",
            "252/252 [==============================] - 3s 10ms/step - loss: 0.1399 - accuracy: 0.9603 - val_loss: 0.9569 - val_accuracy: 0.8683\n",
            "Epoch 38/40\n",
            "252/252 [==============================] - 3s 11ms/step - loss: 0.1325 - accuracy: 0.9610 - val_loss: 0.9729 - val_accuracy: 0.8662\n",
            "Epoch 39/40\n",
            "252/252 [==============================] - 2s 9ms/step - loss: 0.1264 - accuracy: 0.9622 - val_loss: 0.9738 - val_accuracy: 0.8663\n",
            "Epoch 40/40\n",
            "252/252 [==============================] - 2s 9ms/step - loss: 0.1217 - accuracy: 0.9634 - val_loss: 0.9821 - val_accuracy: 0.8651\n"
          ]
        },
        {
          "output_type": "execute_result",
          "data": {
            "text/plain": [
              "<keras.callbacks.History at 0x7f2bbffa5a00>"
            ]
          },
          "metadata": {},
          "execution_count": 21
        }
      ],
      "source": [
        "translation_model_with_att.fit(x=[train_source_input_data, train_target_input_data],\n",
        "                               y=train_target_output_data,\n",
        "                               validation_data=([test_source_input_data, test_target_input_data],\n",
        "                                                test_target_output_data),\n",
        "                               epochs=40)"
      ]
    },
    {
      "cell_type": "markdown",
      "metadata": {
        "id": "jz6en_QG6Mnw"
      },
      "source": [
        "Validation accuracy is about one percentage point better.\n",
        "\n",
        "**Question 1:** Why do you think the benefit of adding an attention layer is not larger?\n",
        "\n",
        "[Return to Top](#returnToTop)  \n",
        "<a id = 't5Example'></a>\n",
        "\n",
        "## 3. T5\n",
        "\n",
        "Now we turn to text generation with transformers. The T5 system was introduced [here](https://arxiv.org/pdf/1910.10683.pdf).  This model uses both the encoder and the decoder configurations of transformers and connects them together.  A big difference with this model is that it designed to accept text as an input and produce text as an output for a number of different tasks ranging from summarization and question answering to classification.  The system needs to be told which task to perform as the first part of the input text.  Be sure to look in *Appendix D* of the paper to see a complete set of the tasks that T5 base and large checkpoints can perform right out of the box and the data used to train them.\n",
        "\n",
        "Let's play a bit with Huggingface's (Large) implementation of T5."
      ]
    },
    {
      "cell_type": "code",
      "execution_count": 22,
      "metadata": {
        "colab": {
          "base_uri": "https://localhost:8080/",
          "height": 599,
          "referenced_widgets": [
            "342ca7df0a0d4f1c85319f9e2abb880e",
            "59fd294947674fcfaf7183dc052a3e5e",
            "19fb9e97809e48528760359c315ceda6",
            "03136f812ae2446b9bfae25f8ea59acb",
            "3ad9dd99ce5a485ab02073560833bb0b",
            "3c859e6cc4ee4c6cb6929e86a42a0661",
            "6730c4fcd52840b0b9e6148d1fa04579",
            "b996d7b803944184bfc0f6c58dc7e93b",
            "5846d0566c4b4a0abb66d35ecf57dd4e",
            "cfe68cbe424d411e9790b1ffee83c9cc",
            "81e9e35f86724f258f17f98e38841a33",
            "08917850df1147678e2fccb6e3af24b1",
            "b237575386964219a9c9de3b0ea268e4",
            "b5f67135090547f8a6f444348317bde0",
            "b715c0ce335a490db4d5b72d05baddd1",
            "f5fe8e832f4b479d8e36c833986e9a43",
            "5c50113ab7884863bbf0e90d7d49132b",
            "a3e2edec1c5049a9ab5b78a559ab5809",
            "ccf42986beda4dd8944f0c01906d7f02",
            "ec32a0133f1643dfb1acabaa7abc5f80",
            "6eba6653997447f1b5f4fd79e4a71500",
            "d34dec55384e4b38852981ac5844487e",
            "dfc0f40a1a55493e869c279717db8603",
            "8b5e3965d635481b92493c2f8c2a0340",
            "ded31453b8004d3f8ebd16ae4707db16",
            "70f0e480489a46e896c18f8f0c9f9ede",
            "ee1e9cdf3c4c4aaa828e4637abcb1115",
            "d011b55823b04b36afcdf4f23996e34a",
            "2f9305325ec548d8a512966783b1fbc8",
            "cc65b8f9967844a19d2d29521d995a3b",
            "6128dd75865a4b1bbfca4b60902e523c",
            "1351dddab63348a9afaee3491e6d5a9b",
            "473308def3504a6c88ad8dca43ba1c4d",
            "05078b533b4a4210b4cab757bd2f363b",
            "3dc3b53ca25d484f9a03e7ae5292f917",
            "856e6c27084a4764bf6c7a31368c3811",
            "e25fe958b35c43b08608f742bb2d97a1",
            "94e81dcd66014701833893ab8dd6cccf",
            "fb3b5b3e5c644e54be3f0828f860a63a",
            "ea1ecf40aca74599a89b1b9173fb2070",
            "530762b56504499a828d257fa5dbe1d7",
            "75063084efea45448d8af5fe5b0a3263",
            "d4ac471161e7469687bfb5e7c0896d85",
            "547fc6fc4bb349ed9c5e5a81468f1245"
          ]
        },
        "id": "ZP02F_4E2Ngq",
        "outputId": "e226fe1c-c3bb-4527-e0a5-005cc3e5eb81"
      },
      "outputs": [
        {
          "output_type": "display_data",
          "data": {
            "text/plain": [
              "Downloading (…)lve/main/config.json:   0%|          | 0.00/1.21k [00:00<?, ?B/s]"
            ],
            "application/vnd.jupyter.widget-view+json": {
              "version_major": 2,
              "version_minor": 0,
              "model_id": "342ca7df0a0d4f1c85319f9e2abb880e"
            }
          },
          "metadata": {}
        },
        {
          "output_type": "display_data",
          "data": {
            "text/plain": [
              "Downloading (…)\"tf_model.h5\";:   0%|          | 0.00/2.95G [00:00<?, ?B/s]"
            ],
            "application/vnd.jupyter.widget-view+json": {
              "version_major": 2,
              "version_minor": 0,
              "model_id": "08917850df1147678e2fccb6e3af24b1"
            }
          },
          "metadata": {}
        },
        {
          "output_type": "stream",
          "name": "stderr",
          "text": [
            "All model checkpoint layers were used when initializing TFT5ForConditionalGeneration.\n",
            "\n",
            "All the layers of TFT5ForConditionalGeneration were initialized from the model checkpoint at t5-large.\n",
            "If your task is similar to the task the model of the checkpoint was trained on, you can already use TFT5ForConditionalGeneration for predictions without further training.\n"
          ]
        },
        {
          "output_type": "display_data",
          "data": {
            "text/plain": [
              "Downloading (…)neration_config.json:   0%|          | 0.00/147 [00:00<?, ?B/s]"
            ],
            "application/vnd.jupyter.widget-view+json": {
              "version_major": 2,
              "version_minor": 0,
              "model_id": "dfc0f40a1a55493e869c279717db8603"
            }
          },
          "metadata": {}
        },
        {
          "output_type": "display_data",
          "data": {
            "text/plain": [
              "Downloading (…)ve/main/spiece.model:   0%|          | 0.00/792k [00:00<?, ?B/s]"
            ],
            "application/vnd.jupyter.widget-view+json": {
              "version_major": 2,
              "version_minor": 0,
              "model_id": "05078b533b4a4210b4cab757bd2f363b"
            }
          },
          "metadata": {}
        },
        {
          "output_type": "stream",
          "name": "stdout",
          "text": [
            "Model: \"tft5_for_conditional_generation\"\n",
            "_________________________________________________________________\n",
            " Layer (type)                Output Shape              Param #   \n",
            "=================================================================\n",
            " shared (Embedding)          multiple                  32899072  \n",
            "                                                                 \n",
            " encoder (TFT5MainLayer)     multiple                  334939648 \n",
            "                                                                 \n",
            " decoder (TFT5MainLayer)     multiple                  435627520 \n",
            "                                                                 \n",
            "=================================================================\n",
            "Total params: 737,668,096\n",
            "Trainable params: 737,668,096\n",
            "Non-trainable params: 0\n",
            "_________________________________________________________________\n"
          ]
        },
        {
          "output_type": "stream",
          "name": "stderr",
          "text": [
            "/usr/local/lib/python3.8/dist-packages/transformers/models/t5/tokenization_t5.py:163: FutureWarning: This tokenizer was incorrectly instantiated with a model max length of 512 which will be corrected in Transformers v5.\n",
            "For now, this behavior is kept to avoid breaking backwards compatibility when padding/encoding with `truncation is True`.\n",
            "- Be aware that you SHOULD NOT rely on t5-large automatically truncating your input to 512 when padding/encoding.\n",
            "- If you want to encode/pad to sequences longer than 512 you can either instantiate this tokenizer with `model_max_length` or pass `max_length` when encoding/padding.\n",
            "- To avoid this warning, please instantiate this tokenizer with `model_max_length` set to your preferred value.\n",
            "  warnings.warn(\n"
          ]
        }
      ],
      "source": [
        "t5_model = TFT5ForConditionalGeneration.from_pretrained('t5-large')\n",
        "t5_tokenizer = T5Tokenizer.from_pretrained('t5-large')\n",
        "\n",
        "t5_model.summary()"
      ]
    },
    {
      "cell_type": "markdown",
      "metadata": {
        "id": "ukA3CNS6ZsZt"
      },
      "source": [
        "737 m trainable parameters. Quite a lot. \n",
        "\n",
        "Let's create a short text to use as an example."
      ]
    },
    {
      "cell_type": "code",
      "execution_count": 23,
      "metadata": {
        "id": "vGxjgkL96Lh3"
      },
      "outputs": [],
      "source": [
        "ARTICLE = (\"Oh boy, what a lengthy and cumbersome excercise this was. \" \\\n",
        "           \"I had to look into every detail, check everything twice, \" \\\n",
        "           \" and then compare to prior results. Because of this tediousness \" \\\n",
        "           \" and extra work my homework was 2 days late.\")"
      ]
    },
    {
      "cell_type": "markdown",
      "metadata": {
        "id": "n-tEGC7MZz9F"
      },
      "source": [
        "Next, we need to specify the task we want T5 to perform and include it at the begining of the input text.  We add a task prompt to the begining of our input.  Because we are summarizing, we add the word *summarize:* to the begining of our input."
      ]
    },
    {
      "cell_type": "code",
      "execution_count": 24,
      "metadata": {
        "id": "TgFCtCMP2TAo"
      },
      "outputs": [],
      "source": [
        "t5_input_text = \"summarize: \" + ARTICLE\n",
        "t5_inputs = t5_tokenizer([t5_input_text], return_tensors='tf')"
      ]
    },
    {
      "cell_type": "markdown",
      "metadata": {
        "id": "yoR7GwLsZ96P"
      },
      "source": [
        "First, we will generate a summary using the default output options."
      ]
    },
    {
      "cell_type": "code",
      "execution_count": 25,
      "metadata": {
        "colab": {
          "base_uri": "https://localhost:8080/"
        },
        "id": "BooaIspD2YHx",
        "outputId": "47cf5b5f-203a-47bc-8b55-eac44b1f5ce0"
      },
      "outputs": [
        {
          "output_type": "stream",
          "name": "stderr",
          "text": [
            "/usr/local/lib/python3.8/dist-packages/transformers/generation/tf_utils.py:702: UserWarning: Neither `max_length` nor `max_new_tokens` have been set, `max_length` will default to 20 (`generation_config.max_length`). Controlling `max_length` via the config is deprecated and `max_length` will be removed from the config in v5 of Transformers -- we recommend using `max_new_tokens` to control the maximum length of the generation.\n",
            "  warnings.warn(\n"
          ]
        },
        {
          "output_type": "stream",
          "name": "stdout",
          "text": [
            "['homework was a lengthy and cumbersome excercise . because of this tedious']\n"
          ]
        }
      ],
      "source": [
        "t5_summary_ids = t5_model.generate(t5_inputs['input_ids'])\n",
        "\n",
        "print([t5_tokenizer.decode(g, skip_special_tokens=True,\n",
        "                           clean_up_tokenization_spaces=False)\n",
        "       for g in t5_summary_ids])"
      ]
    },
    {
      "cell_type": "markdown",
      "metadata": {
        "id": "RHlbG7UOaEnr"
      },
      "source": [
        "Not great. But let's get more sophisticated and prescribe a minimum length and use beam search to generate multiple outputs.  We also indicate the maximum length the output should be.  Finally, in order to reduce repetitive output we tell the model to avoid output that repeats trigrams (three word groupings)."
      ]
    },
    {
      "cell_type": "code",
      "execution_count": 26,
      "metadata": {
        "colab": {
          "base_uri": "https://localhost:8080/"
        },
        "id": "Cl2LvRRz2cH1",
        "outputId": "4c4957f2-75e8-4869-d4e7-c56adede66a7"
      },
      "outputs": [
        {
          "output_type": "stream",
          "name": "stdout",
          "text": [
            "['i had to look into every detail, check everything twice, and then compare to prior results . because of this tediousness and extra work my homework was 2 days late .']\n"
          ]
        }
      ],
      "source": [
        "t5_summary_ids = t5_model.generate(t5_inputs['input_ids'],\n",
        "                                   num_beams=3,\n",
        "                                   no_repeat_ngram_size=3,\n",
        "                                   min_length=20,\n",
        "                                   max_length=40)\n",
        "                             \n",
        "print([t5_tokenizer.decode(g, skip_special_tokens=True, \n",
        "                           clean_up_tokenization_spaces=False) for g in t5_summary_ids])"
      ]
    },
    {
      "cell_type": "markdown",
      "metadata": {
        "id": "i5-eCY8DaQTM"
      },
      "source": [
        "That is a bit better thanks to our application of some hyperparameters. \n",
        "\n",
        "Lastly, can T5 perform machine translation? Yes, in some limited instances.  We need to specify the input and output languages. Keep in mind that the model has only been trained to translate in particular directions e.g. English to Romanian but NOT Romanian to English.\n"
      ]
    },
    {
      "cell_type": "code",
      "execution_count": 27,
      "metadata": {
        "id": "guJVGlqg5LWM"
      },
      "outputs": [],
      "source": [
        "t5_input_text = \"translate English to German: \" + ARTICLE\n",
        "t5_inputs = t5_tokenizer([t5_input_text], return_tensors='tf')"
      ]
    },
    {
      "cell_type": "code",
      "execution_count": 28,
      "metadata": {
        "colab": {
          "base_uri": "https://localhost:8080/"
        },
        "id": "CB6pE72B5PKb",
        "outputId": "be1ba8e4-15cf-4058-fb5a-ee207988c128"
      },
      "outputs": [
        {
          "output_type": "stream",
          "name": "stdout",
          "text": [
            "['Ich habe es nicht geschafft, meinen ersten Test zu schreiben, da ich nicht genügend Zeit hatte, um meinen Test zu bearbeiten.']\n"
          ]
        }
      ],
      "source": [
        "t5_summary_ids = t5_model.generate(t5_inputs['input_ids'],\n",
        "                                   num_beams=3,\n",
        "                                   no_repeat_ngram_size=3,\n",
        "                                   min_length=10,\n",
        "                                   max_length=40)\n",
        "                             \n",
        "print([t5_tokenizer.decode(g, skip_special_tokens=True, \n",
        "                           clean_up_tokenization_spaces=False) for g in t5_summary_ids])"
      ]
    },
    {
      "cell_type": "markdown",
      "metadata": {
        "id": "Y1C3xL6ma5xC"
      },
      "source": [
        "Hmm... output language fluency is very good. But take the German output and feed it in to translate.google.com and see what this means. Is it anything like its English input? This hallucination might be mitigated by changing some of the hyperparameters like num_beams.\n",
        "\n",
        "Is a shorter example more accurate?  Maybe."
      ]
    },
    {
      "cell_type": "code",
      "execution_count": 29,
      "metadata": {
        "id": "SY93muRb5RiI"
      },
      "outputs": [],
      "source": [
        "t5_input_text = \"translate English to German: That was really not very good today; it was too difficult to solve.\"\n",
        "t5_inputs = t5_tokenizer([t5_input_text], return_tensors='tf')"
      ]
    },
    {
      "cell_type": "code",
      "execution_count": 30,
      "metadata": {
        "colab": {
          "base_uri": "https://localhost:8080/"
        },
        "id": "mDsF31UZbK1I",
        "outputId": "60fa49cd-fde1-46bf-a736-dc12fcfced0e"
      },
      "outputs": [
        {
          "output_type": "stream",
          "name": "stdout",
          "text": [
            "['Das war heute wirklich nicht sehr gut; es war zu schwierig zu lösen.']\n"
          ]
        }
      ],
      "source": [
        "t5_summary_ids = t5_model.generate(t5_inputs['input_ids'],\n",
        "                                   num_beams=3,\n",
        "                                   no_repeat_ngram_size=3,\n",
        "                                   min_length=10,\n",
        "                                   max_length=40)\n",
        "                             \n",
        "print([t5_tokenizer.decode(g, skip_special_tokens=True, \n",
        "                           clean_up_tokenization_spaces=False) for g in t5_summary_ids])"
      ]
    },
    {
      "cell_type": "markdown",
      "metadata": {
        "id": "QJy_BapabMYQ"
      },
      "source": [
        "That is not bad, though some mistakes are there."
      ]
    },
    {
      "cell_type": "markdown",
      "source": [
        "[Return to Top](#returnToTop)  \n",
        "<a id = 'prompts'></a>\n",
        "\n",
        "## 4. Prompt Engineering and Generative Large Language Models\n",
        "\n",
        "The development of very large language models such as [GPT3](https://arxiv.org/pdf/2005.14165.pdf) have led to increased interest in few shot and zero shot approaches to tasks.  These generative language models allow a user to provide a prompt with several examples followed by a question the model must answer.  GPT3, especially its 175 billion parameter model, demonstrates the feasibility of a zero shot model where the model can simply be presented with the prompt and in many instances provide the correct answer.  \n",
        "\n",
        "The implication of this zero shot capability is that a very large generative language model can be pre-trained and then shared by a large group of people because it requires no fine-tuning or parameter manipulation. Instead, the users work on the wording of their prompt and providing enough context that the model an perform the task correctly. [Liu et. al.](https://arxiv.org/pdf/2107.13586.pdf) characterize this as \"pre-train, prompt, and predict.\"\n",
        "\n",
        "There are multiple approaches to pre-train, prompt and predict.  Here we explore two of them.  First we look at cloze prompts.  These leverage the masked language model approach used in BERT an T5 where individual words or spans are masked and during pre-training the model learns to predict the maked tokens. Second we look at prefix prompts.  These leverage the next word prediction capability of decoder only models in the GPT family. "
      ],
      "metadata": {
        "id": "OihbtuDE24RP"
      }
    },
    {
      "cell_type": "markdown",
      "source": [
        "[Return to Top](#returnToTop)  \n",
        "<a id = 'clozePrompts'></a>\n",
        "\n",
        "### 4.1 Cloze Prompts\n",
        "\n",
        "Cloze prompts take advantgae of the masked language model task where an individual word or span of words anywhere in the input are masked and the language model learns to predict them. "
      ],
      "metadata": {
        "id": "X4vUv5ZYB9rz"
      }
    },
    {
      "cell_type": "code",
      "source": [
        "del t5_tokenizer\n",
        "del t5_model\n",
        "\n",
        "t5_model = TFT5ForConditionalGeneration.from_pretrained('t5-base')\n",
        "t5_tokenizer = T5Tokenizer.from_pretrained('t5-base')"
      ],
      "metadata": {
        "colab": {
          "base_uri": "https://localhost:8080/",
          "height": 339,
          "referenced_widgets": [
            "58f36121b0d24e12b0e0e69f98bcff4d",
            "96fea4e79c254651b714d87c69457955",
            "e6ed441cf40346ffa1d430392c0f198c",
            "45f3c05afd6d43b79fccbf8e7f493241",
            "64b024e9cd6544b5aa03e3cd10c1fc85",
            "941499bee36e4594ad909b3cae5ea390",
            "03d019f212454b6da55fa81c3dcb509e",
            "479f64f1f834474b8c3764dd26434568",
            "222d17e71cb341639c298726c3083d64",
            "b452b0f0c7a840939b9275af315bc98d",
            "9ae121329a604b8ba29fb1348ce9da2f",
            "821c3317c1044e5f932602535da3e569",
            "04af3b20fca44068acb99029552d90d7",
            "cc4e1f2e57404d0088629001a336ade6",
            "cbab82bb9ad248f991bd90a7a972d631",
            "c95df3d184ea41a4a0c3d01684da16a1",
            "db79c4f0f5b744e8a75f41c92f2eba19",
            "d41200b65b3040d8b85ee05b5c86a89d",
            "6f6c48462e96490ea7723becf2607e79",
            "658d0a7d25a24d658d239d2a3469c129",
            "b77d5cf2b3474b3b86846605dd6019b2",
            "b878c7fd6f0a43ddb967a6db68d2e4cb",
            "29bace504ff84aefaee8e95904c571e8",
            "6277d6da4f3c460b8eb8a10c9e3180ef",
            "0f444e540c9e4cd3a1b6d088d969bae0",
            "b01a6bb99876457285765ea5a6da7fce",
            "79c38130697045279fe163f3e8a56945",
            "d2a7499f09494e12a9edd765e1110f44",
            "2cf1a4fa717e4a5db7374c52f6b7e280",
            "5378dfd350cb4408afd0ce22f6cd490c",
            "14a5f7b822754bff8b9aa1ec71f18273",
            "8a7f2c044c3d421e83a896a699d04ae5",
            "c1d53ecf061a4348a36434d5ca8f8662",
            "4dd42e0344f4431cb242a250a7d1073e",
            "1cbb12551fb14c4ea3a060ca859bf6a2",
            "08061d56c5db4565996216cd063a50cd",
            "f9363c84bf71430b83e810f8ba386f89",
            "7e7c882ae2b44d5b87398f5fad2ffc9f",
            "64477215d7c54e988e042f8b3923011c",
            "d0c8046fdf1e4a2eba4757ce74974938",
            "c54060108bd64d2da3e289ecd993722b",
            "c317b0418b0240fda9c390f2ffca47be",
            "65527cdb577247fdb252c04d78a958f1",
            "f34e749967224aafb91b0750ef0f79b6"
          ]
        },
        "id": "0ECNZWOiJK8r",
        "outputId": "58ff0d28-2430-431d-a3bd-c0fd06b81d7a"
      },
      "execution_count": 31,
      "outputs": [
        {
          "output_type": "display_data",
          "data": {
            "text/plain": [
              "Downloading (…)lve/main/config.json:   0%|          | 0.00/1.21k [00:00<?, ?B/s]"
            ],
            "application/vnd.jupyter.widget-view+json": {
              "version_major": 2,
              "version_minor": 0,
              "model_id": "58f36121b0d24e12b0e0e69f98bcff4d"
            }
          },
          "metadata": {}
        },
        {
          "output_type": "display_data",
          "data": {
            "text/plain": [
              "Downloading (…)\"tf_model.h5\";:   0%|          | 0.00/892M [00:00<?, ?B/s]"
            ],
            "application/vnd.jupyter.widget-view+json": {
              "version_major": 2,
              "version_minor": 0,
              "model_id": "821c3317c1044e5f932602535da3e569"
            }
          },
          "metadata": {}
        },
        {
          "output_type": "stream",
          "name": "stderr",
          "text": [
            "All model checkpoint layers were used when initializing TFT5ForConditionalGeneration.\n",
            "\n",
            "All the layers of TFT5ForConditionalGeneration were initialized from the model checkpoint at t5-base.\n",
            "If your task is similar to the task the model of the checkpoint was trained on, you can already use TFT5ForConditionalGeneration for predictions without further training.\n"
          ]
        },
        {
          "output_type": "display_data",
          "data": {
            "text/plain": [
              "Downloading (…)neration_config.json:   0%|          | 0.00/147 [00:00<?, ?B/s]"
            ],
            "application/vnd.jupyter.widget-view+json": {
              "version_major": 2,
              "version_minor": 0,
              "model_id": "29bace504ff84aefaee8e95904c571e8"
            }
          },
          "metadata": {}
        },
        {
          "output_type": "display_data",
          "data": {
            "text/plain": [
              "Downloading (…)ve/main/spiece.model:   0%|          | 0.00/792k [00:00<?, ?B/s]"
            ],
            "application/vnd.jupyter.widget-view+json": {
              "version_major": 2,
              "version_minor": 0,
              "model_id": "4dd42e0344f4431cb242a250a7d1073e"
            }
          },
          "metadata": {}
        },
        {
          "output_type": "stream",
          "name": "stderr",
          "text": [
            "/usr/local/lib/python3.8/dist-packages/transformers/models/t5/tokenization_t5.py:163: FutureWarning: This tokenizer was incorrectly instantiated with a model max length of 512 which will be corrected in Transformers v5.\n",
            "For now, this behavior is kept to avoid breaking backwards compatibility when padding/encoding with `truncation is True`.\n",
            "- Be aware that you SHOULD NOT rely on t5-base automatically truncating your input to 512 when padding/encoding.\n",
            "- If you want to encode/pad to sequences longer than 512 you can either instantiate this tokenizer with `model_max_length` or pass `max_length` when encoding/padding.\n",
            "- To avoid this warning, please instantiate this tokenizer with `model_max_length` set to your preferred value.\n",
            "  warnings.warn(\n"
          ]
        }
      ]
    },
    {
      "cell_type": "markdown",
      "source": [
        "\"\\<extra_id_0\\>\" is the special token (called a sentinel token) we can use with T5 to invoke its masked word modeling ability. There are up to 99 of these tokens. This means we can construct sentences, like a fill in the blank test, that allow us to probe the knowledge embedded in the model based on its pre-training.  Here's an example that works well.  After you've run it try substituting beagle for poodle and you'll see the model gets confused.\n",
        "\n",
        "Notice two that we are using a beam search approach and accepting the top three choices rather than just the first choice."
      ],
      "metadata": {
        "id": "e3imLWPK2_JR"
      }
    },
    {
      "cell_type": "code",
      "source": [
        "PROMPT_SENTENCE = ( \"An Australian <extra_id_0> is a type of working dog .\")\n",
        "t5_input_text = PROMPT_SENTENCE\n",
        "t5_inputs = t5_tokenizer([t5_input_text], return_tensors='tf')\n",
        "t5_summary_ids = t5_model.generate(t5_inputs['input_ids'], \n",
        "                                   num_beams=15,\n",
        "                                   no_repeat_ngram_size=2,\n",
        "                                   num_return_sequences=3,\n",
        "                                   min_length=1,\n",
        "                                   max_length=3)\n",
        "                             \n",
        "print([t5_tokenizer.decode(g, skip_special_tokens=True, \n",
        "                           clean_up_tokenization_spaces=False) for g in t5_summary_ids])"
      ],
      "metadata": {
        "colab": {
          "base_uri": "https://localhost:8080/"
        },
        "id": "VErVi2AW3J84",
        "outputId": "0151e060-663c-4945-859d-ccd4ce6ab3e7"
      },
      "execution_count": 32,
      "outputs": [
        {
          "output_type": "stream",
          "name": "stdout",
          "text": [
            "['Shepherd', 'working', 'Working']\n"
          ]
        }
      ]
    },
    {
      "cell_type": "markdown",
      "metadata": {
        "id": "R_OmxvA13A09"
      },
      "source": [
        "[Return to Top](#returnToTop)  \n",
        "<a id = 'prefixPrompt'></a>\n",
        "\n",
        "### 4.2 Prefix Prompts\n",
        "\n",
        "Prefix prompts are used with models that predict the next word given a large context window.  If you fill that window with the right information you can get the model to generate the output you want.  GPT3 relies on this approach to successfully perform.  You can either include a couple of examples of what you want the model to do and then ask your question or you can just ask your question.\n",
        "\n",
        "Let's take a look at a decoder-only generative pretrained text generation model: [OPT](https://arxiv.org/pdf/2205.01068.pdf). This model doesn't have separate input and output sequences, instead we will feed in one sequence (the prefix prompt) and ask the model to continue generating text to complete that same sequence.  The OPT model is intended to replicate the functionality of the GPT-3 model and comes in several size from 125 million parameters to 175 billion parameters.  We'll work with the 350 million parameter model."
      ]
    },
    {
      "cell_type": "markdown",
      "source": [
        "As with T5, we'll just try out the pre-trained model and see what text it generates for a new starting sequence."
      ],
      "metadata": {
        "id": "VAdytHKkIXtx"
      }
    },
    {
      "cell_type": "code",
      "source": [
        "from transformers import GPT2Tokenizer, TFOPTForCausalLM\n"
      ],
      "metadata": {
        "id": "xA7SCOBXM7nN"
      },
      "execution_count": 33,
      "outputs": []
    },
    {
      "cell_type": "code",
      "source": [
        "opt_tokenizer = GPT2Tokenizer.from_pretrained(\"facebook/opt-350m\")\n",
        "opt_model = TFOPTForCausalLM.from_pretrained(\"facebook/opt-350m\")"
      ],
      "metadata": {
        "colab": {
          "base_uri": "https://localhost:8080/",
          "height": 330,
          "referenced_widgets": [
            "ede33228db42489484dddc78fd804a85",
            "a6580a5c8b1f4a5a9703c3a1464aa6c1",
            "595035e2401a4ce1a3d60e6660bed987",
            "24ddf35e641748259b54a132d4da23aa",
            "e175633d47424ebe9f701484536a2965",
            "7f2be85389a045fb8b18f0b4d03217fa",
            "7c8307f281a34fe9a2c1d91e8da30dc7",
            "3055f5c777ae44ebb922ff09adbf0c52",
            "032ebb22f33641cc94f57de3bfe55585",
            "98f211febaaa4f5ca1317530ffd601eb",
            "81fbac7e521c41eba1875d4c1ecd1db1",
            "cbae8d027fd2497da5d9a3ed5760871f",
            "82bc5e8fbb5149aeb660b9ec7fdfc154",
            "fd75cb6ec09f4af8a584391742aa6e86",
            "cf7e914b8c1f4c67ac22ec91486e133f",
            "8dddd6f83c1b49ffb417be1141d5ae67",
            "da6d628552124d7aac3974c92962996b",
            "2a5668cc44ec4c1c8567f08e5f33460e",
            "7d48e8625c934b849884397a5a5afc89",
            "ddeed5f76d2048c3871503d162e135a7",
            "cf8862773f914949951bf36b6a9fece6",
            "faf829d0986b48a8aae017339008bc4e",
            "5431e07aed214681961b463376fcd6e4",
            "f028f9b33a2c4af3905b48664dc9fe1c",
            "ed7da85a4f24495fa1272a3464724a9a",
            "7fc7592b74e44f5d852804f2dd70e2c3",
            "58e6198b426946fda6777b1e497b1002",
            "4ef76cbd354f45ffbac8d3f05597f51e",
            "5f19c5d2f3054edbb5c749779636701f",
            "587d7d33535d4ce5a8b084a552073e52",
            "974c1406d98f4fb4a23f2b700a48b632",
            "9bfe0289d7a34eaab8fdcdbcd654cd24",
            "64204bc52bab4cfbbcc85d65c3bf10bb",
            "c3a39fcf40a74acdb46b45d411b58906",
            "afae606770e2448f8c99253cec22d1d8",
            "72b78141b901440ea67a1f9a9661926b",
            "39961a23b92d435b9d2daee31732606b",
            "21069da5e03640cc947968ee2cda0a31",
            "db999cc21e144fae95020fedc8f547ca",
            "dace66e7450741e2bc806e8c44e3486e",
            "4834332789aa43e6a9c7cef244d27cd3",
            "ed605cf37f7049ab83d2ccd09ea5047c",
            "3df33e47f77347f6aa154682cec720f8",
            "6c317e38b35447e48b2b8d4f465b7d84",
            "710f0af951eb48148e715f544a014854",
            "be738395495c4296af63be3b3cc6bec1",
            "f4ef59a869074119a49eec655d24bdc3",
            "884dcca5099a42b28e503450ff4d4213",
            "2e25fabb290d4d8d884ece1932f4825a",
            "9f674bac61164a6b9248496734b10471",
            "2a4f7b679fd6443b94cfbfc7adbe4eb1",
            "f37bb5f0191f4e4ab0929d279b6ab51b",
            "97d3fd32bd5b413bbd70bef90dfa6ac4",
            "e1d090e8eef4440195ca7ac98afc7aa5",
            "28adf5ae61df4890a817ce39bed03501",
            "ed5e354d9b0b42b2b6b6068e50247603",
            "05ccbcaa89df4a0793e34ec1d512a358",
            "8f1ddf337a834d4fba557d99403e99a3",
            "ff27df55197e486e8f0e66d49d41121e",
            "a6a4e393905847a88fe81eded073d252",
            "5e4f44dde9a844ef83e455c10feca58e",
            "045f6a739fe04a92a94e52399d8cdebd",
            "2a4cbabb04bd4de0898bd2592f490529",
            "70bb6c84251641c4939e1998b6893806",
            "888bf56f2a204b8f883df979436aaa21",
            "b475d760fccc4e4987aae40141b8886e",
            "3b623f09283344cc931ac37ca053b293",
            "3e8d5f55b5ef4aa6ae580391abb26075",
            "40ae8b7462104dbe95dc10eb62d8749a",
            "9ce113147e9e42f883ab8019ad900a5b",
            "e2fae6209a5f49d4aff34dae478c9503",
            "551220905b9b41d7aa0308a3380740ff",
            "2bc08cfee8ad43fb8d281c64da76b0de",
            "81b690d1f94448239ea1a0984f0a4521",
            "b1a5419e344e4c349e905522f1f15aa0",
            "a2e6d14eed674b1293e5337744f4d5da",
            "354bde2806db4ab9b8733c36877d2048"
          ]
        },
        "id": "iTl3MurxM7d2",
        "outputId": "105f94f3-3daf-4aef-edf5-6e6d88526a98"
      },
      "execution_count": 34,
      "outputs": [
        {
          "output_type": "display_data",
          "data": {
            "text/plain": [
              "Downloading (…)olve/main/vocab.json:   0%|          | 0.00/899k [00:00<?, ?B/s]"
            ],
            "application/vnd.jupyter.widget-view+json": {
              "version_major": 2,
              "version_minor": 0,
              "model_id": "ede33228db42489484dddc78fd804a85"
            }
          },
          "metadata": {}
        },
        {
          "output_type": "display_data",
          "data": {
            "text/plain": [
              "Downloading (…)olve/main/merges.txt:   0%|          | 0.00/456k [00:00<?, ?B/s]"
            ],
            "application/vnd.jupyter.widget-view+json": {
              "version_major": 2,
              "version_minor": 0,
              "model_id": "cbae8d027fd2497da5d9a3ed5760871f"
            }
          },
          "metadata": {}
        },
        {
          "output_type": "display_data",
          "data": {
            "text/plain": [
              "Downloading (…)cial_tokens_map.json:   0%|          | 0.00/441 [00:00<?, ?B/s]"
            ],
            "application/vnd.jupyter.widget-view+json": {
              "version_major": 2,
              "version_minor": 0,
              "model_id": "5431e07aed214681961b463376fcd6e4"
            }
          },
          "metadata": {}
        },
        {
          "output_type": "display_data",
          "data": {
            "text/plain": [
              "Downloading (…)okenizer_config.json:   0%|          | 0.00/685 [00:00<?, ?B/s]"
            ],
            "application/vnd.jupyter.widget-view+json": {
              "version_major": 2,
              "version_minor": 0,
              "model_id": "c3a39fcf40a74acdb46b45d411b58906"
            }
          },
          "metadata": {}
        },
        {
          "output_type": "display_data",
          "data": {
            "text/plain": [
              "Downloading (…)lve/main/config.json:   0%|          | 0.00/644 [00:00<?, ?B/s]"
            ],
            "application/vnd.jupyter.widget-view+json": {
              "version_major": 2,
              "version_minor": 0,
              "model_id": "710f0af951eb48148e715f544a014854"
            }
          },
          "metadata": {}
        },
        {
          "output_type": "display_data",
          "data": {
            "text/plain": [
              "Downloading (…)\"tf_model.h5\";:   0%|          | 0.00/663M [00:00<?, ?B/s]"
            ],
            "application/vnd.jupyter.widget-view+json": {
              "version_major": 2,
              "version_minor": 0,
              "model_id": "ed5e354d9b0b42b2b6b6068e50247603"
            }
          },
          "metadata": {}
        },
        {
          "output_type": "stream",
          "name": "stderr",
          "text": [
            "All model checkpoint layers were used when initializing TFOPTForCausalLM.\n",
            "\n",
            "All the layers of TFOPTForCausalLM were initialized from the model checkpoint at facebook/opt-350m.\n",
            "If your task is similar to the task the model of the checkpoint was trained on, you can already use TFOPTForCausalLM for predictions without further training.\n"
          ]
        },
        {
          "output_type": "display_data",
          "data": {
            "text/plain": [
              "Downloading (…)neration_config.json:   0%|          | 0.00/137 [00:00<?, ?B/s]"
            ],
            "application/vnd.jupyter.widget-view+json": {
              "version_major": 2,
              "version_minor": 0,
              "model_id": "3b623f09283344cc931ac37ca053b293"
            }
          },
          "metadata": {}
        }
      ]
    },
    {
      "cell_type": "code",
      "execution_count": 35,
      "metadata": {
        "id": "rseHCa6q1OP9"
      },
      "outputs": [],
      "source": [
        "prefix_prompt = 'Yesterday, I went to the store to buy '\n",
        "input_ids = opt_tokenizer.encode(prefix_prompt, return_tensors='tf')"
      ]
    },
    {
      "cell_type": "code",
      "execution_count": 36,
      "metadata": {
        "colab": {
          "base_uri": "https://localhost:8080/"
        },
        "id": "OpI1EL511OTA",
        "outputId": "8e5ba0ad-dfe0-49f2-c6f3-84254f4412c1"
      },
      "outputs": [
        {
          "output_type": "stream",
          "name": "stdout",
          "text": [
            "\n",
            "0: Yesterday, I went to the store to buy  an iPhone and there was a message saying there were no new models available.\n",
            "You've only been here for like 2\n",
            "\n",
            "1: Yesterday, I went to the store to buy  a new (to me) T-shirt.\n",
            "I came home and said \"Wait where did this shirt come from\n",
            "\n",
            "2: Yesterday, I went to the store to buy iced tea. One of my friends was at work and he has a huge beard so it would be weird if we got\n"
          ]
        }
      ],
      "source": [
        "generated_text_outputs = opt_model.generate(\n",
        "    input_ids, \n",
        "    max_length=35,\n",
        "    num_return_sequences=3,\n",
        "    repetition_penalty=1.5,\n",
        "    top_p=0.92,\n",
        "    temperature=.85,\n",
        "    do_sample=True,\n",
        "    top_k=125,\n",
        "    early_stopping=True\n",
        ")\n",
        "\n",
        "#Print output for each sequence generated above\n",
        "for i, beam in enumerate(generated_text_outputs):\n",
        "  print()\n",
        "  print(\"{}: {}\".format(i, opt_tokenizer.decode(beam, skip_special_tokens=True, clean_up_tokenization_spaces=True)))\n"
      ]
    },
    {
      "cell_type": "markdown",
      "source": [
        "Now let's try a long prompt to give the model a lot of context to work with and see how well it performs.  We'll also include the output for that same prompt from chatGPT for comparison purposes. "
      ],
      "metadata": {
        "id": "5TRA7t_1H7MG"
      }
    },
    {
      "cell_type": "code",
      "source": [
        "prompt = (\"Write a paragraph long review of Dino's Diner which has been your family's favorite for generations.\" \\\n",
        "          \" You are a 42 year old parent with three hungry kids who lives in Tom's River, NJ.\")\n",
        "\n",
        "inputs = opt_tokenizer(prompt, return_tensors=\"tf\")"
      ],
      "metadata": {
        "id": "zHMz-leRM7S6"
      },
      "execution_count": 37,
      "outputs": []
    },
    {
      "cell_type": "code",
      "source": [
        "#OPT 350m model\n",
        "generate_ids = opt_model.generate(inputs.input_ids,\n",
        "                              min_length=100, \n",
        "                              max_length=200,  \n",
        "                              repetition_penalty = 1.5,\n",
        "                              top_k=150, \n",
        "                              do_sample=True, \n",
        "                              top_p=0.95, \n",
        "                              temperature=.85,\n",
        "                              num_return_sequences=2) \n",
        "\n",
        "for i, sample_output in enumerate(generate_ids):\n",
        "  print(\"{}: {}\".format(i, opt_tokenizer.decode(sample_output, skip_special_tokens=True, clean_up_tokenization_spaces=True)))\n",
        "  print()"
      ],
      "metadata": {
        "colab": {
          "base_uri": "https://localhost:8080/"
        },
        "id": "1Kzo9uQGM7Hg",
        "outputId": "78f1eaec-f303-45cb-c039-7c1521f6b751"
      },
      "execution_count": 38,
      "outputs": [
        {
          "output_type": "stream",
          "name": "stdout",
          "text": [
            "0: Write a paragraph long review of Dino's Diner which has been your family's favorite for generations. You are a 42 year old parent with three hungry kids who lives in Tom's River, NJ. What makes Dino's Dining so special?\n",
            "A great place to see family and friends enjoy the best burgers around! We're on the way there now but we would have come if Dino's hadn't closed its doors last April - this is a special lunch from me because it really does just happen that I know my kids will love Dino's (heck he never said how many people can go through his kitchen) So get out one more time...and let us be proud parents today. Thank you!\n",
            "Have you ever had a diner experience like Dino’s? Tell us about it here: https://www3dinksubwaynewyorkcitiesreviewclub/comments/?id=9996#comment-398029258841 | Here at 3DINS\n",
            "\n",
            "1: Write a paragraph long review of Dino's Diner which has been your family's favorite for generations. You are a 42 year old parent with three hungry kids who lives in Tom's River, NJ. Here is the reason I have created this place:\n",
            "We love our food and we really enjoy making it! We bring our own wine (a couple bottles from one bottle can be used to make an order when you want), but we also try not TOO much chocolate on hand because we aren't great at filling large groups around us...so that means there will always need someone busy every 5 minutes or so - just like us!! If anyone knows how to customize / convert your pizza doughs/griddles into a great pizza crust they'd help me out :) The food here may seem expensive now days due some new taxes etc., however, I firmly believe that Dino's was built as part of a very good food culture back then!!! Thanks, Dino's Dine & Daze....I\n",
            "\n"
          ]
        }
      ]
    },
    {
      "cell_type": "markdown",
      "source": [
        "Here's how chatGPT, a variant of GPT3 trained to generate outputs that please humans, responded to that same prompt:\n",
        "\n",
        "`Dino's Diner has been a staple in my family for generations. As a 42 year old parent with three hungry kids, I appreciate the affordable, family-friendly atmosphere that Dino's provides. The menu offers a wide variety of options for breakfast, lunch, and dinner, and the portions are always generous. The staff is friendly and accommodating, and the service is fast. My kids love the milkshakes and the classic diner fare, and I can always count on Dino's to hit the spot. Living in Tom's River, NJ, Dino's Diner is the perfect spot for a family meal. It has been a beloved family tradition for us, and I'm sure it will continue to be for generations to come.`"
      ],
      "metadata": {
        "id": "9SQTJpMHIMKA"
      }
    },
    {
      "cell_type": "markdown",
      "metadata": {
        "id": "IpGU1ruV3Lp5"
      },
      "source": [
        "\n",
        "[Return to Top](#returnToTop)  \n",
        "<a id = 'classExercise'></a>\n",
        "\n",
        "### 4.3 In-Class Exercise (or on your own):\n",
        "- Try changing the text_start input text to see how OPT completes different types of starting sentences (prefix prompts). (If time, we can brainstorm some sentences to try in groups or collect in the chat during the live session.)\n",
        "- You can alter num_return_sequences to return a larger or smaller number of output options (i.e. beams).\n",
        "- You might want to play with the parameters for repetition_penalty to see how they affect the model's output.\n",
        "- You might also want to see what happens when you increase max_length, and how that relates to the repetition constraints. As the text gets longer, it will be more challenging for the model to avoid repeating itself. So stricter constraints against repetition might make the model get more creative or wander farther from the input sequence."
      ]
    },
    {
      "cell_type": "markdown",
      "metadata": {
        "id": "MKH8Jpmh2Bkw"
      },
      "source": [
        "[Return to Top](#returnToTop)  \n",
        "<a id = 'answers'></a>\n",
        "\n",
        "## 5. Answers\n",
        "\n",
        "**Question 1:** Why do you think the benefit of adding an attention layer is not larger?\n",
        "\n",
        "      Answer:   The nature of our training and test sets and the artificial size of the inputs (6 words) and outputs (11 words) means that the gains we might see on long sentences aren't a part of this test."
      ]
    },
    {
      "cell_type": "code",
      "execution_count": null,
      "metadata": {
        "id": "cmqqPpeA2IrD"
      },
      "outputs": [],
      "source": []
    }
  ],
  "metadata": {
    "accelerator": "GPU",
    "colab": {
      "provenance": []
    },
    "kernelspec": {
      "display_name": "Python 3",
      "language": "python",
      "name": "python3"
    },
    "language_info": {
      "codemirror_mode": {
        "name": "ipython",
        "version": 3
      },
      "file_extension": ".py",
      "mimetype": "text/x-python",
      "name": "python",
      "nbconvert_exporter": "python",
      "pygments_lexer": "ipython3",
      "version": "3.8.5"
    },
    "widgets": {
      "application/vnd.jupyter.widget-state+json": {
        "342ca7df0a0d4f1c85319f9e2abb880e": {
          "model_module": "@jupyter-widgets/controls",
          "model_name": "HBoxModel",
          "model_module_version": "1.5.0",
          "state": {
            "_dom_classes": [],
            "_model_module": "@jupyter-widgets/controls",
            "_model_module_version": "1.5.0",
            "_model_name": "HBoxModel",
            "_view_count": null,
            "_view_module": "@jupyter-widgets/controls",
            "_view_module_version": "1.5.0",
            "_view_name": "HBoxView",
            "box_style": "",
            "children": [
              "IPY_MODEL_59fd294947674fcfaf7183dc052a3e5e",
              "IPY_MODEL_19fb9e97809e48528760359c315ceda6",
              "IPY_MODEL_03136f812ae2446b9bfae25f8ea59acb"
            ],
            "layout": "IPY_MODEL_3ad9dd99ce5a485ab02073560833bb0b"
          }
        },
        "59fd294947674fcfaf7183dc052a3e5e": {
          "model_module": "@jupyter-widgets/controls",
          "model_name": "HTMLModel",
          "model_module_version": "1.5.0",
          "state": {
            "_dom_classes": [],
            "_model_module": "@jupyter-widgets/controls",
            "_model_module_version": "1.5.0",
            "_model_name": "HTMLModel",
            "_view_count": null,
            "_view_module": "@jupyter-widgets/controls",
            "_view_module_version": "1.5.0",
            "_view_name": "HTMLView",
            "description": "",
            "description_tooltip": null,
            "layout": "IPY_MODEL_3c859e6cc4ee4c6cb6929e86a42a0661",
            "placeholder": "​",
            "style": "IPY_MODEL_6730c4fcd52840b0b9e6148d1fa04579",
            "value": "Downloading (…)lve/main/config.json: 100%"
          }
        },
        "19fb9e97809e48528760359c315ceda6": {
          "model_module": "@jupyter-widgets/controls",
          "model_name": "FloatProgressModel",
          "model_module_version": "1.5.0",
          "state": {
            "_dom_classes": [],
            "_model_module": "@jupyter-widgets/controls",
            "_model_module_version": "1.5.0",
            "_model_name": "FloatProgressModel",
            "_view_count": null,
            "_view_module": "@jupyter-widgets/controls",
            "_view_module_version": "1.5.0",
            "_view_name": "ProgressView",
            "bar_style": "success",
            "description": "",
            "description_tooltip": null,
            "layout": "IPY_MODEL_b996d7b803944184bfc0f6c58dc7e93b",
            "max": 1209,
            "min": 0,
            "orientation": "horizontal",
            "style": "IPY_MODEL_5846d0566c4b4a0abb66d35ecf57dd4e",
            "value": 1209
          }
        },
        "03136f812ae2446b9bfae25f8ea59acb": {
          "model_module": "@jupyter-widgets/controls",
          "model_name": "HTMLModel",
          "model_module_version": "1.5.0",
          "state": {
            "_dom_classes": [],
            "_model_module": "@jupyter-widgets/controls",
            "_model_module_version": "1.5.0",
            "_model_name": "HTMLModel",
            "_view_count": null,
            "_view_module": "@jupyter-widgets/controls",
            "_view_module_version": "1.5.0",
            "_view_name": "HTMLView",
            "description": "",
            "description_tooltip": null,
            "layout": "IPY_MODEL_cfe68cbe424d411e9790b1ffee83c9cc",
            "placeholder": "​",
            "style": "IPY_MODEL_81e9e35f86724f258f17f98e38841a33",
            "value": " 1.21k/1.21k [00:00&lt;00:00, 53.0kB/s]"
          }
        },
        "3ad9dd99ce5a485ab02073560833bb0b": {
          "model_module": "@jupyter-widgets/base",
          "model_name": "LayoutModel",
          "model_module_version": "1.2.0",
          "state": {
            "_model_module": "@jupyter-widgets/base",
            "_model_module_version": "1.2.0",
            "_model_name": "LayoutModel",
            "_view_count": null,
            "_view_module": "@jupyter-widgets/base",
            "_view_module_version": "1.2.0",
            "_view_name": "LayoutView",
            "align_content": null,
            "align_items": null,
            "align_self": null,
            "border": null,
            "bottom": null,
            "display": null,
            "flex": null,
            "flex_flow": null,
            "grid_area": null,
            "grid_auto_columns": null,
            "grid_auto_flow": null,
            "grid_auto_rows": null,
            "grid_column": null,
            "grid_gap": null,
            "grid_row": null,
            "grid_template_areas": null,
            "grid_template_columns": null,
            "grid_template_rows": null,
            "height": null,
            "justify_content": null,
            "justify_items": null,
            "left": null,
            "margin": null,
            "max_height": null,
            "max_width": null,
            "min_height": null,
            "min_width": null,
            "object_fit": null,
            "object_position": null,
            "order": null,
            "overflow": null,
            "overflow_x": null,
            "overflow_y": null,
            "padding": null,
            "right": null,
            "top": null,
            "visibility": null,
            "width": null
          }
        },
        "3c859e6cc4ee4c6cb6929e86a42a0661": {
          "model_module": "@jupyter-widgets/base",
          "model_name": "LayoutModel",
          "model_module_version": "1.2.0",
          "state": {
            "_model_module": "@jupyter-widgets/base",
            "_model_module_version": "1.2.0",
            "_model_name": "LayoutModel",
            "_view_count": null,
            "_view_module": "@jupyter-widgets/base",
            "_view_module_version": "1.2.0",
            "_view_name": "LayoutView",
            "align_content": null,
            "align_items": null,
            "align_self": null,
            "border": null,
            "bottom": null,
            "display": null,
            "flex": null,
            "flex_flow": null,
            "grid_area": null,
            "grid_auto_columns": null,
            "grid_auto_flow": null,
            "grid_auto_rows": null,
            "grid_column": null,
            "grid_gap": null,
            "grid_row": null,
            "grid_template_areas": null,
            "grid_template_columns": null,
            "grid_template_rows": null,
            "height": null,
            "justify_content": null,
            "justify_items": null,
            "left": null,
            "margin": null,
            "max_height": null,
            "max_width": null,
            "min_height": null,
            "min_width": null,
            "object_fit": null,
            "object_position": null,
            "order": null,
            "overflow": null,
            "overflow_x": null,
            "overflow_y": null,
            "padding": null,
            "right": null,
            "top": null,
            "visibility": null,
            "width": null
          }
        },
        "6730c4fcd52840b0b9e6148d1fa04579": {
          "model_module": "@jupyter-widgets/controls",
          "model_name": "DescriptionStyleModel",
          "model_module_version": "1.5.0",
          "state": {
            "_model_module": "@jupyter-widgets/controls",
            "_model_module_version": "1.5.0",
            "_model_name": "DescriptionStyleModel",
            "_view_count": null,
            "_view_module": "@jupyter-widgets/base",
            "_view_module_version": "1.2.0",
            "_view_name": "StyleView",
            "description_width": ""
          }
        },
        "b996d7b803944184bfc0f6c58dc7e93b": {
          "model_module": "@jupyter-widgets/base",
          "model_name": "LayoutModel",
          "model_module_version": "1.2.0",
          "state": {
            "_model_module": "@jupyter-widgets/base",
            "_model_module_version": "1.2.0",
            "_model_name": "LayoutModel",
            "_view_count": null,
            "_view_module": "@jupyter-widgets/base",
            "_view_module_version": "1.2.0",
            "_view_name": "LayoutView",
            "align_content": null,
            "align_items": null,
            "align_self": null,
            "border": null,
            "bottom": null,
            "display": null,
            "flex": null,
            "flex_flow": null,
            "grid_area": null,
            "grid_auto_columns": null,
            "grid_auto_flow": null,
            "grid_auto_rows": null,
            "grid_column": null,
            "grid_gap": null,
            "grid_row": null,
            "grid_template_areas": null,
            "grid_template_columns": null,
            "grid_template_rows": null,
            "height": null,
            "justify_content": null,
            "justify_items": null,
            "left": null,
            "margin": null,
            "max_height": null,
            "max_width": null,
            "min_height": null,
            "min_width": null,
            "object_fit": null,
            "object_position": null,
            "order": null,
            "overflow": null,
            "overflow_x": null,
            "overflow_y": null,
            "padding": null,
            "right": null,
            "top": null,
            "visibility": null,
            "width": null
          }
        },
        "5846d0566c4b4a0abb66d35ecf57dd4e": {
          "model_module": "@jupyter-widgets/controls",
          "model_name": "ProgressStyleModel",
          "model_module_version": "1.5.0",
          "state": {
            "_model_module": "@jupyter-widgets/controls",
            "_model_module_version": "1.5.0",
            "_model_name": "ProgressStyleModel",
            "_view_count": null,
            "_view_module": "@jupyter-widgets/base",
            "_view_module_version": "1.2.0",
            "_view_name": "StyleView",
            "bar_color": null,
            "description_width": ""
          }
        },
        "cfe68cbe424d411e9790b1ffee83c9cc": {
          "model_module": "@jupyter-widgets/base",
          "model_name": "LayoutModel",
          "model_module_version": "1.2.0",
          "state": {
            "_model_module": "@jupyter-widgets/base",
            "_model_module_version": "1.2.0",
            "_model_name": "LayoutModel",
            "_view_count": null,
            "_view_module": "@jupyter-widgets/base",
            "_view_module_version": "1.2.0",
            "_view_name": "LayoutView",
            "align_content": null,
            "align_items": null,
            "align_self": null,
            "border": null,
            "bottom": null,
            "display": null,
            "flex": null,
            "flex_flow": null,
            "grid_area": null,
            "grid_auto_columns": null,
            "grid_auto_flow": null,
            "grid_auto_rows": null,
            "grid_column": null,
            "grid_gap": null,
            "grid_row": null,
            "grid_template_areas": null,
            "grid_template_columns": null,
            "grid_template_rows": null,
            "height": null,
            "justify_content": null,
            "justify_items": null,
            "left": null,
            "margin": null,
            "max_height": null,
            "max_width": null,
            "min_height": null,
            "min_width": null,
            "object_fit": null,
            "object_position": null,
            "order": null,
            "overflow": null,
            "overflow_x": null,
            "overflow_y": null,
            "padding": null,
            "right": null,
            "top": null,
            "visibility": null,
            "width": null
          }
        },
        "81e9e35f86724f258f17f98e38841a33": {
          "model_module": "@jupyter-widgets/controls",
          "model_name": "DescriptionStyleModel",
          "model_module_version": "1.5.0",
          "state": {
            "_model_module": "@jupyter-widgets/controls",
            "_model_module_version": "1.5.0",
            "_model_name": "DescriptionStyleModel",
            "_view_count": null,
            "_view_module": "@jupyter-widgets/base",
            "_view_module_version": "1.2.0",
            "_view_name": "StyleView",
            "description_width": ""
          }
        },
        "08917850df1147678e2fccb6e3af24b1": {
          "model_module": "@jupyter-widgets/controls",
          "model_name": "HBoxModel",
          "model_module_version": "1.5.0",
          "state": {
            "_dom_classes": [],
            "_model_module": "@jupyter-widgets/controls",
            "_model_module_version": "1.5.0",
            "_model_name": "HBoxModel",
            "_view_count": null,
            "_view_module": "@jupyter-widgets/controls",
            "_view_module_version": "1.5.0",
            "_view_name": "HBoxView",
            "box_style": "",
            "children": [
              "IPY_MODEL_b237575386964219a9c9de3b0ea268e4",
              "IPY_MODEL_b5f67135090547f8a6f444348317bde0",
              "IPY_MODEL_b715c0ce335a490db4d5b72d05baddd1"
            ],
            "layout": "IPY_MODEL_f5fe8e832f4b479d8e36c833986e9a43"
          }
        },
        "b237575386964219a9c9de3b0ea268e4": {
          "model_module": "@jupyter-widgets/controls",
          "model_name": "HTMLModel",
          "model_module_version": "1.5.0",
          "state": {
            "_dom_classes": [],
            "_model_module": "@jupyter-widgets/controls",
            "_model_module_version": "1.5.0",
            "_model_name": "HTMLModel",
            "_view_count": null,
            "_view_module": "@jupyter-widgets/controls",
            "_view_module_version": "1.5.0",
            "_view_name": "HTMLView",
            "description": "",
            "description_tooltip": null,
            "layout": "IPY_MODEL_5c50113ab7884863bbf0e90d7d49132b",
            "placeholder": "​",
            "style": "IPY_MODEL_a3e2edec1c5049a9ab5b78a559ab5809",
            "value": "Downloading (…)&quot;tf_model.h5&quot;;: 100%"
          }
        },
        "b5f67135090547f8a6f444348317bde0": {
          "model_module": "@jupyter-widgets/controls",
          "model_name": "FloatProgressModel",
          "model_module_version": "1.5.0",
          "state": {
            "_dom_classes": [],
            "_model_module": "@jupyter-widgets/controls",
            "_model_module_version": "1.5.0",
            "_model_name": "FloatProgressModel",
            "_view_count": null,
            "_view_module": "@jupyter-widgets/controls",
            "_view_module_version": "1.5.0",
            "_view_name": "ProgressView",
            "bar_style": "success",
            "description": "",
            "description_tooltip": null,
            "layout": "IPY_MODEL_ccf42986beda4dd8944f0c01906d7f02",
            "max": 2951710928,
            "min": 0,
            "orientation": "horizontal",
            "style": "IPY_MODEL_ec32a0133f1643dfb1acabaa7abc5f80",
            "value": 2951710928
          }
        },
        "b715c0ce335a490db4d5b72d05baddd1": {
          "model_module": "@jupyter-widgets/controls",
          "model_name": "HTMLModel",
          "model_module_version": "1.5.0",
          "state": {
            "_dom_classes": [],
            "_model_module": "@jupyter-widgets/controls",
            "_model_module_version": "1.5.0",
            "_model_name": "HTMLModel",
            "_view_count": null,
            "_view_module": "@jupyter-widgets/controls",
            "_view_module_version": "1.5.0",
            "_view_name": "HTMLView",
            "description": "",
            "description_tooltip": null,
            "layout": "IPY_MODEL_6eba6653997447f1b5f4fd79e4a71500",
            "placeholder": "​",
            "style": "IPY_MODEL_d34dec55384e4b38852981ac5844487e",
            "value": " 2.95G/2.95G [00:42&lt;00:00, 178MB/s]"
          }
        },
        "f5fe8e832f4b479d8e36c833986e9a43": {
          "model_module": "@jupyter-widgets/base",
          "model_name": "LayoutModel",
          "model_module_version": "1.2.0",
          "state": {
            "_model_module": "@jupyter-widgets/base",
            "_model_module_version": "1.2.0",
            "_model_name": "LayoutModel",
            "_view_count": null,
            "_view_module": "@jupyter-widgets/base",
            "_view_module_version": "1.2.0",
            "_view_name": "LayoutView",
            "align_content": null,
            "align_items": null,
            "align_self": null,
            "border": null,
            "bottom": null,
            "display": null,
            "flex": null,
            "flex_flow": null,
            "grid_area": null,
            "grid_auto_columns": null,
            "grid_auto_flow": null,
            "grid_auto_rows": null,
            "grid_column": null,
            "grid_gap": null,
            "grid_row": null,
            "grid_template_areas": null,
            "grid_template_columns": null,
            "grid_template_rows": null,
            "height": null,
            "justify_content": null,
            "justify_items": null,
            "left": null,
            "margin": null,
            "max_height": null,
            "max_width": null,
            "min_height": null,
            "min_width": null,
            "object_fit": null,
            "object_position": null,
            "order": null,
            "overflow": null,
            "overflow_x": null,
            "overflow_y": null,
            "padding": null,
            "right": null,
            "top": null,
            "visibility": null,
            "width": null
          }
        },
        "5c50113ab7884863bbf0e90d7d49132b": {
          "model_module": "@jupyter-widgets/base",
          "model_name": "LayoutModel",
          "model_module_version": "1.2.0",
          "state": {
            "_model_module": "@jupyter-widgets/base",
            "_model_module_version": "1.2.0",
            "_model_name": "LayoutModel",
            "_view_count": null,
            "_view_module": "@jupyter-widgets/base",
            "_view_module_version": "1.2.0",
            "_view_name": "LayoutView",
            "align_content": null,
            "align_items": null,
            "align_self": null,
            "border": null,
            "bottom": null,
            "display": null,
            "flex": null,
            "flex_flow": null,
            "grid_area": null,
            "grid_auto_columns": null,
            "grid_auto_flow": null,
            "grid_auto_rows": null,
            "grid_column": null,
            "grid_gap": null,
            "grid_row": null,
            "grid_template_areas": null,
            "grid_template_columns": null,
            "grid_template_rows": null,
            "height": null,
            "justify_content": null,
            "justify_items": null,
            "left": null,
            "margin": null,
            "max_height": null,
            "max_width": null,
            "min_height": null,
            "min_width": null,
            "object_fit": null,
            "object_position": null,
            "order": null,
            "overflow": null,
            "overflow_x": null,
            "overflow_y": null,
            "padding": null,
            "right": null,
            "top": null,
            "visibility": null,
            "width": null
          }
        },
        "a3e2edec1c5049a9ab5b78a559ab5809": {
          "model_module": "@jupyter-widgets/controls",
          "model_name": "DescriptionStyleModel",
          "model_module_version": "1.5.0",
          "state": {
            "_model_module": "@jupyter-widgets/controls",
            "_model_module_version": "1.5.0",
            "_model_name": "DescriptionStyleModel",
            "_view_count": null,
            "_view_module": "@jupyter-widgets/base",
            "_view_module_version": "1.2.0",
            "_view_name": "StyleView",
            "description_width": ""
          }
        },
        "ccf42986beda4dd8944f0c01906d7f02": {
          "model_module": "@jupyter-widgets/base",
          "model_name": "LayoutModel",
          "model_module_version": "1.2.0",
          "state": {
            "_model_module": "@jupyter-widgets/base",
            "_model_module_version": "1.2.0",
            "_model_name": "LayoutModel",
            "_view_count": null,
            "_view_module": "@jupyter-widgets/base",
            "_view_module_version": "1.2.0",
            "_view_name": "LayoutView",
            "align_content": null,
            "align_items": null,
            "align_self": null,
            "border": null,
            "bottom": null,
            "display": null,
            "flex": null,
            "flex_flow": null,
            "grid_area": null,
            "grid_auto_columns": null,
            "grid_auto_flow": null,
            "grid_auto_rows": null,
            "grid_column": null,
            "grid_gap": null,
            "grid_row": null,
            "grid_template_areas": null,
            "grid_template_columns": null,
            "grid_template_rows": null,
            "height": null,
            "justify_content": null,
            "justify_items": null,
            "left": null,
            "margin": null,
            "max_height": null,
            "max_width": null,
            "min_height": null,
            "min_width": null,
            "object_fit": null,
            "object_position": null,
            "order": null,
            "overflow": null,
            "overflow_x": null,
            "overflow_y": null,
            "padding": null,
            "right": null,
            "top": null,
            "visibility": null,
            "width": null
          }
        },
        "ec32a0133f1643dfb1acabaa7abc5f80": {
          "model_module": "@jupyter-widgets/controls",
          "model_name": "ProgressStyleModel",
          "model_module_version": "1.5.0",
          "state": {
            "_model_module": "@jupyter-widgets/controls",
            "_model_module_version": "1.5.0",
            "_model_name": "ProgressStyleModel",
            "_view_count": null,
            "_view_module": "@jupyter-widgets/base",
            "_view_module_version": "1.2.0",
            "_view_name": "StyleView",
            "bar_color": null,
            "description_width": ""
          }
        },
        "6eba6653997447f1b5f4fd79e4a71500": {
          "model_module": "@jupyter-widgets/base",
          "model_name": "LayoutModel",
          "model_module_version": "1.2.0",
          "state": {
            "_model_module": "@jupyter-widgets/base",
            "_model_module_version": "1.2.0",
            "_model_name": "LayoutModel",
            "_view_count": null,
            "_view_module": "@jupyter-widgets/base",
            "_view_module_version": "1.2.0",
            "_view_name": "LayoutView",
            "align_content": null,
            "align_items": null,
            "align_self": null,
            "border": null,
            "bottom": null,
            "display": null,
            "flex": null,
            "flex_flow": null,
            "grid_area": null,
            "grid_auto_columns": null,
            "grid_auto_flow": null,
            "grid_auto_rows": null,
            "grid_column": null,
            "grid_gap": null,
            "grid_row": null,
            "grid_template_areas": null,
            "grid_template_columns": null,
            "grid_template_rows": null,
            "height": null,
            "justify_content": null,
            "justify_items": null,
            "left": null,
            "margin": null,
            "max_height": null,
            "max_width": null,
            "min_height": null,
            "min_width": null,
            "object_fit": null,
            "object_position": null,
            "order": null,
            "overflow": null,
            "overflow_x": null,
            "overflow_y": null,
            "padding": null,
            "right": null,
            "top": null,
            "visibility": null,
            "width": null
          }
        },
        "d34dec55384e4b38852981ac5844487e": {
          "model_module": "@jupyter-widgets/controls",
          "model_name": "DescriptionStyleModel",
          "model_module_version": "1.5.0",
          "state": {
            "_model_module": "@jupyter-widgets/controls",
            "_model_module_version": "1.5.0",
            "_model_name": "DescriptionStyleModel",
            "_view_count": null,
            "_view_module": "@jupyter-widgets/base",
            "_view_module_version": "1.2.0",
            "_view_name": "StyleView",
            "description_width": ""
          }
        },
        "dfc0f40a1a55493e869c279717db8603": {
          "model_module": "@jupyter-widgets/controls",
          "model_name": "HBoxModel",
          "model_module_version": "1.5.0",
          "state": {
            "_dom_classes": [],
            "_model_module": "@jupyter-widgets/controls",
            "_model_module_version": "1.5.0",
            "_model_name": "HBoxModel",
            "_view_count": null,
            "_view_module": "@jupyter-widgets/controls",
            "_view_module_version": "1.5.0",
            "_view_name": "HBoxView",
            "box_style": "",
            "children": [
              "IPY_MODEL_8b5e3965d635481b92493c2f8c2a0340",
              "IPY_MODEL_ded31453b8004d3f8ebd16ae4707db16",
              "IPY_MODEL_70f0e480489a46e896c18f8f0c9f9ede"
            ],
            "layout": "IPY_MODEL_ee1e9cdf3c4c4aaa828e4637abcb1115"
          }
        },
        "8b5e3965d635481b92493c2f8c2a0340": {
          "model_module": "@jupyter-widgets/controls",
          "model_name": "HTMLModel",
          "model_module_version": "1.5.0",
          "state": {
            "_dom_classes": [],
            "_model_module": "@jupyter-widgets/controls",
            "_model_module_version": "1.5.0",
            "_model_name": "HTMLModel",
            "_view_count": null,
            "_view_module": "@jupyter-widgets/controls",
            "_view_module_version": "1.5.0",
            "_view_name": "HTMLView",
            "description": "",
            "description_tooltip": null,
            "layout": "IPY_MODEL_d011b55823b04b36afcdf4f23996e34a",
            "placeholder": "​",
            "style": "IPY_MODEL_2f9305325ec548d8a512966783b1fbc8",
            "value": "Downloading (…)neration_config.json: 100%"
          }
        },
        "ded31453b8004d3f8ebd16ae4707db16": {
          "model_module": "@jupyter-widgets/controls",
          "model_name": "FloatProgressModel",
          "model_module_version": "1.5.0",
          "state": {
            "_dom_classes": [],
            "_model_module": "@jupyter-widgets/controls",
            "_model_module_version": "1.5.0",
            "_model_name": "FloatProgressModel",
            "_view_count": null,
            "_view_module": "@jupyter-widgets/controls",
            "_view_module_version": "1.5.0",
            "_view_name": "ProgressView",
            "bar_style": "success",
            "description": "",
            "description_tooltip": null,
            "layout": "IPY_MODEL_cc65b8f9967844a19d2d29521d995a3b",
            "max": 147,
            "min": 0,
            "orientation": "horizontal",
            "style": "IPY_MODEL_6128dd75865a4b1bbfca4b60902e523c",
            "value": 147
          }
        },
        "70f0e480489a46e896c18f8f0c9f9ede": {
          "model_module": "@jupyter-widgets/controls",
          "model_name": "HTMLModel",
          "model_module_version": "1.5.0",
          "state": {
            "_dom_classes": [],
            "_model_module": "@jupyter-widgets/controls",
            "_model_module_version": "1.5.0",
            "_model_name": "HTMLModel",
            "_view_count": null,
            "_view_module": "@jupyter-widgets/controls",
            "_view_module_version": "1.5.0",
            "_view_name": "HTMLView",
            "description": "",
            "description_tooltip": null,
            "layout": "IPY_MODEL_1351dddab63348a9afaee3491e6d5a9b",
            "placeholder": "​",
            "style": "IPY_MODEL_473308def3504a6c88ad8dca43ba1c4d",
            "value": " 147/147 [00:00&lt;00:00, 8.05kB/s]"
          }
        },
        "ee1e9cdf3c4c4aaa828e4637abcb1115": {
          "model_module": "@jupyter-widgets/base",
          "model_name": "LayoutModel",
          "model_module_version": "1.2.0",
          "state": {
            "_model_module": "@jupyter-widgets/base",
            "_model_module_version": "1.2.0",
            "_model_name": "LayoutModel",
            "_view_count": null,
            "_view_module": "@jupyter-widgets/base",
            "_view_module_version": "1.2.0",
            "_view_name": "LayoutView",
            "align_content": null,
            "align_items": null,
            "align_self": null,
            "border": null,
            "bottom": null,
            "display": null,
            "flex": null,
            "flex_flow": null,
            "grid_area": null,
            "grid_auto_columns": null,
            "grid_auto_flow": null,
            "grid_auto_rows": null,
            "grid_column": null,
            "grid_gap": null,
            "grid_row": null,
            "grid_template_areas": null,
            "grid_template_columns": null,
            "grid_template_rows": null,
            "height": null,
            "justify_content": null,
            "justify_items": null,
            "left": null,
            "margin": null,
            "max_height": null,
            "max_width": null,
            "min_height": null,
            "min_width": null,
            "object_fit": null,
            "object_position": null,
            "order": null,
            "overflow": null,
            "overflow_x": null,
            "overflow_y": null,
            "padding": null,
            "right": null,
            "top": null,
            "visibility": null,
            "width": null
          }
        },
        "d011b55823b04b36afcdf4f23996e34a": {
          "model_module": "@jupyter-widgets/base",
          "model_name": "LayoutModel",
          "model_module_version": "1.2.0",
          "state": {
            "_model_module": "@jupyter-widgets/base",
            "_model_module_version": "1.2.0",
            "_model_name": "LayoutModel",
            "_view_count": null,
            "_view_module": "@jupyter-widgets/base",
            "_view_module_version": "1.2.0",
            "_view_name": "LayoutView",
            "align_content": null,
            "align_items": null,
            "align_self": null,
            "border": null,
            "bottom": null,
            "display": null,
            "flex": null,
            "flex_flow": null,
            "grid_area": null,
            "grid_auto_columns": null,
            "grid_auto_flow": null,
            "grid_auto_rows": null,
            "grid_column": null,
            "grid_gap": null,
            "grid_row": null,
            "grid_template_areas": null,
            "grid_template_columns": null,
            "grid_template_rows": null,
            "height": null,
            "justify_content": null,
            "justify_items": null,
            "left": null,
            "margin": null,
            "max_height": null,
            "max_width": null,
            "min_height": null,
            "min_width": null,
            "object_fit": null,
            "object_position": null,
            "order": null,
            "overflow": null,
            "overflow_x": null,
            "overflow_y": null,
            "padding": null,
            "right": null,
            "top": null,
            "visibility": null,
            "width": null
          }
        },
        "2f9305325ec548d8a512966783b1fbc8": {
          "model_module": "@jupyter-widgets/controls",
          "model_name": "DescriptionStyleModel",
          "model_module_version": "1.5.0",
          "state": {
            "_model_module": "@jupyter-widgets/controls",
            "_model_module_version": "1.5.0",
            "_model_name": "DescriptionStyleModel",
            "_view_count": null,
            "_view_module": "@jupyter-widgets/base",
            "_view_module_version": "1.2.0",
            "_view_name": "StyleView",
            "description_width": ""
          }
        },
        "cc65b8f9967844a19d2d29521d995a3b": {
          "model_module": "@jupyter-widgets/base",
          "model_name": "LayoutModel",
          "model_module_version": "1.2.0",
          "state": {
            "_model_module": "@jupyter-widgets/base",
            "_model_module_version": "1.2.0",
            "_model_name": "LayoutModel",
            "_view_count": null,
            "_view_module": "@jupyter-widgets/base",
            "_view_module_version": "1.2.0",
            "_view_name": "LayoutView",
            "align_content": null,
            "align_items": null,
            "align_self": null,
            "border": null,
            "bottom": null,
            "display": null,
            "flex": null,
            "flex_flow": null,
            "grid_area": null,
            "grid_auto_columns": null,
            "grid_auto_flow": null,
            "grid_auto_rows": null,
            "grid_column": null,
            "grid_gap": null,
            "grid_row": null,
            "grid_template_areas": null,
            "grid_template_columns": null,
            "grid_template_rows": null,
            "height": null,
            "justify_content": null,
            "justify_items": null,
            "left": null,
            "margin": null,
            "max_height": null,
            "max_width": null,
            "min_height": null,
            "min_width": null,
            "object_fit": null,
            "object_position": null,
            "order": null,
            "overflow": null,
            "overflow_x": null,
            "overflow_y": null,
            "padding": null,
            "right": null,
            "top": null,
            "visibility": null,
            "width": null
          }
        },
        "6128dd75865a4b1bbfca4b60902e523c": {
          "model_module": "@jupyter-widgets/controls",
          "model_name": "ProgressStyleModel",
          "model_module_version": "1.5.0",
          "state": {
            "_model_module": "@jupyter-widgets/controls",
            "_model_module_version": "1.5.0",
            "_model_name": "ProgressStyleModel",
            "_view_count": null,
            "_view_module": "@jupyter-widgets/base",
            "_view_module_version": "1.2.0",
            "_view_name": "StyleView",
            "bar_color": null,
            "description_width": ""
          }
        },
        "1351dddab63348a9afaee3491e6d5a9b": {
          "model_module": "@jupyter-widgets/base",
          "model_name": "LayoutModel",
          "model_module_version": "1.2.0",
          "state": {
            "_model_module": "@jupyter-widgets/base",
            "_model_module_version": "1.2.0",
            "_model_name": "LayoutModel",
            "_view_count": null,
            "_view_module": "@jupyter-widgets/base",
            "_view_module_version": "1.2.0",
            "_view_name": "LayoutView",
            "align_content": null,
            "align_items": null,
            "align_self": null,
            "border": null,
            "bottom": null,
            "display": null,
            "flex": null,
            "flex_flow": null,
            "grid_area": null,
            "grid_auto_columns": null,
            "grid_auto_flow": null,
            "grid_auto_rows": null,
            "grid_column": null,
            "grid_gap": null,
            "grid_row": null,
            "grid_template_areas": null,
            "grid_template_columns": null,
            "grid_template_rows": null,
            "height": null,
            "justify_content": null,
            "justify_items": null,
            "left": null,
            "margin": null,
            "max_height": null,
            "max_width": null,
            "min_height": null,
            "min_width": null,
            "object_fit": null,
            "object_position": null,
            "order": null,
            "overflow": null,
            "overflow_x": null,
            "overflow_y": null,
            "padding": null,
            "right": null,
            "top": null,
            "visibility": null,
            "width": null
          }
        },
        "473308def3504a6c88ad8dca43ba1c4d": {
          "model_module": "@jupyter-widgets/controls",
          "model_name": "DescriptionStyleModel",
          "model_module_version": "1.5.0",
          "state": {
            "_model_module": "@jupyter-widgets/controls",
            "_model_module_version": "1.5.0",
            "_model_name": "DescriptionStyleModel",
            "_view_count": null,
            "_view_module": "@jupyter-widgets/base",
            "_view_module_version": "1.2.0",
            "_view_name": "StyleView",
            "description_width": ""
          }
        },
        "05078b533b4a4210b4cab757bd2f363b": {
          "model_module": "@jupyter-widgets/controls",
          "model_name": "HBoxModel",
          "model_module_version": "1.5.0",
          "state": {
            "_dom_classes": [],
            "_model_module": "@jupyter-widgets/controls",
            "_model_module_version": "1.5.0",
            "_model_name": "HBoxModel",
            "_view_count": null,
            "_view_module": "@jupyter-widgets/controls",
            "_view_module_version": "1.5.0",
            "_view_name": "HBoxView",
            "box_style": "",
            "children": [
              "IPY_MODEL_3dc3b53ca25d484f9a03e7ae5292f917",
              "IPY_MODEL_856e6c27084a4764bf6c7a31368c3811",
              "IPY_MODEL_e25fe958b35c43b08608f742bb2d97a1"
            ],
            "layout": "IPY_MODEL_94e81dcd66014701833893ab8dd6cccf"
          }
        },
        "3dc3b53ca25d484f9a03e7ae5292f917": {
          "model_module": "@jupyter-widgets/controls",
          "model_name": "HTMLModel",
          "model_module_version": "1.5.0",
          "state": {
            "_dom_classes": [],
            "_model_module": "@jupyter-widgets/controls",
            "_model_module_version": "1.5.0",
            "_model_name": "HTMLModel",
            "_view_count": null,
            "_view_module": "@jupyter-widgets/controls",
            "_view_module_version": "1.5.0",
            "_view_name": "HTMLView",
            "description": "",
            "description_tooltip": null,
            "layout": "IPY_MODEL_fb3b5b3e5c644e54be3f0828f860a63a",
            "placeholder": "​",
            "style": "IPY_MODEL_ea1ecf40aca74599a89b1b9173fb2070",
            "value": "Downloading (…)ve/main/spiece.model: 100%"
          }
        },
        "856e6c27084a4764bf6c7a31368c3811": {
          "model_module": "@jupyter-widgets/controls",
          "model_name": "FloatProgressModel",
          "model_module_version": "1.5.0",
          "state": {
            "_dom_classes": [],
            "_model_module": "@jupyter-widgets/controls",
            "_model_module_version": "1.5.0",
            "_model_name": "FloatProgressModel",
            "_view_count": null,
            "_view_module": "@jupyter-widgets/controls",
            "_view_module_version": "1.5.0",
            "_view_name": "ProgressView",
            "bar_style": "success",
            "description": "",
            "description_tooltip": null,
            "layout": "IPY_MODEL_530762b56504499a828d257fa5dbe1d7",
            "max": 791656,
            "min": 0,
            "orientation": "horizontal",
            "style": "IPY_MODEL_75063084efea45448d8af5fe5b0a3263",
            "value": 791656
          }
        },
        "e25fe958b35c43b08608f742bb2d97a1": {
          "model_module": "@jupyter-widgets/controls",
          "model_name": "HTMLModel",
          "model_module_version": "1.5.0",
          "state": {
            "_dom_classes": [],
            "_model_module": "@jupyter-widgets/controls",
            "_model_module_version": "1.5.0",
            "_model_name": "HTMLModel",
            "_view_count": null,
            "_view_module": "@jupyter-widgets/controls",
            "_view_module_version": "1.5.0",
            "_view_name": "HTMLView",
            "description": "",
            "description_tooltip": null,
            "layout": "IPY_MODEL_d4ac471161e7469687bfb5e7c0896d85",
            "placeholder": "​",
            "style": "IPY_MODEL_547fc6fc4bb349ed9c5e5a81468f1245",
            "value": " 792k/792k [00:01&lt;00:00, 707kB/s]"
          }
        },
        "94e81dcd66014701833893ab8dd6cccf": {
          "model_module": "@jupyter-widgets/base",
          "model_name": "LayoutModel",
          "model_module_version": "1.2.0",
          "state": {
            "_model_module": "@jupyter-widgets/base",
            "_model_module_version": "1.2.0",
            "_model_name": "LayoutModel",
            "_view_count": null,
            "_view_module": "@jupyter-widgets/base",
            "_view_module_version": "1.2.0",
            "_view_name": "LayoutView",
            "align_content": null,
            "align_items": null,
            "align_self": null,
            "border": null,
            "bottom": null,
            "display": null,
            "flex": null,
            "flex_flow": null,
            "grid_area": null,
            "grid_auto_columns": null,
            "grid_auto_flow": null,
            "grid_auto_rows": null,
            "grid_column": null,
            "grid_gap": null,
            "grid_row": null,
            "grid_template_areas": null,
            "grid_template_columns": null,
            "grid_template_rows": null,
            "height": null,
            "justify_content": null,
            "justify_items": null,
            "left": null,
            "margin": null,
            "max_height": null,
            "max_width": null,
            "min_height": null,
            "min_width": null,
            "object_fit": null,
            "object_position": null,
            "order": null,
            "overflow": null,
            "overflow_x": null,
            "overflow_y": null,
            "padding": null,
            "right": null,
            "top": null,
            "visibility": null,
            "width": null
          }
        },
        "fb3b5b3e5c644e54be3f0828f860a63a": {
          "model_module": "@jupyter-widgets/base",
          "model_name": "LayoutModel",
          "model_module_version": "1.2.0",
          "state": {
            "_model_module": "@jupyter-widgets/base",
            "_model_module_version": "1.2.0",
            "_model_name": "LayoutModel",
            "_view_count": null,
            "_view_module": "@jupyter-widgets/base",
            "_view_module_version": "1.2.0",
            "_view_name": "LayoutView",
            "align_content": null,
            "align_items": null,
            "align_self": null,
            "border": null,
            "bottom": null,
            "display": null,
            "flex": null,
            "flex_flow": null,
            "grid_area": null,
            "grid_auto_columns": null,
            "grid_auto_flow": null,
            "grid_auto_rows": null,
            "grid_column": null,
            "grid_gap": null,
            "grid_row": null,
            "grid_template_areas": null,
            "grid_template_columns": null,
            "grid_template_rows": null,
            "height": null,
            "justify_content": null,
            "justify_items": null,
            "left": null,
            "margin": null,
            "max_height": null,
            "max_width": null,
            "min_height": null,
            "min_width": null,
            "object_fit": null,
            "object_position": null,
            "order": null,
            "overflow": null,
            "overflow_x": null,
            "overflow_y": null,
            "padding": null,
            "right": null,
            "top": null,
            "visibility": null,
            "width": null
          }
        },
        "ea1ecf40aca74599a89b1b9173fb2070": {
          "model_module": "@jupyter-widgets/controls",
          "model_name": "DescriptionStyleModel",
          "model_module_version": "1.5.0",
          "state": {
            "_model_module": "@jupyter-widgets/controls",
            "_model_module_version": "1.5.0",
            "_model_name": "DescriptionStyleModel",
            "_view_count": null,
            "_view_module": "@jupyter-widgets/base",
            "_view_module_version": "1.2.0",
            "_view_name": "StyleView",
            "description_width": ""
          }
        },
        "530762b56504499a828d257fa5dbe1d7": {
          "model_module": "@jupyter-widgets/base",
          "model_name": "LayoutModel",
          "model_module_version": "1.2.0",
          "state": {
            "_model_module": "@jupyter-widgets/base",
            "_model_module_version": "1.2.0",
            "_model_name": "LayoutModel",
            "_view_count": null,
            "_view_module": "@jupyter-widgets/base",
            "_view_module_version": "1.2.0",
            "_view_name": "LayoutView",
            "align_content": null,
            "align_items": null,
            "align_self": null,
            "border": null,
            "bottom": null,
            "display": null,
            "flex": null,
            "flex_flow": null,
            "grid_area": null,
            "grid_auto_columns": null,
            "grid_auto_flow": null,
            "grid_auto_rows": null,
            "grid_column": null,
            "grid_gap": null,
            "grid_row": null,
            "grid_template_areas": null,
            "grid_template_columns": null,
            "grid_template_rows": null,
            "height": null,
            "justify_content": null,
            "justify_items": null,
            "left": null,
            "margin": null,
            "max_height": null,
            "max_width": null,
            "min_height": null,
            "min_width": null,
            "object_fit": null,
            "object_position": null,
            "order": null,
            "overflow": null,
            "overflow_x": null,
            "overflow_y": null,
            "padding": null,
            "right": null,
            "top": null,
            "visibility": null,
            "width": null
          }
        },
        "75063084efea45448d8af5fe5b0a3263": {
          "model_module": "@jupyter-widgets/controls",
          "model_name": "ProgressStyleModel",
          "model_module_version": "1.5.0",
          "state": {
            "_model_module": "@jupyter-widgets/controls",
            "_model_module_version": "1.5.0",
            "_model_name": "ProgressStyleModel",
            "_view_count": null,
            "_view_module": "@jupyter-widgets/base",
            "_view_module_version": "1.2.0",
            "_view_name": "StyleView",
            "bar_color": null,
            "description_width": ""
          }
        },
        "d4ac471161e7469687bfb5e7c0896d85": {
          "model_module": "@jupyter-widgets/base",
          "model_name": "LayoutModel",
          "model_module_version": "1.2.0",
          "state": {
            "_model_module": "@jupyter-widgets/base",
            "_model_module_version": "1.2.0",
            "_model_name": "LayoutModel",
            "_view_count": null,
            "_view_module": "@jupyter-widgets/base",
            "_view_module_version": "1.2.0",
            "_view_name": "LayoutView",
            "align_content": null,
            "align_items": null,
            "align_self": null,
            "border": null,
            "bottom": null,
            "display": null,
            "flex": null,
            "flex_flow": null,
            "grid_area": null,
            "grid_auto_columns": null,
            "grid_auto_flow": null,
            "grid_auto_rows": null,
            "grid_column": null,
            "grid_gap": null,
            "grid_row": null,
            "grid_template_areas": null,
            "grid_template_columns": null,
            "grid_template_rows": null,
            "height": null,
            "justify_content": null,
            "justify_items": null,
            "left": null,
            "margin": null,
            "max_height": null,
            "max_width": null,
            "min_height": null,
            "min_width": null,
            "object_fit": null,
            "object_position": null,
            "order": null,
            "overflow": null,
            "overflow_x": null,
            "overflow_y": null,
            "padding": null,
            "right": null,
            "top": null,
            "visibility": null,
            "width": null
          }
        },
        "547fc6fc4bb349ed9c5e5a81468f1245": {
          "model_module": "@jupyter-widgets/controls",
          "model_name": "DescriptionStyleModel",
          "model_module_version": "1.5.0",
          "state": {
            "_model_module": "@jupyter-widgets/controls",
            "_model_module_version": "1.5.0",
            "_model_name": "DescriptionStyleModel",
            "_view_count": null,
            "_view_module": "@jupyter-widgets/base",
            "_view_module_version": "1.2.0",
            "_view_name": "StyleView",
            "description_width": ""
          }
        },
        "58f36121b0d24e12b0e0e69f98bcff4d": {
          "model_module": "@jupyter-widgets/controls",
          "model_name": "HBoxModel",
          "model_module_version": "1.5.0",
          "state": {
            "_dom_classes": [],
            "_model_module": "@jupyter-widgets/controls",
            "_model_module_version": "1.5.0",
            "_model_name": "HBoxModel",
            "_view_count": null,
            "_view_module": "@jupyter-widgets/controls",
            "_view_module_version": "1.5.0",
            "_view_name": "HBoxView",
            "box_style": "",
            "children": [
              "IPY_MODEL_96fea4e79c254651b714d87c69457955",
              "IPY_MODEL_e6ed441cf40346ffa1d430392c0f198c",
              "IPY_MODEL_45f3c05afd6d43b79fccbf8e7f493241"
            ],
            "layout": "IPY_MODEL_64b024e9cd6544b5aa03e3cd10c1fc85"
          }
        },
        "96fea4e79c254651b714d87c69457955": {
          "model_module": "@jupyter-widgets/controls",
          "model_name": "HTMLModel",
          "model_module_version": "1.5.0",
          "state": {
            "_dom_classes": [],
            "_model_module": "@jupyter-widgets/controls",
            "_model_module_version": "1.5.0",
            "_model_name": "HTMLModel",
            "_view_count": null,
            "_view_module": "@jupyter-widgets/controls",
            "_view_module_version": "1.5.0",
            "_view_name": "HTMLView",
            "description": "",
            "description_tooltip": null,
            "layout": "IPY_MODEL_941499bee36e4594ad909b3cae5ea390",
            "placeholder": "​",
            "style": "IPY_MODEL_03d019f212454b6da55fa81c3dcb509e",
            "value": "Downloading (…)lve/main/config.json: 100%"
          }
        },
        "e6ed441cf40346ffa1d430392c0f198c": {
          "model_module": "@jupyter-widgets/controls",
          "model_name": "FloatProgressModel",
          "model_module_version": "1.5.0",
          "state": {
            "_dom_classes": [],
            "_model_module": "@jupyter-widgets/controls",
            "_model_module_version": "1.5.0",
            "_model_name": "FloatProgressModel",
            "_view_count": null,
            "_view_module": "@jupyter-widgets/controls",
            "_view_module_version": "1.5.0",
            "_view_name": "ProgressView",
            "bar_style": "success",
            "description": "",
            "description_tooltip": null,
            "layout": "IPY_MODEL_479f64f1f834474b8c3764dd26434568",
            "max": 1208,
            "min": 0,
            "orientation": "horizontal",
            "style": "IPY_MODEL_222d17e71cb341639c298726c3083d64",
            "value": 1208
          }
        },
        "45f3c05afd6d43b79fccbf8e7f493241": {
          "model_module": "@jupyter-widgets/controls",
          "model_name": "HTMLModel",
          "model_module_version": "1.5.0",
          "state": {
            "_dom_classes": [],
            "_model_module": "@jupyter-widgets/controls",
            "_model_module_version": "1.5.0",
            "_model_name": "HTMLModel",
            "_view_count": null,
            "_view_module": "@jupyter-widgets/controls",
            "_view_module_version": "1.5.0",
            "_view_name": "HTMLView",
            "description": "",
            "description_tooltip": null,
            "layout": "IPY_MODEL_b452b0f0c7a840939b9275af315bc98d",
            "placeholder": "​",
            "style": "IPY_MODEL_9ae121329a604b8ba29fb1348ce9da2f",
            "value": " 1.21k/1.21k [00:00&lt;00:00, 41.4kB/s]"
          }
        },
        "64b024e9cd6544b5aa03e3cd10c1fc85": {
          "model_module": "@jupyter-widgets/base",
          "model_name": "LayoutModel",
          "model_module_version": "1.2.0",
          "state": {
            "_model_module": "@jupyter-widgets/base",
            "_model_module_version": "1.2.0",
            "_model_name": "LayoutModel",
            "_view_count": null,
            "_view_module": "@jupyter-widgets/base",
            "_view_module_version": "1.2.0",
            "_view_name": "LayoutView",
            "align_content": null,
            "align_items": null,
            "align_self": null,
            "border": null,
            "bottom": null,
            "display": null,
            "flex": null,
            "flex_flow": null,
            "grid_area": null,
            "grid_auto_columns": null,
            "grid_auto_flow": null,
            "grid_auto_rows": null,
            "grid_column": null,
            "grid_gap": null,
            "grid_row": null,
            "grid_template_areas": null,
            "grid_template_columns": null,
            "grid_template_rows": null,
            "height": null,
            "justify_content": null,
            "justify_items": null,
            "left": null,
            "margin": null,
            "max_height": null,
            "max_width": null,
            "min_height": null,
            "min_width": null,
            "object_fit": null,
            "object_position": null,
            "order": null,
            "overflow": null,
            "overflow_x": null,
            "overflow_y": null,
            "padding": null,
            "right": null,
            "top": null,
            "visibility": null,
            "width": null
          }
        },
        "941499bee36e4594ad909b3cae5ea390": {
          "model_module": "@jupyter-widgets/base",
          "model_name": "LayoutModel",
          "model_module_version": "1.2.0",
          "state": {
            "_model_module": "@jupyter-widgets/base",
            "_model_module_version": "1.2.0",
            "_model_name": "LayoutModel",
            "_view_count": null,
            "_view_module": "@jupyter-widgets/base",
            "_view_module_version": "1.2.0",
            "_view_name": "LayoutView",
            "align_content": null,
            "align_items": null,
            "align_self": null,
            "border": null,
            "bottom": null,
            "display": null,
            "flex": null,
            "flex_flow": null,
            "grid_area": null,
            "grid_auto_columns": null,
            "grid_auto_flow": null,
            "grid_auto_rows": null,
            "grid_column": null,
            "grid_gap": null,
            "grid_row": null,
            "grid_template_areas": null,
            "grid_template_columns": null,
            "grid_template_rows": null,
            "height": null,
            "justify_content": null,
            "justify_items": null,
            "left": null,
            "margin": null,
            "max_height": null,
            "max_width": null,
            "min_height": null,
            "min_width": null,
            "object_fit": null,
            "object_position": null,
            "order": null,
            "overflow": null,
            "overflow_x": null,
            "overflow_y": null,
            "padding": null,
            "right": null,
            "top": null,
            "visibility": null,
            "width": null
          }
        },
        "03d019f212454b6da55fa81c3dcb509e": {
          "model_module": "@jupyter-widgets/controls",
          "model_name": "DescriptionStyleModel",
          "model_module_version": "1.5.0",
          "state": {
            "_model_module": "@jupyter-widgets/controls",
            "_model_module_version": "1.5.0",
            "_model_name": "DescriptionStyleModel",
            "_view_count": null,
            "_view_module": "@jupyter-widgets/base",
            "_view_module_version": "1.2.0",
            "_view_name": "StyleView",
            "description_width": ""
          }
        },
        "479f64f1f834474b8c3764dd26434568": {
          "model_module": "@jupyter-widgets/base",
          "model_name": "LayoutModel",
          "model_module_version": "1.2.0",
          "state": {
            "_model_module": "@jupyter-widgets/base",
            "_model_module_version": "1.2.0",
            "_model_name": "LayoutModel",
            "_view_count": null,
            "_view_module": "@jupyter-widgets/base",
            "_view_module_version": "1.2.0",
            "_view_name": "LayoutView",
            "align_content": null,
            "align_items": null,
            "align_self": null,
            "border": null,
            "bottom": null,
            "display": null,
            "flex": null,
            "flex_flow": null,
            "grid_area": null,
            "grid_auto_columns": null,
            "grid_auto_flow": null,
            "grid_auto_rows": null,
            "grid_column": null,
            "grid_gap": null,
            "grid_row": null,
            "grid_template_areas": null,
            "grid_template_columns": null,
            "grid_template_rows": null,
            "height": null,
            "justify_content": null,
            "justify_items": null,
            "left": null,
            "margin": null,
            "max_height": null,
            "max_width": null,
            "min_height": null,
            "min_width": null,
            "object_fit": null,
            "object_position": null,
            "order": null,
            "overflow": null,
            "overflow_x": null,
            "overflow_y": null,
            "padding": null,
            "right": null,
            "top": null,
            "visibility": null,
            "width": null
          }
        },
        "222d17e71cb341639c298726c3083d64": {
          "model_module": "@jupyter-widgets/controls",
          "model_name": "ProgressStyleModel",
          "model_module_version": "1.5.0",
          "state": {
            "_model_module": "@jupyter-widgets/controls",
            "_model_module_version": "1.5.0",
            "_model_name": "ProgressStyleModel",
            "_view_count": null,
            "_view_module": "@jupyter-widgets/base",
            "_view_module_version": "1.2.0",
            "_view_name": "StyleView",
            "bar_color": null,
            "description_width": ""
          }
        },
        "b452b0f0c7a840939b9275af315bc98d": {
          "model_module": "@jupyter-widgets/base",
          "model_name": "LayoutModel",
          "model_module_version": "1.2.0",
          "state": {
            "_model_module": "@jupyter-widgets/base",
            "_model_module_version": "1.2.0",
            "_model_name": "LayoutModel",
            "_view_count": null,
            "_view_module": "@jupyter-widgets/base",
            "_view_module_version": "1.2.0",
            "_view_name": "LayoutView",
            "align_content": null,
            "align_items": null,
            "align_self": null,
            "border": null,
            "bottom": null,
            "display": null,
            "flex": null,
            "flex_flow": null,
            "grid_area": null,
            "grid_auto_columns": null,
            "grid_auto_flow": null,
            "grid_auto_rows": null,
            "grid_column": null,
            "grid_gap": null,
            "grid_row": null,
            "grid_template_areas": null,
            "grid_template_columns": null,
            "grid_template_rows": null,
            "height": null,
            "justify_content": null,
            "justify_items": null,
            "left": null,
            "margin": null,
            "max_height": null,
            "max_width": null,
            "min_height": null,
            "min_width": null,
            "object_fit": null,
            "object_position": null,
            "order": null,
            "overflow": null,
            "overflow_x": null,
            "overflow_y": null,
            "padding": null,
            "right": null,
            "top": null,
            "visibility": null,
            "width": null
          }
        },
        "9ae121329a604b8ba29fb1348ce9da2f": {
          "model_module": "@jupyter-widgets/controls",
          "model_name": "DescriptionStyleModel",
          "model_module_version": "1.5.0",
          "state": {
            "_model_module": "@jupyter-widgets/controls",
            "_model_module_version": "1.5.0",
            "_model_name": "DescriptionStyleModel",
            "_view_count": null,
            "_view_module": "@jupyter-widgets/base",
            "_view_module_version": "1.2.0",
            "_view_name": "StyleView",
            "description_width": ""
          }
        },
        "821c3317c1044e5f932602535da3e569": {
          "model_module": "@jupyter-widgets/controls",
          "model_name": "HBoxModel",
          "model_module_version": "1.5.0",
          "state": {
            "_dom_classes": [],
            "_model_module": "@jupyter-widgets/controls",
            "_model_module_version": "1.5.0",
            "_model_name": "HBoxModel",
            "_view_count": null,
            "_view_module": "@jupyter-widgets/controls",
            "_view_module_version": "1.5.0",
            "_view_name": "HBoxView",
            "box_style": "",
            "children": [
              "IPY_MODEL_04af3b20fca44068acb99029552d90d7",
              "IPY_MODEL_cc4e1f2e57404d0088629001a336ade6",
              "IPY_MODEL_cbab82bb9ad248f991bd90a7a972d631"
            ],
            "layout": "IPY_MODEL_c95df3d184ea41a4a0c3d01684da16a1"
          }
        },
        "04af3b20fca44068acb99029552d90d7": {
          "model_module": "@jupyter-widgets/controls",
          "model_name": "HTMLModel",
          "model_module_version": "1.5.0",
          "state": {
            "_dom_classes": [],
            "_model_module": "@jupyter-widgets/controls",
            "_model_module_version": "1.5.0",
            "_model_name": "HTMLModel",
            "_view_count": null,
            "_view_module": "@jupyter-widgets/controls",
            "_view_module_version": "1.5.0",
            "_view_name": "HTMLView",
            "description": "",
            "description_tooltip": null,
            "layout": "IPY_MODEL_db79c4f0f5b744e8a75f41c92f2eba19",
            "placeholder": "​",
            "style": "IPY_MODEL_d41200b65b3040d8b85ee05b5c86a89d",
            "value": "Downloading (…)&quot;tf_model.h5&quot;;: 100%"
          }
        },
        "cc4e1f2e57404d0088629001a336ade6": {
          "model_module": "@jupyter-widgets/controls",
          "model_name": "FloatProgressModel",
          "model_module_version": "1.5.0",
          "state": {
            "_dom_classes": [],
            "_model_module": "@jupyter-widgets/controls",
            "_model_module_version": "1.5.0",
            "_model_name": "FloatProgressModel",
            "_view_count": null,
            "_view_module": "@jupyter-widgets/controls",
            "_view_module_version": "1.5.0",
            "_view_name": "ProgressView",
            "bar_style": "success",
            "description": "",
            "description_tooltip": null,
            "layout": "IPY_MODEL_6f6c48462e96490ea7723becf2607e79",
            "max": 892146080,
            "min": 0,
            "orientation": "horizontal",
            "style": "IPY_MODEL_658d0a7d25a24d658d239d2a3469c129",
            "value": 892146080
          }
        },
        "cbab82bb9ad248f991bd90a7a972d631": {
          "model_module": "@jupyter-widgets/controls",
          "model_name": "HTMLModel",
          "model_module_version": "1.5.0",
          "state": {
            "_dom_classes": [],
            "_model_module": "@jupyter-widgets/controls",
            "_model_module_version": "1.5.0",
            "_model_name": "HTMLModel",
            "_view_count": null,
            "_view_module": "@jupyter-widgets/controls",
            "_view_module_version": "1.5.0",
            "_view_name": "HTMLView",
            "description": "",
            "description_tooltip": null,
            "layout": "IPY_MODEL_b77d5cf2b3474b3b86846605dd6019b2",
            "placeholder": "​",
            "style": "IPY_MODEL_b878c7fd6f0a43ddb967a6db68d2e4cb",
            "value": " 892M/892M [00:04&lt;00:00, 131MB/s]"
          }
        },
        "c95df3d184ea41a4a0c3d01684da16a1": {
          "model_module": "@jupyter-widgets/base",
          "model_name": "LayoutModel",
          "model_module_version": "1.2.0",
          "state": {
            "_model_module": "@jupyter-widgets/base",
            "_model_module_version": "1.2.0",
            "_model_name": "LayoutModel",
            "_view_count": null,
            "_view_module": "@jupyter-widgets/base",
            "_view_module_version": "1.2.0",
            "_view_name": "LayoutView",
            "align_content": null,
            "align_items": null,
            "align_self": null,
            "border": null,
            "bottom": null,
            "display": null,
            "flex": null,
            "flex_flow": null,
            "grid_area": null,
            "grid_auto_columns": null,
            "grid_auto_flow": null,
            "grid_auto_rows": null,
            "grid_column": null,
            "grid_gap": null,
            "grid_row": null,
            "grid_template_areas": null,
            "grid_template_columns": null,
            "grid_template_rows": null,
            "height": null,
            "justify_content": null,
            "justify_items": null,
            "left": null,
            "margin": null,
            "max_height": null,
            "max_width": null,
            "min_height": null,
            "min_width": null,
            "object_fit": null,
            "object_position": null,
            "order": null,
            "overflow": null,
            "overflow_x": null,
            "overflow_y": null,
            "padding": null,
            "right": null,
            "top": null,
            "visibility": null,
            "width": null
          }
        },
        "db79c4f0f5b744e8a75f41c92f2eba19": {
          "model_module": "@jupyter-widgets/base",
          "model_name": "LayoutModel",
          "model_module_version": "1.2.0",
          "state": {
            "_model_module": "@jupyter-widgets/base",
            "_model_module_version": "1.2.0",
            "_model_name": "LayoutModel",
            "_view_count": null,
            "_view_module": "@jupyter-widgets/base",
            "_view_module_version": "1.2.0",
            "_view_name": "LayoutView",
            "align_content": null,
            "align_items": null,
            "align_self": null,
            "border": null,
            "bottom": null,
            "display": null,
            "flex": null,
            "flex_flow": null,
            "grid_area": null,
            "grid_auto_columns": null,
            "grid_auto_flow": null,
            "grid_auto_rows": null,
            "grid_column": null,
            "grid_gap": null,
            "grid_row": null,
            "grid_template_areas": null,
            "grid_template_columns": null,
            "grid_template_rows": null,
            "height": null,
            "justify_content": null,
            "justify_items": null,
            "left": null,
            "margin": null,
            "max_height": null,
            "max_width": null,
            "min_height": null,
            "min_width": null,
            "object_fit": null,
            "object_position": null,
            "order": null,
            "overflow": null,
            "overflow_x": null,
            "overflow_y": null,
            "padding": null,
            "right": null,
            "top": null,
            "visibility": null,
            "width": null
          }
        },
        "d41200b65b3040d8b85ee05b5c86a89d": {
          "model_module": "@jupyter-widgets/controls",
          "model_name": "DescriptionStyleModel",
          "model_module_version": "1.5.0",
          "state": {
            "_model_module": "@jupyter-widgets/controls",
            "_model_module_version": "1.5.0",
            "_model_name": "DescriptionStyleModel",
            "_view_count": null,
            "_view_module": "@jupyter-widgets/base",
            "_view_module_version": "1.2.0",
            "_view_name": "StyleView",
            "description_width": ""
          }
        },
        "6f6c48462e96490ea7723becf2607e79": {
          "model_module": "@jupyter-widgets/base",
          "model_name": "LayoutModel",
          "model_module_version": "1.2.0",
          "state": {
            "_model_module": "@jupyter-widgets/base",
            "_model_module_version": "1.2.0",
            "_model_name": "LayoutModel",
            "_view_count": null,
            "_view_module": "@jupyter-widgets/base",
            "_view_module_version": "1.2.0",
            "_view_name": "LayoutView",
            "align_content": null,
            "align_items": null,
            "align_self": null,
            "border": null,
            "bottom": null,
            "display": null,
            "flex": null,
            "flex_flow": null,
            "grid_area": null,
            "grid_auto_columns": null,
            "grid_auto_flow": null,
            "grid_auto_rows": null,
            "grid_column": null,
            "grid_gap": null,
            "grid_row": null,
            "grid_template_areas": null,
            "grid_template_columns": null,
            "grid_template_rows": null,
            "height": null,
            "justify_content": null,
            "justify_items": null,
            "left": null,
            "margin": null,
            "max_height": null,
            "max_width": null,
            "min_height": null,
            "min_width": null,
            "object_fit": null,
            "object_position": null,
            "order": null,
            "overflow": null,
            "overflow_x": null,
            "overflow_y": null,
            "padding": null,
            "right": null,
            "top": null,
            "visibility": null,
            "width": null
          }
        },
        "658d0a7d25a24d658d239d2a3469c129": {
          "model_module": "@jupyter-widgets/controls",
          "model_name": "ProgressStyleModel",
          "model_module_version": "1.5.0",
          "state": {
            "_model_module": "@jupyter-widgets/controls",
            "_model_module_version": "1.5.0",
            "_model_name": "ProgressStyleModel",
            "_view_count": null,
            "_view_module": "@jupyter-widgets/base",
            "_view_module_version": "1.2.0",
            "_view_name": "StyleView",
            "bar_color": null,
            "description_width": ""
          }
        },
        "b77d5cf2b3474b3b86846605dd6019b2": {
          "model_module": "@jupyter-widgets/base",
          "model_name": "LayoutModel",
          "model_module_version": "1.2.0",
          "state": {
            "_model_module": "@jupyter-widgets/base",
            "_model_module_version": "1.2.0",
            "_model_name": "LayoutModel",
            "_view_count": null,
            "_view_module": "@jupyter-widgets/base",
            "_view_module_version": "1.2.0",
            "_view_name": "LayoutView",
            "align_content": null,
            "align_items": null,
            "align_self": null,
            "border": null,
            "bottom": null,
            "display": null,
            "flex": null,
            "flex_flow": null,
            "grid_area": null,
            "grid_auto_columns": null,
            "grid_auto_flow": null,
            "grid_auto_rows": null,
            "grid_column": null,
            "grid_gap": null,
            "grid_row": null,
            "grid_template_areas": null,
            "grid_template_columns": null,
            "grid_template_rows": null,
            "height": null,
            "justify_content": null,
            "justify_items": null,
            "left": null,
            "margin": null,
            "max_height": null,
            "max_width": null,
            "min_height": null,
            "min_width": null,
            "object_fit": null,
            "object_position": null,
            "order": null,
            "overflow": null,
            "overflow_x": null,
            "overflow_y": null,
            "padding": null,
            "right": null,
            "top": null,
            "visibility": null,
            "width": null
          }
        },
        "b878c7fd6f0a43ddb967a6db68d2e4cb": {
          "model_module": "@jupyter-widgets/controls",
          "model_name": "DescriptionStyleModel",
          "model_module_version": "1.5.0",
          "state": {
            "_model_module": "@jupyter-widgets/controls",
            "_model_module_version": "1.5.0",
            "_model_name": "DescriptionStyleModel",
            "_view_count": null,
            "_view_module": "@jupyter-widgets/base",
            "_view_module_version": "1.2.0",
            "_view_name": "StyleView",
            "description_width": ""
          }
        },
        "29bace504ff84aefaee8e95904c571e8": {
          "model_module": "@jupyter-widgets/controls",
          "model_name": "HBoxModel",
          "model_module_version": "1.5.0",
          "state": {
            "_dom_classes": [],
            "_model_module": "@jupyter-widgets/controls",
            "_model_module_version": "1.5.0",
            "_model_name": "HBoxModel",
            "_view_count": null,
            "_view_module": "@jupyter-widgets/controls",
            "_view_module_version": "1.5.0",
            "_view_name": "HBoxView",
            "box_style": "",
            "children": [
              "IPY_MODEL_6277d6da4f3c460b8eb8a10c9e3180ef",
              "IPY_MODEL_0f444e540c9e4cd3a1b6d088d969bae0",
              "IPY_MODEL_b01a6bb99876457285765ea5a6da7fce"
            ],
            "layout": "IPY_MODEL_79c38130697045279fe163f3e8a56945"
          }
        },
        "6277d6da4f3c460b8eb8a10c9e3180ef": {
          "model_module": "@jupyter-widgets/controls",
          "model_name": "HTMLModel",
          "model_module_version": "1.5.0",
          "state": {
            "_dom_classes": [],
            "_model_module": "@jupyter-widgets/controls",
            "_model_module_version": "1.5.0",
            "_model_name": "HTMLModel",
            "_view_count": null,
            "_view_module": "@jupyter-widgets/controls",
            "_view_module_version": "1.5.0",
            "_view_name": "HTMLView",
            "description": "",
            "description_tooltip": null,
            "layout": "IPY_MODEL_d2a7499f09494e12a9edd765e1110f44",
            "placeholder": "​",
            "style": "IPY_MODEL_2cf1a4fa717e4a5db7374c52f6b7e280",
            "value": "Downloading (…)neration_config.json: 100%"
          }
        },
        "0f444e540c9e4cd3a1b6d088d969bae0": {
          "model_module": "@jupyter-widgets/controls",
          "model_name": "FloatProgressModel",
          "model_module_version": "1.5.0",
          "state": {
            "_dom_classes": [],
            "_model_module": "@jupyter-widgets/controls",
            "_model_module_version": "1.5.0",
            "_model_name": "FloatProgressModel",
            "_view_count": null,
            "_view_module": "@jupyter-widgets/controls",
            "_view_module_version": "1.5.0",
            "_view_name": "ProgressView",
            "bar_style": "success",
            "description": "",
            "description_tooltip": null,
            "layout": "IPY_MODEL_5378dfd350cb4408afd0ce22f6cd490c",
            "max": 147,
            "min": 0,
            "orientation": "horizontal",
            "style": "IPY_MODEL_14a5f7b822754bff8b9aa1ec71f18273",
            "value": 147
          }
        },
        "b01a6bb99876457285765ea5a6da7fce": {
          "model_module": "@jupyter-widgets/controls",
          "model_name": "HTMLModel",
          "model_module_version": "1.5.0",
          "state": {
            "_dom_classes": [],
            "_model_module": "@jupyter-widgets/controls",
            "_model_module_version": "1.5.0",
            "_model_name": "HTMLModel",
            "_view_count": null,
            "_view_module": "@jupyter-widgets/controls",
            "_view_module_version": "1.5.0",
            "_view_name": "HTMLView",
            "description": "",
            "description_tooltip": null,
            "layout": "IPY_MODEL_8a7f2c044c3d421e83a896a699d04ae5",
            "placeholder": "​",
            "style": "IPY_MODEL_c1d53ecf061a4348a36434d5ca8f8662",
            "value": " 147/147 [00:00&lt;00:00, 7.39kB/s]"
          }
        },
        "79c38130697045279fe163f3e8a56945": {
          "model_module": "@jupyter-widgets/base",
          "model_name": "LayoutModel",
          "model_module_version": "1.2.0",
          "state": {
            "_model_module": "@jupyter-widgets/base",
            "_model_module_version": "1.2.0",
            "_model_name": "LayoutModel",
            "_view_count": null,
            "_view_module": "@jupyter-widgets/base",
            "_view_module_version": "1.2.0",
            "_view_name": "LayoutView",
            "align_content": null,
            "align_items": null,
            "align_self": null,
            "border": null,
            "bottom": null,
            "display": null,
            "flex": null,
            "flex_flow": null,
            "grid_area": null,
            "grid_auto_columns": null,
            "grid_auto_flow": null,
            "grid_auto_rows": null,
            "grid_column": null,
            "grid_gap": null,
            "grid_row": null,
            "grid_template_areas": null,
            "grid_template_columns": null,
            "grid_template_rows": null,
            "height": null,
            "justify_content": null,
            "justify_items": null,
            "left": null,
            "margin": null,
            "max_height": null,
            "max_width": null,
            "min_height": null,
            "min_width": null,
            "object_fit": null,
            "object_position": null,
            "order": null,
            "overflow": null,
            "overflow_x": null,
            "overflow_y": null,
            "padding": null,
            "right": null,
            "top": null,
            "visibility": null,
            "width": null
          }
        },
        "d2a7499f09494e12a9edd765e1110f44": {
          "model_module": "@jupyter-widgets/base",
          "model_name": "LayoutModel",
          "model_module_version": "1.2.0",
          "state": {
            "_model_module": "@jupyter-widgets/base",
            "_model_module_version": "1.2.0",
            "_model_name": "LayoutModel",
            "_view_count": null,
            "_view_module": "@jupyter-widgets/base",
            "_view_module_version": "1.2.0",
            "_view_name": "LayoutView",
            "align_content": null,
            "align_items": null,
            "align_self": null,
            "border": null,
            "bottom": null,
            "display": null,
            "flex": null,
            "flex_flow": null,
            "grid_area": null,
            "grid_auto_columns": null,
            "grid_auto_flow": null,
            "grid_auto_rows": null,
            "grid_column": null,
            "grid_gap": null,
            "grid_row": null,
            "grid_template_areas": null,
            "grid_template_columns": null,
            "grid_template_rows": null,
            "height": null,
            "justify_content": null,
            "justify_items": null,
            "left": null,
            "margin": null,
            "max_height": null,
            "max_width": null,
            "min_height": null,
            "min_width": null,
            "object_fit": null,
            "object_position": null,
            "order": null,
            "overflow": null,
            "overflow_x": null,
            "overflow_y": null,
            "padding": null,
            "right": null,
            "top": null,
            "visibility": null,
            "width": null
          }
        },
        "2cf1a4fa717e4a5db7374c52f6b7e280": {
          "model_module": "@jupyter-widgets/controls",
          "model_name": "DescriptionStyleModel",
          "model_module_version": "1.5.0",
          "state": {
            "_model_module": "@jupyter-widgets/controls",
            "_model_module_version": "1.5.0",
            "_model_name": "DescriptionStyleModel",
            "_view_count": null,
            "_view_module": "@jupyter-widgets/base",
            "_view_module_version": "1.2.0",
            "_view_name": "StyleView",
            "description_width": ""
          }
        },
        "5378dfd350cb4408afd0ce22f6cd490c": {
          "model_module": "@jupyter-widgets/base",
          "model_name": "LayoutModel",
          "model_module_version": "1.2.0",
          "state": {
            "_model_module": "@jupyter-widgets/base",
            "_model_module_version": "1.2.0",
            "_model_name": "LayoutModel",
            "_view_count": null,
            "_view_module": "@jupyter-widgets/base",
            "_view_module_version": "1.2.0",
            "_view_name": "LayoutView",
            "align_content": null,
            "align_items": null,
            "align_self": null,
            "border": null,
            "bottom": null,
            "display": null,
            "flex": null,
            "flex_flow": null,
            "grid_area": null,
            "grid_auto_columns": null,
            "grid_auto_flow": null,
            "grid_auto_rows": null,
            "grid_column": null,
            "grid_gap": null,
            "grid_row": null,
            "grid_template_areas": null,
            "grid_template_columns": null,
            "grid_template_rows": null,
            "height": null,
            "justify_content": null,
            "justify_items": null,
            "left": null,
            "margin": null,
            "max_height": null,
            "max_width": null,
            "min_height": null,
            "min_width": null,
            "object_fit": null,
            "object_position": null,
            "order": null,
            "overflow": null,
            "overflow_x": null,
            "overflow_y": null,
            "padding": null,
            "right": null,
            "top": null,
            "visibility": null,
            "width": null
          }
        },
        "14a5f7b822754bff8b9aa1ec71f18273": {
          "model_module": "@jupyter-widgets/controls",
          "model_name": "ProgressStyleModel",
          "model_module_version": "1.5.0",
          "state": {
            "_model_module": "@jupyter-widgets/controls",
            "_model_module_version": "1.5.0",
            "_model_name": "ProgressStyleModel",
            "_view_count": null,
            "_view_module": "@jupyter-widgets/base",
            "_view_module_version": "1.2.0",
            "_view_name": "StyleView",
            "bar_color": null,
            "description_width": ""
          }
        },
        "8a7f2c044c3d421e83a896a699d04ae5": {
          "model_module": "@jupyter-widgets/base",
          "model_name": "LayoutModel",
          "model_module_version": "1.2.0",
          "state": {
            "_model_module": "@jupyter-widgets/base",
            "_model_module_version": "1.2.0",
            "_model_name": "LayoutModel",
            "_view_count": null,
            "_view_module": "@jupyter-widgets/base",
            "_view_module_version": "1.2.0",
            "_view_name": "LayoutView",
            "align_content": null,
            "align_items": null,
            "align_self": null,
            "border": null,
            "bottom": null,
            "display": null,
            "flex": null,
            "flex_flow": null,
            "grid_area": null,
            "grid_auto_columns": null,
            "grid_auto_flow": null,
            "grid_auto_rows": null,
            "grid_column": null,
            "grid_gap": null,
            "grid_row": null,
            "grid_template_areas": null,
            "grid_template_columns": null,
            "grid_template_rows": null,
            "height": null,
            "justify_content": null,
            "justify_items": null,
            "left": null,
            "margin": null,
            "max_height": null,
            "max_width": null,
            "min_height": null,
            "min_width": null,
            "object_fit": null,
            "object_position": null,
            "order": null,
            "overflow": null,
            "overflow_x": null,
            "overflow_y": null,
            "padding": null,
            "right": null,
            "top": null,
            "visibility": null,
            "width": null
          }
        },
        "c1d53ecf061a4348a36434d5ca8f8662": {
          "model_module": "@jupyter-widgets/controls",
          "model_name": "DescriptionStyleModel",
          "model_module_version": "1.5.0",
          "state": {
            "_model_module": "@jupyter-widgets/controls",
            "_model_module_version": "1.5.0",
            "_model_name": "DescriptionStyleModel",
            "_view_count": null,
            "_view_module": "@jupyter-widgets/base",
            "_view_module_version": "1.2.0",
            "_view_name": "StyleView",
            "description_width": ""
          }
        },
        "4dd42e0344f4431cb242a250a7d1073e": {
          "model_module": "@jupyter-widgets/controls",
          "model_name": "HBoxModel",
          "model_module_version": "1.5.0",
          "state": {
            "_dom_classes": [],
            "_model_module": "@jupyter-widgets/controls",
            "_model_module_version": "1.5.0",
            "_model_name": "HBoxModel",
            "_view_count": null,
            "_view_module": "@jupyter-widgets/controls",
            "_view_module_version": "1.5.0",
            "_view_name": "HBoxView",
            "box_style": "",
            "children": [
              "IPY_MODEL_1cbb12551fb14c4ea3a060ca859bf6a2",
              "IPY_MODEL_08061d56c5db4565996216cd063a50cd",
              "IPY_MODEL_f9363c84bf71430b83e810f8ba386f89"
            ],
            "layout": "IPY_MODEL_7e7c882ae2b44d5b87398f5fad2ffc9f"
          }
        },
        "1cbb12551fb14c4ea3a060ca859bf6a2": {
          "model_module": "@jupyter-widgets/controls",
          "model_name": "HTMLModel",
          "model_module_version": "1.5.0",
          "state": {
            "_dom_classes": [],
            "_model_module": "@jupyter-widgets/controls",
            "_model_module_version": "1.5.0",
            "_model_name": "HTMLModel",
            "_view_count": null,
            "_view_module": "@jupyter-widgets/controls",
            "_view_module_version": "1.5.0",
            "_view_name": "HTMLView",
            "description": "",
            "description_tooltip": null,
            "layout": "IPY_MODEL_64477215d7c54e988e042f8b3923011c",
            "placeholder": "​",
            "style": "IPY_MODEL_d0c8046fdf1e4a2eba4757ce74974938",
            "value": "Downloading (…)ve/main/spiece.model: 100%"
          }
        },
        "08061d56c5db4565996216cd063a50cd": {
          "model_module": "@jupyter-widgets/controls",
          "model_name": "FloatProgressModel",
          "model_module_version": "1.5.0",
          "state": {
            "_dom_classes": [],
            "_model_module": "@jupyter-widgets/controls",
            "_model_module_version": "1.5.0",
            "_model_name": "FloatProgressModel",
            "_view_count": null,
            "_view_module": "@jupyter-widgets/controls",
            "_view_module_version": "1.5.0",
            "_view_name": "ProgressView",
            "bar_style": "success",
            "description": "",
            "description_tooltip": null,
            "layout": "IPY_MODEL_c54060108bd64d2da3e289ecd993722b",
            "max": 791656,
            "min": 0,
            "orientation": "horizontal",
            "style": "IPY_MODEL_c317b0418b0240fda9c390f2ffca47be",
            "value": 791656
          }
        },
        "f9363c84bf71430b83e810f8ba386f89": {
          "model_module": "@jupyter-widgets/controls",
          "model_name": "HTMLModel",
          "model_module_version": "1.5.0",
          "state": {
            "_dom_classes": [],
            "_model_module": "@jupyter-widgets/controls",
            "_model_module_version": "1.5.0",
            "_model_name": "HTMLModel",
            "_view_count": null,
            "_view_module": "@jupyter-widgets/controls",
            "_view_module_version": "1.5.0",
            "_view_name": "HTMLView",
            "description": "",
            "description_tooltip": null,
            "layout": "IPY_MODEL_65527cdb577247fdb252c04d78a958f1",
            "placeholder": "​",
            "style": "IPY_MODEL_f34e749967224aafb91b0750ef0f79b6",
            "value": " 792k/792k [00:01&lt;00:00, 714kB/s]"
          }
        },
        "7e7c882ae2b44d5b87398f5fad2ffc9f": {
          "model_module": "@jupyter-widgets/base",
          "model_name": "LayoutModel",
          "model_module_version": "1.2.0",
          "state": {
            "_model_module": "@jupyter-widgets/base",
            "_model_module_version": "1.2.0",
            "_model_name": "LayoutModel",
            "_view_count": null,
            "_view_module": "@jupyter-widgets/base",
            "_view_module_version": "1.2.0",
            "_view_name": "LayoutView",
            "align_content": null,
            "align_items": null,
            "align_self": null,
            "border": null,
            "bottom": null,
            "display": null,
            "flex": null,
            "flex_flow": null,
            "grid_area": null,
            "grid_auto_columns": null,
            "grid_auto_flow": null,
            "grid_auto_rows": null,
            "grid_column": null,
            "grid_gap": null,
            "grid_row": null,
            "grid_template_areas": null,
            "grid_template_columns": null,
            "grid_template_rows": null,
            "height": null,
            "justify_content": null,
            "justify_items": null,
            "left": null,
            "margin": null,
            "max_height": null,
            "max_width": null,
            "min_height": null,
            "min_width": null,
            "object_fit": null,
            "object_position": null,
            "order": null,
            "overflow": null,
            "overflow_x": null,
            "overflow_y": null,
            "padding": null,
            "right": null,
            "top": null,
            "visibility": null,
            "width": null
          }
        },
        "64477215d7c54e988e042f8b3923011c": {
          "model_module": "@jupyter-widgets/base",
          "model_name": "LayoutModel",
          "model_module_version": "1.2.0",
          "state": {
            "_model_module": "@jupyter-widgets/base",
            "_model_module_version": "1.2.0",
            "_model_name": "LayoutModel",
            "_view_count": null,
            "_view_module": "@jupyter-widgets/base",
            "_view_module_version": "1.2.0",
            "_view_name": "LayoutView",
            "align_content": null,
            "align_items": null,
            "align_self": null,
            "border": null,
            "bottom": null,
            "display": null,
            "flex": null,
            "flex_flow": null,
            "grid_area": null,
            "grid_auto_columns": null,
            "grid_auto_flow": null,
            "grid_auto_rows": null,
            "grid_column": null,
            "grid_gap": null,
            "grid_row": null,
            "grid_template_areas": null,
            "grid_template_columns": null,
            "grid_template_rows": null,
            "height": null,
            "justify_content": null,
            "justify_items": null,
            "left": null,
            "margin": null,
            "max_height": null,
            "max_width": null,
            "min_height": null,
            "min_width": null,
            "object_fit": null,
            "object_position": null,
            "order": null,
            "overflow": null,
            "overflow_x": null,
            "overflow_y": null,
            "padding": null,
            "right": null,
            "top": null,
            "visibility": null,
            "width": null
          }
        },
        "d0c8046fdf1e4a2eba4757ce74974938": {
          "model_module": "@jupyter-widgets/controls",
          "model_name": "DescriptionStyleModel",
          "model_module_version": "1.5.0",
          "state": {
            "_model_module": "@jupyter-widgets/controls",
            "_model_module_version": "1.5.0",
            "_model_name": "DescriptionStyleModel",
            "_view_count": null,
            "_view_module": "@jupyter-widgets/base",
            "_view_module_version": "1.2.0",
            "_view_name": "StyleView",
            "description_width": ""
          }
        },
        "c54060108bd64d2da3e289ecd993722b": {
          "model_module": "@jupyter-widgets/base",
          "model_name": "LayoutModel",
          "model_module_version": "1.2.0",
          "state": {
            "_model_module": "@jupyter-widgets/base",
            "_model_module_version": "1.2.0",
            "_model_name": "LayoutModel",
            "_view_count": null,
            "_view_module": "@jupyter-widgets/base",
            "_view_module_version": "1.2.0",
            "_view_name": "LayoutView",
            "align_content": null,
            "align_items": null,
            "align_self": null,
            "border": null,
            "bottom": null,
            "display": null,
            "flex": null,
            "flex_flow": null,
            "grid_area": null,
            "grid_auto_columns": null,
            "grid_auto_flow": null,
            "grid_auto_rows": null,
            "grid_column": null,
            "grid_gap": null,
            "grid_row": null,
            "grid_template_areas": null,
            "grid_template_columns": null,
            "grid_template_rows": null,
            "height": null,
            "justify_content": null,
            "justify_items": null,
            "left": null,
            "margin": null,
            "max_height": null,
            "max_width": null,
            "min_height": null,
            "min_width": null,
            "object_fit": null,
            "object_position": null,
            "order": null,
            "overflow": null,
            "overflow_x": null,
            "overflow_y": null,
            "padding": null,
            "right": null,
            "top": null,
            "visibility": null,
            "width": null
          }
        },
        "c317b0418b0240fda9c390f2ffca47be": {
          "model_module": "@jupyter-widgets/controls",
          "model_name": "ProgressStyleModel",
          "model_module_version": "1.5.0",
          "state": {
            "_model_module": "@jupyter-widgets/controls",
            "_model_module_version": "1.5.0",
            "_model_name": "ProgressStyleModel",
            "_view_count": null,
            "_view_module": "@jupyter-widgets/base",
            "_view_module_version": "1.2.0",
            "_view_name": "StyleView",
            "bar_color": null,
            "description_width": ""
          }
        },
        "65527cdb577247fdb252c04d78a958f1": {
          "model_module": "@jupyter-widgets/base",
          "model_name": "LayoutModel",
          "model_module_version": "1.2.0",
          "state": {
            "_model_module": "@jupyter-widgets/base",
            "_model_module_version": "1.2.0",
            "_model_name": "LayoutModel",
            "_view_count": null,
            "_view_module": "@jupyter-widgets/base",
            "_view_module_version": "1.2.0",
            "_view_name": "LayoutView",
            "align_content": null,
            "align_items": null,
            "align_self": null,
            "border": null,
            "bottom": null,
            "display": null,
            "flex": null,
            "flex_flow": null,
            "grid_area": null,
            "grid_auto_columns": null,
            "grid_auto_flow": null,
            "grid_auto_rows": null,
            "grid_column": null,
            "grid_gap": null,
            "grid_row": null,
            "grid_template_areas": null,
            "grid_template_columns": null,
            "grid_template_rows": null,
            "height": null,
            "justify_content": null,
            "justify_items": null,
            "left": null,
            "margin": null,
            "max_height": null,
            "max_width": null,
            "min_height": null,
            "min_width": null,
            "object_fit": null,
            "object_position": null,
            "order": null,
            "overflow": null,
            "overflow_x": null,
            "overflow_y": null,
            "padding": null,
            "right": null,
            "top": null,
            "visibility": null,
            "width": null
          }
        },
        "f34e749967224aafb91b0750ef0f79b6": {
          "model_module": "@jupyter-widgets/controls",
          "model_name": "DescriptionStyleModel",
          "model_module_version": "1.5.0",
          "state": {
            "_model_module": "@jupyter-widgets/controls",
            "_model_module_version": "1.5.0",
            "_model_name": "DescriptionStyleModel",
            "_view_count": null,
            "_view_module": "@jupyter-widgets/base",
            "_view_module_version": "1.2.0",
            "_view_name": "StyleView",
            "description_width": ""
          }
        },
        "ede33228db42489484dddc78fd804a85": {
          "model_module": "@jupyter-widgets/controls",
          "model_name": "HBoxModel",
          "model_module_version": "1.5.0",
          "state": {
            "_dom_classes": [],
            "_model_module": "@jupyter-widgets/controls",
            "_model_module_version": "1.5.0",
            "_model_name": "HBoxModel",
            "_view_count": null,
            "_view_module": "@jupyter-widgets/controls",
            "_view_module_version": "1.5.0",
            "_view_name": "HBoxView",
            "box_style": "",
            "children": [
              "IPY_MODEL_a6580a5c8b1f4a5a9703c3a1464aa6c1",
              "IPY_MODEL_595035e2401a4ce1a3d60e6660bed987",
              "IPY_MODEL_24ddf35e641748259b54a132d4da23aa"
            ],
            "layout": "IPY_MODEL_e175633d47424ebe9f701484536a2965"
          }
        },
        "a6580a5c8b1f4a5a9703c3a1464aa6c1": {
          "model_module": "@jupyter-widgets/controls",
          "model_name": "HTMLModel",
          "model_module_version": "1.5.0",
          "state": {
            "_dom_classes": [],
            "_model_module": "@jupyter-widgets/controls",
            "_model_module_version": "1.5.0",
            "_model_name": "HTMLModel",
            "_view_count": null,
            "_view_module": "@jupyter-widgets/controls",
            "_view_module_version": "1.5.0",
            "_view_name": "HTMLView",
            "description": "",
            "description_tooltip": null,
            "layout": "IPY_MODEL_7f2be85389a045fb8b18f0b4d03217fa",
            "placeholder": "​",
            "style": "IPY_MODEL_7c8307f281a34fe9a2c1d91e8da30dc7",
            "value": "Downloading (…)olve/main/vocab.json: 100%"
          }
        },
        "595035e2401a4ce1a3d60e6660bed987": {
          "model_module": "@jupyter-widgets/controls",
          "model_name": "FloatProgressModel",
          "model_module_version": "1.5.0",
          "state": {
            "_dom_classes": [],
            "_model_module": "@jupyter-widgets/controls",
            "_model_module_version": "1.5.0",
            "_model_name": "FloatProgressModel",
            "_view_count": null,
            "_view_module": "@jupyter-widgets/controls",
            "_view_module_version": "1.5.0",
            "_view_name": "ProgressView",
            "bar_style": "success",
            "description": "",
            "description_tooltip": null,
            "layout": "IPY_MODEL_3055f5c777ae44ebb922ff09adbf0c52",
            "max": 898822,
            "min": 0,
            "orientation": "horizontal",
            "style": "IPY_MODEL_032ebb22f33641cc94f57de3bfe55585",
            "value": 898822
          }
        },
        "24ddf35e641748259b54a132d4da23aa": {
          "model_module": "@jupyter-widgets/controls",
          "model_name": "HTMLModel",
          "model_module_version": "1.5.0",
          "state": {
            "_dom_classes": [],
            "_model_module": "@jupyter-widgets/controls",
            "_model_module_version": "1.5.0",
            "_model_name": "HTMLModel",
            "_view_count": null,
            "_view_module": "@jupyter-widgets/controls",
            "_view_module_version": "1.5.0",
            "_view_name": "HTMLView",
            "description": "",
            "description_tooltip": null,
            "layout": "IPY_MODEL_98f211febaaa4f5ca1317530ffd601eb",
            "placeholder": "​",
            "style": "IPY_MODEL_81fbac7e521c41eba1875d4c1ecd1db1",
            "value": " 899k/899k [00:01&lt;00:00, 811kB/s]"
          }
        },
        "e175633d47424ebe9f701484536a2965": {
          "model_module": "@jupyter-widgets/base",
          "model_name": "LayoutModel",
          "model_module_version": "1.2.0",
          "state": {
            "_model_module": "@jupyter-widgets/base",
            "_model_module_version": "1.2.0",
            "_model_name": "LayoutModel",
            "_view_count": null,
            "_view_module": "@jupyter-widgets/base",
            "_view_module_version": "1.2.0",
            "_view_name": "LayoutView",
            "align_content": null,
            "align_items": null,
            "align_self": null,
            "border": null,
            "bottom": null,
            "display": null,
            "flex": null,
            "flex_flow": null,
            "grid_area": null,
            "grid_auto_columns": null,
            "grid_auto_flow": null,
            "grid_auto_rows": null,
            "grid_column": null,
            "grid_gap": null,
            "grid_row": null,
            "grid_template_areas": null,
            "grid_template_columns": null,
            "grid_template_rows": null,
            "height": null,
            "justify_content": null,
            "justify_items": null,
            "left": null,
            "margin": null,
            "max_height": null,
            "max_width": null,
            "min_height": null,
            "min_width": null,
            "object_fit": null,
            "object_position": null,
            "order": null,
            "overflow": null,
            "overflow_x": null,
            "overflow_y": null,
            "padding": null,
            "right": null,
            "top": null,
            "visibility": null,
            "width": null
          }
        },
        "7f2be85389a045fb8b18f0b4d03217fa": {
          "model_module": "@jupyter-widgets/base",
          "model_name": "LayoutModel",
          "model_module_version": "1.2.0",
          "state": {
            "_model_module": "@jupyter-widgets/base",
            "_model_module_version": "1.2.0",
            "_model_name": "LayoutModel",
            "_view_count": null,
            "_view_module": "@jupyter-widgets/base",
            "_view_module_version": "1.2.0",
            "_view_name": "LayoutView",
            "align_content": null,
            "align_items": null,
            "align_self": null,
            "border": null,
            "bottom": null,
            "display": null,
            "flex": null,
            "flex_flow": null,
            "grid_area": null,
            "grid_auto_columns": null,
            "grid_auto_flow": null,
            "grid_auto_rows": null,
            "grid_column": null,
            "grid_gap": null,
            "grid_row": null,
            "grid_template_areas": null,
            "grid_template_columns": null,
            "grid_template_rows": null,
            "height": null,
            "justify_content": null,
            "justify_items": null,
            "left": null,
            "margin": null,
            "max_height": null,
            "max_width": null,
            "min_height": null,
            "min_width": null,
            "object_fit": null,
            "object_position": null,
            "order": null,
            "overflow": null,
            "overflow_x": null,
            "overflow_y": null,
            "padding": null,
            "right": null,
            "top": null,
            "visibility": null,
            "width": null
          }
        },
        "7c8307f281a34fe9a2c1d91e8da30dc7": {
          "model_module": "@jupyter-widgets/controls",
          "model_name": "DescriptionStyleModel",
          "model_module_version": "1.5.0",
          "state": {
            "_model_module": "@jupyter-widgets/controls",
            "_model_module_version": "1.5.0",
            "_model_name": "DescriptionStyleModel",
            "_view_count": null,
            "_view_module": "@jupyter-widgets/base",
            "_view_module_version": "1.2.0",
            "_view_name": "StyleView",
            "description_width": ""
          }
        },
        "3055f5c777ae44ebb922ff09adbf0c52": {
          "model_module": "@jupyter-widgets/base",
          "model_name": "LayoutModel",
          "model_module_version": "1.2.0",
          "state": {
            "_model_module": "@jupyter-widgets/base",
            "_model_module_version": "1.2.0",
            "_model_name": "LayoutModel",
            "_view_count": null,
            "_view_module": "@jupyter-widgets/base",
            "_view_module_version": "1.2.0",
            "_view_name": "LayoutView",
            "align_content": null,
            "align_items": null,
            "align_self": null,
            "border": null,
            "bottom": null,
            "display": null,
            "flex": null,
            "flex_flow": null,
            "grid_area": null,
            "grid_auto_columns": null,
            "grid_auto_flow": null,
            "grid_auto_rows": null,
            "grid_column": null,
            "grid_gap": null,
            "grid_row": null,
            "grid_template_areas": null,
            "grid_template_columns": null,
            "grid_template_rows": null,
            "height": null,
            "justify_content": null,
            "justify_items": null,
            "left": null,
            "margin": null,
            "max_height": null,
            "max_width": null,
            "min_height": null,
            "min_width": null,
            "object_fit": null,
            "object_position": null,
            "order": null,
            "overflow": null,
            "overflow_x": null,
            "overflow_y": null,
            "padding": null,
            "right": null,
            "top": null,
            "visibility": null,
            "width": null
          }
        },
        "032ebb22f33641cc94f57de3bfe55585": {
          "model_module": "@jupyter-widgets/controls",
          "model_name": "ProgressStyleModel",
          "model_module_version": "1.5.0",
          "state": {
            "_model_module": "@jupyter-widgets/controls",
            "_model_module_version": "1.5.0",
            "_model_name": "ProgressStyleModel",
            "_view_count": null,
            "_view_module": "@jupyter-widgets/base",
            "_view_module_version": "1.2.0",
            "_view_name": "StyleView",
            "bar_color": null,
            "description_width": ""
          }
        },
        "98f211febaaa4f5ca1317530ffd601eb": {
          "model_module": "@jupyter-widgets/base",
          "model_name": "LayoutModel",
          "model_module_version": "1.2.0",
          "state": {
            "_model_module": "@jupyter-widgets/base",
            "_model_module_version": "1.2.0",
            "_model_name": "LayoutModel",
            "_view_count": null,
            "_view_module": "@jupyter-widgets/base",
            "_view_module_version": "1.2.0",
            "_view_name": "LayoutView",
            "align_content": null,
            "align_items": null,
            "align_self": null,
            "border": null,
            "bottom": null,
            "display": null,
            "flex": null,
            "flex_flow": null,
            "grid_area": null,
            "grid_auto_columns": null,
            "grid_auto_flow": null,
            "grid_auto_rows": null,
            "grid_column": null,
            "grid_gap": null,
            "grid_row": null,
            "grid_template_areas": null,
            "grid_template_columns": null,
            "grid_template_rows": null,
            "height": null,
            "justify_content": null,
            "justify_items": null,
            "left": null,
            "margin": null,
            "max_height": null,
            "max_width": null,
            "min_height": null,
            "min_width": null,
            "object_fit": null,
            "object_position": null,
            "order": null,
            "overflow": null,
            "overflow_x": null,
            "overflow_y": null,
            "padding": null,
            "right": null,
            "top": null,
            "visibility": null,
            "width": null
          }
        },
        "81fbac7e521c41eba1875d4c1ecd1db1": {
          "model_module": "@jupyter-widgets/controls",
          "model_name": "DescriptionStyleModel",
          "model_module_version": "1.5.0",
          "state": {
            "_model_module": "@jupyter-widgets/controls",
            "_model_module_version": "1.5.0",
            "_model_name": "DescriptionStyleModel",
            "_view_count": null,
            "_view_module": "@jupyter-widgets/base",
            "_view_module_version": "1.2.0",
            "_view_name": "StyleView",
            "description_width": ""
          }
        },
        "cbae8d027fd2497da5d9a3ed5760871f": {
          "model_module": "@jupyter-widgets/controls",
          "model_name": "HBoxModel",
          "model_module_version": "1.5.0",
          "state": {
            "_dom_classes": [],
            "_model_module": "@jupyter-widgets/controls",
            "_model_module_version": "1.5.0",
            "_model_name": "HBoxModel",
            "_view_count": null,
            "_view_module": "@jupyter-widgets/controls",
            "_view_module_version": "1.5.0",
            "_view_name": "HBoxView",
            "box_style": "",
            "children": [
              "IPY_MODEL_82bc5e8fbb5149aeb660b9ec7fdfc154",
              "IPY_MODEL_fd75cb6ec09f4af8a584391742aa6e86",
              "IPY_MODEL_cf7e914b8c1f4c67ac22ec91486e133f"
            ],
            "layout": "IPY_MODEL_8dddd6f83c1b49ffb417be1141d5ae67"
          }
        },
        "82bc5e8fbb5149aeb660b9ec7fdfc154": {
          "model_module": "@jupyter-widgets/controls",
          "model_name": "HTMLModel",
          "model_module_version": "1.5.0",
          "state": {
            "_dom_classes": [],
            "_model_module": "@jupyter-widgets/controls",
            "_model_module_version": "1.5.0",
            "_model_name": "HTMLModel",
            "_view_count": null,
            "_view_module": "@jupyter-widgets/controls",
            "_view_module_version": "1.5.0",
            "_view_name": "HTMLView",
            "description": "",
            "description_tooltip": null,
            "layout": "IPY_MODEL_da6d628552124d7aac3974c92962996b",
            "placeholder": "​",
            "style": "IPY_MODEL_2a5668cc44ec4c1c8567f08e5f33460e",
            "value": "Downloading (…)olve/main/merges.txt: 100%"
          }
        },
        "fd75cb6ec09f4af8a584391742aa6e86": {
          "model_module": "@jupyter-widgets/controls",
          "model_name": "FloatProgressModel",
          "model_module_version": "1.5.0",
          "state": {
            "_dom_classes": [],
            "_model_module": "@jupyter-widgets/controls",
            "_model_module_version": "1.5.0",
            "_model_name": "FloatProgressModel",
            "_view_count": null,
            "_view_module": "@jupyter-widgets/controls",
            "_view_module_version": "1.5.0",
            "_view_name": "ProgressView",
            "bar_style": "success",
            "description": "",
            "description_tooltip": null,
            "layout": "IPY_MODEL_7d48e8625c934b849884397a5a5afc89",
            "max": 456318,
            "min": 0,
            "orientation": "horizontal",
            "style": "IPY_MODEL_ddeed5f76d2048c3871503d162e135a7",
            "value": 456318
          }
        },
        "cf7e914b8c1f4c67ac22ec91486e133f": {
          "model_module": "@jupyter-widgets/controls",
          "model_name": "HTMLModel",
          "model_module_version": "1.5.0",
          "state": {
            "_dom_classes": [],
            "_model_module": "@jupyter-widgets/controls",
            "_model_module_version": "1.5.0",
            "_model_name": "HTMLModel",
            "_view_count": null,
            "_view_module": "@jupyter-widgets/controls",
            "_view_module_version": "1.5.0",
            "_view_name": "HTMLView",
            "description": "",
            "description_tooltip": null,
            "layout": "IPY_MODEL_cf8862773f914949951bf36b6a9fece6",
            "placeholder": "​",
            "style": "IPY_MODEL_faf829d0986b48a8aae017339008bc4e",
            "value": " 456k/456k [00:01&lt;00:00, 409kB/s]"
          }
        },
        "8dddd6f83c1b49ffb417be1141d5ae67": {
          "model_module": "@jupyter-widgets/base",
          "model_name": "LayoutModel",
          "model_module_version": "1.2.0",
          "state": {
            "_model_module": "@jupyter-widgets/base",
            "_model_module_version": "1.2.0",
            "_model_name": "LayoutModel",
            "_view_count": null,
            "_view_module": "@jupyter-widgets/base",
            "_view_module_version": "1.2.0",
            "_view_name": "LayoutView",
            "align_content": null,
            "align_items": null,
            "align_self": null,
            "border": null,
            "bottom": null,
            "display": null,
            "flex": null,
            "flex_flow": null,
            "grid_area": null,
            "grid_auto_columns": null,
            "grid_auto_flow": null,
            "grid_auto_rows": null,
            "grid_column": null,
            "grid_gap": null,
            "grid_row": null,
            "grid_template_areas": null,
            "grid_template_columns": null,
            "grid_template_rows": null,
            "height": null,
            "justify_content": null,
            "justify_items": null,
            "left": null,
            "margin": null,
            "max_height": null,
            "max_width": null,
            "min_height": null,
            "min_width": null,
            "object_fit": null,
            "object_position": null,
            "order": null,
            "overflow": null,
            "overflow_x": null,
            "overflow_y": null,
            "padding": null,
            "right": null,
            "top": null,
            "visibility": null,
            "width": null
          }
        },
        "da6d628552124d7aac3974c92962996b": {
          "model_module": "@jupyter-widgets/base",
          "model_name": "LayoutModel",
          "model_module_version": "1.2.0",
          "state": {
            "_model_module": "@jupyter-widgets/base",
            "_model_module_version": "1.2.0",
            "_model_name": "LayoutModel",
            "_view_count": null,
            "_view_module": "@jupyter-widgets/base",
            "_view_module_version": "1.2.0",
            "_view_name": "LayoutView",
            "align_content": null,
            "align_items": null,
            "align_self": null,
            "border": null,
            "bottom": null,
            "display": null,
            "flex": null,
            "flex_flow": null,
            "grid_area": null,
            "grid_auto_columns": null,
            "grid_auto_flow": null,
            "grid_auto_rows": null,
            "grid_column": null,
            "grid_gap": null,
            "grid_row": null,
            "grid_template_areas": null,
            "grid_template_columns": null,
            "grid_template_rows": null,
            "height": null,
            "justify_content": null,
            "justify_items": null,
            "left": null,
            "margin": null,
            "max_height": null,
            "max_width": null,
            "min_height": null,
            "min_width": null,
            "object_fit": null,
            "object_position": null,
            "order": null,
            "overflow": null,
            "overflow_x": null,
            "overflow_y": null,
            "padding": null,
            "right": null,
            "top": null,
            "visibility": null,
            "width": null
          }
        },
        "2a5668cc44ec4c1c8567f08e5f33460e": {
          "model_module": "@jupyter-widgets/controls",
          "model_name": "DescriptionStyleModel",
          "model_module_version": "1.5.0",
          "state": {
            "_model_module": "@jupyter-widgets/controls",
            "_model_module_version": "1.5.0",
            "_model_name": "DescriptionStyleModel",
            "_view_count": null,
            "_view_module": "@jupyter-widgets/base",
            "_view_module_version": "1.2.0",
            "_view_name": "StyleView",
            "description_width": ""
          }
        },
        "7d48e8625c934b849884397a5a5afc89": {
          "model_module": "@jupyter-widgets/base",
          "model_name": "LayoutModel",
          "model_module_version": "1.2.0",
          "state": {
            "_model_module": "@jupyter-widgets/base",
            "_model_module_version": "1.2.0",
            "_model_name": "LayoutModel",
            "_view_count": null,
            "_view_module": "@jupyter-widgets/base",
            "_view_module_version": "1.2.0",
            "_view_name": "LayoutView",
            "align_content": null,
            "align_items": null,
            "align_self": null,
            "border": null,
            "bottom": null,
            "display": null,
            "flex": null,
            "flex_flow": null,
            "grid_area": null,
            "grid_auto_columns": null,
            "grid_auto_flow": null,
            "grid_auto_rows": null,
            "grid_column": null,
            "grid_gap": null,
            "grid_row": null,
            "grid_template_areas": null,
            "grid_template_columns": null,
            "grid_template_rows": null,
            "height": null,
            "justify_content": null,
            "justify_items": null,
            "left": null,
            "margin": null,
            "max_height": null,
            "max_width": null,
            "min_height": null,
            "min_width": null,
            "object_fit": null,
            "object_position": null,
            "order": null,
            "overflow": null,
            "overflow_x": null,
            "overflow_y": null,
            "padding": null,
            "right": null,
            "top": null,
            "visibility": null,
            "width": null
          }
        },
        "ddeed5f76d2048c3871503d162e135a7": {
          "model_module": "@jupyter-widgets/controls",
          "model_name": "ProgressStyleModel",
          "model_module_version": "1.5.0",
          "state": {
            "_model_module": "@jupyter-widgets/controls",
            "_model_module_version": "1.5.0",
            "_model_name": "ProgressStyleModel",
            "_view_count": null,
            "_view_module": "@jupyter-widgets/base",
            "_view_module_version": "1.2.0",
            "_view_name": "StyleView",
            "bar_color": null,
            "description_width": ""
          }
        },
        "cf8862773f914949951bf36b6a9fece6": {
          "model_module": "@jupyter-widgets/base",
          "model_name": "LayoutModel",
          "model_module_version": "1.2.0",
          "state": {
            "_model_module": "@jupyter-widgets/base",
            "_model_module_version": "1.2.0",
            "_model_name": "LayoutModel",
            "_view_count": null,
            "_view_module": "@jupyter-widgets/base",
            "_view_module_version": "1.2.0",
            "_view_name": "LayoutView",
            "align_content": null,
            "align_items": null,
            "align_self": null,
            "border": null,
            "bottom": null,
            "display": null,
            "flex": null,
            "flex_flow": null,
            "grid_area": null,
            "grid_auto_columns": null,
            "grid_auto_flow": null,
            "grid_auto_rows": null,
            "grid_column": null,
            "grid_gap": null,
            "grid_row": null,
            "grid_template_areas": null,
            "grid_template_columns": null,
            "grid_template_rows": null,
            "height": null,
            "justify_content": null,
            "justify_items": null,
            "left": null,
            "margin": null,
            "max_height": null,
            "max_width": null,
            "min_height": null,
            "min_width": null,
            "object_fit": null,
            "object_position": null,
            "order": null,
            "overflow": null,
            "overflow_x": null,
            "overflow_y": null,
            "padding": null,
            "right": null,
            "top": null,
            "visibility": null,
            "width": null
          }
        },
        "faf829d0986b48a8aae017339008bc4e": {
          "model_module": "@jupyter-widgets/controls",
          "model_name": "DescriptionStyleModel",
          "model_module_version": "1.5.0",
          "state": {
            "_model_module": "@jupyter-widgets/controls",
            "_model_module_version": "1.5.0",
            "_model_name": "DescriptionStyleModel",
            "_view_count": null,
            "_view_module": "@jupyter-widgets/base",
            "_view_module_version": "1.2.0",
            "_view_name": "StyleView",
            "description_width": ""
          }
        },
        "5431e07aed214681961b463376fcd6e4": {
          "model_module": "@jupyter-widgets/controls",
          "model_name": "HBoxModel",
          "model_module_version": "1.5.0",
          "state": {
            "_dom_classes": [],
            "_model_module": "@jupyter-widgets/controls",
            "_model_module_version": "1.5.0",
            "_model_name": "HBoxModel",
            "_view_count": null,
            "_view_module": "@jupyter-widgets/controls",
            "_view_module_version": "1.5.0",
            "_view_name": "HBoxView",
            "box_style": "",
            "children": [
              "IPY_MODEL_f028f9b33a2c4af3905b48664dc9fe1c",
              "IPY_MODEL_ed7da85a4f24495fa1272a3464724a9a",
              "IPY_MODEL_7fc7592b74e44f5d852804f2dd70e2c3"
            ],
            "layout": "IPY_MODEL_58e6198b426946fda6777b1e497b1002"
          }
        },
        "f028f9b33a2c4af3905b48664dc9fe1c": {
          "model_module": "@jupyter-widgets/controls",
          "model_name": "HTMLModel",
          "model_module_version": "1.5.0",
          "state": {
            "_dom_classes": [],
            "_model_module": "@jupyter-widgets/controls",
            "_model_module_version": "1.5.0",
            "_model_name": "HTMLModel",
            "_view_count": null,
            "_view_module": "@jupyter-widgets/controls",
            "_view_module_version": "1.5.0",
            "_view_name": "HTMLView",
            "description": "",
            "description_tooltip": null,
            "layout": "IPY_MODEL_4ef76cbd354f45ffbac8d3f05597f51e",
            "placeholder": "​",
            "style": "IPY_MODEL_5f19c5d2f3054edbb5c749779636701f",
            "value": "Downloading (…)cial_tokens_map.json: 100%"
          }
        },
        "ed7da85a4f24495fa1272a3464724a9a": {
          "model_module": "@jupyter-widgets/controls",
          "model_name": "FloatProgressModel",
          "model_module_version": "1.5.0",
          "state": {
            "_dom_classes": [],
            "_model_module": "@jupyter-widgets/controls",
            "_model_module_version": "1.5.0",
            "_model_name": "FloatProgressModel",
            "_view_count": null,
            "_view_module": "@jupyter-widgets/controls",
            "_view_module_version": "1.5.0",
            "_view_name": "ProgressView",
            "bar_style": "success",
            "description": "",
            "description_tooltip": null,
            "layout": "IPY_MODEL_587d7d33535d4ce5a8b084a552073e52",
            "max": 441,
            "min": 0,
            "orientation": "horizontal",
            "style": "IPY_MODEL_974c1406d98f4fb4a23f2b700a48b632",
            "value": 441
          }
        },
        "7fc7592b74e44f5d852804f2dd70e2c3": {
          "model_module": "@jupyter-widgets/controls",
          "model_name": "HTMLModel",
          "model_module_version": "1.5.0",
          "state": {
            "_dom_classes": [],
            "_model_module": "@jupyter-widgets/controls",
            "_model_module_version": "1.5.0",
            "_model_name": "HTMLModel",
            "_view_count": null,
            "_view_module": "@jupyter-widgets/controls",
            "_view_module_version": "1.5.0",
            "_view_name": "HTMLView",
            "description": "",
            "description_tooltip": null,
            "layout": "IPY_MODEL_9bfe0289d7a34eaab8fdcdbcd654cd24",
            "placeholder": "​",
            "style": "IPY_MODEL_64204bc52bab4cfbbcc85d65c3bf10bb",
            "value": " 441/441 [00:00&lt;00:00, 19.9kB/s]"
          }
        },
        "58e6198b426946fda6777b1e497b1002": {
          "model_module": "@jupyter-widgets/base",
          "model_name": "LayoutModel",
          "model_module_version": "1.2.0",
          "state": {
            "_model_module": "@jupyter-widgets/base",
            "_model_module_version": "1.2.0",
            "_model_name": "LayoutModel",
            "_view_count": null,
            "_view_module": "@jupyter-widgets/base",
            "_view_module_version": "1.2.0",
            "_view_name": "LayoutView",
            "align_content": null,
            "align_items": null,
            "align_self": null,
            "border": null,
            "bottom": null,
            "display": null,
            "flex": null,
            "flex_flow": null,
            "grid_area": null,
            "grid_auto_columns": null,
            "grid_auto_flow": null,
            "grid_auto_rows": null,
            "grid_column": null,
            "grid_gap": null,
            "grid_row": null,
            "grid_template_areas": null,
            "grid_template_columns": null,
            "grid_template_rows": null,
            "height": null,
            "justify_content": null,
            "justify_items": null,
            "left": null,
            "margin": null,
            "max_height": null,
            "max_width": null,
            "min_height": null,
            "min_width": null,
            "object_fit": null,
            "object_position": null,
            "order": null,
            "overflow": null,
            "overflow_x": null,
            "overflow_y": null,
            "padding": null,
            "right": null,
            "top": null,
            "visibility": null,
            "width": null
          }
        },
        "4ef76cbd354f45ffbac8d3f05597f51e": {
          "model_module": "@jupyter-widgets/base",
          "model_name": "LayoutModel",
          "model_module_version": "1.2.0",
          "state": {
            "_model_module": "@jupyter-widgets/base",
            "_model_module_version": "1.2.0",
            "_model_name": "LayoutModel",
            "_view_count": null,
            "_view_module": "@jupyter-widgets/base",
            "_view_module_version": "1.2.0",
            "_view_name": "LayoutView",
            "align_content": null,
            "align_items": null,
            "align_self": null,
            "border": null,
            "bottom": null,
            "display": null,
            "flex": null,
            "flex_flow": null,
            "grid_area": null,
            "grid_auto_columns": null,
            "grid_auto_flow": null,
            "grid_auto_rows": null,
            "grid_column": null,
            "grid_gap": null,
            "grid_row": null,
            "grid_template_areas": null,
            "grid_template_columns": null,
            "grid_template_rows": null,
            "height": null,
            "justify_content": null,
            "justify_items": null,
            "left": null,
            "margin": null,
            "max_height": null,
            "max_width": null,
            "min_height": null,
            "min_width": null,
            "object_fit": null,
            "object_position": null,
            "order": null,
            "overflow": null,
            "overflow_x": null,
            "overflow_y": null,
            "padding": null,
            "right": null,
            "top": null,
            "visibility": null,
            "width": null
          }
        },
        "5f19c5d2f3054edbb5c749779636701f": {
          "model_module": "@jupyter-widgets/controls",
          "model_name": "DescriptionStyleModel",
          "model_module_version": "1.5.0",
          "state": {
            "_model_module": "@jupyter-widgets/controls",
            "_model_module_version": "1.5.0",
            "_model_name": "DescriptionStyleModel",
            "_view_count": null,
            "_view_module": "@jupyter-widgets/base",
            "_view_module_version": "1.2.0",
            "_view_name": "StyleView",
            "description_width": ""
          }
        },
        "587d7d33535d4ce5a8b084a552073e52": {
          "model_module": "@jupyter-widgets/base",
          "model_name": "LayoutModel",
          "model_module_version": "1.2.0",
          "state": {
            "_model_module": "@jupyter-widgets/base",
            "_model_module_version": "1.2.0",
            "_model_name": "LayoutModel",
            "_view_count": null,
            "_view_module": "@jupyter-widgets/base",
            "_view_module_version": "1.2.0",
            "_view_name": "LayoutView",
            "align_content": null,
            "align_items": null,
            "align_self": null,
            "border": null,
            "bottom": null,
            "display": null,
            "flex": null,
            "flex_flow": null,
            "grid_area": null,
            "grid_auto_columns": null,
            "grid_auto_flow": null,
            "grid_auto_rows": null,
            "grid_column": null,
            "grid_gap": null,
            "grid_row": null,
            "grid_template_areas": null,
            "grid_template_columns": null,
            "grid_template_rows": null,
            "height": null,
            "justify_content": null,
            "justify_items": null,
            "left": null,
            "margin": null,
            "max_height": null,
            "max_width": null,
            "min_height": null,
            "min_width": null,
            "object_fit": null,
            "object_position": null,
            "order": null,
            "overflow": null,
            "overflow_x": null,
            "overflow_y": null,
            "padding": null,
            "right": null,
            "top": null,
            "visibility": null,
            "width": null
          }
        },
        "974c1406d98f4fb4a23f2b700a48b632": {
          "model_module": "@jupyter-widgets/controls",
          "model_name": "ProgressStyleModel",
          "model_module_version": "1.5.0",
          "state": {
            "_model_module": "@jupyter-widgets/controls",
            "_model_module_version": "1.5.0",
            "_model_name": "ProgressStyleModel",
            "_view_count": null,
            "_view_module": "@jupyter-widgets/base",
            "_view_module_version": "1.2.0",
            "_view_name": "StyleView",
            "bar_color": null,
            "description_width": ""
          }
        },
        "9bfe0289d7a34eaab8fdcdbcd654cd24": {
          "model_module": "@jupyter-widgets/base",
          "model_name": "LayoutModel",
          "model_module_version": "1.2.0",
          "state": {
            "_model_module": "@jupyter-widgets/base",
            "_model_module_version": "1.2.0",
            "_model_name": "LayoutModel",
            "_view_count": null,
            "_view_module": "@jupyter-widgets/base",
            "_view_module_version": "1.2.0",
            "_view_name": "LayoutView",
            "align_content": null,
            "align_items": null,
            "align_self": null,
            "border": null,
            "bottom": null,
            "display": null,
            "flex": null,
            "flex_flow": null,
            "grid_area": null,
            "grid_auto_columns": null,
            "grid_auto_flow": null,
            "grid_auto_rows": null,
            "grid_column": null,
            "grid_gap": null,
            "grid_row": null,
            "grid_template_areas": null,
            "grid_template_columns": null,
            "grid_template_rows": null,
            "height": null,
            "justify_content": null,
            "justify_items": null,
            "left": null,
            "margin": null,
            "max_height": null,
            "max_width": null,
            "min_height": null,
            "min_width": null,
            "object_fit": null,
            "object_position": null,
            "order": null,
            "overflow": null,
            "overflow_x": null,
            "overflow_y": null,
            "padding": null,
            "right": null,
            "top": null,
            "visibility": null,
            "width": null
          }
        },
        "64204bc52bab4cfbbcc85d65c3bf10bb": {
          "model_module": "@jupyter-widgets/controls",
          "model_name": "DescriptionStyleModel",
          "model_module_version": "1.5.0",
          "state": {
            "_model_module": "@jupyter-widgets/controls",
            "_model_module_version": "1.5.0",
            "_model_name": "DescriptionStyleModel",
            "_view_count": null,
            "_view_module": "@jupyter-widgets/base",
            "_view_module_version": "1.2.0",
            "_view_name": "StyleView",
            "description_width": ""
          }
        },
        "c3a39fcf40a74acdb46b45d411b58906": {
          "model_module": "@jupyter-widgets/controls",
          "model_name": "HBoxModel",
          "model_module_version": "1.5.0",
          "state": {
            "_dom_classes": [],
            "_model_module": "@jupyter-widgets/controls",
            "_model_module_version": "1.5.0",
            "_model_name": "HBoxModel",
            "_view_count": null,
            "_view_module": "@jupyter-widgets/controls",
            "_view_module_version": "1.5.0",
            "_view_name": "HBoxView",
            "box_style": "",
            "children": [
              "IPY_MODEL_afae606770e2448f8c99253cec22d1d8",
              "IPY_MODEL_72b78141b901440ea67a1f9a9661926b",
              "IPY_MODEL_39961a23b92d435b9d2daee31732606b"
            ],
            "layout": "IPY_MODEL_21069da5e03640cc947968ee2cda0a31"
          }
        },
        "afae606770e2448f8c99253cec22d1d8": {
          "model_module": "@jupyter-widgets/controls",
          "model_name": "HTMLModel",
          "model_module_version": "1.5.0",
          "state": {
            "_dom_classes": [],
            "_model_module": "@jupyter-widgets/controls",
            "_model_module_version": "1.5.0",
            "_model_name": "HTMLModel",
            "_view_count": null,
            "_view_module": "@jupyter-widgets/controls",
            "_view_module_version": "1.5.0",
            "_view_name": "HTMLView",
            "description": "",
            "description_tooltip": null,
            "layout": "IPY_MODEL_db999cc21e144fae95020fedc8f547ca",
            "placeholder": "​",
            "style": "IPY_MODEL_dace66e7450741e2bc806e8c44e3486e",
            "value": "Downloading (…)okenizer_config.json: 100%"
          }
        },
        "72b78141b901440ea67a1f9a9661926b": {
          "model_module": "@jupyter-widgets/controls",
          "model_name": "FloatProgressModel",
          "model_module_version": "1.5.0",
          "state": {
            "_dom_classes": [],
            "_model_module": "@jupyter-widgets/controls",
            "_model_module_version": "1.5.0",
            "_model_name": "FloatProgressModel",
            "_view_count": null,
            "_view_module": "@jupyter-widgets/controls",
            "_view_module_version": "1.5.0",
            "_view_name": "ProgressView",
            "bar_style": "success",
            "description": "",
            "description_tooltip": null,
            "layout": "IPY_MODEL_4834332789aa43e6a9c7cef244d27cd3",
            "max": 685,
            "min": 0,
            "orientation": "horizontal",
            "style": "IPY_MODEL_ed605cf37f7049ab83d2ccd09ea5047c",
            "value": 685
          }
        },
        "39961a23b92d435b9d2daee31732606b": {
          "model_module": "@jupyter-widgets/controls",
          "model_name": "HTMLModel",
          "model_module_version": "1.5.0",
          "state": {
            "_dom_classes": [],
            "_model_module": "@jupyter-widgets/controls",
            "_model_module_version": "1.5.0",
            "_model_name": "HTMLModel",
            "_view_count": null,
            "_view_module": "@jupyter-widgets/controls",
            "_view_module_version": "1.5.0",
            "_view_name": "HTMLView",
            "description": "",
            "description_tooltip": null,
            "layout": "IPY_MODEL_3df33e47f77347f6aa154682cec720f8",
            "placeholder": "​",
            "style": "IPY_MODEL_6c317e38b35447e48b2b8d4f465b7d84",
            "value": " 685/685 [00:00&lt;00:00, 35.4kB/s]"
          }
        },
        "21069da5e03640cc947968ee2cda0a31": {
          "model_module": "@jupyter-widgets/base",
          "model_name": "LayoutModel",
          "model_module_version": "1.2.0",
          "state": {
            "_model_module": "@jupyter-widgets/base",
            "_model_module_version": "1.2.0",
            "_model_name": "LayoutModel",
            "_view_count": null,
            "_view_module": "@jupyter-widgets/base",
            "_view_module_version": "1.2.0",
            "_view_name": "LayoutView",
            "align_content": null,
            "align_items": null,
            "align_self": null,
            "border": null,
            "bottom": null,
            "display": null,
            "flex": null,
            "flex_flow": null,
            "grid_area": null,
            "grid_auto_columns": null,
            "grid_auto_flow": null,
            "grid_auto_rows": null,
            "grid_column": null,
            "grid_gap": null,
            "grid_row": null,
            "grid_template_areas": null,
            "grid_template_columns": null,
            "grid_template_rows": null,
            "height": null,
            "justify_content": null,
            "justify_items": null,
            "left": null,
            "margin": null,
            "max_height": null,
            "max_width": null,
            "min_height": null,
            "min_width": null,
            "object_fit": null,
            "object_position": null,
            "order": null,
            "overflow": null,
            "overflow_x": null,
            "overflow_y": null,
            "padding": null,
            "right": null,
            "top": null,
            "visibility": null,
            "width": null
          }
        },
        "db999cc21e144fae95020fedc8f547ca": {
          "model_module": "@jupyter-widgets/base",
          "model_name": "LayoutModel",
          "model_module_version": "1.2.0",
          "state": {
            "_model_module": "@jupyter-widgets/base",
            "_model_module_version": "1.2.0",
            "_model_name": "LayoutModel",
            "_view_count": null,
            "_view_module": "@jupyter-widgets/base",
            "_view_module_version": "1.2.0",
            "_view_name": "LayoutView",
            "align_content": null,
            "align_items": null,
            "align_self": null,
            "border": null,
            "bottom": null,
            "display": null,
            "flex": null,
            "flex_flow": null,
            "grid_area": null,
            "grid_auto_columns": null,
            "grid_auto_flow": null,
            "grid_auto_rows": null,
            "grid_column": null,
            "grid_gap": null,
            "grid_row": null,
            "grid_template_areas": null,
            "grid_template_columns": null,
            "grid_template_rows": null,
            "height": null,
            "justify_content": null,
            "justify_items": null,
            "left": null,
            "margin": null,
            "max_height": null,
            "max_width": null,
            "min_height": null,
            "min_width": null,
            "object_fit": null,
            "object_position": null,
            "order": null,
            "overflow": null,
            "overflow_x": null,
            "overflow_y": null,
            "padding": null,
            "right": null,
            "top": null,
            "visibility": null,
            "width": null
          }
        },
        "dace66e7450741e2bc806e8c44e3486e": {
          "model_module": "@jupyter-widgets/controls",
          "model_name": "DescriptionStyleModel",
          "model_module_version": "1.5.0",
          "state": {
            "_model_module": "@jupyter-widgets/controls",
            "_model_module_version": "1.5.0",
            "_model_name": "DescriptionStyleModel",
            "_view_count": null,
            "_view_module": "@jupyter-widgets/base",
            "_view_module_version": "1.2.0",
            "_view_name": "StyleView",
            "description_width": ""
          }
        },
        "4834332789aa43e6a9c7cef244d27cd3": {
          "model_module": "@jupyter-widgets/base",
          "model_name": "LayoutModel",
          "model_module_version": "1.2.0",
          "state": {
            "_model_module": "@jupyter-widgets/base",
            "_model_module_version": "1.2.0",
            "_model_name": "LayoutModel",
            "_view_count": null,
            "_view_module": "@jupyter-widgets/base",
            "_view_module_version": "1.2.0",
            "_view_name": "LayoutView",
            "align_content": null,
            "align_items": null,
            "align_self": null,
            "border": null,
            "bottom": null,
            "display": null,
            "flex": null,
            "flex_flow": null,
            "grid_area": null,
            "grid_auto_columns": null,
            "grid_auto_flow": null,
            "grid_auto_rows": null,
            "grid_column": null,
            "grid_gap": null,
            "grid_row": null,
            "grid_template_areas": null,
            "grid_template_columns": null,
            "grid_template_rows": null,
            "height": null,
            "justify_content": null,
            "justify_items": null,
            "left": null,
            "margin": null,
            "max_height": null,
            "max_width": null,
            "min_height": null,
            "min_width": null,
            "object_fit": null,
            "object_position": null,
            "order": null,
            "overflow": null,
            "overflow_x": null,
            "overflow_y": null,
            "padding": null,
            "right": null,
            "top": null,
            "visibility": null,
            "width": null
          }
        },
        "ed605cf37f7049ab83d2ccd09ea5047c": {
          "model_module": "@jupyter-widgets/controls",
          "model_name": "ProgressStyleModel",
          "model_module_version": "1.5.0",
          "state": {
            "_model_module": "@jupyter-widgets/controls",
            "_model_module_version": "1.5.0",
            "_model_name": "ProgressStyleModel",
            "_view_count": null,
            "_view_module": "@jupyter-widgets/base",
            "_view_module_version": "1.2.0",
            "_view_name": "StyleView",
            "bar_color": null,
            "description_width": ""
          }
        },
        "3df33e47f77347f6aa154682cec720f8": {
          "model_module": "@jupyter-widgets/base",
          "model_name": "LayoutModel",
          "model_module_version": "1.2.0",
          "state": {
            "_model_module": "@jupyter-widgets/base",
            "_model_module_version": "1.2.0",
            "_model_name": "LayoutModel",
            "_view_count": null,
            "_view_module": "@jupyter-widgets/base",
            "_view_module_version": "1.2.0",
            "_view_name": "LayoutView",
            "align_content": null,
            "align_items": null,
            "align_self": null,
            "border": null,
            "bottom": null,
            "display": null,
            "flex": null,
            "flex_flow": null,
            "grid_area": null,
            "grid_auto_columns": null,
            "grid_auto_flow": null,
            "grid_auto_rows": null,
            "grid_column": null,
            "grid_gap": null,
            "grid_row": null,
            "grid_template_areas": null,
            "grid_template_columns": null,
            "grid_template_rows": null,
            "height": null,
            "justify_content": null,
            "justify_items": null,
            "left": null,
            "margin": null,
            "max_height": null,
            "max_width": null,
            "min_height": null,
            "min_width": null,
            "object_fit": null,
            "object_position": null,
            "order": null,
            "overflow": null,
            "overflow_x": null,
            "overflow_y": null,
            "padding": null,
            "right": null,
            "top": null,
            "visibility": null,
            "width": null
          }
        },
        "6c317e38b35447e48b2b8d4f465b7d84": {
          "model_module": "@jupyter-widgets/controls",
          "model_name": "DescriptionStyleModel",
          "model_module_version": "1.5.0",
          "state": {
            "_model_module": "@jupyter-widgets/controls",
            "_model_module_version": "1.5.0",
            "_model_name": "DescriptionStyleModel",
            "_view_count": null,
            "_view_module": "@jupyter-widgets/base",
            "_view_module_version": "1.2.0",
            "_view_name": "StyleView",
            "description_width": ""
          }
        },
        "710f0af951eb48148e715f544a014854": {
          "model_module": "@jupyter-widgets/controls",
          "model_name": "HBoxModel",
          "model_module_version": "1.5.0",
          "state": {
            "_dom_classes": [],
            "_model_module": "@jupyter-widgets/controls",
            "_model_module_version": "1.5.0",
            "_model_name": "HBoxModel",
            "_view_count": null,
            "_view_module": "@jupyter-widgets/controls",
            "_view_module_version": "1.5.0",
            "_view_name": "HBoxView",
            "box_style": "",
            "children": [
              "IPY_MODEL_be738395495c4296af63be3b3cc6bec1",
              "IPY_MODEL_f4ef59a869074119a49eec655d24bdc3",
              "IPY_MODEL_884dcca5099a42b28e503450ff4d4213"
            ],
            "layout": "IPY_MODEL_2e25fabb290d4d8d884ece1932f4825a"
          }
        },
        "be738395495c4296af63be3b3cc6bec1": {
          "model_module": "@jupyter-widgets/controls",
          "model_name": "HTMLModel",
          "model_module_version": "1.5.0",
          "state": {
            "_dom_classes": [],
            "_model_module": "@jupyter-widgets/controls",
            "_model_module_version": "1.5.0",
            "_model_name": "HTMLModel",
            "_view_count": null,
            "_view_module": "@jupyter-widgets/controls",
            "_view_module_version": "1.5.0",
            "_view_name": "HTMLView",
            "description": "",
            "description_tooltip": null,
            "layout": "IPY_MODEL_9f674bac61164a6b9248496734b10471",
            "placeholder": "​",
            "style": "IPY_MODEL_2a4f7b679fd6443b94cfbfc7adbe4eb1",
            "value": "Downloading (…)lve/main/config.json: 100%"
          }
        },
        "f4ef59a869074119a49eec655d24bdc3": {
          "model_module": "@jupyter-widgets/controls",
          "model_name": "FloatProgressModel",
          "model_module_version": "1.5.0",
          "state": {
            "_dom_classes": [],
            "_model_module": "@jupyter-widgets/controls",
            "_model_module_version": "1.5.0",
            "_model_name": "FloatProgressModel",
            "_view_count": null,
            "_view_module": "@jupyter-widgets/controls",
            "_view_module_version": "1.5.0",
            "_view_name": "ProgressView",
            "bar_style": "success",
            "description": "",
            "description_tooltip": null,
            "layout": "IPY_MODEL_f37bb5f0191f4e4ab0929d279b6ab51b",
            "max": 644,
            "min": 0,
            "orientation": "horizontal",
            "style": "IPY_MODEL_97d3fd32bd5b413bbd70bef90dfa6ac4",
            "value": 644
          }
        },
        "884dcca5099a42b28e503450ff4d4213": {
          "model_module": "@jupyter-widgets/controls",
          "model_name": "HTMLModel",
          "model_module_version": "1.5.0",
          "state": {
            "_dom_classes": [],
            "_model_module": "@jupyter-widgets/controls",
            "_model_module_version": "1.5.0",
            "_model_name": "HTMLModel",
            "_view_count": null,
            "_view_module": "@jupyter-widgets/controls",
            "_view_module_version": "1.5.0",
            "_view_name": "HTMLView",
            "description": "",
            "description_tooltip": null,
            "layout": "IPY_MODEL_e1d090e8eef4440195ca7ac98afc7aa5",
            "placeholder": "​",
            "style": "IPY_MODEL_28adf5ae61df4890a817ce39bed03501",
            "value": " 644/644 [00:00&lt;00:00, 26.1kB/s]"
          }
        },
        "2e25fabb290d4d8d884ece1932f4825a": {
          "model_module": "@jupyter-widgets/base",
          "model_name": "LayoutModel",
          "model_module_version": "1.2.0",
          "state": {
            "_model_module": "@jupyter-widgets/base",
            "_model_module_version": "1.2.0",
            "_model_name": "LayoutModel",
            "_view_count": null,
            "_view_module": "@jupyter-widgets/base",
            "_view_module_version": "1.2.0",
            "_view_name": "LayoutView",
            "align_content": null,
            "align_items": null,
            "align_self": null,
            "border": null,
            "bottom": null,
            "display": null,
            "flex": null,
            "flex_flow": null,
            "grid_area": null,
            "grid_auto_columns": null,
            "grid_auto_flow": null,
            "grid_auto_rows": null,
            "grid_column": null,
            "grid_gap": null,
            "grid_row": null,
            "grid_template_areas": null,
            "grid_template_columns": null,
            "grid_template_rows": null,
            "height": null,
            "justify_content": null,
            "justify_items": null,
            "left": null,
            "margin": null,
            "max_height": null,
            "max_width": null,
            "min_height": null,
            "min_width": null,
            "object_fit": null,
            "object_position": null,
            "order": null,
            "overflow": null,
            "overflow_x": null,
            "overflow_y": null,
            "padding": null,
            "right": null,
            "top": null,
            "visibility": null,
            "width": null
          }
        },
        "9f674bac61164a6b9248496734b10471": {
          "model_module": "@jupyter-widgets/base",
          "model_name": "LayoutModel",
          "model_module_version": "1.2.0",
          "state": {
            "_model_module": "@jupyter-widgets/base",
            "_model_module_version": "1.2.0",
            "_model_name": "LayoutModel",
            "_view_count": null,
            "_view_module": "@jupyter-widgets/base",
            "_view_module_version": "1.2.0",
            "_view_name": "LayoutView",
            "align_content": null,
            "align_items": null,
            "align_self": null,
            "border": null,
            "bottom": null,
            "display": null,
            "flex": null,
            "flex_flow": null,
            "grid_area": null,
            "grid_auto_columns": null,
            "grid_auto_flow": null,
            "grid_auto_rows": null,
            "grid_column": null,
            "grid_gap": null,
            "grid_row": null,
            "grid_template_areas": null,
            "grid_template_columns": null,
            "grid_template_rows": null,
            "height": null,
            "justify_content": null,
            "justify_items": null,
            "left": null,
            "margin": null,
            "max_height": null,
            "max_width": null,
            "min_height": null,
            "min_width": null,
            "object_fit": null,
            "object_position": null,
            "order": null,
            "overflow": null,
            "overflow_x": null,
            "overflow_y": null,
            "padding": null,
            "right": null,
            "top": null,
            "visibility": null,
            "width": null
          }
        },
        "2a4f7b679fd6443b94cfbfc7adbe4eb1": {
          "model_module": "@jupyter-widgets/controls",
          "model_name": "DescriptionStyleModel",
          "model_module_version": "1.5.0",
          "state": {
            "_model_module": "@jupyter-widgets/controls",
            "_model_module_version": "1.5.0",
            "_model_name": "DescriptionStyleModel",
            "_view_count": null,
            "_view_module": "@jupyter-widgets/base",
            "_view_module_version": "1.2.0",
            "_view_name": "StyleView",
            "description_width": ""
          }
        },
        "f37bb5f0191f4e4ab0929d279b6ab51b": {
          "model_module": "@jupyter-widgets/base",
          "model_name": "LayoutModel",
          "model_module_version": "1.2.0",
          "state": {
            "_model_module": "@jupyter-widgets/base",
            "_model_module_version": "1.2.0",
            "_model_name": "LayoutModel",
            "_view_count": null,
            "_view_module": "@jupyter-widgets/base",
            "_view_module_version": "1.2.0",
            "_view_name": "LayoutView",
            "align_content": null,
            "align_items": null,
            "align_self": null,
            "border": null,
            "bottom": null,
            "display": null,
            "flex": null,
            "flex_flow": null,
            "grid_area": null,
            "grid_auto_columns": null,
            "grid_auto_flow": null,
            "grid_auto_rows": null,
            "grid_column": null,
            "grid_gap": null,
            "grid_row": null,
            "grid_template_areas": null,
            "grid_template_columns": null,
            "grid_template_rows": null,
            "height": null,
            "justify_content": null,
            "justify_items": null,
            "left": null,
            "margin": null,
            "max_height": null,
            "max_width": null,
            "min_height": null,
            "min_width": null,
            "object_fit": null,
            "object_position": null,
            "order": null,
            "overflow": null,
            "overflow_x": null,
            "overflow_y": null,
            "padding": null,
            "right": null,
            "top": null,
            "visibility": null,
            "width": null
          }
        },
        "97d3fd32bd5b413bbd70bef90dfa6ac4": {
          "model_module": "@jupyter-widgets/controls",
          "model_name": "ProgressStyleModel",
          "model_module_version": "1.5.0",
          "state": {
            "_model_module": "@jupyter-widgets/controls",
            "_model_module_version": "1.5.0",
            "_model_name": "ProgressStyleModel",
            "_view_count": null,
            "_view_module": "@jupyter-widgets/base",
            "_view_module_version": "1.2.0",
            "_view_name": "StyleView",
            "bar_color": null,
            "description_width": ""
          }
        },
        "e1d090e8eef4440195ca7ac98afc7aa5": {
          "model_module": "@jupyter-widgets/base",
          "model_name": "LayoutModel",
          "model_module_version": "1.2.0",
          "state": {
            "_model_module": "@jupyter-widgets/base",
            "_model_module_version": "1.2.0",
            "_model_name": "LayoutModel",
            "_view_count": null,
            "_view_module": "@jupyter-widgets/base",
            "_view_module_version": "1.2.0",
            "_view_name": "LayoutView",
            "align_content": null,
            "align_items": null,
            "align_self": null,
            "border": null,
            "bottom": null,
            "display": null,
            "flex": null,
            "flex_flow": null,
            "grid_area": null,
            "grid_auto_columns": null,
            "grid_auto_flow": null,
            "grid_auto_rows": null,
            "grid_column": null,
            "grid_gap": null,
            "grid_row": null,
            "grid_template_areas": null,
            "grid_template_columns": null,
            "grid_template_rows": null,
            "height": null,
            "justify_content": null,
            "justify_items": null,
            "left": null,
            "margin": null,
            "max_height": null,
            "max_width": null,
            "min_height": null,
            "min_width": null,
            "object_fit": null,
            "object_position": null,
            "order": null,
            "overflow": null,
            "overflow_x": null,
            "overflow_y": null,
            "padding": null,
            "right": null,
            "top": null,
            "visibility": null,
            "width": null
          }
        },
        "28adf5ae61df4890a817ce39bed03501": {
          "model_module": "@jupyter-widgets/controls",
          "model_name": "DescriptionStyleModel",
          "model_module_version": "1.5.0",
          "state": {
            "_model_module": "@jupyter-widgets/controls",
            "_model_module_version": "1.5.0",
            "_model_name": "DescriptionStyleModel",
            "_view_count": null,
            "_view_module": "@jupyter-widgets/base",
            "_view_module_version": "1.2.0",
            "_view_name": "StyleView",
            "description_width": ""
          }
        },
        "ed5e354d9b0b42b2b6b6068e50247603": {
          "model_module": "@jupyter-widgets/controls",
          "model_name": "HBoxModel",
          "model_module_version": "1.5.0",
          "state": {
            "_dom_classes": [],
            "_model_module": "@jupyter-widgets/controls",
            "_model_module_version": "1.5.0",
            "_model_name": "HBoxModel",
            "_view_count": null,
            "_view_module": "@jupyter-widgets/controls",
            "_view_module_version": "1.5.0",
            "_view_name": "HBoxView",
            "box_style": "",
            "children": [
              "IPY_MODEL_05ccbcaa89df4a0793e34ec1d512a358",
              "IPY_MODEL_8f1ddf337a834d4fba557d99403e99a3",
              "IPY_MODEL_ff27df55197e486e8f0e66d49d41121e"
            ],
            "layout": "IPY_MODEL_a6a4e393905847a88fe81eded073d252"
          }
        },
        "05ccbcaa89df4a0793e34ec1d512a358": {
          "model_module": "@jupyter-widgets/controls",
          "model_name": "HTMLModel",
          "model_module_version": "1.5.0",
          "state": {
            "_dom_classes": [],
            "_model_module": "@jupyter-widgets/controls",
            "_model_module_version": "1.5.0",
            "_model_name": "HTMLModel",
            "_view_count": null,
            "_view_module": "@jupyter-widgets/controls",
            "_view_module_version": "1.5.0",
            "_view_name": "HTMLView",
            "description": "",
            "description_tooltip": null,
            "layout": "IPY_MODEL_5e4f44dde9a844ef83e455c10feca58e",
            "placeholder": "​",
            "style": "IPY_MODEL_045f6a739fe04a92a94e52399d8cdebd",
            "value": "Downloading (…)&quot;tf_model.h5&quot;;: 100%"
          }
        },
        "8f1ddf337a834d4fba557d99403e99a3": {
          "model_module": "@jupyter-widgets/controls",
          "model_name": "FloatProgressModel",
          "model_module_version": "1.5.0",
          "state": {
            "_dom_classes": [],
            "_model_module": "@jupyter-widgets/controls",
            "_model_module_version": "1.5.0",
            "_model_name": "FloatProgressModel",
            "_view_count": null,
            "_view_module": "@jupyter-widgets/controls",
            "_view_module_version": "1.5.0",
            "_view_name": "ProgressView",
            "bar_style": "success",
            "description": "",
            "description_tooltip": null,
            "layout": "IPY_MODEL_2a4cbabb04bd4de0898bd2592f490529",
            "max": 662802840,
            "min": 0,
            "orientation": "horizontal",
            "style": "IPY_MODEL_70bb6c84251641c4939e1998b6893806",
            "value": 662802840
          }
        },
        "ff27df55197e486e8f0e66d49d41121e": {
          "model_module": "@jupyter-widgets/controls",
          "model_name": "HTMLModel",
          "model_module_version": "1.5.0",
          "state": {
            "_dom_classes": [],
            "_model_module": "@jupyter-widgets/controls",
            "_model_module_version": "1.5.0",
            "_model_name": "HTMLModel",
            "_view_count": null,
            "_view_module": "@jupyter-widgets/controls",
            "_view_module_version": "1.5.0",
            "_view_name": "HTMLView",
            "description": "",
            "description_tooltip": null,
            "layout": "IPY_MODEL_888bf56f2a204b8f883df979436aaa21",
            "placeholder": "​",
            "style": "IPY_MODEL_b475d760fccc4e4987aae40141b8886e",
            "value": " 663M/663M [00:08&lt;00:00, 76.6MB/s]"
          }
        },
        "a6a4e393905847a88fe81eded073d252": {
          "model_module": "@jupyter-widgets/base",
          "model_name": "LayoutModel",
          "model_module_version": "1.2.0",
          "state": {
            "_model_module": "@jupyter-widgets/base",
            "_model_module_version": "1.2.0",
            "_model_name": "LayoutModel",
            "_view_count": null,
            "_view_module": "@jupyter-widgets/base",
            "_view_module_version": "1.2.0",
            "_view_name": "LayoutView",
            "align_content": null,
            "align_items": null,
            "align_self": null,
            "border": null,
            "bottom": null,
            "display": null,
            "flex": null,
            "flex_flow": null,
            "grid_area": null,
            "grid_auto_columns": null,
            "grid_auto_flow": null,
            "grid_auto_rows": null,
            "grid_column": null,
            "grid_gap": null,
            "grid_row": null,
            "grid_template_areas": null,
            "grid_template_columns": null,
            "grid_template_rows": null,
            "height": null,
            "justify_content": null,
            "justify_items": null,
            "left": null,
            "margin": null,
            "max_height": null,
            "max_width": null,
            "min_height": null,
            "min_width": null,
            "object_fit": null,
            "object_position": null,
            "order": null,
            "overflow": null,
            "overflow_x": null,
            "overflow_y": null,
            "padding": null,
            "right": null,
            "top": null,
            "visibility": null,
            "width": null
          }
        },
        "5e4f44dde9a844ef83e455c10feca58e": {
          "model_module": "@jupyter-widgets/base",
          "model_name": "LayoutModel",
          "model_module_version": "1.2.0",
          "state": {
            "_model_module": "@jupyter-widgets/base",
            "_model_module_version": "1.2.0",
            "_model_name": "LayoutModel",
            "_view_count": null,
            "_view_module": "@jupyter-widgets/base",
            "_view_module_version": "1.2.0",
            "_view_name": "LayoutView",
            "align_content": null,
            "align_items": null,
            "align_self": null,
            "border": null,
            "bottom": null,
            "display": null,
            "flex": null,
            "flex_flow": null,
            "grid_area": null,
            "grid_auto_columns": null,
            "grid_auto_flow": null,
            "grid_auto_rows": null,
            "grid_column": null,
            "grid_gap": null,
            "grid_row": null,
            "grid_template_areas": null,
            "grid_template_columns": null,
            "grid_template_rows": null,
            "height": null,
            "justify_content": null,
            "justify_items": null,
            "left": null,
            "margin": null,
            "max_height": null,
            "max_width": null,
            "min_height": null,
            "min_width": null,
            "object_fit": null,
            "object_position": null,
            "order": null,
            "overflow": null,
            "overflow_x": null,
            "overflow_y": null,
            "padding": null,
            "right": null,
            "top": null,
            "visibility": null,
            "width": null
          }
        },
        "045f6a739fe04a92a94e52399d8cdebd": {
          "model_module": "@jupyter-widgets/controls",
          "model_name": "DescriptionStyleModel",
          "model_module_version": "1.5.0",
          "state": {
            "_model_module": "@jupyter-widgets/controls",
            "_model_module_version": "1.5.0",
            "_model_name": "DescriptionStyleModel",
            "_view_count": null,
            "_view_module": "@jupyter-widgets/base",
            "_view_module_version": "1.2.0",
            "_view_name": "StyleView",
            "description_width": ""
          }
        },
        "2a4cbabb04bd4de0898bd2592f490529": {
          "model_module": "@jupyter-widgets/base",
          "model_name": "LayoutModel",
          "model_module_version": "1.2.0",
          "state": {
            "_model_module": "@jupyter-widgets/base",
            "_model_module_version": "1.2.0",
            "_model_name": "LayoutModel",
            "_view_count": null,
            "_view_module": "@jupyter-widgets/base",
            "_view_module_version": "1.2.0",
            "_view_name": "LayoutView",
            "align_content": null,
            "align_items": null,
            "align_self": null,
            "border": null,
            "bottom": null,
            "display": null,
            "flex": null,
            "flex_flow": null,
            "grid_area": null,
            "grid_auto_columns": null,
            "grid_auto_flow": null,
            "grid_auto_rows": null,
            "grid_column": null,
            "grid_gap": null,
            "grid_row": null,
            "grid_template_areas": null,
            "grid_template_columns": null,
            "grid_template_rows": null,
            "height": null,
            "justify_content": null,
            "justify_items": null,
            "left": null,
            "margin": null,
            "max_height": null,
            "max_width": null,
            "min_height": null,
            "min_width": null,
            "object_fit": null,
            "object_position": null,
            "order": null,
            "overflow": null,
            "overflow_x": null,
            "overflow_y": null,
            "padding": null,
            "right": null,
            "top": null,
            "visibility": null,
            "width": null
          }
        },
        "70bb6c84251641c4939e1998b6893806": {
          "model_module": "@jupyter-widgets/controls",
          "model_name": "ProgressStyleModel",
          "model_module_version": "1.5.0",
          "state": {
            "_model_module": "@jupyter-widgets/controls",
            "_model_module_version": "1.5.0",
            "_model_name": "ProgressStyleModel",
            "_view_count": null,
            "_view_module": "@jupyter-widgets/base",
            "_view_module_version": "1.2.0",
            "_view_name": "StyleView",
            "bar_color": null,
            "description_width": ""
          }
        },
        "888bf56f2a204b8f883df979436aaa21": {
          "model_module": "@jupyter-widgets/base",
          "model_name": "LayoutModel",
          "model_module_version": "1.2.0",
          "state": {
            "_model_module": "@jupyter-widgets/base",
            "_model_module_version": "1.2.0",
            "_model_name": "LayoutModel",
            "_view_count": null,
            "_view_module": "@jupyter-widgets/base",
            "_view_module_version": "1.2.0",
            "_view_name": "LayoutView",
            "align_content": null,
            "align_items": null,
            "align_self": null,
            "border": null,
            "bottom": null,
            "display": null,
            "flex": null,
            "flex_flow": null,
            "grid_area": null,
            "grid_auto_columns": null,
            "grid_auto_flow": null,
            "grid_auto_rows": null,
            "grid_column": null,
            "grid_gap": null,
            "grid_row": null,
            "grid_template_areas": null,
            "grid_template_columns": null,
            "grid_template_rows": null,
            "height": null,
            "justify_content": null,
            "justify_items": null,
            "left": null,
            "margin": null,
            "max_height": null,
            "max_width": null,
            "min_height": null,
            "min_width": null,
            "object_fit": null,
            "object_position": null,
            "order": null,
            "overflow": null,
            "overflow_x": null,
            "overflow_y": null,
            "padding": null,
            "right": null,
            "top": null,
            "visibility": null,
            "width": null
          }
        },
        "b475d760fccc4e4987aae40141b8886e": {
          "model_module": "@jupyter-widgets/controls",
          "model_name": "DescriptionStyleModel",
          "model_module_version": "1.5.0",
          "state": {
            "_model_module": "@jupyter-widgets/controls",
            "_model_module_version": "1.5.0",
            "_model_name": "DescriptionStyleModel",
            "_view_count": null,
            "_view_module": "@jupyter-widgets/base",
            "_view_module_version": "1.2.0",
            "_view_name": "StyleView",
            "description_width": ""
          }
        },
        "3b623f09283344cc931ac37ca053b293": {
          "model_module": "@jupyter-widgets/controls",
          "model_name": "HBoxModel",
          "model_module_version": "1.5.0",
          "state": {
            "_dom_classes": [],
            "_model_module": "@jupyter-widgets/controls",
            "_model_module_version": "1.5.0",
            "_model_name": "HBoxModel",
            "_view_count": null,
            "_view_module": "@jupyter-widgets/controls",
            "_view_module_version": "1.5.0",
            "_view_name": "HBoxView",
            "box_style": "",
            "children": [
              "IPY_MODEL_3e8d5f55b5ef4aa6ae580391abb26075",
              "IPY_MODEL_40ae8b7462104dbe95dc10eb62d8749a",
              "IPY_MODEL_9ce113147e9e42f883ab8019ad900a5b"
            ],
            "layout": "IPY_MODEL_e2fae6209a5f49d4aff34dae478c9503"
          }
        },
        "3e8d5f55b5ef4aa6ae580391abb26075": {
          "model_module": "@jupyter-widgets/controls",
          "model_name": "HTMLModel",
          "model_module_version": "1.5.0",
          "state": {
            "_dom_classes": [],
            "_model_module": "@jupyter-widgets/controls",
            "_model_module_version": "1.5.0",
            "_model_name": "HTMLModel",
            "_view_count": null,
            "_view_module": "@jupyter-widgets/controls",
            "_view_module_version": "1.5.0",
            "_view_name": "HTMLView",
            "description": "",
            "description_tooltip": null,
            "layout": "IPY_MODEL_551220905b9b41d7aa0308a3380740ff",
            "placeholder": "​",
            "style": "IPY_MODEL_2bc08cfee8ad43fb8d281c64da76b0de",
            "value": "Downloading (…)neration_config.json: 100%"
          }
        },
        "40ae8b7462104dbe95dc10eb62d8749a": {
          "model_module": "@jupyter-widgets/controls",
          "model_name": "FloatProgressModel",
          "model_module_version": "1.5.0",
          "state": {
            "_dom_classes": [],
            "_model_module": "@jupyter-widgets/controls",
            "_model_module_version": "1.5.0",
            "_model_name": "FloatProgressModel",
            "_view_count": null,
            "_view_module": "@jupyter-widgets/controls",
            "_view_module_version": "1.5.0",
            "_view_name": "ProgressView",
            "bar_style": "success",
            "description": "",
            "description_tooltip": null,
            "layout": "IPY_MODEL_81b690d1f94448239ea1a0984f0a4521",
            "max": 137,
            "min": 0,
            "orientation": "horizontal",
            "style": "IPY_MODEL_b1a5419e344e4c349e905522f1f15aa0",
            "value": 137
          }
        },
        "9ce113147e9e42f883ab8019ad900a5b": {
          "model_module": "@jupyter-widgets/controls",
          "model_name": "HTMLModel",
          "model_module_version": "1.5.0",
          "state": {
            "_dom_classes": [],
            "_model_module": "@jupyter-widgets/controls",
            "_model_module_version": "1.5.0",
            "_model_name": "HTMLModel",
            "_view_count": null,
            "_view_module": "@jupyter-widgets/controls",
            "_view_module_version": "1.5.0",
            "_view_name": "HTMLView",
            "description": "",
            "description_tooltip": null,
            "layout": "IPY_MODEL_a2e6d14eed674b1293e5337744f4d5da",
            "placeholder": "​",
            "style": "IPY_MODEL_354bde2806db4ab9b8733c36877d2048",
            "value": " 137/137 [00:00&lt;00:00, 8.41kB/s]"
          }
        },
        "e2fae6209a5f49d4aff34dae478c9503": {
          "model_module": "@jupyter-widgets/base",
          "model_name": "LayoutModel",
          "model_module_version": "1.2.0",
          "state": {
            "_model_module": "@jupyter-widgets/base",
            "_model_module_version": "1.2.0",
            "_model_name": "LayoutModel",
            "_view_count": null,
            "_view_module": "@jupyter-widgets/base",
            "_view_module_version": "1.2.0",
            "_view_name": "LayoutView",
            "align_content": null,
            "align_items": null,
            "align_self": null,
            "border": null,
            "bottom": null,
            "display": null,
            "flex": null,
            "flex_flow": null,
            "grid_area": null,
            "grid_auto_columns": null,
            "grid_auto_flow": null,
            "grid_auto_rows": null,
            "grid_column": null,
            "grid_gap": null,
            "grid_row": null,
            "grid_template_areas": null,
            "grid_template_columns": null,
            "grid_template_rows": null,
            "height": null,
            "justify_content": null,
            "justify_items": null,
            "left": null,
            "margin": null,
            "max_height": null,
            "max_width": null,
            "min_height": null,
            "min_width": null,
            "object_fit": null,
            "object_position": null,
            "order": null,
            "overflow": null,
            "overflow_x": null,
            "overflow_y": null,
            "padding": null,
            "right": null,
            "top": null,
            "visibility": null,
            "width": null
          }
        },
        "551220905b9b41d7aa0308a3380740ff": {
          "model_module": "@jupyter-widgets/base",
          "model_name": "LayoutModel",
          "model_module_version": "1.2.0",
          "state": {
            "_model_module": "@jupyter-widgets/base",
            "_model_module_version": "1.2.0",
            "_model_name": "LayoutModel",
            "_view_count": null,
            "_view_module": "@jupyter-widgets/base",
            "_view_module_version": "1.2.0",
            "_view_name": "LayoutView",
            "align_content": null,
            "align_items": null,
            "align_self": null,
            "border": null,
            "bottom": null,
            "display": null,
            "flex": null,
            "flex_flow": null,
            "grid_area": null,
            "grid_auto_columns": null,
            "grid_auto_flow": null,
            "grid_auto_rows": null,
            "grid_column": null,
            "grid_gap": null,
            "grid_row": null,
            "grid_template_areas": null,
            "grid_template_columns": null,
            "grid_template_rows": null,
            "height": null,
            "justify_content": null,
            "justify_items": null,
            "left": null,
            "margin": null,
            "max_height": null,
            "max_width": null,
            "min_height": null,
            "min_width": null,
            "object_fit": null,
            "object_position": null,
            "order": null,
            "overflow": null,
            "overflow_x": null,
            "overflow_y": null,
            "padding": null,
            "right": null,
            "top": null,
            "visibility": null,
            "width": null
          }
        },
        "2bc08cfee8ad43fb8d281c64da76b0de": {
          "model_module": "@jupyter-widgets/controls",
          "model_name": "DescriptionStyleModel",
          "model_module_version": "1.5.0",
          "state": {
            "_model_module": "@jupyter-widgets/controls",
            "_model_module_version": "1.5.0",
            "_model_name": "DescriptionStyleModel",
            "_view_count": null,
            "_view_module": "@jupyter-widgets/base",
            "_view_module_version": "1.2.0",
            "_view_name": "StyleView",
            "description_width": ""
          }
        },
        "81b690d1f94448239ea1a0984f0a4521": {
          "model_module": "@jupyter-widgets/base",
          "model_name": "LayoutModel",
          "model_module_version": "1.2.0",
          "state": {
            "_model_module": "@jupyter-widgets/base",
            "_model_module_version": "1.2.0",
            "_model_name": "LayoutModel",
            "_view_count": null,
            "_view_module": "@jupyter-widgets/base",
            "_view_module_version": "1.2.0",
            "_view_name": "LayoutView",
            "align_content": null,
            "align_items": null,
            "align_self": null,
            "border": null,
            "bottom": null,
            "display": null,
            "flex": null,
            "flex_flow": null,
            "grid_area": null,
            "grid_auto_columns": null,
            "grid_auto_flow": null,
            "grid_auto_rows": null,
            "grid_column": null,
            "grid_gap": null,
            "grid_row": null,
            "grid_template_areas": null,
            "grid_template_columns": null,
            "grid_template_rows": null,
            "height": null,
            "justify_content": null,
            "justify_items": null,
            "left": null,
            "margin": null,
            "max_height": null,
            "max_width": null,
            "min_height": null,
            "min_width": null,
            "object_fit": null,
            "object_position": null,
            "order": null,
            "overflow": null,
            "overflow_x": null,
            "overflow_y": null,
            "padding": null,
            "right": null,
            "top": null,
            "visibility": null,
            "width": null
          }
        },
        "b1a5419e344e4c349e905522f1f15aa0": {
          "model_module": "@jupyter-widgets/controls",
          "model_name": "ProgressStyleModel",
          "model_module_version": "1.5.0",
          "state": {
            "_model_module": "@jupyter-widgets/controls",
            "_model_module_version": "1.5.0",
            "_model_name": "ProgressStyleModel",
            "_view_count": null,
            "_view_module": "@jupyter-widgets/base",
            "_view_module_version": "1.2.0",
            "_view_name": "StyleView",
            "bar_color": null,
            "description_width": ""
          }
        },
        "a2e6d14eed674b1293e5337744f4d5da": {
          "model_module": "@jupyter-widgets/base",
          "model_name": "LayoutModel",
          "model_module_version": "1.2.0",
          "state": {
            "_model_module": "@jupyter-widgets/base",
            "_model_module_version": "1.2.0",
            "_model_name": "LayoutModel",
            "_view_count": null,
            "_view_module": "@jupyter-widgets/base",
            "_view_module_version": "1.2.0",
            "_view_name": "LayoutView",
            "align_content": null,
            "align_items": null,
            "align_self": null,
            "border": null,
            "bottom": null,
            "display": null,
            "flex": null,
            "flex_flow": null,
            "grid_area": null,
            "grid_auto_columns": null,
            "grid_auto_flow": null,
            "grid_auto_rows": null,
            "grid_column": null,
            "grid_gap": null,
            "grid_row": null,
            "grid_template_areas": null,
            "grid_template_columns": null,
            "grid_template_rows": null,
            "height": null,
            "justify_content": null,
            "justify_items": null,
            "left": null,
            "margin": null,
            "max_height": null,
            "max_width": null,
            "min_height": null,
            "min_width": null,
            "object_fit": null,
            "object_position": null,
            "order": null,
            "overflow": null,
            "overflow_x": null,
            "overflow_y": null,
            "padding": null,
            "right": null,
            "top": null,
            "visibility": null,
            "width": null
          }
        },
        "354bde2806db4ab9b8733c36877d2048": {
          "model_module": "@jupyter-widgets/controls",
          "model_name": "DescriptionStyleModel",
          "model_module_version": "1.5.0",
          "state": {
            "_model_module": "@jupyter-widgets/controls",
            "_model_module_version": "1.5.0",
            "_model_name": "DescriptionStyleModel",
            "_view_count": null,
            "_view_module": "@jupyter-widgets/base",
            "_view_module_version": "1.2.0",
            "_view_name": "StyleView",
            "description_width": ""
          }
        }
      }
    },
    "gpuClass": "standard"
  },
  "nbformat": 4,
  "nbformat_minor": 0
}