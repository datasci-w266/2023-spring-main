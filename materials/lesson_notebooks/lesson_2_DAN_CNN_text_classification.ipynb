{
 "cells": [
  {
   "cell_type": "markdown",
   "metadata": {
    "id": "d3FHyR2vMlnM"
   },
   "source": [
    "# lesson_2_DAN_CNN_Word2Vec_Embeddings_Classifier\n",
    "\n",
    "**Description:** Text classification on the IMDB movie dataset using i) Deep Averaging Networks, and ii) Convolutions Neural Nets (CNN) and pre-trained Word2Vec word embeddings.<br>\n",
    "\n",
    "Section 1 deals with setup and prerequisites, which does not need a lot of discussion. \n",
    "Data acquisition and preparation are handled in section 2, and section 3 looks at DANs and CNNs.\n",
    "\n",
    "<a id = 'returnToTop'></a>\n",
    "\n",
    "## Notebook Contents\n",
    "  * 1. [Setup](#setup) \n",
    "  * 2. [Creation of the Dataset](#creationOfDataset)  \n",
    "  * 3. [Modeling](#modeling)\n",
    "    * 3.1 [Averaging Network (AN) Model](#averagingNetwork)\n",
    "    * 3.2 [Deep Averaging Network (DAN)](#modelDAN)\n",
    "    * 3.3 [Convolutional Neural Net (CNN)](#modelCNN)\n",
    "    * 3.4 [In-Class Exercises](#inClassExercises)\n",
    "\n",
    "  \n",
    "  \n",
    "  [![Open In Colab](https://colab.research.google.com/assets/colab-badge.svg)](https://colab.research.google.com/github/datasci-w266/2023-spring-main/blob/master/materials/lesson_notebooks/lesson_2_DAN_CNN_text_classification.ipynb)"
   ]
  },
  {
   "cell_type": "markdown",
   "metadata": {
    "id": "FEK-bUc2MlnO"
   },
   "source": [
    "[Return to Top](#returnToTop)  \n",
    "<a id = 'setup'></a>\n",
    "## 1. Setup\n",
    "\n",
    "This notebook requires the tensorflow dataset and other prerequisites that you must download and then store locally. \n",
    "\n",
    "More importantly, if you want to run this notebook on your GCP instance (rather than on Colab) you will need to install a gcc compiler.  The best way of doing that is to run the following command in a terminal for your instance:\n",
    "\n",
    "``sudo apt install build-essential``\n",
    "\n",
    "This will install the gcc package in addition to some other libraries that you might need to compile and build C and C++ based software.\n",
    "\n",
    "Again on your GCP instance only you also need to explicitly install graphviz in order to print some plots.  \n",
    "\n",
    "``sudo apt-get install graphviz``"
   ]
  },
  {
   "cell_type": "code",
   "execution_count": 1,
   "metadata": {
    "colab": {
     "base_uri": "https://localhost:8080/"
    },
    "id": "N4gdz81fMlnP",
    "outputId": "429eb640-2f76-4ae4-a58d-89c0b0126f8c"
   },
   "outputs": [
    {
     "name": "stdout",
     "output_type": "stream",
     "text": [
      "\u001b[2K     \u001b[90m━━━━━━━━━━━━━━━━━━━━━━━━━━━━━━━━━━━━━━━━\u001b[0m \u001b[32m24.2/24.2 MB\u001b[0m \u001b[31m43.7 MB/s\u001b[0m eta \u001b[36m0:00:00\u001b[0m\n",
      "\u001b[?25h"
     ]
    }
   ],
   "source": [
    "!pip install gensim==3.8.3 --quiet"
   ]
  },
  {
   "cell_type": "code",
   "execution_count": 2,
   "metadata": {
    "id": "dOSnMqiYMlnP"
   },
   "outputs": [],
   "source": [
    "!pip install tensorflow-datasets --quiet"
   ]
  },
  {
   "cell_type": "code",
   "execution_count": 3,
   "metadata": {
    "colab": {
     "base_uri": "https://localhost:8080/"
    },
    "id": "pu8MIPByMlnP",
    "outputId": "e3994660-7771-4ada-fc30-168961f9fa8e"
   },
   "outputs": [
    {
     "name": "stdout",
     "output_type": "stream",
     "text": [
      "\u001b[2K     \u001b[90m━━━━━━━━━━━━━━━━━━━━━━━━━━━━━━━━━━━━━━━━\u001b[0m \u001b[32m5.8/5.8 MB\u001b[0m \u001b[31m57.1 MB/s\u001b[0m eta \u001b[36m0:00:00\u001b[0m\n",
      "\u001b[2K     \u001b[90m━━━━━━━━━━━━━━━━━━━━━━━━━━━━━━━━━━━━━━━\u001b[0m \u001b[32m588.3/588.3 MB\u001b[0m \u001b[31m2.3 MB/s\u001b[0m eta \u001b[36m0:00:00\u001b[0m\n",
      "\u001b[2K     \u001b[90m━━━━━━━━━━━━━━━━━━━━━━━━━━━━━━━━━━━━━━\u001b[0m \u001b[32m439.2/439.2 KB\u001b[0m \u001b[31m39.2 MB/s\u001b[0m eta \u001b[36m0:00:00\u001b[0m\n",
      "\u001b[2K     \u001b[90m━━━━━━━━━━━━━━━━━━━━━━━━━━━━━━━━━━━━━━━━\u001b[0m \u001b[32m6.0/6.0 MB\u001b[0m \u001b[31m92.1 MB/s\u001b[0m eta \u001b[36m0:00:00\u001b[0m\n",
      "\u001b[2K     \u001b[90m━━━━━━━━━━━━━━━━━━━━━━━━━━━━━━━━━━━━━━━━\u001b[0m \u001b[32m1.7/1.7 MB\u001b[0m \u001b[31m68.9 MB/s\u001b[0m eta \u001b[36m0:00:00\u001b[0m\n",
      "\u001b[?25h"
     ]
    }
   ],
   "source": [
    "!pip install -U tensorflow-text --quiet"
   ]
  },
  {
   "cell_type": "markdown",
   "metadata": {
    "id": "L-4vXVxKMlnQ"
   },
   "source": [
    "pydot is also required, along with **graphviz**."
   ]
  },
  {
   "cell_type": "code",
   "execution_count": 4,
   "metadata": {
    "id": "SbN0SnpZMlnQ"
   },
   "outputs": [],
   "source": [
    "!pip install pydot --quiet"
   ]
  },
  {
   "cell_type": "markdown",
   "metadata": {
    "id": "c3fGCI9BMlnQ"
   },
   "source": [
    "Ready to do the imports."
   ]
  },
  {
   "cell_type": "code",
   "execution_count": 5,
   "metadata": {
    "id": "ju4oXKFYMlnQ"
   },
   "outputs": [],
   "source": [
    "import numpy as np\n",
    "import tensorflow as tf\n",
    "from tensorflow import keras\n",
    "\n",
    "from tensorflow.keras.layers import Embedding, Input, Dense, Lambda\n",
    "from tensorflow.keras.models import Model\n",
    "import tensorflow.keras.backend as K\n",
    "import tensorflow_datasets as tfds\n",
    "import tensorflow_text as tf_text\n",
    "\n",
    "import sklearn as sk\n",
    "import os\n",
    "import nltk\n",
    "from nltk.corpus import reuters\n",
    "from nltk.data import find\n",
    "\n",
    "import matplotlib.pyplot as plt\n",
    "\n",
    "import re\n",
    "\n",
    "#This continues to work with gensim 3.8.3.  It doesn't yet work with 4.x.  \n",
    "#Make sure your pip install command specifies gensim==3.8.3\n",
    "import gensim\n",
    "\n",
    "import numpy as np"
   ]
  },
  {
   "cell_type": "markdown",
   "metadata": {
    "id": "FuoGw0MdMlnR"
   },
   "source": [
    "Below is a helper function to plot histories."
   ]
  },
  {
   "cell_type": "code",
   "execution_count": 6,
   "metadata": {
    "id": "qvJ4iSOfNKmE"
   },
   "outputs": [],
   "source": [
    "# 4-window plot of loss and accuracy for two models, for comparison\n",
    "\n",
    "def make_plot(axs,\n",
    "              model_history1, \n",
    "              model_history2, \n",
    "              model_1_name='model 1',\n",
    "              model_2_name='model 2',\n",
    "              ):\n",
    "    box = dict(facecolor='yellow', pad=5, alpha=0.2)\n",
    "\n",
    "    for i, metric in enumerate(['loss', 'accuracy']):\n",
    "        y_lim_lower1 = np.min(model_history1.history[metric])\n",
    "        y_lim_lower2 = np.min(model_history2.history[metric])\n",
    "        y_lim_lower = min(y_lim_lower1, y_lim_lower2) * 0.9\n",
    "\n",
    "        y_lim_upper1 = np.max(model_history1.history[metric])\n",
    "        y_lim_upper2 = np.max(model_history2.history[metric])\n",
    "        y_lim_upper = max(y_lim_upper1, y_lim_upper2) * 1.1\n",
    "\n",
    "        for j, model_history in enumerate([model_history1, model_history2]):\n",
    "            model_name = [model_1_name, model_2_name][j]\n",
    "            ax1 = axs[i, j]\n",
    "            ax1.plot(model_history.history[metric])\n",
    "            ax1.plot(model_history.history['val_%s' % metric])\n",
    "            ax1.set_title('%s - %s' % (metric, model_name))\n",
    "            ax1.set_ylabel(metric, bbox=box)\n",
    "            ax1.set_ylim(y_lim_lower, y_lim_upper)"
   ]
  },
  {
   "cell_type": "markdown",
   "metadata": {
    "id": "OXGeoMS-MlnS"
   },
   "source": [
    "Next, we get the word2vec model from nltk."
   ]
  },
  {
   "cell_type": "code",
   "execution_count": 7,
   "metadata": {
    "colab": {
     "base_uri": "https://localhost:8080/"
    },
    "id": "h5wOh6KbMlnS",
    "outputId": "7c8313a5-66c4-4a8e-8bf7-979a4a19a830"
   },
   "outputs": [
    {
     "name": "stderr",
     "output_type": "stream",
     "text": [
      "[nltk_data] Downloading package word2vec_sample to /root/nltk_data...\n",
      "[nltk_data]   Unzipping models/word2vec_sample.zip.\n"
     ]
    },
    {
     "data": {
      "text/plain": [
       "True"
      ]
     },
     "execution_count": 7,
     "metadata": {},
     "output_type": "execute_result"
    }
   ],
   "source": [
    "nltk.download('word2vec_sample')"
   ]
  },
  {
   "cell_type": "code",
   "execution_count": 8,
   "metadata": {
    "id": "9VySoBJYMlnS"
   },
   "outputs": [],
   "source": [
    "word2vec_sample = str(find('models/word2vec_sample/pruned.word2vec.txt'))"
   ]
  },
  {
   "cell_type": "code",
   "execution_count": 9,
   "metadata": {
    "id": "ZvvhhTYgMlnS"
   },
   "outputs": [],
   "source": [
    "model = gensim.models.KeyedVectors.load_word2vec_format(word2vec_sample, binary=False)"
   ]
  },
  {
   "cell_type": "markdown",
   "metadata": {
    "id": "uvcUmdy3MlnS"
   },
   "source": [
    "How many words are in the vocabulary?"
   ]
  },
  {
   "cell_type": "code",
   "execution_count": 10,
   "metadata": {
    "colab": {
     "base_uri": "https://localhost:8080/"
    },
    "id": "Vao1xmYvMlnS",
    "outputId": "6d19b0f3-d7b8-4bca-85e1-3eb0f44dc9e1"
   },
   "outputs": [
    {
     "data": {
      "text/plain": [
       "43981"
      ]
     },
     "execution_count": 10,
     "metadata": {},
     "output_type": "execute_result"
    }
   ],
   "source": [
    "len(model.vocab)"
   ]
  },
  {
   "cell_type": "markdown",
   "metadata": {
    "id": "PcSVLgxZMlnT"
   },
   "source": [
    "How do the word vectors look like? As expected:"
   ]
  },
  {
   "cell_type": "code",
   "execution_count": 11,
   "metadata": {
    "colab": {
     "base_uri": "https://localhost:8080/"
    },
    "id": "8XIi_ZhUMlnT",
    "outputId": "d0e1a8e3-d0c4-4abc-878e-adfa02b57d2c"
   },
   "outputs": [
    {
     "data": {
      "text/plain": [
       "array([ 3.06035e-02,  8.86877e-02, -1.21269e-02,  7.61965e-02,\n",
       "        5.66269e-02, -4.24702e-02,  4.10129e-02, -4.97567e-02,\n",
       "       -3.64328e-03,  6.32889e-02, -1.42608e-02, -7.91111e-02,\n",
       "        1.74877e-02, -3.83064e-02,  9.26433e-03,  2.95626e-02,\n",
       "        7.70293e-02,  9.49334e-02, -4.28866e-02, -2.95626e-02,\n",
       "        4.45244e-05,  6.82854e-02,  1.73836e-02,  3.14363e-02,\n",
       "        6.53708e-02,  2.89380e-02, -4.39275e-02,  1.78000e-02,\n",
       "        1.82164e-02, -4.70503e-02, -2.85216e-02,  1.79041e-02,\n",
       "        1.06592e-01,  9.07696e-02,  6.78690e-02,  6.16755e-03,\n",
       "       -2.08187e-02,  5.95936e-03,  1.51586e-03,  8.95205e-02,\n",
       "        6.49544e-02, -3.12281e-02,  9.24351e-02, -2.45661e-02,\n",
       "       -1.21269e-02, -1.53538e-03,  6.49544e-02, -1.12421e-02,\n",
       "        9.10819e-03, -6.45380e-02,  4.43439e-02,  1.35738e-01,\n",
       "       -7.91111e-02,  1.57181e-02, -4.72585e-02, -1.35322e-02,\n",
       "       -4.33029e-02, -5.16304e-02,  1.37404e-01, -3.12281e-02,\n",
       "       -6.49544e-02,  1.14087e-01, -6.41217e-02, -5.24632e-02,\n",
       "        4.60094e-02,  2.85216e-02, -9.10819e-03, -4.28866e-02,\n",
       "       -8.74386e-02,  5.01731e-02,  2.62316e-02,  2.89380e-02,\n",
       "        4.55930e-02, -3.28936e-02, -6.49544e-02, -1.80863e-03,\n",
       "       -6.20398e-02,  1.08257e-01,  2.05064e-02,  4.14293e-02,\n",
       "       -3.56521e-03,  4.80912e-02,  2.27965e-02,  7.65088e-03,\n",
       "       -2.40456e-02, -1.40735e-01, -4.16374e-02,  6.07907e-02,\n",
       "       -5.87088e-02,  9.42047e-03,  4.26784e-02, -2.43579e-02,\n",
       "       -6.66199e-02, -2.71945e-03, -3.99719e-02, -1.99860e-02,\n",
       "        3.66409e-02,  1.30742e-01, -4.74667e-02, -8.28585e-02,\n",
       "       -8.86877e-02,  3.45591e-02, -1.79041e-02, -3.53918e-02,\n",
       "       -4.43439e-02,  1.24912e-01,  1.02012e-02, -1.64468e-02,\n",
       "        1.51977e-02, -4.47602e-02, -2.78971e-02,  1.19083e-01,\n",
       "       -4.95486e-02, -6.21959e-03,  1.64052e-01, -3.33099e-02,\n",
       "       -1.24912e-02, -5.78760e-02, -2.30047e-02, -2.34211e-02,\n",
       "       -3.45591e-02, -1.22830e-02,  3.56000e-02,  1.16585e-01,\n",
       "       -2.64398e-02, -2.04023e-02, -4.65819e-03, -4.85076e-02,\n",
       "       -4.68421e-02,  8.61895e-02, -5.49614e-02, -2.85216e-02,\n",
       "       -1.14087e-01,  4.10129e-02,  4.43439e-02, -7.24491e-02,\n",
       "        2.37333e-02,  6.57872e-02,  3.43509e-02,  9.36842e-02,\n",
       "       -9.70152e-02,  4.70503e-02, -3.46111e-03, -2.40456e-02,\n",
       "       -3.85146e-02, -3.31018e-02, -1.54059e-02,  1.54059e-02,\n",
       "        6.74526e-02, -6.66199e-02,  9.65989e-02,  1.21581e-01,\n",
       "       -2.35252e-02,  1.50728e-01, -5.14222e-02,  4.51766e-02,\n",
       "        1.32719e-02, -8.16094e-02, -9.86807e-02, -4.76749e-02,\n",
       "        1.01491e-03,  3.20608e-02, -5.49094e-03,  4.28866e-02,\n",
       "        1.89867e-01, -1.18250e-01,  2.85216e-02, -3.45591e-02,\n",
       "        2.72725e-02,  7.91111e-03, -4.74667e-02,  4.16374e-02,\n",
       "        8.78550e-02, -5.57942e-02,  1.02012e-02,  4.72585e-02,\n",
       "        3.43509e-02, -6.49544e-02,  2.06886e-03,  7.85907e-03,\n",
       "       -3.91392e-02, -1.02844e-01,  3.58082e-02, -4.28866e-02,\n",
       "       -6.57872e-02,  1.17626e-02, -6.99509e-02, -4.33029e-02,\n",
       "       -2.58933e-03,  5.69262e-04, -1.08257e-01,  1.34073e-01,\n",
       "        5.62105e-02, -5.62105e-02,  9.26433e-03, -6.66199e-02,\n",
       "       -6.24562e-02, -2.18597e-02, -5.14222e-02, -9.20187e-02,\n",
       "        1.32199e-02,  5.57942e-02,  4.14293e-02,  2.42018e-03,\n",
       "        9.42047e-03,  5.41287e-02, -5.30877e-03,  2.62316e-02,\n",
       "       -9.52456e-03,  1.06592e-01, -3.06035e-02,  6.74526e-02,\n",
       "       -3.10199e-02,  8.43158e-03,  3.77339e-03, -3.87228e-02,\n",
       "        1.54891e-01, -3.85146e-02,  1.03053e-02, -5.95936e-03,\n",
       "       -2.17556e-02,  1.02532e-02,  2.51126e-03, -4.35111e-02,\n",
       "       -3.77339e-03,  1.30117e-02, -3.33099e-02, -5.45450e-02,\n",
       "        1.64468e-02,  1.22310e-02, -9.74316e-02, -5.33480e-03,\n",
       "        6.57872e-02,  3.89310e-02,  4.49684e-02, -2.74807e-02,\n",
       "       -5.49614e-02, -4.35111e-02, -9.21228e-03, -1.40526e-02,\n",
       "        3.18526e-02,  1.61345e-02,  3.16445e-02, -5.28275e-03,\n",
       "       -1.99860e-02,  2.08187e-03,  4.41357e-02, -3.70573e-02,\n",
       "       -9.65989e-02, -1.08257e-01,  1.53018e-02,  1.89867e-01,\n",
       "        2.37333e-02,  6.78690e-02,  1.15752e-01, -4.62176e-02,\n",
       "        2.66480e-02, -2.38374e-02, -1.06592e-01, -6.62035e-02,\n",
       "       -2.91462e-02, -5.95415e-02, -6.78690e-02, -7.65088e-03,\n",
       "        9.05614e-03,  3.14363e-02,  5.57942e-02, -3.43509e-02,\n",
       "        1.27515e-02,  6.63597e-03, -7.07836e-02,  6.41217e-02,\n",
       "       -2.88860e-03,  4.31988e-03,  4.89240e-02, -6.32889e-02,\n",
       "       -1.95696e-02, -5.95415e-02, -7.41146e-02, -1.82164e-02,\n",
       "       -2.47743e-02,  2.22760e-02, -4.74667e-02,  3.60164e-02,\n",
       "       -1.08778e-02,  5.99579e-02, -7.74456e-02,  7.33860e-03,\n",
       "       -5.87088e-02, -6.29766e-03, -4.89240e-03,  2.74807e-02,\n",
       "       -1.23247e-01, -2.05064e-02, -8.49404e-02, -3.03953e-02,\n",
       "        2.74807e-02, -7.16164e-02, -8.90000e-03, -6.07907e-02],\n",
       "      dtype=float32)"
      ]
     },
     "execution_count": 11,
     "metadata": {},
     "output_type": "execute_result"
    }
   ],
   "source": [
    "model['great']"
   ]
  },
  {
   "cell_type": "markdown",
   "metadata": {
    "id": "a--OJlw_MlnT"
   },
   "source": [
    "We can now build the embedding matrix and a vocabulary dictionary:"
   ]
  },
  {
   "cell_type": "code",
   "execution_count": 12,
   "metadata": {
    "id": "DvrOdsOcMlnT"
   },
   "outputs": [],
   "source": [
    "EMBEDDING_DIM = len(model['university'])      # we know... it's 300\n",
    "\n",
    "# initialize embedding matrix and word-to-id map:\n",
    "embedding_matrix = np.zeros((len(model.vocab.keys()) + 1, EMBEDDING_DIM))       \n",
    "vocab_dict = {}\n",
    "\n",
    "# build the embedding matrix and the word-to-id map:\n",
    "for i, word in enumerate(model.vocab.keys()):\n",
    "    embedding_vector = model[word]\n",
    "\n",
    "    if embedding_vector is not None:\n",
    "        # words not found in embedding index will be all-zeros.\n",
    "        embedding_matrix[i] = embedding_vector\n",
    "        vocab_dict[word] = i\n",
    "\n",
    "# we can use the last index at the end of the vocab for unknown tokens\n",
    "vocab_dict['[UNK]'] = len(vocab_dict)"
   ]
  },
  {
   "cell_type": "code",
   "execution_count": 13,
   "metadata": {
    "colab": {
     "base_uri": "https://localhost:8080/"
    },
    "id": "19YExA5rMlnT",
    "outputId": "0f8e8028-8e45-4eff-d3ad-23ad27c82de9"
   },
   "outputs": [
    {
     "data": {
      "text/plain": [
       "(43982, 300)"
      ]
     },
     "execution_count": 13,
     "metadata": {},
     "output_type": "execute_result"
    }
   ],
   "source": [
    "embedding_matrix.shape"
   ]
  },
  {
   "cell_type": "code",
   "execution_count": 14,
   "metadata": {
    "colab": {
     "base_uri": "https://localhost:8080/"
    },
    "id": "lJ9M8iJfUQyZ",
    "outputId": "119e31bc-de3c-403f-c1ca-8d9b257247cf"
   },
   "outputs": [
    {
     "data": {
      "text/plain": [
       "array([[ 0.0891758 ,  0.121832  , -0.0671959 ,  0.0477279 , -0.013659  ],\n",
       "       [ 0.0526281 ,  0.013157  , -0.010104  ,  0.0540819 ,  0.0386715 ],\n",
       "       [ 0.0786419 ,  0.0373911 , -0.0131472 ,  0.0347375 ,  0.0288273 ],\n",
       "       [-0.00157585, -0.0564239 ,  0.00320281,  0.0422498 ,  0.15264399],\n",
       "       [ 0.0356899 , -0.00367283, -0.065534  ,  0.0213832 ,  0.00788408]])"
      ]
     },
     "execution_count": 14,
     "metadata": {},
     "output_type": "execute_result"
    }
   ],
   "source": [
    "embedding_matrix[:5, :5]"
   ]
  },
  {
   "cell_type": "markdown",
   "metadata": {
    "id": "7Sc3vGORMlnT"
   },
   "source": [
    "[Return to Top](#returnToTop)  \n",
    "<a id = 'creationOfDataset'></a>\n",
    "## 2. Creation of the Dataset\n",
    "\n",
    "### 2.1 Data Acquisition\n",
    "\n",
    "We will use the IMDB dataset delivered as part of the tensorflow-datasets library, and split into training and test sets. For expedience, we will limit ourselves in terms of train and test examples."
   ]
  },
  {
   "cell_type": "code",
   "execution_count": 15,
   "metadata": {
    "colab": {
     "base_uri": "https://localhost:8080/",
     "height": 136,
     "referenced_widgets": [
      "81bdeee431684acabb4ee165b0ec7d89",
      "8dd4bdfc09e64d6ea188df1b31feb106",
      "801d1c6b3742447eafb124e482bb4bca",
      "96f16a25fbab4bab8123c78c5cb61438",
      "03992ab6c51a424c929ea148b80e7110",
      "5bafd27f251b476aa8202a565557657f",
      "5202cf82c33143c288d8d6a5b8901728",
      "42e4244c70bb46099fe87802b44e80aa",
      "588685fd06a546918d15e4a93ec33949",
      "4706a4fe8611446e8eda61f931ff3f5b",
      "0318f21d50fe4715ac63ebbb74eb14e0",
      "c73b61a8f34e4926b0b9b38c3ebb1ed3",
      "61b98d2ba00544b0a601d77a0a7e861a",
      "cd123eee6e7d4b2080be966b4fe0223a",
      "a7a941e37fc546d787e0366fe4fd5ad2",
      "3a97353bbb4e4868ba92b5571a307a28",
      "9238b031081e4ce8994ff87db19eb9c7",
      "f1f29d10a97948798f7f3a05c23a0512",
      "e2cde07be49741e0bbf94e501f6cbbf4",
      "1344d7f1efac4946996bb3419f5d68c2",
      "88cb5abd63f747d0a14e685cf9d12b0a",
      "355c1f4a8d8e47e1a231288cfcd6c6e1",
      "f36d2e58b5cc4010a4632b8609904ca8",
      "d80b0b90de5540da89b730c8ec1708df",
      "4a2296ba6af34705b9e86aeffb2fcf0e",
      "6fe2e9f48e77475d83cb061626b9bc47",
      "298638a849e848bbb71e28ffd6b2e95b",
      "155b7b48dae64344b569e8de407cc2e1",
      "2e9285f7872940d1afe10727e0d03eed",
      "2c2bf2c6a7a44b37a43e82770d6769f6",
      "7b9de44cf2044a1eb6e6187a22d1a4e6",
      "3248c5cb3c1e4e5e9a91b1bcd7e712dd",
      "f75d220503ba4df98d2fec0de4a0ab3c",
      "976fb45165cd475f88e30b481b80bd78",
      "ef463526b6554229a2fd377506165b5d",
      "17c94cdcd11f46a4adc66aa6b866aa5f",
      "c7bacaa38a404109a3f6a6a589439221",
      "ca9d50784b344788a3aaefe09d4a5db8",
      "c1b4462e8b9049f8b8284fec47ec5820",
      "01d855a5aa774f8d8169e34719e04139",
      "923187222b744f219f380374c3e377f4",
      "ce249e9853cb4602915f82865c44f802",
      "f44d17c6e17643f4a355928e691b3bce",
      "6ec453dadd7f4fc39de3387804b9cd28",
      "26dac20ac16a4cf6972ae99531dd54db",
      "0652728ae8894ca5b44eaedf28b8d7d8",
      "28b29fbd269c4eb9b949531fe1998903",
      "b08b71a3d2d64fe88d1c0b9606f87eb5",
      "3b207e697ee74921ab68e56a287d81db",
      "4ab72b2ed56f44f89d8c3384cfe91a7b",
      "ebe2b05d8ebe4d6bafe9a56472dbaa2b",
      "ace80d2a0a9e4ea0b2734b895fab0878",
      "8cf0b28fd17e4e9e858a48a839642745",
      "9ccfe99ed0224016bcf26ebf3f22ac27",
      "1acb941df6bc499aa2d09565e40f536f",
      "67efa04836444529a0f26d73ace6a8e1",
      "0b6ae1316f1b4a10910ce451c2d84e78",
      "635c770908834ebba9fb1e6a4cb7303e",
      "045dd9c68c3b42329c8978d04180a4e7",
      "465bf3f9b4414176a925f2f1f2493790",
      "d5817ce626484d3aabb668db2398e385",
      "a63ed551a4c14048baebaa38da82e0ae",
      "07b59e7d35cf4d5b83ca83e5a236ee8f",
      "434a2879582a45f08799335a567a937c",
      "7142c519b199461f88ea2b4efd023abc",
      "85f18ea4e008486582f1fd87774b2540",
      "327b4ba69fc7450894c8bface4868aa6",
      "24b841ae65f1442bbb6eaa843bc4c5f9",
      "de9a9392c26a4c549bb35317a91ad1a9",
      "2d5fbae7ffda4c18b05ab6ead5737cc4",
      "de5ace29990d4100984267a0d2e4be09",
      "1858b36042c546cb8640f74ac6b0efa6",
      "b482350f75a84abe8aec1a5d5fd4dba6",
      "a96676bdbc81410994727dd0f774dc4b",
      "7d393ba7ed4a474fa391c77b15461ae3",
      "1e2dacc12e1b47b6b9a43033513c483a",
      "f240b077f0c54461b34705fa461887d7",
      "3592bdcaa2b145cc879da478459decb6",
      "175c5f851b4246208da57f8a72bdf712",
      "83bc5948564f42ae9e0eddfd37976793",
      "12791cfb7ba246479b67106819c9b854",
      "6702bed71ad843a4bf82f290671e8a22",
      "dae3ea0781824a95996d75553075b46a",
      "2dfbda4afe99423ca39beb31671ade1f",
      "53ff99fe613b43b4a46d8be0bc3430fa",
      "5524cfce2e83487c955b34e1bb6b0f0c",
      "056e8bde30194d9f8aaa111029f8480d",
      "75dfae71e6ca4f40bb47e18a09ae5e01",
      "8c177ad9dfdf4c1786ec67189400038a",
      "6306be39c02c41eeabc8cc1d798b41f5",
      "883ca18fd1fd462bb96cee2ff7c8ce8a",
      "b451f485468148c3b095d3e21992765f",
      "44e112b0a51e406c93c9de674fac4aac",
      "4ce0eb6e892d4a05a235386af21ea190",
      "4de7d4ab0edd4d65863a9eada806c511",
      "5c6332aad34b41e58244ff8f00031503",
      "59c39f7c3d424d449b198afdd2e001a4",
      "aae1a85a211c42c69ac283689f9046e1",
      "0b46da6e141b48ab8d9e1b1e33c0d6e5"
     ]
    },
    "id": "_a5rAWnuMlnT",
    "outputId": "8a459deb-9f9f-4afb-93ea-70847d4af671"
   },
   "outputs": [
    {
     "name": "stdout",
     "output_type": "stream",
     "text": [
      "Downloading and preparing dataset 80.23 MiB (download: 80.23 MiB, generated: Unknown size, total: 80.23 MiB) to /root/tensorflow_datasets/imdb_reviews/plain_text/1.0.0...\n"
     ]
    },
    {
     "data": {
      "application/vnd.jupyter.widget-view+json": {
       "model_id": "81bdeee431684acabb4ee165b0ec7d89",
       "version_major": 2,
       "version_minor": 0
      },
      "text/plain": [
       "Dl Completed...: 0 url [00:00, ? url/s]"
      ]
     },
     "metadata": {},
     "output_type": "display_data"
    },
    {
     "data": {
      "application/vnd.jupyter.widget-view+json": {
       "model_id": "c73b61a8f34e4926b0b9b38c3ebb1ed3",
       "version_major": 2,
       "version_minor": 0
      },
      "text/plain": [
       "Dl Size...: 0 MiB [00:00, ? MiB/s]"
      ]
     },
     "metadata": {},
     "output_type": "display_data"
    },
    {
     "data": {
      "application/vnd.jupyter.widget-view+json": {
       "model_id": "f36d2e58b5cc4010a4632b8609904ca8",
       "version_major": 2,
       "version_minor": 0
      },
      "text/plain": [
       "Generating splits...:   0%|          | 0/3 [00:00<?, ? splits/s]"
      ]
     },
     "metadata": {},
     "output_type": "display_data"
    },
    {
     "data": {
      "application/vnd.jupyter.widget-view+json": {
       "model_id": "976fb45165cd475f88e30b481b80bd78",
       "version_major": 2,
       "version_minor": 0
      },
      "text/plain": [
       "Generating train examples...:   0%|          | 0/25000 [00:00<?, ? examples/s]"
      ]
     },
     "metadata": {},
     "output_type": "display_data"
    },
    {
     "data": {
      "application/vnd.jupyter.widget-view+json": {
       "model_id": "26dac20ac16a4cf6972ae99531dd54db",
       "version_major": 2,
       "version_minor": 0
      },
      "text/plain": [
       "Shuffling /root/tensorflow_datasets/imdb_reviews/plain_text/1.0.0.incomplete01W0G5/imdb_reviews-train.tfrecord…"
      ]
     },
     "metadata": {},
     "output_type": "display_data"
    },
    {
     "data": {
      "application/vnd.jupyter.widget-view+json": {
       "model_id": "67efa04836444529a0f26d73ace6a8e1",
       "version_major": 2,
       "version_minor": 0
      },
      "text/plain": [
       "Generating test examples...:   0%|          | 0/25000 [00:00<?, ? examples/s]"
      ]
     },
     "metadata": {},
     "output_type": "display_data"
    },
    {
     "data": {
      "application/vnd.jupyter.widget-view+json": {
       "model_id": "327b4ba69fc7450894c8bface4868aa6",
       "version_major": 2,
       "version_minor": 0
      },
      "text/plain": [
       "Shuffling /root/tensorflow_datasets/imdb_reviews/plain_text/1.0.0.incomplete01W0G5/imdb_reviews-test.tfrecord*…"
      ]
     },
     "metadata": {},
     "output_type": "display_data"
    },
    {
     "data": {
      "application/vnd.jupyter.widget-view+json": {
       "model_id": "3592bdcaa2b145cc879da478459decb6",
       "version_major": 2,
       "version_minor": 0
      },
      "text/plain": [
       "Generating unsupervised examples...:   0%|          | 0/50000 [00:00<?, ? examples/s]"
      ]
     },
     "metadata": {},
     "output_type": "display_data"
    },
    {
     "data": {
      "application/vnd.jupyter.widget-view+json": {
       "model_id": "8c177ad9dfdf4c1786ec67189400038a",
       "version_major": 2,
       "version_minor": 0
      },
      "text/plain": [
       "Shuffling /root/tensorflow_datasets/imdb_reviews/plain_text/1.0.0.incomplete01W0G5/imdb_reviews-unsupervised.t…"
      ]
     },
     "metadata": {},
     "output_type": "display_data"
    },
    {
     "name": "stdout",
     "output_type": "stream",
     "text": [
      "Dataset imdb_reviews downloaded and prepared to /root/tensorflow_datasets/imdb_reviews/plain_text/1.0.0. Subsequent calls will reuse this data.\n"
     ]
    }
   ],
   "source": [
    "train_data, test_data = tfds.load(\n",
    "    name=\"imdb_reviews\", \n",
    "    split=('train[:80%]', 'test[80%:]'),\n",
    "    as_supervised=True)"
   ]
  },
  {
   "cell_type": "code",
   "execution_count": 16,
   "metadata": {
    "id": "2rwgO27KMlnT"
   },
   "outputs": [],
   "source": [
    "train_examples, train_labels = next(iter(train_data.batch(20000)))\n",
    "test_examples, test_labels = next(iter(test_data.batch(5000)))"
   ]
  },
  {
   "cell_type": "code",
   "execution_count": 17,
   "metadata": {
    "colab": {
     "base_uri": "https://localhost:8080/"
    },
    "id": "U8Rz5vdRMlnT",
    "outputId": "e2685069-b5f4-4268-a70b-6fcc370628df"
   },
   "outputs": [
    {
     "data": {
      "text/plain": [
       "<tf.Tensor: shape=(4,), dtype=string, numpy=\n",
       "array([b\"This was an absolutely terrible movie. Don't be lured in by Christopher Walken or Michael Ironside. Both are great actors, but this must simply be their worst role in history. Even their great acting could not redeem this movie's ridiculous storyline. This movie is an early nineties US propaganda piece. The most pathetic scenes were those when the Columbian rebels were making their cases for revolutions. Maria Conchita Alonso appeared phony, and her pseudo-love affair with Walken was nothing but a pathetic emotional plug in a movie that was devoid of any real meaning. I am disappointed that there are movies like this, ruining actor's like Christopher Walken's good name. I could barely sit through it.\",\n",
       "       b'I have been known to fall asleep during films, but this is usually due to a combination of things including, really tired, being warm and comfortable on the sette and having just eaten a lot. However on this occasion I fell asleep because the film was rubbish. The plot development was constant. Constantly slow and boring. Things seemed to happen, but with no explanation of what was causing them or why. I admit, I may have missed part of the film, but i watched the majority of it and everything just seemed to happen of its own accord without any real concern for anything else. I cant recommend this film at all.',\n",
       "       b'Mann photographs the Alberta Rocky Mountains in a superb fashion, and Jimmy Stewart and Walter Brennan give enjoyable performances as they always seem to do. <br /><br />But come on Hollywood - a Mountie telling the people of Dawson City, Yukon to elect themselves a marshal (yes a marshal!) and to enforce the law themselves, then gunfighters battling it out on the streets for control of the town? <br /><br />Nothing even remotely resembling that happened on the Canadian side of the border during the Klondike gold rush. Mr. Mann and company appear to have mistaken Dawson City for Deadwood, the Canadian North for the American Wild West.<br /><br />Canadian viewers be prepared for a Reefer Madness type of enjoyable howl with this ludicrous plot, or, to shake your head in disgust.',\n",
       "       b'This is the kind of film for a snowy Sunday afternoon when the rest of the world can go ahead with its own business as you descend into a big arm-chair and mellow for a couple of hours. Wonderful performances from Cher and Nicolas Cage (as always) gently row the plot along. There are no rapids to cross, no dangerous waters, just a warm and witty paddle through New York life at its best. A family film in every sense and one that deserves the praise it received.'],\n",
       "      dtype=object)>"
      ]
     },
     "execution_count": 17,
     "metadata": {},
     "output_type": "execute_result"
    }
   ],
   "source": [
    "train_examples[:4]"
   ]
  },
  {
   "cell_type": "code",
   "execution_count": 18,
   "metadata": {
    "colab": {
     "base_uri": "https://localhost:8080/"
    },
    "id": "d9sE7RYoMlnT",
    "outputId": "c8703534-f505-4630-9919-4432fd68731d"
   },
   "outputs": [
    {
     "data": {
      "text/plain": [
       "<tf.Tensor: shape=(4,), dtype=int64, numpy=array([0, 0, 0, 1])>"
      ]
     },
     "execution_count": 18,
     "metadata": {},
     "output_type": "execute_result"
    }
   ],
   "source": [
    "train_labels[:4]"
   ]
  },
  {
   "cell_type": "markdown",
   "metadata": {
    "id": "pkasJbOpMlnU"
   },
   "source": [
    "Next, we tokenize the data:"
   ]
  },
  {
   "cell_type": "code",
   "execution_count": 19,
   "metadata": {
    "id": "AsJVAaCXMlnU"
   },
   "outputs": [],
   "source": [
    "tokenizer = tf_text.WhitespaceTokenizer()\n",
    "train_tokens = tokenizer.tokenize(train_examples)\n",
    "test_tokens = tokenizer.tokenize(test_examples)"
   ]
  },
  {
   "cell_type": "markdown",
   "metadata": {
    "id": "_8fiq7WVMlnU"
   },
   "source": [
    "Does this look right?"
   ]
  },
  {
   "cell_type": "code",
   "execution_count": 20,
   "metadata": {
    "colab": {
     "base_uri": "https://localhost:8080/"
    },
    "id": "XfWbd8UPMlnU",
    "outputId": "1b735f5b-9a35-4dbf-a98f-5fe4c89f227c"
   },
   "outputs": [
    {
     "data": {
      "text/plain": [
       "<tf.Tensor: shape=(116,), dtype=string, numpy=\n",
       "array([b'This', b'was', b'an', b'absolutely', b'terrible', b'movie.',\n",
       "       b\"Don't\", b'be', b'lured', b'in', b'by', b'Christopher', b'Walken',\n",
       "       b'or', b'Michael', b'Ironside.', b'Both', b'are', b'great',\n",
       "       b'actors,', b'but', b'this', b'must', b'simply', b'be', b'their',\n",
       "       b'worst', b'role', b'in', b'history.', b'Even', b'their', b'great',\n",
       "       b'acting', b'could', b'not', b'redeem', b'this', b\"movie's\",\n",
       "       b'ridiculous', b'storyline.', b'This', b'movie', b'is', b'an',\n",
       "       b'early', b'nineties', b'US', b'propaganda', b'piece.', b'The',\n",
       "       b'most', b'pathetic', b'scenes', b'were', b'those', b'when',\n",
       "       b'the', b'Columbian', b'rebels', b'were', b'making', b'their',\n",
       "       b'cases', b'for', b'revolutions.', b'Maria', b'Conchita',\n",
       "       b'Alonso', b'appeared', b'phony,', b'and', b'her', b'pseudo-love',\n",
       "       b'affair', b'with', b'Walken', b'was', b'nothing', b'but', b'a',\n",
       "       b'pathetic', b'emotional', b'plug', b'in', b'a', b'movie', b'that',\n",
       "       b'was', b'devoid', b'of', b'any', b'real', b'meaning.', b'I',\n",
       "       b'am', b'disappointed', b'that', b'there', b'are', b'movies',\n",
       "       b'like', b'this,', b'ruining', b\"actor's\", b'like', b'Christopher',\n",
       "       b\"Walken's\", b'good', b'name.', b'I', b'could', b'barely', b'sit',\n",
       "       b'through', b'it.'], dtype=object)>"
      ]
     },
     "execution_count": 20,
     "metadata": {},
     "output_type": "execute_result"
    }
   ],
   "source": [
    "train_tokens[0]"
   ]
  },
  {
   "cell_type": "markdown",
   "metadata": {
    "id": "9qvhRJ2HMlnU"
   },
   "source": [
    "Yup... looks right. Of course we will need to take care of the encoding later."
   ]
  },
  {
   "cell_type": "markdown",
   "metadata": {
    "id": "bY4nDQaoMlnU"
   },
   "source": [
    "### 2.2 Data Preparation\n",
    "\n",
    "For the models we will use, we need to define a maximum sequence length (max number of tokens per movie review that we'll feed into our model). We'll cut off any tokens longer than that, and we'll pad shorter movie reviews with zeros at the end."
   ]
  },
  {
   "cell_type": "code",
   "execution_count": 21,
   "metadata": {
    "id": "CmHtHIw-MlnU"
   },
   "outputs": [],
   "source": [
    "MAX_SEQUENCE_LENGTH = 128"
   ]
  },
  {
   "cell_type": "markdown",
   "metadata": {
    "id": "bPJ6awp2MlnU"
   },
   "source": [
    "Next, we define a simple function that converts the tokens of each movie review into their word2vec vocabulary index values.   "
   ]
  },
  {
   "cell_type": "code",
   "execution_count": 22,
   "metadata": {
    "id": "O2wWKarvMlnU"
   },
   "outputs": [],
   "source": [
    "def docs_to_vocab_ids(tokenized_texts_list):\n",
    "    \"\"\"\n",
    "    converting a list of strings to a list of lists of word ids\n",
    "    \"\"\"\n",
    "    texts_vocab_ids = []\n",
    "    for i, token_list in enumerate(tokenized_texts_list):\n",
    "\n",
    "        # Get the vocab id for each token in this doc ([UNK] if not in vocab)\n",
    "        vocab_ids = []\n",
    "        for token in list(token_list.numpy()):\n",
    "            decoded = token.decode('utf-8', errors='ignore')\n",
    "            if decoded in vocab_dict:\n",
    "                vocab_ids.append(vocab_dict[decoded])\n",
    "            else:\n",
    "                vocab_ids.append(vocab_dict['[UNK]'])\n",
    "            \n",
    "        # Truncate text to max length, add padding up to max length\n",
    "        vocab_ids = vocab_ids[:MAX_SEQUENCE_LENGTH]\n",
    "        n_padding = (MAX_SEQUENCE_LENGTH - len(vocab_ids))\n",
    "        # For simplicity in this model, we'll just pad with uknown tokens\n",
    "        vocab_ids += [vocab_dict['[UNK]']] * n_padding\n",
    "\n",
    "        # Add this example to the list of converted docs\n",
    "        texts_vocab_ids.append(vocab_ids)\n",
    "            \n",
    "        if i % 5000 == 0:\n",
    "            print('Examples processed: ', i)\n",
    "        \n",
    "    print('Total examples: ', i)\n",
    "\n",
    "    return np.array(texts_vocab_ids)"
   ]
  },
  {
   "cell_type": "markdown",
   "metadata": {
    "id": "Tpt4_70BMlnU"
   },
   "source": [
    "Now we can create training and test data that can be fed into the models of interest."
   ]
  },
  {
   "cell_type": "code",
   "execution_count": 23,
   "metadata": {
    "colab": {
     "base_uri": "https://localhost:8080/"
    },
    "id": "J9m_pOqVMlnU",
    "outputId": "8da9ab32-c2b0-4e48-f909-67d74974a5c6"
   },
   "outputs": [
    {
     "name": "stdout",
     "output_type": "stream",
     "text": [
      "Examples processed:  0\n",
      "Examples processed:  5000\n",
      "Examples processed:  10000\n",
      "Examples processed:  15000\n",
      "Total examples:  19999\n",
      "Examples processed:  0\n",
      "Total examples:  4999\n"
     ]
    }
   ],
   "source": [
    "train_input = docs_to_vocab_ids(train_tokens)\n",
    "test_input = docs_to_vocab_ids(test_tokens)\n",
    "\n",
    "train_labels = np.array(train_labels)\n",
    "test_labels = np.array(test_labels)"
   ]
  },
  {
   "cell_type": "markdown",
   "metadata": {
    "id": "2ycaqQNyMlnU"
   },
   "source": [
    "Let's convince ourselves that the data looks correct.  We expect the train data to be an array of integer ids and the labels to be an array of zeroes and ones (since we are learning a binary classifier)."
   ]
  },
  {
   "cell_type": "code",
   "execution_count": 24,
   "metadata": {
    "colab": {
     "base_uri": "https://localhost:8080/"
    },
    "id": "NOY1newUMlnU",
    "outputId": "96479ec8-afc7-43e6-817b-b09583813f9a"
   },
   "outputs": [
    {
     "data": {
      "text/plain": [
       "array([[21531, 25272, 12291,  7427, 37254, 43981,  6891, 12917, 38232,\n",
       "        16915, 12929, 16182, 43981, 20526, 23487, 43981, 23807, 42958,\n",
       "        35058, 43981, 19123, 35029, 41270, 29275, 12917, 32597, 20659,\n",
       "          638, 16915, 43981,   174, 32597, 35058, 39971,  2326,  3636,\n",
       "        22434, 35029, 43981, 33922, 43981, 21531, 34710, 16908, 12291,\n",
       "        36880, 28137,  5376, 28038, 43981, 15402, 29155, 18063, 24951,\n",
       "        17433, 17595,  8856, 14193, 43981, 43248, 17433,  6290, 32597,\n",
       "         9001, 11511, 43981, 21807, 39168, 43981, 16856, 43981, 43981,\n",
       "        23245, 43981,  8889,  1331, 43981, 25272, 31976, 19123, 43981,\n",
       "        18063, 36309, 24099, 16915, 43981, 34710, 36633, 25272, 20413,\n",
       "        43981, 33458, 14926, 43981, 12139, 12289, 39617, 36633,  9483,\n",
       "        42958,  5589,  8092, 43981, 34516, 43981,  8092, 16182, 43981,\n",
       "        39933, 43981, 12139,  2326, 32781, 32467,  7046, 43981, 43981,\n",
       "        43981, 43981, 43981, 43981, 43981, 43981, 43981, 43981, 43981,\n",
       "        43981, 43981],\n",
       "       [12139,  7841, 19666, 31757, 43981, 17853, 25745, 15445, 43981,\n",
       "        19123, 35029, 16908, 21113, 21068, 43981, 43981,  5668, 43981,\n",
       "        33456, 43981, 34554, 43981,  1200, 27498, 43981, 18802, 20514,\n",
       "        14193, 43981, 43981, 23955, 14042, 15400, 43981, 43981, 32334,\n",
       "        20514, 35029,  7870, 12139, 17108, 25745, 43830, 14193, 28743,\n",
       "        25272, 43981, 15402, 17006,   222, 25272, 43981, 43981, 33994,\n",
       "        43981, 43981, 42659, 12375, 43981, 43981, 19123,  1331, 19870,\n",
       "         7816, 43981, 31696, 25272, 23801, 13877, 20526, 43981, 12139,\n",
       "        43981, 12139, 37939,  7841, 24998, 29109, 43981, 14193, 43981,\n",
       "        19123, 16266,  8017, 14193, 43099, 43981, 16909, 43981, 30811,\n",
       "        14042, 12375, 43981, 25574, 43981, 34511, 21851, 14087,  9370,\n",
       "        33458, 14926, 14799, 11511, 12936, 43981, 12139,  5935, 16531,\n",
       "        35029, 28743, 40418, 43981, 43981, 43981, 43981, 43981, 43981,\n",
       "        43981, 43981, 43981, 43981, 43981, 43981, 43981, 43981, 43981,\n",
       "        43981, 43981]])"
      ]
     },
     "execution_count": 24,
     "metadata": {},
     "output_type": "execute_result"
    }
   ],
   "source": [
    "train_input[:2]"
   ]
  },
  {
   "cell_type": "code",
   "execution_count": 25,
   "metadata": {
    "colab": {
     "base_uri": "https://localhost:8080/"
    },
    "id": "WcfkqFlvMlnU",
    "outputId": "8daea1ee-4870-40bc-9b0e-038dfc9a0ad8"
   },
   "outputs": [
    {
     "data": {
      "text/plain": [
       "array([0, 0, 0, 1])"
      ]
     },
     "execution_count": 25,
     "metadata": {},
     "output_type": "execute_result"
    }
   ],
   "source": [
    "train_labels[:4]"
   ]
  },
  {
   "cell_type": "markdown",
   "metadata": {
    "id": "ePxwJP48MlnU"
   },
   "source": [
    "[Return to Top](#returnToTop)  \n",
    "<a id = 'modeling'></a>\n",
    "## 3. Modeling\n",
    "\n",
    "<a id = 'averagingNetwork'></a>\n",
    "### 3.1 Averaging Network (AN) Model\n",
    "\n",
    "Let us start by defining the embedding layer, then we'll average the embeddings and pass them into our classification layer."
   ]
  },
  {
   "cell_type": "code",
   "execution_count": 26,
   "metadata": {
    "id": "3pqP3_6VeTQ-"
   },
   "outputs": [],
   "source": [
    "an_input_layer = tf.keras.layers.Input(shape=(MAX_SEQUENCE_LENGTH,), dtype='int64')"
   ]
  },
  {
   "cell_type": "code",
   "execution_count": 27,
   "metadata": {
    "id": "kuhtMfRzMlnV"
   },
   "outputs": [],
   "source": [
    "an_embedding_layer = Embedding(embedding_matrix.shape[0],\n",
    "                               embedding_matrix.shape[1],\n",
    "                               embeddings_initializer=tf.keras.initializers.Constant(embedding_matrix),\n",
    "                               input_length=MAX_SEQUENCE_LENGTH,\n",
    "                               trainable=False)"
   ]
  },
  {
   "cell_type": "code",
   "execution_count": 28,
   "metadata": {
    "id": "IJP0bf8lMlnV"
   },
   "outputs": [],
   "source": [
    "an_embeddings = an_embedding_layer(an_input_layer)"
   ]
  },
  {
   "cell_type": "markdown",
   "metadata": {
    "id": "bDqzRIhpO9dq"
   },
   "source": [
    "Now lets define a layer that will take the embeddings for each of the words in an input sentence and create one averaged embedding to represent the sentence. "
   ]
  },
  {
   "cell_type": "code",
   "execution_count": 29,
   "metadata": {
    "id": "9x-hGIfJMlnV"
   },
   "outputs": [],
   "source": [
    "an_avg_embeddings = tf.keras.layers.Lambda(lambda x: K.mean(x, axis=1), name='averaging')(an_embeddings)"
   ]
  },
  {
   "cell_type": "markdown",
   "metadata": {
    "id": "MCCkkDpaO9dr"
   },
   "source": [
    "Finally lets define our output layer."
   ]
  },
  {
   "cell_type": "code",
   "execution_count": 30,
   "metadata": {
    "id": "JnHSyTJoMlnV"
   },
   "outputs": [],
   "source": [
    "an_classification = tf.keras.layers.Dense(1, \n",
    "                                          activation='sigmoid', \n",
    "                                          name='an_classification')(an_avg_embeddings)"
   ]
  },
  {
   "cell_type": "code",
   "execution_count": 31,
   "metadata": {
    "id": "xnCtk8N6MlnV"
   },
   "outputs": [],
   "source": [
    "an_model = tf.keras.models.Model(inputs=an_input_layer, outputs=[an_classification])"
   ]
  },
  {
   "cell_type": "code",
   "execution_count": 32,
   "metadata": {
    "id": "Hait_XiLMlnV"
   },
   "outputs": [],
   "source": [
    "an_model.compile(loss='binary_crossentropy',\n",
    "                 optimizer=tf.keras.optimizers.Adam(learning_rate=0.001,\n",
    "                                                    beta_1=0.9,\n",
    "                                                    beta_2=0.999,\n",
    "                                                    epsilon=1e-07,\n",
    "                                                    amsgrad=False,\n",
    "                                                    name='Adam'),\n",
    "                 metrics='accuracy')"
   ]
  },
  {
   "cell_type": "code",
   "execution_count": 33,
   "metadata": {
    "colab": {
     "base_uri": "https://localhost:8080/"
    },
    "id": "5a3lU-rCMlnV",
    "outputId": "7028e12c-df9c-45e0-a696-0626b935e067"
   },
   "outputs": [
    {
     "name": "stdout",
     "output_type": "stream",
     "text": [
      "Model: \"model\"\n",
      "_________________________________________________________________\n",
      " Layer (type)                Output Shape              Param #   \n",
      "=================================================================\n",
      " input_1 (InputLayer)        [(None, 128)]             0         \n",
      "                                                                 \n",
      " embedding (Embedding)       (None, 128, 300)          13194600  \n",
      "                                                                 \n",
      " averaging (Lambda)          (None, 300)               0         \n",
      "                                                                 \n",
      " an_classification (Dense)   (None, 1)                 301       \n",
      "                                                                 \n",
      "=================================================================\n",
      "Total params: 13,194,901\n",
      "Trainable params: 301\n",
      "Non-trainable params: 13,194,600\n",
      "_________________________________________________________________\n"
     ]
    }
   ],
   "source": [
    "an_model.summary()"
   ]
  },
  {
   "cell_type": "code",
   "execution_count": 34,
   "metadata": {
    "colab": {
     "base_uri": "https://localhost:8080/",
     "height": 397
    },
    "id": "lhyGPsK0MlnV",
    "outputId": "7a0150ee-82ff-4ab6-e46a-bce2dcaea456"
   },
   "outputs": [
    {
     "data": {
      "image/png": "[encoded data removed]",
      "text/plain": [
       "<IPython.core.display.Image object>"
      ]
     },
     "execution_count": 34,
     "metadata": {},
     "output_type": "execute_result"
    }
   ],
   "source": [
    "keras.utils.plot_model(an_model, show_shapes=True, dpi=90)"
   ]
  },
  {
   "cell_type": "markdown",
   "metadata": {
    "id": "s3mrVye_MlnV"
   },
   "source": [
    "Let's look at the predictions and labels before training. Do those make sense?"
   ]
  },
  {
   "cell_type": "code",
   "execution_count": 35,
   "metadata": {
    "colab": {
     "base_uri": "https://localhost:8080/"
    },
    "id": "GwRb8foUMlnV",
    "outputId": "d4d0e245-f5b6-489f-b8a8-3d98998608b0"
   },
   "outputs": [
    {
     "name": "stdout",
     "output_type": "stream",
     "text": [
      "1/1 [==============================] - 2s 2s/step\n",
      "predictions:\n",
      " [[0.4926763 ]\n",
      " [0.49460992]\n",
      " [0.49466252]\n",
      " [0.49652123]\n",
      " [0.4979598 ]]\n",
      "\n",
      "\n",
      "labels:\n",
      " [0 0 0 1 1]\n"
     ]
    }
   ],
   "source": [
    "print('predictions:\\n', an_model.predict(train_input[:5]))\n",
    "print('\\n\\nlabels:\\n', train_labels[:5])"
   ]
  },
  {
   "cell_type": "code",
   "execution_count": 36,
   "metadata": {
    "colab": {
     "base_uri": "https://localhost:8080/"
    },
    "id": "VLdk2sCdMlnV",
    "outputId": "b8cfda02-a421-4f61-c9ee-657513a135c1"
   },
   "outputs": [
    {
     "name": "stdout",
     "output_type": "stream",
     "text": [
      "Epoch 1/20\n",
      "625/625 [==============================] - 3s 3ms/step - loss: 0.6878 - accuracy: 0.5881 - val_loss: 0.6839 - val_accuracy: 0.6248\n",
      "Epoch 2/20\n",
      "625/625 [==============================] - 2s 3ms/step - loss: 0.6780 - accuracy: 0.6455 - val_loss: 0.6757 - val_accuracy: 0.6472\n",
      "Epoch 3/20\n",
      "625/625 [==============================] - 2s 3ms/step - loss: 0.6694 - accuracy: 0.6625 - val_loss: 0.6686 - val_accuracy: 0.6514\n",
      "Epoch 4/20\n",
      "625/625 [==============================] - 2s 3ms/step - loss: 0.6618 - accuracy: 0.6646 - val_loss: 0.6622 - val_accuracy: 0.6544\n",
      "Epoch 5/20\n",
      "625/625 [==============================] - 2s 3ms/step - loss: 0.6550 - accuracy: 0.6725 - val_loss: 0.6564 - val_accuracy: 0.6590\n",
      "Epoch 6/20\n",
      "625/625 [==============================] - 2s 3ms/step - loss: 0.6486 - accuracy: 0.6783 - val_loss: 0.6507 - val_accuracy: 0.6666\n",
      "Epoch 7/20\n",
      "625/625 [==============================] - 2s 3ms/step - loss: 0.6427 - accuracy: 0.6808 - val_loss: 0.6458 - val_accuracy: 0.6694\n",
      "Epoch 8/20\n",
      "625/625 [==============================] - 2s 3ms/step - loss: 0.6373 - accuracy: 0.6866 - val_loss: 0.6407 - val_accuracy: 0.6746\n",
      "Epoch 9/20\n",
      "625/625 [==============================] - 2s 3ms/step - loss: 0.6322 - accuracy: 0.6905 - val_loss: 0.6361 - val_accuracy: 0.6774\n",
      "Epoch 10/20\n",
      "625/625 [==============================] - 2s 3ms/step - loss: 0.6274 - accuracy: 0.6948 - val_loss: 0.6320 - val_accuracy: 0.6808\n",
      "Epoch 11/20\n",
      "625/625 [==============================] - 2s 3ms/step - loss: 0.6228 - accuracy: 0.6973 - val_loss: 0.6277 - val_accuracy: 0.6878\n",
      "Epoch 12/20\n",
      "625/625 [==============================] - 2s 3ms/step - loss: 0.6183 - accuracy: 0.7019 - val_loss: 0.6236 - val_accuracy: 0.6848\n",
      "Epoch 13/20\n",
      "625/625 [==============================] - 2s 3ms/step - loss: 0.6142 - accuracy: 0.7046 - val_loss: 0.6200 - val_accuracy: 0.6930\n",
      "Epoch 14/20\n",
      "625/625 [==============================] - 2s 3ms/step - loss: 0.6102 - accuracy: 0.7088 - val_loss: 0.6163 - val_accuracy: 0.6946\n",
      "Epoch 15/20\n",
      "625/625 [==============================] - 2s 3ms/step - loss: 0.6063 - accuracy: 0.7129 - val_loss: 0.6128 - val_accuracy: 0.7002\n",
      "Epoch 16/20\n",
      "625/625 [==============================] - 2s 3ms/step - loss: 0.6026 - accuracy: 0.7163 - val_loss: 0.6093 - val_accuracy: 0.7000\n",
      "Epoch 17/20\n",
      "625/625 [==============================] - 2s 3ms/step - loss: 0.5991 - accuracy: 0.7176 - val_loss: 0.6060 - val_accuracy: 0.7034\n",
      "Epoch 18/20\n",
      "625/625 [==============================] - 2s 3ms/step - loss: 0.5957 - accuracy: 0.7198 - val_loss: 0.6031 - val_accuracy: 0.7076\n",
      "Epoch 19/20\n",
      "625/625 [==============================] - 2s 3ms/step - loss: 0.5925 - accuracy: 0.7234 - val_loss: 0.5999 - val_accuracy: 0.7108\n",
      "Epoch 20/20\n",
      "625/625 [==============================] - 2s 3ms/step - loss: 0.5893 - accuracy: 0.7236 - val_loss: 0.5979 - val_accuracy: 0.7134\n"
     ]
    }
   ],
   "source": [
    "an_history = an_model.fit(train_input,\n",
    "                          train_labels,\n",
    "                          validation_data=(test_input, test_labels),\n",
    "                          batch_size=32,\n",
    "                          epochs=20\n",
    "                          )"
   ]
  },
  {
   "cell_type": "markdown",
   "metadata": {
    "id": "oUdddsevMlnV"
   },
   "source": [
    "Let's revisit the predictions. How is this?"
   ]
  },
  {
   "cell_type": "code",
   "execution_count": 37,
   "metadata": {
    "colab": {
     "base_uri": "https://localhost:8080/"
    },
    "id": "Dazj7jEfMlnV",
    "outputId": "ddf9356b-39fe-4534-d98c-e78b031ceaea"
   },
   "outputs": [
    {
     "name": "stdout",
     "output_type": "stream",
     "text": [
      "1/1 [==============================] - 0s 22ms/step\n",
      "predictions:\n",
      " [[0.3132359 ]\n",
      " [0.30052313]\n",
      " [0.5828966 ]\n",
      " [0.62210035]\n",
      " [0.5182775 ]]\n",
      "\n",
      "\n",
      "labels:\n",
      " [0 0 0 1 1]\n"
     ]
    }
   ],
   "source": [
    "print('predictions:\\n', an_model.predict(train_input[:5]))\n",
    "print('\\n\\nlabels:\\n', train_labels[:5])"
   ]
  },
  {
   "cell_type": "markdown",
   "metadata": {
    "id": "6yDQcGMlMlnV"
   },
   "source": [
    "That learned somewhat, can we do better?\n",
    "\n",
    "[Return to Top](#returnToTop)  \n",
    "<a id = 'modelDAN'></a>\n",
    "### 3.2. Deep Averaging Network (DAN)\n",
    "\n",
    "Now let's add some hidden layers after the averaging layer, to give our model more depth. The first and last layers are the same as above.\n",
    "\n",
    "We'll also put our model creation code into a function, with variables for the things we can change (in this case, the hidden layers). Then we can try different values later."
   ]
  },
  {
   "cell_type": "code",
   "execution_count": 38,
   "metadata": {
    "id": "ygOwHEqLMlnV"
   },
   "outputs": [],
   "source": [
    "def build_dan_model(hidden_layer_dims, dropout_rate, embeddings_trainable=False):\n",
    "    dan_input_layer = tf.keras.layers.Input(shape=(MAX_SEQUENCE_LENGTH,), dtype='int64')\n",
    "    dan_embedding_layer = Embedding(embedding_matrix.shape[0],\n",
    "                                    embedding_matrix.shape[1],\n",
    "                                    embeddings_initializer=tf.keras.initializers.Constant(embedding_matrix),\n",
    "                                    input_length=MAX_SEQUENCE_LENGTH,\n",
    "                                    trainable=embeddings_trainable)\n",
    "    dan_embeddings = dan_embedding_layer(dan_input_layer)\n",
    "    dan_avg_embeddings = tf.keras.layers.Lambda(lambda x: K.mean(x, axis=1),\n",
    "                                                name='averaging')(dan_embeddings)\n",
    "    last_hidden_output = dan_avg_embeddings\n",
    "\n",
    "    for i, h_dim in enumerate(hidden_layer_dims):\n",
    "        last_hidden_output = tf.keras.layers.Dense(h_dim, activation='relu',\n",
    "                                                   name='dan_hidden_%d' % i)(last_hidden_output)\n",
    "        last_hidden_output = tf.keras.layers.Dropout(dropout_rate)(last_hidden_output)\n",
    "    \n",
    "    dan_classification = tf.keras.layers.Dense(1,\n",
    "                                               activation='sigmoid',\n",
    "                                               name='dan_classification')(last_hidden_output)\n",
    "    \n",
    "    dan_model = tf.keras.models.Model(inputs=dan_input_layer, outputs=[dan_classification])\n",
    "    dan_model.compile(loss='binary_crossentropy',\n",
    "                      optimizer=tf.keras.optimizers.Adam(learning_rate=0.001,\n",
    "                                                         beta_1=0.9,\n",
    "                                                         beta_2=0.999,\n",
    "                                                         epsilon=1e-07,\n",
    "                                                         amsgrad=False,\n",
    "                                                         name='Adam'),\n",
    "                      metrics='accuracy')\n",
    "    return dan_model"
   ]
  },
  {
   "cell_type": "code",
   "execution_count": 39,
   "metadata": {
    "colab": {
     "base_uri": "https://localhost:8080/",
     "height": 812
    },
    "id": "QRXwMFi3MlnV",
    "outputId": "363efebd-d41c-4991-a6ee-60d3233c7470"
   },
   "outputs": [
    {
     "data": {
      "image/png": "[encoded data removed]",
      "text/plain": [
       "<IPython.core.display.Image object>"
      ]
     },
     "execution_count": 39,
     "metadata": {},
     "output_type": "execute_result"
    }
   ],
   "source": [
    "# Now call our function to create a DAN model, and show the model diagram\n",
    "\n",
    "hidden_layer_sizes = [100, 50]\n",
    "dropout_rate = 0.5\n",
    "\n",
    "dan_model = build_dan_model(hidden_layer_sizes, dropout_rate)\n",
    "keras.utils.plot_model(dan_model, show_shapes=True, dpi=90)"
   ]
  },
  {
   "cell_type": "code",
   "execution_count": 40,
   "metadata": {
    "colab": {
     "base_uri": "https://localhost:8080/"
    },
    "id": "ONqclasBMlnW",
    "outputId": "12b6cbe0-ecf8-4007-9a45-4d53af6ceec6"
   },
   "outputs": [
    {
     "name": "stdout",
     "output_type": "stream",
     "text": [
      "Epoch 1/20\n",
      "625/625 [==============================] - 3s 3ms/step - loss: 0.6412 - accuracy: 0.6261 - val_loss: 0.5463 - val_accuracy: 0.7346\n",
      "Epoch 2/20\n",
      "625/625 [==============================] - 2s 3ms/step - loss: 0.5314 - accuracy: 0.7418 - val_loss: 0.5079 - val_accuracy: 0.7514\n",
      "Epoch 3/20\n",
      "625/625 [==============================] - 2s 3ms/step - loss: 0.5071 - accuracy: 0.7563 - val_loss: 0.4993 - val_accuracy: 0.7578\n",
      "Epoch 4/20\n",
      "625/625 [==============================] - 2s 3ms/step - loss: 0.4943 - accuracy: 0.7642 - val_loss: 0.4880 - val_accuracy: 0.7616\n",
      "Epoch 5/20\n",
      "625/625 [==============================] - 2s 3ms/step - loss: 0.4859 - accuracy: 0.7691 - val_loss: 0.4960 - val_accuracy: 0.7624\n",
      "Epoch 6/20\n",
      "625/625 [==============================] - 2s 3ms/step - loss: 0.4839 - accuracy: 0.7732 - val_loss: 0.4817 - val_accuracy: 0.7676\n",
      "Epoch 7/20\n",
      "625/625 [==============================] - 2s 3ms/step - loss: 0.4756 - accuracy: 0.7737 - val_loss: 0.4702 - val_accuracy: 0.7726\n",
      "Epoch 8/20\n",
      "625/625 [==============================] - 2s 3ms/step - loss: 0.4749 - accuracy: 0.7741 - val_loss: 0.4740 - val_accuracy: 0.7708\n",
      "Epoch 9/20\n",
      "625/625 [==============================] - 2s 3ms/step - loss: 0.4740 - accuracy: 0.7742 - val_loss: 0.4658 - val_accuracy: 0.7752\n",
      "Epoch 10/20\n",
      "625/625 [==============================] - 2s 3ms/step - loss: 0.4701 - accuracy: 0.7776 - val_loss: 0.4743 - val_accuracy: 0.7716\n",
      "Epoch 11/20\n",
      "625/625 [==============================] - 2s 3ms/step - loss: 0.4667 - accuracy: 0.7819 - val_loss: 0.4658 - val_accuracy: 0.7776\n",
      "Epoch 12/20\n",
      "625/625 [==============================] - 2s 3ms/step - loss: 0.4637 - accuracy: 0.7839 - val_loss: 0.4654 - val_accuracy: 0.7784\n",
      "Epoch 13/20\n",
      "625/625 [==============================] - 2s 3ms/step - loss: 0.4595 - accuracy: 0.7849 - val_loss: 0.4797 - val_accuracy: 0.7644\n",
      "Epoch 14/20\n",
      "625/625 [==============================] - 2s 4ms/step - loss: 0.4624 - accuracy: 0.7824 - val_loss: 0.4634 - val_accuracy: 0.7790\n",
      "Epoch 15/20\n",
      "625/625 [==============================] - 2s 3ms/step - loss: 0.4618 - accuracy: 0.7814 - val_loss: 0.4606 - val_accuracy: 0.7796\n",
      "Epoch 16/20\n",
      "625/625 [==============================] - 2s 3ms/step - loss: 0.4609 - accuracy: 0.7840 - val_loss: 0.4588 - val_accuracy: 0.7828\n",
      "Epoch 17/20\n",
      "625/625 [==============================] - 2s 3ms/step - loss: 0.4577 - accuracy: 0.7852 - val_loss: 0.4595 - val_accuracy: 0.7788\n",
      "Epoch 18/20\n",
      "625/625 [==============================] - 2s 3ms/step - loss: 0.4585 - accuracy: 0.7861 - val_loss: 0.4718 - val_accuracy: 0.7758\n",
      "Epoch 19/20\n",
      "625/625 [==============================] - 2s 3ms/step - loss: 0.4539 - accuracy: 0.7850 - val_loss: 0.4570 - val_accuracy: 0.7818\n",
      "Epoch 20/20\n",
      "625/625 [==============================] - 2s 3ms/step - loss: 0.4535 - accuracy: 0.7868 - val_loss: 0.4609 - val_accuracy: 0.7832\n"
     ]
    }
   ],
   "source": [
    "dan_history = dan_model.fit(train_input,\n",
    "                            train_labels,\n",
    "                            validation_data=(test_input, test_labels),\n",
    "                            batch_size=32,\n",
    "                            epochs=20\n",
    "                            )"
   ]
  },
  {
   "cell_type": "markdown",
   "metadata": {
    "id": "CPHHM-Q8MlnW"
   },
   "source": [
    "Below is a sample plot for two different models:"
   ]
  },
  {
   "cell_type": "code",
   "execution_count": 41,
   "metadata": {
    "colab": {
     "base_uri": "https://localhost:8080/",
     "height": 635
    },
    "id": "o_yH7ySqWyjz",
    "outputId": "69b6a073-b54f-4da7-def2-8ccd5f3dd6d2"
   },
   "outputs": [
    {
     "data": {
      "image/png": "[encoded data removed]",
      "text/plain": [
       "<Figure size 1332x756 with 4 Axes>"
      ]
     },
     "metadata": {
      "needs_background": "light"
     },
     "output_type": "display_data"
    }
   ],
   "source": [
    "fig, axs = plt.subplots(2, 2)\n",
    "fig.subplots_adjust(left=0.2, wspace=0.6)\n",
    "make_plot(axs,\n",
    "          an_history,\n",
    "          dan_history,\n",
    "          model_1_name='an',\n",
    "          model_2_name='dan')\n",
    "\n",
    "fig.align_ylabels(axs[:, 1])\n",
    "fig.set_size_inches(18.5, 10.5)\n",
    "plt.show()"
   ]
  },
  {
   "cell_type": "markdown",
   "metadata": {
    "id": "28MFkARVMlnW"
   },
   "source": [
    "Of course, the avergaing network is not done training."
   ]
  },
  {
   "cell_type": "markdown",
   "metadata": {
    "id": "Cw9-emMXMlnW"
   },
   "source": [
    "[Return to Top](#returnToTop)  \n",
    "<a id = 'modelCNN'></a>\n",
    "### 3.3 CNN Model\n",
    "\n",
    "Next let's build a CNN model. We'll also wrap the model building code in a function that takes some hyperparameters, so that we can adjust things like number of filters and filter sizes later."
   ]
  },
  {
   "cell_type": "code",
   "execution_count": 42,
   "metadata": {
    "id": "NhTOlX25MlnW"
   },
   "outputs": [],
   "source": [
    "def build_cnn_model(num_filters, kernel_sizes, dense_layer_dims, dropout_rate, embeddings_trainable=False):\n",
    "    cnn_input_layer = tf.keras.layers.Input(shape=(MAX_SEQUENCE_LENGTH,), dtype='int64')\n",
    "    cnn_embedding_layer = Embedding(embedding_matrix.shape[0],\n",
    "                                    embedding_matrix.shape[1],\n",
    "                                    embeddings_initializer=tf.keras.initializers.Constant(embedding_matrix),\n",
    "                                    input_length=MAX_SEQUENCE_LENGTH,\n",
    "                                    trainable=embeddings_trainable)\n",
    "    cnn_embeddings = cnn_embedding_layer(cnn_input_layer)\n",
    "\n",
    "    conv_layers_for_all_kernel_sizes = []\n",
    "    for kernel_size, filters in zip(kernel_sizes, num_filters):\n",
    "        conv_layer = keras.layers.Conv1D(filters=filters, kernel_size=kernel_size, activation='relu')(cnn_embeddings)\n",
    "        conv_layer = keras.layers.GlobalMaxPooling1D()(conv_layer)\n",
    "        conv_layers_for_all_kernel_sizes.append(conv_layer)\n",
    "    \n",
    "    conv_output = keras.layers.concatenate(conv_layers_for_all_kernel_sizes, axis=1)\n",
    "    last_hidden_output = keras.layers.Dropout(rate=dropout_rate)(conv_output)\n",
    "\n",
    "    for dense_layer_dim in dense_layer_dims:\n",
    "        last_hidden_output = keras.layers.Dense(dense_layer_dim, activation='relu')(last_hidden_output)\n",
    "    \n",
    "    cnn_prediction = keras.layers.Dense(1, activation='sigmoid')(last_hidden_output)\n",
    "\n",
    "    cnn_model = keras.Model(inputs=cnn_input_layer, outputs=cnn_prediction)\n",
    "    cnn_model.compile(optimizer='adam',\n",
    "                      loss='binary_crossentropy',  # From information theory notebooks.\n",
    "                      metrics=['accuracy'])\n",
    "    return cnn_model"
   ]
  },
  {
   "cell_type": "code",
   "execution_count": 43,
   "metadata": {
    "id": "Jkx80zazMlnW"
   },
   "outputs": [],
   "source": [
    "# Now specify model hyperparameters and call the function to create a CNN model\n",
    "\n",
    "num_filters = [100, 100, 50, 25]\n",
    "kernel_sizes = [3, 4, 5, 10]\n",
    "dense_layer_dims = [100, 50]\n",
    "dropout_rate = 0.5\n",
    "\n",
    "cnn_model = build_cnn_model(num_filters, kernel_sizes, dense_layer_dims, dropout_rate)"
   ]
  },
  {
   "cell_type": "code",
   "execution_count": 44,
   "metadata": {
    "colab": {
     "base_uri": "https://localhost:8080/"
    },
    "id": "7G0cH1a2MlnW",
    "outputId": "cbb809b3-5ad1-4048-ee34-319c0748af84"
   },
   "outputs": [
    {
     "name": "stdout",
     "output_type": "stream",
     "text": [
      "Model: \"model_2\"\n",
      "__________________________________________________________________________________________________\n",
      " Layer (type)                   Output Shape         Param #     Connected to                     \n",
      "==================================================================================================\n",
      " input_3 (InputLayer)           [(None, 128)]        0           []                               \n",
      "                                                                                                  \n",
      " embedding_2 (Embedding)        (None, 128, 300)     13194600    ['input_3[0][0]']                \n",
      "                                                                                                  \n",
      " conv1d (Conv1D)                (None, 126, 100)     90100       ['embedding_2[0][0]']            \n",
      "                                                                                                  \n",
      " conv1d_1 (Conv1D)              (None, 125, 100)     120100      ['embedding_2[0][0]']            \n",
      "                                                                                                  \n",
      " conv1d_2 (Conv1D)              (None, 124, 50)      75050       ['embedding_2[0][0]']            \n",
      "                                                                                                  \n",
      " conv1d_3 (Conv1D)              (None, 119, 25)      75025       ['embedding_2[0][0]']            \n",
      "                                                                                                  \n",
      " global_max_pooling1d (GlobalMa  (None, 100)         0           ['conv1d[0][0]']                 \n",
      " xPooling1D)                                                                                      \n",
      "                                                                                                  \n",
      " global_max_pooling1d_1 (Global  (None, 100)         0           ['conv1d_1[0][0]']               \n",
      " MaxPooling1D)                                                                                    \n",
      "                                                                                                  \n",
      " global_max_pooling1d_2 (Global  (None, 50)          0           ['conv1d_2[0][0]']               \n",
      " MaxPooling1D)                                                                                    \n",
      "                                                                                                  \n",
      " global_max_pooling1d_3 (Global  (None, 25)          0           ['conv1d_3[0][0]']               \n",
      " MaxPooling1D)                                                                                    \n",
      "                                                                                                  \n",
      " concatenate (Concatenate)      (None, 275)          0           ['global_max_pooling1d[0][0]',   \n",
      "                                                                  'global_max_pooling1d_1[0][0]', \n",
      "                                                                  'global_max_pooling1d_2[0][0]', \n",
      "                                                                  'global_max_pooling1d_3[0][0]'] \n",
      "                                                                                                  \n",
      " dropout_2 (Dropout)            (None, 275)          0           ['concatenate[0][0]']            \n",
      "                                                                                                  \n",
      " dense (Dense)                  (None, 100)          27600       ['dropout_2[0][0]']              \n",
      "                                                                                                  \n",
      " dense_1 (Dense)                (None, 50)           5050        ['dense[0][0]']                  \n",
      "                                                                                                  \n",
      " dense_2 (Dense)                (None, 1)            51          ['dense_1[0][0]']                \n",
      "                                                                                                  \n",
      "==================================================================================================\n",
      "Total params: 13,587,576\n",
      "Trainable params: 392,976\n",
      "Non-trainable params: 13,194,600\n",
      "__________________________________________________________________________________________________\n"
     ]
    }
   ],
   "source": [
    "cnn_model.summary()"
   ]
  },
  {
   "cell_type": "markdown",
   "metadata": {
    "id": "1W2eeXE4MlnW"
   },
   "source": [
    "The keras plot utility shows this probably a bit nicer:"
   ]
  },
  {
   "cell_type": "code",
   "execution_count": 45,
   "metadata": {
    "colab": {
     "base_uri": "https://localhost:8080/",
     "height": 608
    },
    "id": "rLxkEjKbMlnW",
    "outputId": "fab853c8-17ee-46cc-b49f-31e314e7ebe5"
   },
   "outputs": [
    {
     "data": {
      "image/png": "[encoded data removed]",
      "text/plain": [
       "<IPython.core.display.Image object>"
      ]
     },
     "execution_count": 45,
     "metadata": {},
     "output_type": "execute_result"
    }
   ],
   "source": [
    "keras.utils.plot_model(cnn_model, show_shapes=True, dpi=90)"
   ]
  },
  {
   "cell_type": "code",
   "execution_count": 46,
   "metadata": {
    "colab": {
     "base_uri": "https://localhost:8080/"
    },
    "id": "kA4LlSm5MlnW",
    "outputId": "459c5572-0a69-46e2-dcf3-678187e4ceba"
   },
   "outputs": [
    {
     "name": "stdout",
     "output_type": "stream",
     "text": [
      "Epoch 1/5\n",
      "625/625 [==============================] - 14s 7ms/step - loss: 0.5446 - accuracy: 0.7049 - val_loss: 0.4422 - val_accuracy: 0.7972\n",
      "Epoch 2/5\n",
      "625/625 [==============================] - 4s 6ms/step - loss: 0.4245 - accuracy: 0.8045 - val_loss: 0.4047 - val_accuracy: 0.8218\n",
      "Epoch 3/5\n",
      "625/625 [==============================] - 4s 6ms/step - loss: 0.3696 - accuracy: 0.8344 - val_loss: 0.4024 - val_accuracy: 0.8108\n",
      "Epoch 4/5\n",
      "625/625 [==============================] - 4s 6ms/step - loss: 0.3282 - accuracy: 0.8585 - val_loss: 0.3961 - val_accuracy: 0.8178\n",
      "Epoch 5/5\n",
      "625/625 [==============================] - 4s 6ms/step - loss: 0.2781 - accuracy: 0.8850 - val_loss: 0.4044 - val_accuracy: 0.8164\n"
     ]
    }
   ],
   "source": [
    "cnn_history = cnn_model.fit(train_input,\n",
    "                            train_labels,\n",
    "                            validation_data=(test_input, test_labels),\n",
    "                            batch_size=32,\n",
    "                            epochs=5\n",
    "                            )"
   ]
  },
  {
   "cell_type": "markdown",
   "metadata": {
    "id": "qnUPF0OYMlnX"
   },
   "source": [
    "Below is a comparison of a CNN model with a DAN model: "
   ]
  },
  {
   "cell_type": "code",
   "execution_count": 47,
   "metadata": {
    "colab": {
     "base_uri": "https://localhost:8080/",
     "height": 635
    },
    "id": "YUfJc4VJX-Gp",
    "outputId": "f79fe52f-cb77-43c7-c6ce-6bcb8f51f1c6"
   },
   "outputs": [
    {
     "data": {
      "image/png": "[encoded data removed]",
      "text/plain": [
       "<Figure size 1332x756 with 4 Axes>"
      ]
     },
     "metadata": {
      "needs_background": "light"
     },
     "output_type": "display_data"
    }
   ],
   "source": [
    "fig, axs = plt.subplots(2, 2)\n",
    "fig.subplots_adjust(left=0.2, wspace=0.6)\n",
    "make_plot(axs, \n",
    "          dan_history, \n",
    "          cnn_history, \n",
    "          model_1_name='dan',\n",
    "          model_2_name='cnn')\n",
    "\n",
    "fig.align_ylabels(axs[:, 1])\n",
    "fig.set_size_inches(18.5, 10.5)\n",
    "plt.show()"
   ]
  },
  {
   "cell_type": "markdown",
   "metadata": {
    "id": "J6bJvfz8Zwuz"
   },
   "source": [
    "[Return to Top](#returnToTop)  \n",
    "<a id = 'inClassExercises'></a>\n",
    "### 3.4. In-Class Exercises\n",
    "\n",
    "A. Are any of the models above overfitting? Can you make them overfit less, or more? What parameters might you change to make these models more or less likely to overfit? How good (or bad) can you make it get?\n",
    "\n",
    "> Hint: think about all of the options you can vary, including:\n",
    "* add/remove more hidden layers\n",
    "* vary dropout rates and dimensions\n",
    "* enable/disable retraining of embedding matrix\n",
    "* (for CNN) change number of filters\n",
    "* (for CNN) change kernel sizes of filters\n",
    ">\n",
    "> For the option(s) you choose, do you think it will make the model more or less likely to overfit? Try it, does it work the way you expect?\n",
    "\n",
    "\n",
    "B. Can you make any of these models train faster (or slower)? What parameters might you change to make that happen? Again, does it work how you expect when you try it?\n",
    "\n",
    "You can use the cells below to explore either/both the DAN and CNN, using the functions defined above."
   ]
  },
  {
   "cell_type": "code",
   "execution_count": null,
   "metadata": {
    "id": "EzokuzC6ZxAv"
   },
   "outputs": [],
   "source": [
    "# DAN model hyperparameters: Change these?\n",
    "hidden_layer_sizes = [100, 50]\n",
    "dropout_rate = 0.5\n",
    "embeddings_trainable = False\n",
    "\n",
    "dan_model2 = build_dan_model(hidden_layer_sizes, dropout_rate,\n",
    "                             embeddings_trainable)\n",
    "\n",
    "dan_history2 = dan_model2.fit(train_input,\n",
    "                              train_labels,\n",
    "                              validation_data=(test_input, test_labels),\n",
    "                              batch_size=32,\n",
    "                              epochs=20\n",
    "                              )"
   ]
  },
  {
   "cell_type": "code",
   "execution_count": null,
   "metadata": {
    "id": "veiiANCiXqJo"
   },
   "outputs": [],
   "source": [
    "# Do the plots change how you'd expect?\n",
    "# Did the runtime change (in the cells above)?\n",
    "\n",
    "fig, axs = plt.subplots(2, 2)\n",
    "fig.subplots_adjust(left=0.2, wspace=0.6)\n",
    "make_plot(axs,\n",
    "          dan_history,\n",
    "          dan_history2,\n",
    "          model_1_name='dan v1',\n",
    "          model_2_name='dan v2')\n",
    "\n",
    "fig.align_ylabels(axs[:, 1])\n",
    "fig.set_size_inches(18.5, 10.5)\n",
    "plt.show()"
   ]
  },
  {
   "cell_type": "code",
   "execution_count": null,
   "metadata": {
    "id": "nxTaZIeDiO2F"
   },
   "outputs": [],
   "source": [
    "# CNN model hyperparameters: Change these?\n",
    "num_filters = [100, 100, 50, 25]\n",
    "kernel_sizes = [3, 4, 5, 10]\n",
    "dense_layer_dims = [100, 50]\n",
    "dropout_rate = 0.5\n",
    "embeddings_trainable = False\n",
    "\n",
    "cnn_model2 = build_cnn_model(num_filters, kernel_sizes, dense_layer_dims,\n",
    "                            dropout_rate, embeddings_trainable)\n",
    "\n",
    "cnn_history2 = cnn_model2.fit(train_input,\n",
    "                              train_labels,\n",
    "                              validation_data=(test_input, test_labels),\n",
    "                              batch_size=32,\n",
    "                              epochs=5\n",
    "                              )"
   ]
  },
  {
   "cell_type": "code",
   "execution_count": null,
   "metadata": {
    "id": "PUReh7zOiZi9"
   },
   "outputs": [],
   "source": [
    "# Do the plots change how you'd expect?\n",
    "# Did the runtime change (in the cells above)?\n",
    "\n",
    "fig, axs = plt.subplots(2, 2)\n",
    "fig.subplots_adjust(left=0.2, wspace=0.6)\n",
    "make_plot(axs,\n",
    "          cnn_history,\n",
    "          cnn_history2,\n",
    "          model_1_name='cnn v1',\n",
    "          model_2_name='cnn v2')\n",
    "\n",
    "fig.align_ylabels(axs[:, 1])\n",
    "fig.set_size_inches(18.5, 10.5)\n",
    "plt.show()"
   ]
  },
  {
   "cell_type": "markdown",
   "metadata": {
    "id": "nGvfPUnEMlnX"
   },
   "source": [
    "This finalizes the discussions of DANs and CNNs.\n",
    "\n",
    "Over the next 2 weeks we will first add RNNs and then also classification with BERT."
   ]
  },
  {
   "cell_type": "code",
   "execution_count": null,
   "metadata": {
    "id": "363oxPcGMlnX"
   },
   "outputs": [],
   "source": []
  }
 ],
 "metadata": {
  "accelerator": "GPU",
  "colab": {
   "provenance": []
  },
  "gpuClass": "standard",
  "kernelspec": {
   "display_name": "Python 3",
   "language": "python",
   "name": "python3"
  },
  "language_info": {
   "codemirror_mode": {
    "name": "ipython",
    "version": 3
   },
   "file_extension": ".py",
   "mimetype": "text/x-python",
   "name": "python",
   "nbconvert_exporter": "python",
   "pygments_lexer": "ipython3",
   "version": "3.8.5"
  },
  "widgets": {
   "application/vnd.jupyter.widget-state+json": {
    "01d855a5aa774f8d8169e34719e04139": {
     "model_module": "@jupyter-widgets/controls",
     "model_module_version": "1.5.0",
     "model_name": "DescriptionStyleModel",
     "state": {
      "_model_module": "@jupyter-widgets/controls",
      "_model_module_version": "1.5.0",
      "_model_name": "DescriptionStyleModel",
      "_view_count": null,
      "_view_module": "@jupyter-widgets/base",
      "_view_module_version": "1.2.0",
      "_view_name": "StyleView",
      "description_width": ""
     }
    },
    "0318f21d50fe4715ac63ebbb74eb14e0": {
     "model_module": "@jupyter-widgets/controls",
     "model_module_version": "1.5.0",
     "model_name": "DescriptionStyleModel",
     "state": {
      "_model_module": "@jupyter-widgets/controls",
      "_model_module_version": "1.5.0",
      "_model_name": "DescriptionStyleModel",
      "_view_count": null,
      "_view_module": "@jupyter-widgets/base",
      "_view_module_version": "1.2.0",
      "_view_name": "StyleView",
      "description_width": ""
     }
    },
    "03992ab6c51a424c929ea148b80e7110": {
     "model_module": "@jupyter-widgets/base",
     "model_module_version": "1.2.0",
     "model_name": "LayoutModel",
     "state": {
      "_model_module": "@jupyter-widgets/base",
      "_model_module_version": "1.2.0",
      "_model_name": "LayoutModel",
      "_view_count": null,
      "_view_module": "@jupyter-widgets/base",
      "_view_module_version": "1.2.0",
      "_view_name": "LayoutView",
      "align_content": null,
      "align_items": null,
      "align_self": null,
      "border": null,
      "bottom": null,
      "display": null,
      "flex": null,
      "flex_flow": null,
      "grid_area": null,
      "grid_auto_columns": null,
      "grid_auto_flow": null,
      "grid_auto_rows": null,
      "grid_column": null,
      "grid_gap": null,
      "grid_row": null,
      "grid_template_areas": null,
      "grid_template_columns": null,
      "grid_template_rows": null,
      "height": null,
      "justify_content": null,
      "justify_items": null,
      "left": null,
      "margin": null,
      "max_height": null,
      "max_width": null,
      "min_height": null,
      "min_width": null,
      "object_fit": null,
      "object_position": null,
      "order": null,
      "overflow": null,
      "overflow_x": null,
      "overflow_y": null,
      "padding": null,
      "right": null,
      "top": null,
      "visibility": null,
      "width": null
     }
    },
    "045dd9c68c3b42329c8978d04180a4e7": {
     "model_module": "@jupyter-widgets/controls",
     "model_module_version": "1.5.0",
     "model_name": "HTMLModel",
     "state": {
      "_dom_classes": [],
      "_model_module": "@jupyter-widgets/controls",
      "_model_module_version": "1.5.0",
      "_model_name": "HTMLModel",
      "_view_count": null,
      "_view_module": "@jupyter-widgets/controls",
      "_view_module_version": "1.5.0",
      "_view_name": "HTMLView",
      "description": "",
      "description_tooltip": null,
      "layout": "IPY_MODEL_7142c519b199461f88ea2b4efd023abc",
      "placeholder": "​",
      "style": "IPY_MODEL_85f18ea4e008486582f1fd87774b2540",
      "value": " 24864/25000 [00:05&lt;00:00, 5440.77 examples/s]"
     }
    },
    "056e8bde30194d9f8aaa111029f8480d": {
     "model_module": "@jupyter-widgets/base",
     "model_module_version": "1.2.0",
     "model_name": "LayoutModel",
     "state": {
      "_model_module": "@jupyter-widgets/base",
      "_model_module_version": "1.2.0",
      "_model_name": "LayoutModel",
      "_view_count": null,
      "_view_module": "@jupyter-widgets/base",
      "_view_module_version": "1.2.0",
      "_view_name": "LayoutView",
      "align_content": null,
      "align_items": null,
      "align_self": null,
      "border": null,
      "bottom": null,
      "display": null,
      "flex": null,
      "flex_flow": null,
      "grid_area": null,
      "grid_auto_columns": null,
      "grid_auto_flow": null,
      "grid_auto_rows": null,
      "grid_column": null,
      "grid_gap": null,
      "grid_row": null,
      "grid_template_areas": null,
      "grid_template_columns": null,
      "grid_template_rows": null,
      "height": null,
      "justify_content": null,
      "justify_items": null,
      "left": null,
      "margin": null,
      "max_height": null,
      "max_width": null,
      "min_height": null,
      "min_width": null,
      "object_fit": null,
      "object_position": null,
      "order": null,
      "overflow": null,
      "overflow_x": null,
      "overflow_y": null,
      "padding": null,
      "right": null,
      "top": null,
      "visibility": null,
      "width": null
     }
    },
    "0652728ae8894ca5b44eaedf28b8d7d8": {
     "model_module": "@jupyter-widgets/controls",
     "model_module_version": "1.5.0",
     "model_name": "HTMLModel",
     "state": {
      "_dom_classes": [],
      "_model_module": "@jupyter-widgets/controls",
      "_model_module_version": "1.5.0",
      "_model_name": "HTMLModel",
      "_view_count": null,
      "_view_module": "@jupyter-widgets/controls",
      "_view_module_version": "1.5.0",
      "_view_name": "HTMLView",
      "description": "",
      "description_tooltip": null,
      "layout": "IPY_MODEL_4ab72b2ed56f44f89d8c3384cfe91a7b",
      "placeholder": "​",
      "style": "IPY_MODEL_ebe2b05d8ebe4d6bafe9a56472dbaa2b",
      "value": "Shuffling /root/tensorflow_datasets/imdb_reviews/plain_text/1.0.0.incomplete01W0G5/imdb_reviews-train.tfrecord*...:  55%"
     }
    },
    "07b59e7d35cf4d5b83ca83e5a236ee8f": {
     "model_module": "@jupyter-widgets/base",
     "model_module_version": "1.2.0",
     "model_name": "LayoutModel",
     "state": {
      "_model_module": "@jupyter-widgets/base",
      "_model_module_version": "1.2.0",
      "_model_name": "LayoutModel",
      "_view_count": null,
      "_view_module": "@jupyter-widgets/base",
      "_view_module_version": "1.2.0",
      "_view_name": "LayoutView",
      "align_content": null,
      "align_items": null,
      "align_self": null,
      "border": null,
      "bottom": null,
      "display": null,
      "flex": null,
      "flex_flow": null,
      "grid_area": null,
      "grid_auto_columns": null,
      "grid_auto_flow": null,
      "grid_auto_rows": null,
      "grid_column": null,
      "grid_gap": null,
      "grid_row": null,
      "grid_template_areas": null,
      "grid_template_columns": null,
      "grid_template_rows": null,
      "height": null,
      "justify_content": null,
      "justify_items": null,
      "left": null,
      "margin": null,
      "max_height": null,
      "max_width": null,
      "min_height": null,
      "min_width": null,
      "object_fit": null,
      "object_position": null,
      "order": null,
      "overflow": null,
      "overflow_x": null,
      "overflow_y": null,
      "padding": null,
      "right": null,
      "top": null,
      "visibility": null,
      "width": null
     }
    },
    "0b46da6e141b48ab8d9e1b1e33c0d6e5": {
     "model_module": "@jupyter-widgets/controls",
     "model_module_version": "1.5.0",
     "model_name": "DescriptionStyleModel",
     "state": {
      "_model_module": "@jupyter-widgets/controls",
      "_model_module_version": "1.5.0",
      "_model_name": "DescriptionStyleModel",
      "_view_count": null,
      "_view_module": "@jupyter-widgets/base",
      "_view_module_version": "1.2.0",
      "_view_name": "StyleView",
      "description_width": ""
     }
    },
    "0b6ae1316f1b4a10910ce451c2d84e78": {
     "model_module": "@jupyter-widgets/controls",
     "model_module_version": "1.5.0",
     "model_name": "HTMLModel",
     "state": {
      "_dom_classes": [],
      "_model_module": "@jupyter-widgets/controls",
      "_model_module_version": "1.5.0",
      "_model_name": "HTMLModel",
      "_view_count": null,
      "_view_module": "@jupyter-widgets/controls",
      "_view_module_version": "1.5.0",
      "_view_name": "HTMLView",
      "description": "",
      "description_tooltip": null,
      "layout": "IPY_MODEL_d5817ce626484d3aabb668db2398e385",
      "placeholder": "​",
      "style": "IPY_MODEL_a63ed551a4c14048baebaa38da82e0ae",
      "value": "Generating test examples...:  99%"
     }
    },
    "12791cfb7ba246479b67106819c9b854": {
     "model_module": "@jupyter-widgets/controls",
     "model_module_version": "1.5.0",
     "model_name": "HTMLModel",
     "state": {
      "_dom_classes": [],
      "_model_module": "@jupyter-widgets/controls",
      "_model_module_version": "1.5.0",
      "_model_name": "HTMLModel",
      "_view_count": null,
      "_view_module": "@jupyter-widgets/controls",
      "_view_module_version": "1.5.0",
      "_view_name": "HTMLView",
      "description": "",
      "description_tooltip": null,
      "layout": "IPY_MODEL_056e8bde30194d9f8aaa111029f8480d",
      "placeholder": "​",
      "style": "IPY_MODEL_75dfae71e6ca4f40bb47e18a09ae5e01",
      "value": " 49929/50000 [00:13&lt;00:00, 5344.37 examples/s]"
     }
    },
    "1344d7f1efac4946996bb3419f5d68c2": {
     "model_module": "@jupyter-widgets/controls",
     "model_module_version": "1.5.0",
     "model_name": "ProgressStyleModel",
     "state": {
      "_model_module": "@jupyter-widgets/controls",
      "_model_module_version": "1.5.0",
      "_model_name": "ProgressStyleModel",
      "_view_count": null,
      "_view_module": "@jupyter-widgets/base",
      "_view_module_version": "1.2.0",
      "_view_name": "StyleView",
      "bar_color": null,
      "description_width": ""
     }
    },
    "155b7b48dae64344b569e8de407cc2e1": {
     "model_module": "@jupyter-widgets/base",
     "model_module_version": "1.2.0",
     "model_name": "LayoutModel",
     "state": {
      "_model_module": "@jupyter-widgets/base",
      "_model_module_version": "1.2.0",
      "_model_name": "LayoutModel",
      "_view_count": null,
      "_view_module": "@jupyter-widgets/base",
      "_view_module_version": "1.2.0",
      "_view_name": "LayoutView",
      "align_content": null,
      "align_items": null,
      "align_self": null,
      "border": null,
      "bottom": null,
      "display": null,
      "flex": null,
      "flex_flow": null,
      "grid_area": null,
      "grid_auto_columns": null,
      "grid_auto_flow": null,
      "grid_auto_rows": null,
      "grid_column": null,
      "grid_gap": null,
      "grid_row": null,
      "grid_template_areas": null,
      "grid_template_columns": null,
      "grid_template_rows": null,
      "height": null,
      "justify_content": null,
      "justify_items": null,
      "left": null,
      "margin": null,
      "max_height": null,
      "max_width": null,
      "min_height": null,
      "min_width": null,
      "object_fit": null,
      "object_position": null,
      "order": null,
      "overflow": null,
      "overflow_x": null,
      "overflow_y": null,
      "padding": null,
      "right": null,
      "top": null,
      "visibility": null,
      "width": null
     }
    },
    "175c5f851b4246208da57f8a72bdf712": {
     "model_module": "@jupyter-widgets/controls",
     "model_module_version": "1.5.0",
     "model_name": "HTMLModel",
     "state": {
      "_dom_classes": [],
      "_model_module": "@jupyter-widgets/controls",
      "_model_module_version": "1.5.0",
      "_model_name": "HTMLModel",
      "_view_count": null,
      "_view_module": "@jupyter-widgets/controls",
      "_view_module_version": "1.5.0",
      "_view_name": "HTMLView",
      "description": "",
      "description_tooltip": null,
      "layout": "IPY_MODEL_dae3ea0781824a95996d75553075b46a",
      "placeholder": "​",
      "style": "IPY_MODEL_2dfbda4afe99423ca39beb31671ade1f",
      "value": "Generating unsupervised examples...: 100%"
     }
    },
    "17c94cdcd11f46a4adc66aa6b866aa5f": {
     "model_module": "@jupyter-widgets/controls",
     "model_module_version": "1.5.0",
     "model_name": "FloatProgressModel",
     "state": {
      "_dom_classes": [],
      "_model_module": "@jupyter-widgets/controls",
      "_model_module_version": "1.5.0",
      "_model_name": "FloatProgressModel",
      "_view_count": null,
      "_view_module": "@jupyter-widgets/controls",
      "_view_module_version": "1.5.0",
      "_view_name": "ProgressView",
      "bar_style": "",
      "description": "",
      "description_tooltip": null,
      "layout": "IPY_MODEL_923187222b744f219f380374c3e377f4",
      "max": 25000,
      "min": 0,
      "orientation": "horizontal",
      "style": "IPY_MODEL_ce249e9853cb4602915f82865c44f802",
      "value": 25000
     }
    },
    "1858b36042c546cb8640f74ac6b0efa6": {
     "model_module": "@jupyter-widgets/base",
     "model_module_version": "1.2.0",
     "model_name": "LayoutModel",
     "state": {
      "_model_module": "@jupyter-widgets/base",
      "_model_module_version": "1.2.0",
      "_model_name": "LayoutModel",
      "_view_count": null,
      "_view_module": "@jupyter-widgets/base",
      "_view_module_version": "1.2.0",
      "_view_name": "LayoutView",
      "align_content": null,
      "align_items": null,
      "align_self": null,
      "border": null,
      "bottom": null,
      "display": null,
      "flex": null,
      "flex_flow": null,
      "grid_area": null,
      "grid_auto_columns": null,
      "grid_auto_flow": null,
      "grid_auto_rows": null,
      "grid_column": null,
      "grid_gap": null,
      "grid_row": null,
      "grid_template_areas": null,
      "grid_template_columns": null,
      "grid_template_rows": null,
      "height": null,
      "justify_content": null,
      "justify_items": null,
      "left": null,
      "margin": null,
      "max_height": null,
      "max_width": null,
      "min_height": null,
      "min_width": null,
      "object_fit": null,
      "object_position": null,
      "order": null,
      "overflow": null,
      "overflow_x": null,
      "overflow_y": null,
      "padding": null,
      "right": null,
      "top": null,
      "visibility": null,
      "width": null
     }
    },
    "1acb941df6bc499aa2d09565e40f536f": {
     "model_module": "@jupyter-widgets/controls",
     "model_module_version": "1.5.0",
     "model_name": "DescriptionStyleModel",
     "state": {
      "_model_module": "@jupyter-widgets/controls",
      "_model_module_version": "1.5.0",
      "_model_name": "DescriptionStyleModel",
      "_view_count": null,
      "_view_module": "@jupyter-widgets/base",
      "_view_module_version": "1.2.0",
      "_view_name": "StyleView",
      "description_width": ""
     }
    },
    "1e2dacc12e1b47b6b9a43033513c483a": {
     "model_module": "@jupyter-widgets/base",
     "model_module_version": "1.2.0",
     "model_name": "LayoutModel",
     "state": {
      "_model_module": "@jupyter-widgets/base",
      "_model_module_version": "1.2.0",
      "_model_name": "LayoutModel",
      "_view_count": null,
      "_view_module": "@jupyter-widgets/base",
      "_view_module_version": "1.2.0",
      "_view_name": "LayoutView",
      "align_content": null,
      "align_items": null,
      "align_self": null,
      "border": null,
      "bottom": null,
      "display": null,
      "flex": null,
      "flex_flow": null,
      "grid_area": null,
      "grid_auto_columns": null,
      "grid_auto_flow": null,
      "grid_auto_rows": null,
      "grid_column": null,
      "grid_gap": null,
      "grid_row": null,
      "grid_template_areas": null,
      "grid_template_columns": null,
      "grid_template_rows": null,
      "height": null,
      "justify_content": null,
      "justify_items": null,
      "left": null,
      "margin": null,
      "max_height": null,
      "max_width": null,
      "min_height": null,
      "min_width": null,
      "object_fit": null,
      "object_position": null,
      "order": null,
      "overflow": null,
      "overflow_x": null,
      "overflow_y": null,
      "padding": null,
      "right": null,
      "top": null,
      "visibility": null,
      "width": null
     }
    },
    "24b841ae65f1442bbb6eaa843bc4c5f9": {
     "model_module": "@jupyter-widgets/controls",
     "model_module_version": "1.5.0",
     "model_name": "HTMLModel",
     "state": {
      "_dom_classes": [],
      "_model_module": "@jupyter-widgets/controls",
      "_model_module_version": "1.5.0",
      "_model_name": "HTMLModel",
      "_view_count": null,
      "_view_module": "@jupyter-widgets/controls",
      "_view_module_version": "1.5.0",
      "_view_name": "HTMLView",
      "description": "",
      "description_tooltip": null,
      "layout": "IPY_MODEL_1858b36042c546cb8640f74ac6b0efa6",
      "placeholder": "​",
      "style": "IPY_MODEL_b482350f75a84abe8aec1a5d5fd4dba6",
      "value": "Shuffling /root/tensorflow_datasets/imdb_reviews/plain_text/1.0.0.incomplete01W0G5/imdb_reviews-test.tfrecord*...:  58%"
     }
    },
    "26dac20ac16a4cf6972ae99531dd54db": {
     "model_module": "@jupyter-widgets/controls",
     "model_module_version": "1.5.0",
     "model_name": "HBoxModel",
     "state": {
      "_dom_classes": [],
      "_model_module": "@jupyter-widgets/controls",
      "_model_module_version": "1.5.0",
      "_model_name": "HBoxModel",
      "_view_count": null,
      "_view_module": "@jupyter-widgets/controls",
      "_view_module_version": "1.5.0",
      "_view_name": "HBoxView",
      "box_style": "",
      "children": [
       "IPY_MODEL_0652728ae8894ca5b44eaedf28b8d7d8",
       "IPY_MODEL_28b29fbd269c4eb9b949531fe1998903",
       "IPY_MODEL_b08b71a3d2d64fe88d1c0b9606f87eb5"
      ],
      "layout": "IPY_MODEL_3b207e697ee74921ab68e56a287d81db"
     }
    },
    "28b29fbd269c4eb9b949531fe1998903": {
     "model_module": "@jupyter-widgets/controls",
     "model_module_version": "1.5.0",
     "model_name": "FloatProgressModel",
     "state": {
      "_dom_classes": [],
      "_model_module": "@jupyter-widgets/controls",
      "_model_module_version": "1.5.0",
      "_model_name": "FloatProgressModel",
      "_view_count": null,
      "_view_module": "@jupyter-widgets/controls",
      "_view_module_version": "1.5.0",
      "_view_name": "ProgressView",
      "bar_style": "",
      "description": "",
      "description_tooltip": null,
      "layout": "IPY_MODEL_ace80d2a0a9e4ea0b2734b895fab0878",
      "max": 25000,
      "min": 0,
      "orientation": "horizontal",
      "style": "IPY_MODEL_8cf0b28fd17e4e9e858a48a839642745",
      "value": 25000
     }
    },
    "298638a849e848bbb71e28ffd6b2e95b": {
     "model_module": "@jupyter-widgets/base",
     "model_module_version": "1.2.0",
     "model_name": "LayoutModel",
     "state": {
      "_model_module": "@jupyter-widgets/base",
      "_model_module_version": "1.2.0",
      "_model_name": "LayoutModel",
      "_view_count": null,
      "_view_module": "@jupyter-widgets/base",
      "_view_module_version": "1.2.0",
      "_view_name": "LayoutView",
      "align_content": null,
      "align_items": null,
      "align_self": null,
      "border": null,
      "bottom": null,
      "display": null,
      "flex": null,
      "flex_flow": null,
      "grid_area": null,
      "grid_auto_columns": null,
      "grid_auto_flow": null,
      "grid_auto_rows": null,
      "grid_column": null,
      "grid_gap": null,
      "grid_row": null,
      "grid_template_areas": null,
      "grid_template_columns": null,
      "grid_template_rows": null,
      "height": null,
      "justify_content": null,
      "justify_items": null,
      "left": null,
      "margin": null,
      "max_height": null,
      "max_width": null,
      "min_height": null,
      "min_width": null,
      "object_fit": null,
      "object_position": null,
      "order": null,
      "overflow": null,
      "overflow_x": null,
      "overflow_y": null,
      "padding": null,
      "right": null,
      "top": null,
      "visibility": "hidden",
      "width": null
     }
    },
    "2c2bf2c6a7a44b37a43e82770d6769f6": {
     "model_module": "@jupyter-widgets/base",
     "model_module_version": "1.2.0",
     "model_name": "LayoutModel",
     "state": {
      "_model_module": "@jupyter-widgets/base",
      "_model_module_version": "1.2.0",
      "_model_name": "LayoutModel",
      "_view_count": null,
      "_view_module": "@jupyter-widgets/base",
      "_view_module_version": "1.2.0",
      "_view_name": "LayoutView",
      "align_content": null,
      "align_items": null,
      "align_self": null,
      "border": null,
      "bottom": null,
      "display": null,
      "flex": null,
      "flex_flow": null,
      "grid_area": null,
      "grid_auto_columns": null,
      "grid_auto_flow": null,
      "grid_auto_rows": null,
      "grid_column": null,
      "grid_gap": null,
      "grid_row": null,
      "grid_template_areas": null,
      "grid_template_columns": null,
      "grid_template_rows": null,
      "height": null,
      "justify_content": null,
      "justify_items": null,
      "left": null,
      "margin": null,
      "max_height": null,
      "max_width": null,
      "min_height": null,
      "min_width": null,
      "object_fit": null,
      "object_position": null,
      "order": null,
      "overflow": null,
      "overflow_x": null,
      "overflow_y": null,
      "padding": null,
      "right": null,
      "top": null,
      "visibility": null,
      "width": null
     }
    },
    "2d5fbae7ffda4c18b05ab6ead5737cc4": {
     "model_module": "@jupyter-widgets/controls",
     "model_module_version": "1.5.0",
     "model_name": "HTMLModel",
     "state": {
      "_dom_classes": [],
      "_model_module": "@jupyter-widgets/controls",
      "_model_module_version": "1.5.0",
      "_model_name": "HTMLModel",
      "_view_count": null,
      "_view_module": "@jupyter-widgets/controls",
      "_view_module_version": "1.5.0",
      "_view_name": "HTMLView",
      "description": "",
      "description_tooltip": null,
      "layout": "IPY_MODEL_1e2dacc12e1b47b6b9a43033513c483a",
      "placeholder": "​",
      "style": "IPY_MODEL_f240b077f0c54461b34705fa461887d7",
      "value": " 14453/25000 [00:00&lt;00:00, 144509.81 examples/s]"
     }
    },
    "2dfbda4afe99423ca39beb31671ade1f": {
     "model_module": "@jupyter-widgets/controls",
     "model_module_version": "1.5.0",
     "model_name": "DescriptionStyleModel",
     "state": {
      "_model_module": "@jupyter-widgets/controls",
      "_model_module_version": "1.5.0",
      "_model_name": "DescriptionStyleModel",
      "_view_count": null,
      "_view_module": "@jupyter-widgets/base",
      "_view_module_version": "1.2.0",
      "_view_name": "StyleView",
      "description_width": ""
     }
    },
    "2e9285f7872940d1afe10727e0d03eed": {
     "model_module": "@jupyter-widgets/controls",
     "model_module_version": "1.5.0",
     "model_name": "DescriptionStyleModel",
     "state": {
      "_model_module": "@jupyter-widgets/controls",
      "_model_module_version": "1.5.0",
      "_model_name": "DescriptionStyleModel",
      "_view_count": null,
      "_view_module": "@jupyter-widgets/base",
      "_view_module_version": "1.2.0",
      "_view_name": "StyleView",
      "description_width": ""
     }
    },
    "3248c5cb3c1e4e5e9a91b1bcd7e712dd": {
     "model_module": "@jupyter-widgets/base",
     "model_module_version": "1.2.0",
     "model_name": "LayoutModel",
     "state": {
      "_model_module": "@jupyter-widgets/base",
      "_model_module_version": "1.2.0",
      "_model_name": "LayoutModel",
      "_view_count": null,
      "_view_module": "@jupyter-widgets/base",
      "_view_module_version": "1.2.0",
      "_view_name": "LayoutView",
      "align_content": null,
      "align_items": null,
      "align_self": null,
      "border": null,
      "bottom": null,
      "display": null,
      "flex": null,
      "flex_flow": null,
      "grid_area": null,
      "grid_auto_columns": null,
      "grid_auto_flow": null,
      "grid_auto_rows": null,
      "grid_column": null,
      "grid_gap": null,
      "grid_row": null,
      "grid_template_areas": null,
      "grid_template_columns": null,
      "grid_template_rows": null,
      "height": null,
      "justify_content": null,
      "justify_items": null,
      "left": null,
      "margin": null,
      "max_height": null,
      "max_width": null,
      "min_height": null,
      "min_width": null,
      "object_fit": null,
      "object_position": null,
      "order": null,
      "overflow": null,
      "overflow_x": null,
      "overflow_y": null,
      "padding": null,
      "right": null,
      "top": null,
      "visibility": null,
      "width": null
     }
    },
    "327b4ba69fc7450894c8bface4868aa6": {
     "model_module": "@jupyter-widgets/controls",
     "model_module_version": "1.5.0",
     "model_name": "HBoxModel",
     "state": {
      "_dom_classes": [],
      "_model_module": "@jupyter-widgets/controls",
      "_model_module_version": "1.5.0",
      "_model_name": "HBoxModel",
      "_view_count": null,
      "_view_module": "@jupyter-widgets/controls",
      "_view_module_version": "1.5.0",
      "_view_name": "HBoxView",
      "box_style": "",
      "children": [
       "IPY_MODEL_24b841ae65f1442bbb6eaa843bc4c5f9",
       "IPY_MODEL_de9a9392c26a4c549bb35317a91ad1a9",
       "IPY_MODEL_2d5fbae7ffda4c18b05ab6ead5737cc4"
      ],
      "layout": "IPY_MODEL_de5ace29990d4100984267a0d2e4be09"
     }
    },
    "355c1f4a8d8e47e1a231288cfcd6c6e1": {
     "model_module": "@jupyter-widgets/controls",
     "model_module_version": "1.5.0",
     "model_name": "DescriptionStyleModel",
     "state": {
      "_model_module": "@jupyter-widgets/controls",
      "_model_module_version": "1.5.0",
      "_model_name": "DescriptionStyleModel",
      "_view_count": null,
      "_view_module": "@jupyter-widgets/base",
      "_view_module_version": "1.2.0",
      "_view_name": "StyleView",
      "description_width": ""
     }
    },
    "3592bdcaa2b145cc879da478459decb6": {
     "model_module": "@jupyter-widgets/controls",
     "model_module_version": "1.5.0",
     "model_name": "HBoxModel",
     "state": {
      "_dom_classes": [],
      "_model_module": "@jupyter-widgets/controls",
      "_model_module_version": "1.5.0",
      "_model_name": "HBoxModel",
      "_view_count": null,
      "_view_module": "@jupyter-widgets/controls",
      "_view_module_version": "1.5.0",
      "_view_name": "HBoxView",
      "box_style": "",
      "children": [
       "IPY_MODEL_175c5f851b4246208da57f8a72bdf712",
       "IPY_MODEL_83bc5948564f42ae9e0eddfd37976793",
       "IPY_MODEL_12791cfb7ba246479b67106819c9b854"
      ],
      "layout": "IPY_MODEL_6702bed71ad843a4bf82f290671e8a22"
     }
    },
    "3a97353bbb4e4868ba92b5571a307a28": {
     "model_module": "@jupyter-widgets/base",
     "model_module_version": "1.2.0",
     "model_name": "LayoutModel",
     "state": {
      "_model_module": "@jupyter-widgets/base",
      "_model_module_version": "1.2.0",
      "_model_name": "LayoutModel",
      "_view_count": null,
      "_view_module": "@jupyter-widgets/base",
      "_view_module_version": "1.2.0",
      "_view_name": "LayoutView",
      "align_content": null,
      "align_items": null,
      "align_self": null,
      "border": null,
      "bottom": null,
      "display": null,
      "flex": null,
      "flex_flow": null,
      "grid_area": null,
      "grid_auto_columns": null,
      "grid_auto_flow": null,
      "grid_auto_rows": null,
      "grid_column": null,
      "grid_gap": null,
      "grid_row": null,
      "grid_template_areas": null,
      "grid_template_columns": null,
      "grid_template_rows": null,
      "height": null,
      "justify_content": null,
      "justify_items": null,
      "left": null,
      "margin": null,
      "max_height": null,
      "max_width": null,
      "min_height": null,
      "min_width": null,
      "object_fit": null,
      "object_position": null,
      "order": null,
      "overflow": null,
      "overflow_x": null,
      "overflow_y": null,
      "padding": null,
      "right": null,
      "top": null,
      "visibility": null,
      "width": null
     }
    },
    "3b207e697ee74921ab68e56a287d81db": {
     "model_module": "@jupyter-widgets/base",
     "model_module_version": "1.2.0",
     "model_name": "LayoutModel",
     "state": {
      "_model_module": "@jupyter-widgets/base",
      "_model_module_version": "1.2.0",
      "_model_name": "LayoutModel",
      "_view_count": null,
      "_view_module": "@jupyter-widgets/base",
      "_view_module_version": "1.2.0",
      "_view_name": "LayoutView",
      "align_content": null,
      "align_items": null,
      "align_self": null,
      "border": null,
      "bottom": null,
      "display": null,
      "flex": null,
      "flex_flow": null,
      "grid_area": null,
      "grid_auto_columns": null,
      "grid_auto_flow": null,
      "grid_auto_rows": null,
      "grid_column": null,
      "grid_gap": null,
      "grid_row": null,
      "grid_template_areas": null,
      "grid_template_columns": null,
      "grid_template_rows": null,
      "height": null,
      "justify_content": null,
      "justify_items": null,
      "left": null,
      "margin": null,
      "max_height": null,
      "max_width": null,
      "min_height": null,
      "min_width": null,
      "object_fit": null,
      "object_position": null,
      "order": null,
      "overflow": null,
      "overflow_x": null,
      "overflow_y": null,
      "padding": null,
      "right": null,
      "top": null,
      "visibility": "hidden",
      "width": null
     }
    },
    "42e4244c70bb46099fe87802b44e80aa": {
     "model_module": "@jupyter-widgets/base",
     "model_module_version": "1.2.0",
     "model_name": "LayoutModel",
     "state": {
      "_model_module": "@jupyter-widgets/base",
      "_model_module_version": "1.2.0",
      "_model_name": "LayoutModel",
      "_view_count": null,
      "_view_module": "@jupyter-widgets/base",
      "_view_module_version": "1.2.0",
      "_view_name": "LayoutView",
      "align_content": null,
      "align_items": null,
      "align_self": null,
      "border": null,
      "bottom": null,
      "display": null,
      "flex": null,
      "flex_flow": null,
      "grid_area": null,
      "grid_auto_columns": null,
      "grid_auto_flow": null,
      "grid_auto_rows": null,
      "grid_column": null,
      "grid_gap": null,
      "grid_row": null,
      "grid_template_areas": null,
      "grid_template_columns": null,
      "grid_template_rows": null,
      "height": null,
      "justify_content": null,
      "justify_items": null,
      "left": null,
      "margin": null,
      "max_height": null,
      "max_width": null,
      "min_height": null,
      "min_width": null,
      "object_fit": null,
      "object_position": null,
      "order": null,
      "overflow": null,
      "overflow_x": null,
      "overflow_y": null,
      "padding": null,
      "right": null,
      "top": null,
      "visibility": null,
      "width": "20px"
     }
    },
    "434a2879582a45f08799335a567a937c": {
     "model_module": "@jupyter-widgets/controls",
     "model_module_version": "1.5.0",
     "model_name": "ProgressStyleModel",
     "state": {
      "_model_module": "@jupyter-widgets/controls",
      "_model_module_version": "1.5.0",
      "_model_name": "ProgressStyleModel",
      "_view_count": null,
      "_view_module": "@jupyter-widgets/base",
      "_view_module_version": "1.2.0",
      "_view_name": "StyleView",
      "bar_color": null,
      "description_width": ""
     }
    },
    "44e112b0a51e406c93c9de674fac4aac": {
     "model_module": "@jupyter-widgets/base",
     "model_module_version": "1.2.0",
     "model_name": "LayoutModel",
     "state": {
      "_model_module": "@jupyter-widgets/base",
      "_model_module_version": "1.2.0",
      "_model_name": "LayoutModel",
      "_view_count": null,
      "_view_module": "@jupyter-widgets/base",
      "_view_module_version": "1.2.0",
      "_view_name": "LayoutView",
      "align_content": null,
      "align_items": null,
      "align_self": null,
      "border": null,
      "bottom": null,
      "display": null,
      "flex": null,
      "flex_flow": null,
      "grid_area": null,
      "grid_auto_columns": null,
      "grid_auto_flow": null,
      "grid_auto_rows": null,
      "grid_column": null,
      "grid_gap": null,
      "grid_row": null,
      "grid_template_areas": null,
      "grid_template_columns": null,
      "grid_template_rows": null,
      "height": null,
      "justify_content": null,
      "justify_items": null,
      "left": null,
      "margin": null,
      "max_height": null,
      "max_width": null,
      "min_height": null,
      "min_width": null,
      "object_fit": null,
      "object_position": null,
      "order": null,
      "overflow": null,
      "overflow_x": null,
      "overflow_y": null,
      "padding": null,
      "right": null,
      "top": null,
      "visibility": "hidden",
      "width": null
     }
    },
    "465bf3f9b4414176a925f2f1f2493790": {
     "model_module": "@jupyter-widgets/base",
     "model_module_version": "1.2.0",
     "model_name": "LayoutModel",
     "state": {
      "_model_module": "@jupyter-widgets/base",
      "_model_module_version": "1.2.0",
      "_model_name": "LayoutModel",
      "_view_count": null,
      "_view_module": "@jupyter-widgets/base",
      "_view_module_version": "1.2.0",
      "_view_name": "LayoutView",
      "align_content": null,
      "align_items": null,
      "align_self": null,
      "border": null,
      "bottom": null,
      "display": null,
      "flex": null,
      "flex_flow": null,
      "grid_area": null,
      "grid_auto_columns": null,
      "grid_auto_flow": null,
      "grid_auto_rows": null,
      "grid_column": null,
      "grid_gap": null,
      "grid_row": null,
      "grid_template_areas": null,
      "grid_template_columns": null,
      "grid_template_rows": null,
      "height": null,
      "justify_content": null,
      "justify_items": null,
      "left": null,
      "margin": null,
      "max_height": null,
      "max_width": null,
      "min_height": null,
      "min_width": null,
      "object_fit": null,
      "object_position": null,
      "order": null,
      "overflow": null,
      "overflow_x": null,
      "overflow_y": null,
      "padding": null,
      "right": null,
      "top": null,
      "visibility": "hidden",
      "width": null
     }
    },
    "4706a4fe8611446e8eda61f931ff3f5b": {
     "model_module": "@jupyter-widgets/base",
     "model_module_version": "1.2.0",
     "model_name": "LayoutModel",
     "state": {
      "_model_module": "@jupyter-widgets/base",
      "_model_module_version": "1.2.0",
      "_model_name": "LayoutModel",
      "_view_count": null,
      "_view_module": "@jupyter-widgets/base",
      "_view_module_version": "1.2.0",
      "_view_name": "LayoutView",
      "align_content": null,
      "align_items": null,
      "align_self": null,
      "border": null,
      "bottom": null,
      "display": null,
      "flex": null,
      "flex_flow": null,
      "grid_area": null,
      "grid_auto_columns": null,
      "grid_auto_flow": null,
      "grid_auto_rows": null,
      "grid_column": null,
      "grid_gap": null,
      "grid_row": null,
      "grid_template_areas": null,
      "grid_template_columns": null,
      "grid_template_rows": null,
      "height": null,
      "justify_content": null,
      "justify_items": null,
      "left": null,
      "margin": null,
      "max_height": null,
      "max_width": null,
      "min_height": null,
      "min_width": null,
      "object_fit": null,
      "object_position": null,
      "order": null,
      "overflow": null,
      "overflow_x": null,
      "overflow_y": null,
      "padding": null,
      "right": null,
      "top": null,
      "visibility": null,
      "width": null
     }
    },
    "4a2296ba6af34705b9e86aeffb2fcf0e": {
     "model_module": "@jupyter-widgets/controls",
     "model_module_version": "1.5.0",
     "model_name": "FloatProgressModel",
     "state": {
      "_dom_classes": [],
      "_model_module": "@jupyter-widgets/controls",
      "_model_module_version": "1.5.0",
      "_model_name": "FloatProgressModel",
      "_view_count": null,
      "_view_module": "@jupyter-widgets/controls",
      "_view_module_version": "1.5.0",
      "_view_name": "ProgressView",
      "bar_style": "",
      "description": "",
      "description_tooltip": null,
      "layout": "IPY_MODEL_2c2bf2c6a7a44b37a43e82770d6769f6",
      "max": 3,
      "min": 0,
      "orientation": "horizontal",
      "style": "IPY_MODEL_7b9de44cf2044a1eb6e6187a22d1a4e6",
      "value": 3
     }
    },
    "4ab72b2ed56f44f89d8c3384cfe91a7b": {
     "model_module": "@jupyter-widgets/base",
     "model_module_version": "1.2.0",
     "model_name": "LayoutModel",
     "state": {
      "_model_module": "@jupyter-widgets/base",
      "_model_module_version": "1.2.0",
      "_model_name": "LayoutModel",
      "_view_count": null,
      "_view_module": "@jupyter-widgets/base",
      "_view_module_version": "1.2.0",
      "_view_name": "LayoutView",
      "align_content": null,
      "align_items": null,
      "align_self": null,
      "border": null,
      "bottom": null,
      "display": null,
      "flex": null,
      "flex_flow": null,
      "grid_area": null,
      "grid_auto_columns": null,
      "grid_auto_flow": null,
      "grid_auto_rows": null,
      "grid_column": null,
      "grid_gap": null,
      "grid_row": null,
      "grid_template_areas": null,
      "grid_template_columns": null,
      "grid_template_rows": null,
      "height": null,
      "justify_content": null,
      "justify_items": null,
      "left": null,
      "margin": null,
      "max_height": null,
      "max_width": null,
      "min_height": null,
      "min_width": null,
      "object_fit": null,
      "object_position": null,
      "order": null,
      "overflow": null,
      "overflow_x": null,
      "overflow_y": null,
      "padding": null,
      "right": null,
      "top": null,
      "visibility": null,
      "width": null
     }
    },
    "4ce0eb6e892d4a05a235386af21ea190": {
     "model_module": "@jupyter-widgets/base",
     "model_module_version": "1.2.0",
     "model_name": "LayoutModel",
     "state": {
      "_model_module": "@jupyter-widgets/base",
      "_model_module_version": "1.2.0",
      "_model_name": "LayoutModel",
      "_view_count": null,
      "_view_module": "@jupyter-widgets/base",
      "_view_module_version": "1.2.0",
      "_view_name": "LayoutView",
      "align_content": null,
      "align_items": null,
      "align_self": null,
      "border": null,
      "bottom": null,
      "display": null,
      "flex": null,
      "flex_flow": null,
      "grid_area": null,
      "grid_auto_columns": null,
      "grid_auto_flow": null,
      "grid_auto_rows": null,
      "grid_column": null,
      "grid_gap": null,
      "grid_row": null,
      "grid_template_areas": null,
      "grid_template_columns": null,
      "grid_template_rows": null,
      "height": null,
      "justify_content": null,
      "justify_items": null,
      "left": null,
      "margin": null,
      "max_height": null,
      "max_width": null,
      "min_height": null,
      "min_width": null,
      "object_fit": null,
      "object_position": null,
      "order": null,
      "overflow": null,
      "overflow_x": null,
      "overflow_y": null,
      "padding": null,
      "right": null,
      "top": null,
      "visibility": null,
      "width": null
     }
    },
    "4de7d4ab0edd4d65863a9eada806c511": {
     "model_module": "@jupyter-widgets/controls",
     "model_module_version": "1.5.0",
     "model_name": "DescriptionStyleModel",
     "state": {
      "_model_module": "@jupyter-widgets/controls",
      "_model_module_version": "1.5.0",
      "_model_name": "DescriptionStyleModel",
      "_view_count": null,
      "_view_module": "@jupyter-widgets/base",
      "_view_module_version": "1.2.0",
      "_view_name": "StyleView",
      "description_width": ""
     }
    },
    "5202cf82c33143c288d8d6a5b8901728": {
     "model_module": "@jupyter-widgets/controls",
     "model_module_version": "1.5.0",
     "model_name": "DescriptionStyleModel",
     "state": {
      "_model_module": "@jupyter-widgets/controls",
      "_model_module_version": "1.5.0",
      "_model_name": "DescriptionStyleModel",
      "_view_count": null,
      "_view_module": "@jupyter-widgets/base",
      "_view_module_version": "1.2.0",
      "_view_name": "StyleView",
      "description_width": ""
     }
    },
    "53ff99fe613b43b4a46d8be0bc3430fa": {
     "model_module": "@jupyter-widgets/base",
     "model_module_version": "1.2.0",
     "model_name": "LayoutModel",
     "state": {
      "_model_module": "@jupyter-widgets/base",
      "_model_module_version": "1.2.0",
      "_model_name": "LayoutModel",
      "_view_count": null,
      "_view_module": "@jupyter-widgets/base",
      "_view_module_version": "1.2.0",
      "_view_name": "LayoutView",
      "align_content": null,
      "align_items": null,
      "align_self": null,
      "border": null,
      "bottom": null,
      "display": null,
      "flex": null,
      "flex_flow": null,
      "grid_area": null,
      "grid_auto_columns": null,
      "grid_auto_flow": null,
      "grid_auto_rows": null,
      "grid_column": null,
      "grid_gap": null,
      "grid_row": null,
      "grid_template_areas": null,
      "grid_template_columns": null,
      "grid_template_rows": null,
      "height": null,
      "justify_content": null,
      "justify_items": null,
      "left": null,
      "margin": null,
      "max_height": null,
      "max_width": null,
      "min_height": null,
      "min_width": null,
      "object_fit": null,
      "object_position": null,
      "order": null,
      "overflow": null,
      "overflow_x": null,
      "overflow_y": null,
      "padding": null,
      "right": null,
      "top": null,
      "visibility": null,
      "width": null
     }
    },
    "5524cfce2e83487c955b34e1bb6b0f0c": {
     "model_module": "@jupyter-widgets/controls",
     "model_module_version": "1.5.0",
     "model_name": "ProgressStyleModel",
     "state": {
      "_model_module": "@jupyter-widgets/controls",
      "_model_module_version": "1.5.0",
      "_model_name": "ProgressStyleModel",
      "_view_count": null,
      "_view_module": "@jupyter-widgets/base",
      "_view_module_version": "1.2.0",
      "_view_name": "StyleView",
      "bar_color": null,
      "description_width": ""
     }
    },
    "588685fd06a546918d15e4a93ec33949": {
     "model_module": "@jupyter-widgets/controls",
     "model_module_version": "1.5.0",
     "model_name": "ProgressStyleModel",
     "state": {
      "_model_module": "@jupyter-widgets/controls",
      "_model_module_version": "1.5.0",
      "_model_name": "ProgressStyleModel",
      "_view_count": null,
      "_view_module": "@jupyter-widgets/base",
      "_view_module_version": "1.2.0",
      "_view_name": "StyleView",
      "bar_color": null,
      "description_width": ""
     }
    },
    "59c39f7c3d424d449b198afdd2e001a4": {
     "model_module": "@jupyter-widgets/controls",
     "model_module_version": "1.5.0",
     "model_name": "ProgressStyleModel",
     "state": {
      "_model_module": "@jupyter-widgets/controls",
      "_model_module_version": "1.5.0",
      "_model_name": "ProgressStyleModel",
      "_view_count": null,
      "_view_module": "@jupyter-widgets/base",
      "_view_module_version": "1.2.0",
      "_view_name": "StyleView",
      "bar_color": null,
      "description_width": ""
     }
    },
    "5bafd27f251b476aa8202a565557657f": {
     "model_module": "@jupyter-widgets/base",
     "model_module_version": "1.2.0",
     "model_name": "LayoutModel",
     "state": {
      "_model_module": "@jupyter-widgets/base",
      "_model_module_version": "1.2.0",
      "_model_name": "LayoutModel",
      "_view_count": null,
      "_view_module": "@jupyter-widgets/base",
      "_view_module_version": "1.2.0",
      "_view_name": "LayoutView",
      "align_content": null,
      "align_items": null,
      "align_self": null,
      "border": null,
      "bottom": null,
      "display": null,
      "flex": null,
      "flex_flow": null,
      "grid_area": null,
      "grid_auto_columns": null,
      "grid_auto_flow": null,
      "grid_auto_rows": null,
      "grid_column": null,
      "grid_gap": null,
      "grid_row": null,
      "grid_template_areas": null,
      "grid_template_columns": null,
      "grid_template_rows": null,
      "height": null,
      "justify_content": null,
      "justify_items": null,
      "left": null,
      "margin": null,
      "max_height": null,
      "max_width": null,
      "min_height": null,
      "min_width": null,
      "object_fit": null,
      "object_position": null,
      "order": null,
      "overflow": null,
      "overflow_x": null,
      "overflow_y": null,
      "padding": null,
      "right": null,
      "top": null,
      "visibility": null,
      "width": null
     }
    },
    "5c6332aad34b41e58244ff8f00031503": {
     "model_module": "@jupyter-widgets/base",
     "model_module_version": "1.2.0",
     "model_name": "LayoutModel",
     "state": {
      "_model_module": "@jupyter-widgets/base",
      "_model_module_version": "1.2.0",
      "_model_name": "LayoutModel",
      "_view_count": null,
      "_view_module": "@jupyter-widgets/base",
      "_view_module_version": "1.2.0",
      "_view_name": "LayoutView",
      "align_content": null,
      "align_items": null,
      "align_self": null,
      "border": null,
      "bottom": null,
      "display": null,
      "flex": null,
      "flex_flow": null,
      "grid_area": null,
      "grid_auto_columns": null,
      "grid_auto_flow": null,
      "grid_auto_rows": null,
      "grid_column": null,
      "grid_gap": null,
      "grid_row": null,
      "grid_template_areas": null,
      "grid_template_columns": null,
      "grid_template_rows": null,
      "height": null,
      "justify_content": null,
      "justify_items": null,
      "left": null,
      "margin": null,
      "max_height": null,
      "max_width": null,
      "min_height": null,
      "min_width": null,
      "object_fit": null,
      "object_position": null,
      "order": null,
      "overflow": null,
      "overflow_x": null,
      "overflow_y": null,
      "padding": null,
      "right": null,
      "top": null,
      "visibility": null,
      "width": null
     }
    },
    "61b98d2ba00544b0a601d77a0a7e861a": {
     "model_module": "@jupyter-widgets/controls",
     "model_module_version": "1.5.0",
     "model_name": "HTMLModel",
     "state": {
      "_dom_classes": [],
      "_model_module": "@jupyter-widgets/controls",
      "_model_module_version": "1.5.0",
      "_model_name": "HTMLModel",
      "_view_count": null,
      "_view_module": "@jupyter-widgets/controls",
      "_view_module_version": "1.5.0",
      "_view_name": "HTMLView",
      "description": "",
      "description_tooltip": null,
      "layout": "IPY_MODEL_9238b031081e4ce8994ff87db19eb9c7",
      "placeholder": "​",
      "style": "IPY_MODEL_f1f29d10a97948798f7f3a05c23a0512",
      "value": "Dl Size...: 100%"
     }
    },
    "6306be39c02c41eeabc8cc1d798b41f5": {
     "model_module": "@jupyter-widgets/controls",
     "model_module_version": "1.5.0",
     "model_name": "HTMLModel",
     "state": {
      "_dom_classes": [],
      "_model_module": "@jupyter-widgets/controls",
      "_model_module_version": "1.5.0",
      "_model_name": "HTMLModel",
      "_view_count": null,
      "_view_module": "@jupyter-widgets/controls",
      "_view_module_version": "1.5.0",
      "_view_name": "HTMLView",
      "description": "",
      "description_tooltip": null,
      "layout": "IPY_MODEL_4ce0eb6e892d4a05a235386af21ea190",
      "placeholder": "​",
      "style": "IPY_MODEL_4de7d4ab0edd4d65863a9eada806c511",
      "value": "Shuffling /root/tensorflow_datasets/imdb_reviews/plain_text/1.0.0.incomplete01W0G5/imdb_reviews-unsupervised.tfrecord*...:  67%"
     }
    },
    "635c770908834ebba9fb1e6a4cb7303e": {
     "model_module": "@jupyter-widgets/controls",
     "model_module_version": "1.5.0",
     "model_name": "FloatProgressModel",
     "state": {
      "_dom_classes": [],
      "_model_module": "@jupyter-widgets/controls",
      "_model_module_version": "1.5.0",
      "_model_name": "FloatProgressModel",
      "_view_count": null,
      "_view_module": "@jupyter-widgets/controls",
      "_view_module_version": "1.5.0",
      "_view_name": "ProgressView",
      "bar_style": "",
      "description": "",
      "description_tooltip": null,
      "layout": "IPY_MODEL_07b59e7d35cf4d5b83ca83e5a236ee8f",
      "max": 25000,
      "min": 0,
      "orientation": "horizontal",
      "style": "IPY_MODEL_434a2879582a45f08799335a567a937c",
      "value": 25000
     }
    },
    "6702bed71ad843a4bf82f290671e8a22": {
     "model_module": "@jupyter-widgets/base",
     "model_module_version": "1.2.0",
     "model_name": "LayoutModel",
     "state": {
      "_model_module": "@jupyter-widgets/base",
      "_model_module_version": "1.2.0",
      "_model_name": "LayoutModel",
      "_view_count": null,
      "_view_module": "@jupyter-widgets/base",
      "_view_module_version": "1.2.0",
      "_view_name": "LayoutView",
      "align_content": null,
      "align_items": null,
      "align_self": null,
      "border": null,
      "bottom": null,
      "display": null,
      "flex": null,
      "flex_flow": null,
      "grid_area": null,
      "grid_auto_columns": null,
      "grid_auto_flow": null,
      "grid_auto_rows": null,
      "grid_column": null,
      "grid_gap": null,
      "grid_row": null,
      "grid_template_areas": null,
      "grid_template_columns": null,
      "grid_template_rows": null,
      "height": null,
      "justify_content": null,
      "justify_items": null,
      "left": null,
      "margin": null,
      "max_height": null,
      "max_width": null,
      "min_height": null,
      "min_width": null,
      "object_fit": null,
      "object_position": null,
      "order": null,
      "overflow": null,
      "overflow_x": null,
      "overflow_y": null,
      "padding": null,
      "right": null,
      "top": null,
      "visibility": "hidden",
      "width": null
     }
    },
    "67efa04836444529a0f26d73ace6a8e1": {
     "model_module": "@jupyter-widgets/controls",
     "model_module_version": "1.5.0",
     "model_name": "HBoxModel",
     "state": {
      "_dom_classes": [],
      "_model_module": "@jupyter-widgets/controls",
      "_model_module_version": "1.5.0",
      "_model_name": "HBoxModel",
      "_view_count": null,
      "_view_module": "@jupyter-widgets/controls",
      "_view_module_version": "1.5.0",
      "_view_name": "HBoxView",
      "box_style": "",
      "children": [
       "IPY_MODEL_0b6ae1316f1b4a10910ce451c2d84e78",
       "IPY_MODEL_635c770908834ebba9fb1e6a4cb7303e",
       "IPY_MODEL_045dd9c68c3b42329c8978d04180a4e7"
      ],
      "layout": "IPY_MODEL_465bf3f9b4414176a925f2f1f2493790"
     }
    },
    "6ec453dadd7f4fc39de3387804b9cd28": {
     "model_module": "@jupyter-widgets/controls",
     "model_module_version": "1.5.0",
     "model_name": "DescriptionStyleModel",
     "state": {
      "_model_module": "@jupyter-widgets/controls",
      "_model_module_version": "1.5.0",
      "_model_name": "DescriptionStyleModel",
      "_view_count": null,
      "_view_module": "@jupyter-widgets/base",
      "_view_module_version": "1.2.0",
      "_view_name": "StyleView",
      "description_width": ""
     }
    },
    "6fe2e9f48e77475d83cb061626b9bc47": {
     "model_module": "@jupyter-widgets/controls",
     "model_module_version": "1.5.0",
     "model_name": "HTMLModel",
     "state": {
      "_dom_classes": [],
      "_model_module": "@jupyter-widgets/controls",
      "_model_module_version": "1.5.0",
      "_model_name": "HTMLModel",
      "_view_count": null,
      "_view_module": "@jupyter-widgets/controls",
      "_view_module_version": "1.5.0",
      "_view_name": "HTMLView",
      "description": "",
      "description_tooltip": null,
      "layout": "IPY_MODEL_3248c5cb3c1e4e5e9a91b1bcd7e712dd",
      "placeholder": "​",
      "style": "IPY_MODEL_f75d220503ba4df98d2fec0de4a0ab3c",
      "value": " 3/3 [00:34&lt;00:00, 11.77s/ splits]"
     }
    },
    "7142c519b199461f88ea2b4efd023abc": {
     "model_module": "@jupyter-widgets/base",
     "model_module_version": "1.2.0",
     "model_name": "LayoutModel",
     "state": {
      "_model_module": "@jupyter-widgets/base",
      "_model_module_version": "1.2.0",
      "_model_name": "LayoutModel",
      "_view_count": null,
      "_view_module": "@jupyter-widgets/base",
      "_view_module_version": "1.2.0",
      "_view_name": "LayoutView",
      "align_content": null,
      "align_items": null,
      "align_self": null,
      "border": null,
      "bottom": null,
      "display": null,
      "flex": null,
      "flex_flow": null,
      "grid_area": null,
      "grid_auto_columns": null,
      "grid_auto_flow": null,
      "grid_auto_rows": null,
      "grid_column": null,
      "grid_gap": null,
      "grid_row": null,
      "grid_template_areas": null,
      "grid_template_columns": null,
      "grid_template_rows": null,
      "height": null,
      "justify_content": null,
      "justify_items": null,
      "left": null,
      "margin": null,
      "max_height": null,
      "max_width": null,
      "min_height": null,
      "min_width": null,
      "object_fit": null,
      "object_position": null,
      "order": null,
      "overflow": null,
      "overflow_x": null,
      "overflow_y": null,
      "padding": null,
      "right": null,
      "top": null,
      "visibility": null,
      "width": null
     }
    },
    "75dfae71e6ca4f40bb47e18a09ae5e01": {
     "model_module": "@jupyter-widgets/controls",
     "model_module_version": "1.5.0",
     "model_name": "DescriptionStyleModel",
     "state": {
      "_model_module": "@jupyter-widgets/controls",
      "_model_module_version": "1.5.0",
      "_model_name": "DescriptionStyleModel",
      "_view_count": null,
      "_view_module": "@jupyter-widgets/base",
      "_view_module_version": "1.2.0",
      "_view_name": "StyleView",
      "description_width": ""
     }
    },
    "7b9de44cf2044a1eb6e6187a22d1a4e6": {
     "model_module": "@jupyter-widgets/controls",
     "model_module_version": "1.5.0",
     "model_name": "ProgressStyleModel",
     "state": {
      "_model_module": "@jupyter-widgets/controls",
      "_model_module_version": "1.5.0",
      "_model_name": "ProgressStyleModel",
      "_view_count": null,
      "_view_module": "@jupyter-widgets/base",
      "_view_module_version": "1.2.0",
      "_view_name": "StyleView",
      "bar_color": null,
      "description_width": ""
     }
    },
    "7d393ba7ed4a474fa391c77b15461ae3": {
     "model_module": "@jupyter-widgets/controls",
     "model_module_version": "1.5.0",
     "model_name": "ProgressStyleModel",
     "state": {
      "_model_module": "@jupyter-widgets/controls",
      "_model_module_version": "1.5.0",
      "_model_name": "ProgressStyleModel",
      "_view_count": null,
      "_view_module": "@jupyter-widgets/base",
      "_view_module_version": "1.2.0",
      "_view_name": "StyleView",
      "bar_color": null,
      "description_width": ""
     }
    },
    "801d1c6b3742447eafb124e482bb4bca": {
     "model_module": "@jupyter-widgets/controls",
     "model_module_version": "1.5.0",
     "model_name": "FloatProgressModel",
     "state": {
      "_dom_classes": [],
      "_model_module": "@jupyter-widgets/controls",
      "_model_module_version": "1.5.0",
      "_model_name": "FloatProgressModel",
      "_view_count": null,
      "_view_module": "@jupyter-widgets/controls",
      "_view_module_version": "1.5.0",
      "_view_name": "ProgressView",
      "bar_style": "success",
      "description": "",
      "description_tooltip": null,
      "layout": "IPY_MODEL_42e4244c70bb46099fe87802b44e80aa",
      "max": 1,
      "min": 0,
      "orientation": "horizontal",
      "style": "IPY_MODEL_588685fd06a546918d15e4a93ec33949",
      "value": 1
     }
    },
    "81bdeee431684acabb4ee165b0ec7d89": {
     "model_module": "@jupyter-widgets/controls",
     "model_module_version": "1.5.0",
     "model_name": "HBoxModel",
     "state": {
      "_dom_classes": [],
      "_model_module": "@jupyter-widgets/controls",
      "_model_module_version": "1.5.0",
      "_model_name": "HBoxModel",
      "_view_count": null,
      "_view_module": "@jupyter-widgets/controls",
      "_view_module_version": "1.5.0",
      "_view_name": "HBoxView",
      "box_style": "",
      "children": [
       "IPY_MODEL_8dd4bdfc09e64d6ea188df1b31feb106",
       "IPY_MODEL_801d1c6b3742447eafb124e482bb4bca",
       "IPY_MODEL_96f16a25fbab4bab8123c78c5cb61438"
      ],
      "layout": "IPY_MODEL_03992ab6c51a424c929ea148b80e7110"
     }
    },
    "83bc5948564f42ae9e0eddfd37976793": {
     "model_module": "@jupyter-widgets/controls",
     "model_module_version": "1.5.0",
     "model_name": "FloatProgressModel",
     "state": {
      "_dom_classes": [],
      "_model_module": "@jupyter-widgets/controls",
      "_model_module_version": "1.5.0",
      "_model_name": "FloatProgressModel",
      "_view_count": null,
      "_view_module": "@jupyter-widgets/controls",
      "_view_module_version": "1.5.0",
      "_view_name": "ProgressView",
      "bar_style": "",
      "description": "",
      "description_tooltip": null,
      "layout": "IPY_MODEL_53ff99fe613b43b4a46d8be0bc3430fa",
      "max": 50000,
      "min": 0,
      "orientation": "horizontal",
      "style": "IPY_MODEL_5524cfce2e83487c955b34e1bb6b0f0c",
      "value": 50000
     }
    },
    "85f18ea4e008486582f1fd87774b2540": {
     "model_module": "@jupyter-widgets/controls",
     "model_module_version": "1.5.0",
     "model_name": "DescriptionStyleModel",
     "state": {
      "_model_module": "@jupyter-widgets/controls",
      "_model_module_version": "1.5.0",
      "_model_name": "DescriptionStyleModel",
      "_view_count": null,
      "_view_module": "@jupyter-widgets/base",
      "_view_module_version": "1.2.0",
      "_view_name": "StyleView",
      "description_width": ""
     }
    },
    "883ca18fd1fd462bb96cee2ff7c8ce8a": {
     "model_module": "@jupyter-widgets/controls",
     "model_module_version": "1.5.0",
     "model_name": "FloatProgressModel",
     "state": {
      "_dom_classes": [],
      "_model_module": "@jupyter-widgets/controls",
      "_model_module_version": "1.5.0",
      "_model_name": "FloatProgressModel",
      "_view_count": null,
      "_view_module": "@jupyter-widgets/controls",
      "_view_module_version": "1.5.0",
      "_view_name": "ProgressView",
      "bar_style": "",
      "description": "",
      "description_tooltip": null,
      "layout": "IPY_MODEL_5c6332aad34b41e58244ff8f00031503",
      "max": 50000,
      "min": 0,
      "orientation": "horizontal",
      "style": "IPY_MODEL_59c39f7c3d424d449b198afdd2e001a4",
      "value": 50000
     }
    },
    "88cb5abd63f747d0a14e685cf9d12b0a": {
     "model_module": "@jupyter-widgets/base",
     "model_module_version": "1.2.0",
     "model_name": "LayoutModel",
     "state": {
      "_model_module": "@jupyter-widgets/base",
      "_model_module_version": "1.2.0",
      "_model_name": "LayoutModel",
      "_view_count": null,
      "_view_module": "@jupyter-widgets/base",
      "_view_module_version": "1.2.0",
      "_view_name": "LayoutView",
      "align_content": null,
      "align_items": null,
      "align_self": null,
      "border": null,
      "bottom": null,
      "display": null,
      "flex": null,
      "flex_flow": null,
      "grid_area": null,
      "grid_auto_columns": null,
      "grid_auto_flow": null,
      "grid_auto_rows": null,
      "grid_column": null,
      "grid_gap": null,
      "grid_row": null,
      "grid_template_areas": null,
      "grid_template_columns": null,
      "grid_template_rows": null,
      "height": null,
      "justify_content": null,
      "justify_items": null,
      "left": null,
      "margin": null,
      "max_height": null,
      "max_width": null,
      "min_height": null,
      "min_width": null,
      "object_fit": null,
      "object_position": null,
      "order": null,
      "overflow": null,
      "overflow_x": null,
      "overflow_y": null,
      "padding": null,
      "right": null,
      "top": null,
      "visibility": null,
      "width": null
     }
    },
    "8c177ad9dfdf4c1786ec67189400038a": {
     "model_module": "@jupyter-widgets/controls",
     "model_module_version": "1.5.0",
     "model_name": "HBoxModel",
     "state": {
      "_dom_classes": [],
      "_model_module": "@jupyter-widgets/controls",
      "_model_module_version": "1.5.0",
      "_model_name": "HBoxModel",
      "_view_count": null,
      "_view_module": "@jupyter-widgets/controls",
      "_view_module_version": "1.5.0",
      "_view_name": "HBoxView",
      "box_style": "",
      "children": [
       "IPY_MODEL_6306be39c02c41eeabc8cc1d798b41f5",
       "IPY_MODEL_883ca18fd1fd462bb96cee2ff7c8ce8a",
       "IPY_MODEL_b451f485468148c3b095d3e21992765f"
      ],
      "layout": "IPY_MODEL_44e112b0a51e406c93c9de674fac4aac"
     }
    },
    "8cf0b28fd17e4e9e858a48a839642745": {
     "model_module": "@jupyter-widgets/controls",
     "model_module_version": "1.5.0",
     "model_name": "ProgressStyleModel",
     "state": {
      "_model_module": "@jupyter-widgets/controls",
      "_model_module_version": "1.5.0",
      "_model_name": "ProgressStyleModel",
      "_view_count": null,
      "_view_module": "@jupyter-widgets/base",
      "_view_module_version": "1.2.0",
      "_view_name": "StyleView",
      "bar_color": null,
      "description_width": ""
     }
    },
    "8dd4bdfc09e64d6ea188df1b31feb106": {
     "model_module": "@jupyter-widgets/controls",
     "model_module_version": "1.5.0",
     "model_name": "HTMLModel",
     "state": {
      "_dom_classes": [],
      "_model_module": "@jupyter-widgets/controls",
      "_model_module_version": "1.5.0",
      "_model_name": "HTMLModel",
      "_view_count": null,
      "_view_module": "@jupyter-widgets/controls",
      "_view_module_version": "1.5.0",
      "_view_name": "HTMLView",
      "description": "",
      "description_tooltip": null,
      "layout": "IPY_MODEL_5bafd27f251b476aa8202a565557657f",
      "placeholder": "​",
      "style": "IPY_MODEL_5202cf82c33143c288d8d6a5b8901728",
      "value": "Dl Completed...: 100%"
     }
    },
    "923187222b744f219f380374c3e377f4": {
     "model_module": "@jupyter-widgets/base",
     "model_module_version": "1.2.0",
     "model_name": "LayoutModel",
     "state": {
      "_model_module": "@jupyter-widgets/base",
      "_model_module_version": "1.2.0",
      "_model_name": "LayoutModel",
      "_view_count": null,
      "_view_module": "@jupyter-widgets/base",
      "_view_module_version": "1.2.0",
      "_view_name": "LayoutView",
      "align_content": null,
      "align_items": null,
      "align_self": null,
      "border": null,
      "bottom": null,
      "display": null,
      "flex": null,
      "flex_flow": null,
      "grid_area": null,
      "grid_auto_columns": null,
      "grid_auto_flow": null,
      "grid_auto_rows": null,
      "grid_column": null,
      "grid_gap": null,
      "grid_row": null,
      "grid_template_areas": null,
      "grid_template_columns": null,
      "grid_template_rows": null,
      "height": null,
      "justify_content": null,
      "justify_items": null,
      "left": null,
      "margin": null,
      "max_height": null,
      "max_width": null,
      "min_height": null,
      "min_width": null,
      "object_fit": null,
      "object_position": null,
      "order": null,
      "overflow": null,
      "overflow_x": null,
      "overflow_y": null,
      "padding": null,
      "right": null,
      "top": null,
      "visibility": null,
      "width": null
     }
    },
    "9238b031081e4ce8994ff87db19eb9c7": {
     "model_module": "@jupyter-widgets/base",
     "model_module_version": "1.2.0",
     "model_name": "LayoutModel",
     "state": {
      "_model_module": "@jupyter-widgets/base",
      "_model_module_version": "1.2.0",
      "_model_name": "LayoutModel",
      "_view_count": null,
      "_view_module": "@jupyter-widgets/base",
      "_view_module_version": "1.2.0",
      "_view_name": "LayoutView",
      "align_content": null,
      "align_items": null,
      "align_self": null,
      "border": null,
      "bottom": null,
      "display": null,
      "flex": null,
      "flex_flow": null,
      "grid_area": null,
      "grid_auto_columns": null,
      "grid_auto_flow": null,
      "grid_auto_rows": null,
      "grid_column": null,
      "grid_gap": null,
      "grid_row": null,
      "grid_template_areas": null,
      "grid_template_columns": null,
      "grid_template_rows": null,
      "height": null,
      "justify_content": null,
      "justify_items": null,
      "left": null,
      "margin": null,
      "max_height": null,
      "max_width": null,
      "min_height": null,
      "min_width": null,
      "object_fit": null,
      "object_position": null,
      "order": null,
      "overflow": null,
      "overflow_x": null,
      "overflow_y": null,
      "padding": null,
      "right": null,
      "top": null,
      "visibility": null,
      "width": null
     }
    },
    "96f16a25fbab4bab8123c78c5cb61438": {
     "model_module": "@jupyter-widgets/controls",
     "model_module_version": "1.5.0",
     "model_name": "HTMLModel",
     "state": {
      "_dom_classes": [],
      "_model_module": "@jupyter-widgets/controls",
      "_model_module_version": "1.5.0",
      "_model_name": "HTMLModel",
      "_view_count": null,
      "_view_module": "@jupyter-widgets/controls",
      "_view_module_version": "1.5.0",
      "_view_name": "HTMLView",
      "description": "",
      "description_tooltip": null,
      "layout": "IPY_MODEL_4706a4fe8611446e8eda61f931ff3f5b",
      "placeholder": "​",
      "style": "IPY_MODEL_0318f21d50fe4715ac63ebbb74eb14e0",
      "value": " 1/1 [00:10&lt;00:00, 10.05s/ url]"
     }
    },
    "976fb45165cd475f88e30b481b80bd78": {
     "model_module": "@jupyter-widgets/controls",
     "model_module_version": "1.5.0",
     "model_name": "HBoxModel",
     "state": {
      "_dom_classes": [],
      "_model_module": "@jupyter-widgets/controls",
      "_model_module_version": "1.5.0",
      "_model_name": "HBoxModel",
      "_view_count": null,
      "_view_module": "@jupyter-widgets/controls",
      "_view_module_version": "1.5.0",
      "_view_name": "HBoxView",
      "box_style": "",
      "children": [
       "IPY_MODEL_ef463526b6554229a2fd377506165b5d",
       "IPY_MODEL_17c94cdcd11f46a4adc66aa6b866aa5f",
       "IPY_MODEL_c7bacaa38a404109a3f6a6a589439221"
      ],
      "layout": "IPY_MODEL_ca9d50784b344788a3aaefe09d4a5db8"
     }
    },
    "9ccfe99ed0224016bcf26ebf3f22ac27": {
     "model_module": "@jupyter-widgets/base",
     "model_module_version": "1.2.0",
     "model_name": "LayoutModel",
     "state": {
      "_model_module": "@jupyter-widgets/base",
      "_model_module_version": "1.2.0",
      "_model_name": "LayoutModel",
      "_view_count": null,
      "_view_module": "@jupyter-widgets/base",
      "_view_module_version": "1.2.0",
      "_view_name": "LayoutView",
      "align_content": null,
      "align_items": null,
      "align_self": null,
      "border": null,
      "bottom": null,
      "display": null,
      "flex": null,
      "flex_flow": null,
      "grid_area": null,
      "grid_auto_columns": null,
      "grid_auto_flow": null,
      "grid_auto_rows": null,
      "grid_column": null,
      "grid_gap": null,
      "grid_row": null,
      "grid_template_areas": null,
      "grid_template_columns": null,
      "grid_template_rows": null,
      "height": null,
      "justify_content": null,
      "justify_items": null,
      "left": null,
      "margin": null,
      "max_height": null,
      "max_width": null,
      "min_height": null,
      "min_width": null,
      "object_fit": null,
      "object_position": null,
      "order": null,
      "overflow": null,
      "overflow_x": null,
      "overflow_y": null,
      "padding": null,
      "right": null,
      "top": null,
      "visibility": null,
      "width": null
     }
    },
    "a63ed551a4c14048baebaa38da82e0ae": {
     "model_module": "@jupyter-widgets/controls",
     "model_module_version": "1.5.0",
     "model_name": "DescriptionStyleModel",
     "state": {
      "_model_module": "@jupyter-widgets/controls",
      "_model_module_version": "1.5.0",
      "_model_name": "DescriptionStyleModel",
      "_view_count": null,
      "_view_module": "@jupyter-widgets/base",
      "_view_module_version": "1.2.0",
      "_view_name": "StyleView",
      "description_width": ""
     }
    },
    "a7a941e37fc546d787e0366fe4fd5ad2": {
     "model_module": "@jupyter-widgets/controls",
     "model_module_version": "1.5.0",
     "model_name": "HTMLModel",
     "state": {
      "_dom_classes": [],
      "_model_module": "@jupyter-widgets/controls",
      "_model_module_version": "1.5.0",
      "_model_name": "HTMLModel",
      "_view_count": null,
      "_view_module": "@jupyter-widgets/controls",
      "_view_module_version": "1.5.0",
      "_view_name": "HTMLView",
      "description": "",
      "description_tooltip": null,
      "layout": "IPY_MODEL_88cb5abd63f747d0a14e685cf9d12b0a",
      "placeholder": "​",
      "style": "IPY_MODEL_355c1f4a8d8e47e1a231288cfcd6c6e1",
      "value": " 80/80 [00:10&lt;00:00, 15.62 MiB/s]"
     }
    },
    "a96676bdbc81410994727dd0f774dc4b": {
     "model_module": "@jupyter-widgets/base",
     "model_module_version": "1.2.0",
     "model_name": "LayoutModel",
     "state": {
      "_model_module": "@jupyter-widgets/base",
      "_model_module_version": "1.2.0",
      "_model_name": "LayoutModel",
      "_view_count": null,
      "_view_module": "@jupyter-widgets/base",
      "_view_module_version": "1.2.0",
      "_view_name": "LayoutView",
      "align_content": null,
      "align_items": null,
      "align_self": null,
      "border": null,
      "bottom": null,
      "display": null,
      "flex": null,
      "flex_flow": null,
      "grid_area": null,
      "grid_auto_columns": null,
      "grid_auto_flow": null,
      "grid_auto_rows": null,
      "grid_column": null,
      "grid_gap": null,
      "grid_row": null,
      "grid_template_areas": null,
      "grid_template_columns": null,
      "grid_template_rows": null,
      "height": null,
      "justify_content": null,
      "justify_items": null,
      "left": null,
      "margin": null,
      "max_height": null,
      "max_width": null,
      "min_height": null,
      "min_width": null,
      "object_fit": null,
      "object_position": null,
      "order": null,
      "overflow": null,
      "overflow_x": null,
      "overflow_y": null,
      "padding": null,
      "right": null,
      "top": null,
      "visibility": null,
      "width": null
     }
    },
    "aae1a85a211c42c69ac283689f9046e1": {
     "model_module": "@jupyter-widgets/base",
     "model_module_version": "1.2.0",
     "model_name": "LayoutModel",
     "state": {
      "_model_module": "@jupyter-widgets/base",
      "_model_module_version": "1.2.0",
      "_model_name": "LayoutModel",
      "_view_count": null,
      "_view_module": "@jupyter-widgets/base",
      "_view_module_version": "1.2.0",
      "_view_name": "LayoutView",
      "align_content": null,
      "align_items": null,
      "align_self": null,
      "border": null,
      "bottom": null,
      "display": null,
      "flex": null,
      "flex_flow": null,
      "grid_area": null,
      "grid_auto_columns": null,
      "grid_auto_flow": null,
      "grid_auto_rows": null,
      "grid_column": null,
      "grid_gap": null,
      "grid_row": null,
      "grid_template_areas": null,
      "grid_template_columns": null,
      "grid_template_rows": null,
      "height": null,
      "justify_content": null,
      "justify_items": null,
      "left": null,
      "margin": null,
      "max_height": null,
      "max_width": null,
      "min_height": null,
      "min_width": null,
      "object_fit": null,
      "object_position": null,
      "order": null,
      "overflow": null,
      "overflow_x": null,
      "overflow_y": null,
      "padding": null,
      "right": null,
      "top": null,
      "visibility": null,
      "width": null
     }
    },
    "ace80d2a0a9e4ea0b2734b895fab0878": {
     "model_module": "@jupyter-widgets/base",
     "model_module_version": "1.2.0",
     "model_name": "LayoutModel",
     "state": {
      "_model_module": "@jupyter-widgets/base",
      "_model_module_version": "1.2.0",
      "_model_name": "LayoutModel",
      "_view_count": null,
      "_view_module": "@jupyter-widgets/base",
      "_view_module_version": "1.2.0",
      "_view_name": "LayoutView",
      "align_content": null,
      "align_items": null,
      "align_self": null,
      "border": null,
      "bottom": null,
      "display": null,
      "flex": null,
      "flex_flow": null,
      "grid_area": null,
      "grid_auto_columns": null,
      "grid_auto_flow": null,
      "grid_auto_rows": null,
      "grid_column": null,
      "grid_gap": null,
      "grid_row": null,
      "grid_template_areas": null,
      "grid_template_columns": null,
      "grid_template_rows": null,
      "height": null,
      "justify_content": null,
      "justify_items": null,
      "left": null,
      "margin": null,
      "max_height": null,
      "max_width": null,
      "min_height": null,
      "min_width": null,
      "object_fit": null,
      "object_position": null,
      "order": null,
      "overflow": null,
      "overflow_x": null,
      "overflow_y": null,
      "padding": null,
      "right": null,
      "top": null,
      "visibility": null,
      "width": null
     }
    },
    "b08b71a3d2d64fe88d1c0b9606f87eb5": {
     "model_module": "@jupyter-widgets/controls",
     "model_module_version": "1.5.0",
     "model_name": "HTMLModel",
     "state": {
      "_dom_classes": [],
      "_model_module": "@jupyter-widgets/controls",
      "_model_module_version": "1.5.0",
      "_model_name": "HTMLModel",
      "_view_count": null,
      "_view_module": "@jupyter-widgets/controls",
      "_view_module_version": "1.5.0",
      "_view_name": "HTMLView",
      "description": "",
      "description_tooltip": null,
      "layout": "IPY_MODEL_9ccfe99ed0224016bcf26ebf3f22ac27",
      "placeholder": "​",
      "style": "IPY_MODEL_1acb941df6bc499aa2d09565e40f536f",
      "value": " 13704/25000 [00:00&lt;00:00, 137021.51 examples/s]"
     }
    },
    "b451f485468148c3b095d3e21992765f": {
     "model_module": "@jupyter-widgets/controls",
     "model_module_version": "1.5.0",
     "model_name": "HTMLModel",
     "state": {
      "_dom_classes": [],
      "_model_module": "@jupyter-widgets/controls",
      "_model_module_version": "1.5.0",
      "_model_name": "HTMLModel",
      "_view_count": null,
      "_view_module": "@jupyter-widgets/controls",
      "_view_module_version": "1.5.0",
      "_view_name": "HTMLView",
      "description": "",
      "description_tooltip": null,
      "layout": "IPY_MODEL_aae1a85a211c42c69ac283689f9046e1",
      "placeholder": "​",
      "style": "IPY_MODEL_0b46da6e141b48ab8d9e1b1e33c0d6e5",
      "value": " 33525/50000 [00:00&lt;00:00, 185040.44 examples/s]"
     }
    },
    "b482350f75a84abe8aec1a5d5fd4dba6": {
     "model_module": "@jupyter-widgets/controls",
     "model_module_version": "1.5.0",
     "model_name": "DescriptionStyleModel",
     "state": {
      "_model_module": "@jupyter-widgets/controls",
      "_model_module_version": "1.5.0",
      "_model_name": "DescriptionStyleModel",
      "_view_count": null,
      "_view_module": "@jupyter-widgets/base",
      "_view_module_version": "1.2.0",
      "_view_name": "StyleView",
      "description_width": ""
     }
    },
    "c1b4462e8b9049f8b8284fec47ec5820": {
     "model_module": "@jupyter-widgets/base",
     "model_module_version": "1.2.0",
     "model_name": "LayoutModel",
     "state": {
      "_model_module": "@jupyter-widgets/base",
      "_model_module_version": "1.2.0",
      "_model_name": "LayoutModel",
      "_view_count": null,
      "_view_module": "@jupyter-widgets/base",
      "_view_module_version": "1.2.0",
      "_view_name": "LayoutView",
      "align_content": null,
      "align_items": null,
      "align_self": null,
      "border": null,
      "bottom": null,
      "display": null,
      "flex": null,
      "flex_flow": null,
      "grid_area": null,
      "grid_auto_columns": null,
      "grid_auto_flow": null,
      "grid_auto_rows": null,
      "grid_column": null,
      "grid_gap": null,
      "grid_row": null,
      "grid_template_areas": null,
      "grid_template_columns": null,
      "grid_template_rows": null,
      "height": null,
      "justify_content": null,
      "justify_items": null,
      "left": null,
      "margin": null,
      "max_height": null,
      "max_width": null,
      "min_height": null,
      "min_width": null,
      "object_fit": null,
      "object_position": null,
      "order": null,
      "overflow": null,
      "overflow_x": null,
      "overflow_y": null,
      "padding": null,
      "right": null,
      "top": null,
      "visibility": null,
      "width": null
     }
    },
    "c73b61a8f34e4926b0b9b38c3ebb1ed3": {
     "model_module": "@jupyter-widgets/controls",
     "model_module_version": "1.5.0",
     "model_name": "HBoxModel",
     "state": {
      "_dom_classes": [],
      "_model_module": "@jupyter-widgets/controls",
      "_model_module_version": "1.5.0",
      "_model_name": "HBoxModel",
      "_view_count": null,
      "_view_module": "@jupyter-widgets/controls",
      "_view_module_version": "1.5.0",
      "_view_name": "HBoxView",
      "box_style": "",
      "children": [
       "IPY_MODEL_61b98d2ba00544b0a601d77a0a7e861a",
       "IPY_MODEL_cd123eee6e7d4b2080be966b4fe0223a",
       "IPY_MODEL_a7a941e37fc546d787e0366fe4fd5ad2"
      ],
      "layout": "IPY_MODEL_3a97353bbb4e4868ba92b5571a307a28"
     }
    },
    "c7bacaa38a404109a3f6a6a589439221": {
     "model_module": "@jupyter-widgets/controls",
     "model_module_version": "1.5.0",
     "model_name": "HTMLModel",
     "state": {
      "_dom_classes": [],
      "_model_module": "@jupyter-widgets/controls",
      "_model_module_version": "1.5.0",
      "_model_name": "HTMLModel",
      "_view_count": null,
      "_view_module": "@jupyter-widgets/controls",
      "_view_module_version": "1.5.0",
      "_view_name": "HTMLView",
      "description": "",
      "description_tooltip": null,
      "layout": "IPY_MODEL_f44d17c6e17643f4a355928e691b3bce",
      "placeholder": "​",
      "style": "IPY_MODEL_6ec453dadd7f4fc39de3387804b9cd28",
      "value": " 24552/25000 [00:06&lt;00:00, 5361.40 examples/s]"
     }
    },
    "ca9d50784b344788a3aaefe09d4a5db8": {
     "model_module": "@jupyter-widgets/base",
     "model_module_version": "1.2.0",
     "model_name": "LayoutModel",
     "state": {
      "_model_module": "@jupyter-widgets/base",
      "_model_module_version": "1.2.0",
      "_model_name": "LayoutModel",
      "_view_count": null,
      "_view_module": "@jupyter-widgets/base",
      "_view_module_version": "1.2.0",
      "_view_name": "LayoutView",
      "align_content": null,
      "align_items": null,
      "align_self": null,
      "border": null,
      "bottom": null,
      "display": null,
      "flex": null,
      "flex_flow": null,
      "grid_area": null,
      "grid_auto_columns": null,
      "grid_auto_flow": null,
      "grid_auto_rows": null,
      "grid_column": null,
      "grid_gap": null,
      "grid_row": null,
      "grid_template_areas": null,
      "grid_template_columns": null,
      "grid_template_rows": null,
      "height": null,
      "justify_content": null,
      "justify_items": null,
      "left": null,
      "margin": null,
      "max_height": null,
      "max_width": null,
      "min_height": null,
      "min_width": null,
      "object_fit": null,
      "object_position": null,
      "order": null,
      "overflow": null,
      "overflow_x": null,
      "overflow_y": null,
      "padding": null,
      "right": null,
      "top": null,
      "visibility": "hidden",
      "width": null
     }
    },
    "cd123eee6e7d4b2080be966b4fe0223a": {
     "model_module": "@jupyter-widgets/controls",
     "model_module_version": "1.5.0",
     "model_name": "FloatProgressModel",
     "state": {
      "_dom_classes": [],
      "_model_module": "@jupyter-widgets/controls",
      "_model_module_version": "1.5.0",
      "_model_name": "FloatProgressModel",
      "_view_count": null,
      "_view_module": "@jupyter-widgets/controls",
      "_view_module_version": "1.5.0",
      "_view_name": "ProgressView",
      "bar_style": "success",
      "description": "",
      "description_tooltip": null,
      "layout": "IPY_MODEL_e2cde07be49741e0bbf94e501f6cbbf4",
      "max": 1,
      "min": 0,
      "orientation": "horizontal",
      "style": "IPY_MODEL_1344d7f1efac4946996bb3419f5d68c2",
      "value": 1
     }
    },
    "ce249e9853cb4602915f82865c44f802": {
     "model_module": "@jupyter-widgets/controls",
     "model_module_version": "1.5.0",
     "model_name": "ProgressStyleModel",
     "state": {
      "_model_module": "@jupyter-widgets/controls",
      "_model_module_version": "1.5.0",
      "_model_name": "ProgressStyleModel",
      "_view_count": null,
      "_view_module": "@jupyter-widgets/base",
      "_view_module_version": "1.2.0",
      "_view_name": "StyleView",
      "bar_color": null,
      "description_width": ""
     }
    },
    "d5817ce626484d3aabb668db2398e385": {
     "model_module": "@jupyter-widgets/base",
     "model_module_version": "1.2.0",
     "model_name": "LayoutModel",
     "state": {
      "_model_module": "@jupyter-widgets/base",
      "_model_module_version": "1.2.0",
      "_model_name": "LayoutModel",
      "_view_count": null,
      "_view_module": "@jupyter-widgets/base",
      "_view_module_version": "1.2.0",
      "_view_name": "LayoutView",
      "align_content": null,
      "align_items": null,
      "align_self": null,
      "border": null,
      "bottom": null,
      "display": null,
      "flex": null,
      "flex_flow": null,
      "grid_area": null,
      "grid_auto_columns": null,
      "grid_auto_flow": null,
      "grid_auto_rows": null,
      "grid_column": null,
      "grid_gap": null,
      "grid_row": null,
      "grid_template_areas": null,
      "grid_template_columns": null,
      "grid_template_rows": null,
      "height": null,
      "justify_content": null,
      "justify_items": null,
      "left": null,
      "margin": null,
      "max_height": null,
      "max_width": null,
      "min_height": null,
      "min_width": null,
      "object_fit": null,
      "object_position": null,
      "order": null,
      "overflow": null,
      "overflow_x": null,
      "overflow_y": null,
      "padding": null,
      "right": null,
      "top": null,
      "visibility": null,
      "width": null
     }
    },
    "d80b0b90de5540da89b730c8ec1708df": {
     "model_module": "@jupyter-widgets/controls",
     "model_module_version": "1.5.0",
     "model_name": "HTMLModel",
     "state": {
      "_dom_classes": [],
      "_model_module": "@jupyter-widgets/controls",
      "_model_module_version": "1.5.0",
      "_model_name": "HTMLModel",
      "_view_count": null,
      "_view_module": "@jupyter-widgets/controls",
      "_view_module_version": "1.5.0",
      "_view_name": "HTMLView",
      "description": "",
      "description_tooltip": null,
      "layout": "IPY_MODEL_155b7b48dae64344b569e8de407cc2e1",
      "placeholder": "​",
      "style": "IPY_MODEL_2e9285f7872940d1afe10727e0d03eed",
      "value": "Generating splits...: 100%"
     }
    },
    "dae3ea0781824a95996d75553075b46a": {
     "model_module": "@jupyter-widgets/base",
     "model_module_version": "1.2.0",
     "model_name": "LayoutModel",
     "state": {
      "_model_module": "@jupyter-widgets/base",
      "_model_module_version": "1.2.0",
      "_model_name": "LayoutModel",
      "_view_count": null,
      "_view_module": "@jupyter-widgets/base",
      "_view_module_version": "1.2.0",
      "_view_name": "LayoutView",
      "align_content": null,
      "align_items": null,
      "align_self": null,
      "border": null,
      "bottom": null,
      "display": null,
      "flex": null,
      "flex_flow": null,
      "grid_area": null,
      "grid_auto_columns": null,
      "grid_auto_flow": null,
      "grid_auto_rows": null,
      "grid_column": null,
      "grid_gap": null,
      "grid_row": null,
      "grid_template_areas": null,
      "grid_template_columns": null,
      "grid_template_rows": null,
      "height": null,
      "justify_content": null,
      "justify_items": null,
      "left": null,
      "margin": null,
      "max_height": null,
      "max_width": null,
      "min_height": null,
      "min_width": null,
      "object_fit": null,
      "object_position": null,
      "order": null,
      "overflow": null,
      "overflow_x": null,
      "overflow_y": null,
      "padding": null,
      "right": null,
      "top": null,
      "visibility": null,
      "width": null
     }
    },
    "de5ace29990d4100984267a0d2e4be09": {
     "model_module": "@jupyter-widgets/base",
     "model_module_version": "1.2.0",
     "model_name": "LayoutModel",
     "state": {
      "_model_module": "@jupyter-widgets/base",
      "_model_module_version": "1.2.0",
      "_model_name": "LayoutModel",
      "_view_count": null,
      "_view_module": "@jupyter-widgets/base",
      "_view_module_version": "1.2.0",
      "_view_name": "LayoutView",
      "align_content": null,
      "align_items": null,
      "align_self": null,
      "border": null,
      "bottom": null,
      "display": null,
      "flex": null,
      "flex_flow": null,
      "grid_area": null,
      "grid_auto_columns": null,
      "grid_auto_flow": null,
      "grid_auto_rows": null,
      "grid_column": null,
      "grid_gap": null,
      "grid_row": null,
      "grid_template_areas": null,
      "grid_template_columns": null,
      "grid_template_rows": null,
      "height": null,
      "justify_content": null,
      "justify_items": null,
      "left": null,
      "margin": null,
      "max_height": null,
      "max_width": null,
      "min_height": null,
      "min_width": null,
      "object_fit": null,
      "object_position": null,
      "order": null,
      "overflow": null,
      "overflow_x": null,
      "overflow_y": null,
      "padding": null,
      "right": null,
      "top": null,
      "visibility": "hidden",
      "width": null
     }
    },
    "de9a9392c26a4c549bb35317a91ad1a9": {
     "model_module": "@jupyter-widgets/controls",
     "model_module_version": "1.5.0",
     "model_name": "FloatProgressModel",
     "state": {
      "_dom_classes": [],
      "_model_module": "@jupyter-widgets/controls",
      "_model_module_version": "1.5.0",
      "_model_name": "FloatProgressModel",
      "_view_count": null,
      "_view_module": "@jupyter-widgets/controls",
      "_view_module_version": "1.5.0",
      "_view_name": "ProgressView",
      "bar_style": "",
      "description": "",
      "description_tooltip": null,
      "layout": "IPY_MODEL_a96676bdbc81410994727dd0f774dc4b",
      "max": 25000,
      "min": 0,
      "orientation": "horizontal",
      "style": "IPY_MODEL_7d393ba7ed4a474fa391c77b15461ae3",
      "value": 25000
     }
    },
    "e2cde07be49741e0bbf94e501f6cbbf4": {
     "model_module": "@jupyter-widgets/base",
     "model_module_version": "1.2.0",
     "model_name": "LayoutModel",
     "state": {
      "_model_module": "@jupyter-widgets/base",
      "_model_module_version": "1.2.0",
      "_model_name": "LayoutModel",
      "_view_count": null,
      "_view_module": "@jupyter-widgets/base",
      "_view_module_version": "1.2.0",
      "_view_name": "LayoutView",
      "align_content": null,
      "align_items": null,
      "align_self": null,
      "border": null,
      "bottom": null,
      "display": null,
      "flex": null,
      "flex_flow": null,
      "grid_area": null,
      "grid_auto_columns": null,
      "grid_auto_flow": null,
      "grid_auto_rows": null,
      "grid_column": null,
      "grid_gap": null,
      "grid_row": null,
      "grid_template_areas": null,
      "grid_template_columns": null,
      "grid_template_rows": null,
      "height": null,
      "justify_content": null,
      "justify_items": null,
      "left": null,
      "margin": null,
      "max_height": null,
      "max_width": null,
      "min_height": null,
      "min_width": null,
      "object_fit": null,
      "object_position": null,
      "order": null,
      "overflow": null,
      "overflow_x": null,
      "overflow_y": null,
      "padding": null,
      "right": null,
      "top": null,
      "visibility": null,
      "width": "20px"
     }
    },
    "ebe2b05d8ebe4d6bafe9a56472dbaa2b": {
     "model_module": "@jupyter-widgets/controls",
     "model_module_version": "1.5.0",
     "model_name": "DescriptionStyleModel",
     "state": {
      "_model_module": "@jupyter-widgets/controls",
      "_model_module_version": "1.5.0",
      "_model_name": "DescriptionStyleModel",
      "_view_count": null,
      "_view_module": "@jupyter-widgets/base",
      "_view_module_version": "1.2.0",
      "_view_name": "StyleView",
      "description_width": ""
     }
    },
    "ef463526b6554229a2fd377506165b5d": {
     "model_module": "@jupyter-widgets/controls",
     "model_module_version": "1.5.0",
     "model_name": "HTMLModel",
     "state": {
      "_dom_classes": [],
      "_model_module": "@jupyter-widgets/controls",
      "_model_module_version": "1.5.0",
      "_model_name": "HTMLModel",
      "_view_count": null,
      "_view_module": "@jupyter-widgets/controls",
      "_view_module_version": "1.5.0",
      "_view_name": "HTMLView",
      "description": "",
      "description_tooltip": null,
      "layout": "IPY_MODEL_c1b4462e8b9049f8b8284fec47ec5820",
      "placeholder": "​",
      "style": "IPY_MODEL_01d855a5aa774f8d8169e34719e04139",
      "value": "Generating train examples...:  98%"
     }
    },
    "f1f29d10a97948798f7f3a05c23a0512": {
     "model_module": "@jupyter-widgets/controls",
     "model_module_version": "1.5.0",
     "model_name": "DescriptionStyleModel",
     "state": {
      "_model_module": "@jupyter-widgets/controls",
      "_model_module_version": "1.5.0",
      "_model_name": "DescriptionStyleModel",
      "_view_count": null,
      "_view_module": "@jupyter-widgets/base",
      "_view_module_version": "1.2.0",
      "_view_name": "StyleView",
      "description_width": ""
     }
    },
    "f240b077f0c54461b34705fa461887d7": {
     "model_module": "@jupyter-widgets/controls",
     "model_module_version": "1.5.0",
     "model_name": "DescriptionStyleModel",
     "state": {
      "_model_module": "@jupyter-widgets/controls",
      "_model_module_version": "1.5.0",
      "_model_name": "DescriptionStyleModel",
      "_view_count": null,
      "_view_module": "@jupyter-widgets/base",
      "_view_module_version": "1.2.0",
      "_view_name": "StyleView",
      "description_width": ""
     }
    },
    "f36d2e58b5cc4010a4632b8609904ca8": {
     "model_module": "@jupyter-widgets/controls",
     "model_module_version": "1.5.0",
     "model_name": "HBoxModel",
     "state": {
      "_dom_classes": [],
      "_model_module": "@jupyter-widgets/controls",
      "_model_module_version": "1.5.0",
      "_model_name": "HBoxModel",
      "_view_count": null,
      "_view_module": "@jupyter-widgets/controls",
      "_view_module_version": "1.5.0",
      "_view_name": "HBoxView",
      "box_style": "",
      "children": [
       "IPY_MODEL_d80b0b90de5540da89b730c8ec1708df",
       "IPY_MODEL_4a2296ba6af34705b9e86aeffb2fcf0e",
       "IPY_MODEL_6fe2e9f48e77475d83cb061626b9bc47"
      ],
      "layout": "IPY_MODEL_298638a849e848bbb71e28ffd6b2e95b"
     }
    },
    "f44d17c6e17643f4a355928e691b3bce": {
     "model_module": "@jupyter-widgets/base",
     "model_module_version": "1.2.0",
     "model_name": "LayoutModel",
     "state": {
      "_model_module": "@jupyter-widgets/base",
      "_model_module_version": "1.2.0",
      "_model_name": "LayoutModel",
      "_view_count": null,
      "_view_module": "@jupyter-widgets/base",
      "_view_module_version": "1.2.0",
      "_view_name": "LayoutView",
      "align_content": null,
      "align_items": null,
      "align_self": null,
      "border": null,
      "bottom": null,
      "display": null,
      "flex": null,
      "flex_flow": null,
      "grid_area": null,
      "grid_auto_columns": null,
      "grid_auto_flow": null,
      "grid_auto_rows": null,
      "grid_column": null,
      "grid_gap": null,
      "grid_row": null,
      "grid_template_areas": null,
      "grid_template_columns": null,
      "grid_template_rows": null,
      "height": null,
      "justify_content": null,
      "justify_items": null,
      "left": null,
      "margin": null,
      "max_height": null,
      "max_width": null,
      "min_height": null,
      "min_width": null,
      "object_fit": null,
      "object_position": null,
      "order": null,
      "overflow": null,
      "overflow_x": null,
      "overflow_y": null,
      "padding": null,
      "right": null,
      "top": null,
      "visibility": null,
      "width": null
     }
    },
    "f75d220503ba4df98d2fec0de4a0ab3c": {
     "model_module": "@jupyter-widgets/controls",
     "model_module_version": "1.5.0",
     "model_name": "DescriptionStyleModel",
     "state": {
      "_model_module": "@jupyter-widgets/controls",
      "_model_module_version": "1.5.0",
      "_model_name": "DescriptionStyleModel",
      "_view_count": null,
      "_view_module": "@jupyter-widgets/base",
      "_view_module_version": "1.2.0",
      "_view_name": "StyleView",
      "description_width": ""
     }
    }
   }
  }
 },
 "nbformat": 4,
 "nbformat_minor": 1
}
